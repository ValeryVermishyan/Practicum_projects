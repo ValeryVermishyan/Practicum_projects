{
 "cells": [
  {
   "cell_type": "markdown",
   "id": "3f56a6f9",
   "metadata": {},
   "source": [
    "# Развитие игровой индустрии\n",
    "\n",
    "- Автор: Вермишян Валерий\n",
    "- Дата: 05.05.2025"
   ]
  },
  {
   "cell_type": "markdown",
   "id": "544f0e95",
   "metadata": {},
   "source": [
    "# Цели и задачи проекта\n",
    "\n",
    "**Цель** - изучение развития игровой индустрии. \n",
    "\n",
    "**Задачи**:\n",
    "- изучить данные\n",
    "- провести их предобработку\n",
    "- отфильтровать данные по заданным критериям\n",
    "- провести анализ данных"
   ]
  },
  {
   "cell_type": "markdown",
   "id": "237b52c3",
   "metadata": {},
   "source": [
    "# Описание данных\n",
    "\n",
    "Данные `/datasets/new_games.csv` содержат информацию о продажах игр разных жанров и платформ, а также пользовательские и экспертные оценки игр:\n",
    "- `Name` — название игры.\n",
    "- `Platform` — название платформы.\n",
    "- `Year of Release` — год выпуска игры.\n",
    "- `Genre` — жанр игры.\n",
    "- `NA sales` — продажи в Северной Америке (в миллионах проданных копий).\n",
    "- `EU sales` — продажи в Европе (в миллионах проданных копий).\n",
    "- `JP sales` — продажи в Японии (в миллионах проданных копий).\n",
    "- `Other sales` — продажи в других странах (в миллионах проданных копий).\n",
    "- `Critic Score` — оценка критиков (от 0 до 100).\n",
    "- `User Score` — оценка пользователей (от 0 до 10).\n",
    "- `Rating` — рейтинг организации ESRB (англ. Entertainment Software Rating Board). Эта ассоциация определяет рейтинг компьютерных игр и присваивает им подходящую возрастную категорию."
   ]
  },
  {
   "cell_type": "markdown",
   "id": "8f42959b",
   "metadata": {},
   "source": [
    "# Содержимое проекта\n",
    "\n",
    "1. Загрузка данных и знакомство с ними\n",
    "2. Проверка ошибок в данных и их предобработка\n",
    "3. Фильтрация данных\n",
    "4. Категоризация данных\n",
    "5. Итоговый вывод"
   ]
  },
  {
   "cell_type": "markdown",
   "id": "6f7d21d6",
   "metadata": {
    "id": "6f7d21d6",
    "jp-MarkdownHeadingCollapsed": true
   },
   "source": [
    "# 1. Загрузка данных и знакомство с ними"
   ]
  },
  {
   "cell_type": "code",
   "execution_count": 1,
   "id": "75112e75",
   "metadata": {},
   "outputs": [],
   "source": [
    "# Импортируем библиотеку warnings и убираем предупреждение\n",
    "import warnings\n",
    "warnings.filterwarnings('ignore')\n",
    "# Импортируем библиотеки pandas\n",
    "import pandas as pd"
   ]
  },
  {
   "cell_type": "code",
   "execution_count": 2,
   "id": "ce87c1db",
   "metadata": {
    "id": "ce87c1db"
   },
   "outputs": [],
   "source": [
    "# Выгружаем данные из датасета /datasets/new_games.csv в датафрейм games\n",
    "games = pd.read_csv('new_games.csv')"
   ]
  },
  {
   "cell_type": "code",
   "execution_count": 3,
   "id": "3937acf7",
   "metadata": {
    "id": "3937acf7"
   },
   "outputs": [
    {
     "name": "stdout",
     "output_type": "stream",
     "text": [
      "<class 'pandas.core.frame.DataFrame'>\n",
      "RangeIndex: 16956 entries, 0 to 16955\n",
      "Data columns (total 11 columns):\n",
      " #   Column           Non-Null Count  Dtype  \n",
      "---  ------           --------------  -----  \n",
      " 0   Name             16954 non-null  object \n",
      " 1   Platform         16956 non-null  object \n",
      " 2   Year of Release  16681 non-null  float64\n",
      " 3   Genre            16954 non-null  object \n",
      " 4   NA sales         16956 non-null  float64\n",
      " 5   EU sales         16956 non-null  object \n",
      " 6   JP sales         16956 non-null  object \n",
      " 7   Other sales      16956 non-null  float64\n",
      " 8   Critic Score     8242 non-null   float64\n",
      " 9   User Score       10152 non-null  object \n",
      " 10  Rating           10085 non-null  object \n",
      "dtypes: float64(4), object(7)\n",
      "memory usage: 1.4+ MB\n"
     ]
    }
   ],
   "source": [
    "# Выводим информацию о датафрейме\n",
    "games.info()"
   ]
  },
  {
   "cell_type": "code",
   "execution_count": 4,
   "id": "d7c8eb4b",
   "metadata": {
    "id": "d7c8eb4b"
   },
   "outputs": [
    {
     "data": {
      "text/html": [
       "<div>\n",
       "<style scoped>\n",
       "    .dataframe tbody tr th:only-of-type {\n",
       "        vertical-align: middle;\n",
       "    }\n",
       "\n",
       "    .dataframe tbody tr th {\n",
       "        vertical-align: top;\n",
       "    }\n",
       "\n",
       "    .dataframe thead th {\n",
       "        text-align: right;\n",
       "    }\n",
       "</style>\n",
       "<table border=\"1\" class=\"dataframe\">\n",
       "  <thead>\n",
       "    <tr style=\"text-align: right;\">\n",
       "      <th></th>\n",
       "      <th>Name</th>\n",
       "      <th>Platform</th>\n",
       "      <th>Year of Release</th>\n",
       "      <th>Genre</th>\n",
       "      <th>NA sales</th>\n",
       "      <th>EU sales</th>\n",
       "      <th>JP sales</th>\n",
       "      <th>Other sales</th>\n",
       "      <th>Critic Score</th>\n",
       "      <th>User Score</th>\n",
       "      <th>Rating</th>\n",
       "    </tr>\n",
       "  </thead>\n",
       "  <tbody>\n",
       "    <tr>\n",
       "      <th>0</th>\n",
       "      <td>Wii Sports</td>\n",
       "      <td>Wii</td>\n",
       "      <td>2006.0</td>\n",
       "      <td>Sports</td>\n",
       "      <td>41.36</td>\n",
       "      <td>28.96</td>\n",
       "      <td>3.77</td>\n",
       "      <td>8.45</td>\n",
       "      <td>76.0</td>\n",
       "      <td>8</td>\n",
       "      <td>E</td>\n",
       "    </tr>\n",
       "    <tr>\n",
       "      <th>1</th>\n",
       "      <td>Super Mario Bros.</td>\n",
       "      <td>NES</td>\n",
       "      <td>1985.0</td>\n",
       "      <td>Platform</td>\n",
       "      <td>29.08</td>\n",
       "      <td>3.58</td>\n",
       "      <td>6.81</td>\n",
       "      <td>0.77</td>\n",
       "      <td>NaN</td>\n",
       "      <td>NaN</td>\n",
       "      <td>NaN</td>\n",
       "    </tr>\n",
       "    <tr>\n",
       "      <th>2</th>\n",
       "      <td>Mario Kart Wii</td>\n",
       "      <td>Wii</td>\n",
       "      <td>2008.0</td>\n",
       "      <td>Racing</td>\n",
       "      <td>15.68</td>\n",
       "      <td>12.76</td>\n",
       "      <td>3.79</td>\n",
       "      <td>3.29</td>\n",
       "      <td>82.0</td>\n",
       "      <td>8.3</td>\n",
       "      <td>E</td>\n",
       "    </tr>\n",
       "    <tr>\n",
       "      <th>3</th>\n",
       "      <td>Wii Sports Resort</td>\n",
       "      <td>Wii</td>\n",
       "      <td>2009.0</td>\n",
       "      <td>Sports</td>\n",
       "      <td>15.61</td>\n",
       "      <td>10.93</td>\n",
       "      <td>3.28</td>\n",
       "      <td>2.95</td>\n",
       "      <td>80.0</td>\n",
       "      <td>8</td>\n",
       "      <td>E</td>\n",
       "    </tr>\n",
       "    <tr>\n",
       "      <th>4</th>\n",
       "      <td>Pokemon Red/Pokemon Blue</td>\n",
       "      <td>GB</td>\n",
       "      <td>1996.0</td>\n",
       "      <td>Role-Playing</td>\n",
       "      <td>11.27</td>\n",
       "      <td>8.89</td>\n",
       "      <td>10.22</td>\n",
       "      <td>1.00</td>\n",
       "      <td>NaN</td>\n",
       "      <td>NaN</td>\n",
       "      <td>NaN</td>\n",
       "    </tr>\n",
       "    <tr>\n",
       "      <th>5</th>\n",
       "      <td>Tetris</td>\n",
       "      <td>GB</td>\n",
       "      <td>1989.0</td>\n",
       "      <td>Puzzle</td>\n",
       "      <td>23.20</td>\n",
       "      <td>2.26</td>\n",
       "      <td>4.22</td>\n",
       "      <td>0.58</td>\n",
       "      <td>NaN</td>\n",
       "      <td>NaN</td>\n",
       "      <td>NaN</td>\n",
       "    </tr>\n",
       "    <tr>\n",
       "      <th>6</th>\n",
       "      <td>New Super Mario Bros.</td>\n",
       "      <td>DS</td>\n",
       "      <td>2006.0</td>\n",
       "      <td>Platform</td>\n",
       "      <td>11.28</td>\n",
       "      <td>9.14</td>\n",
       "      <td>6.5</td>\n",
       "      <td>2.88</td>\n",
       "      <td>89.0</td>\n",
       "      <td>8.5</td>\n",
       "      <td>E</td>\n",
       "    </tr>\n",
       "    <tr>\n",
       "      <th>7</th>\n",
       "      <td>Wii Play</td>\n",
       "      <td>Wii</td>\n",
       "      <td>2006.0</td>\n",
       "      <td>Misc</td>\n",
       "      <td>13.96</td>\n",
       "      <td>9.18</td>\n",
       "      <td>2.93</td>\n",
       "      <td>2.84</td>\n",
       "      <td>58.0</td>\n",
       "      <td>6.6</td>\n",
       "      <td>E</td>\n",
       "    </tr>\n",
       "    <tr>\n",
       "      <th>8</th>\n",
       "      <td>New Super Mario Bros. Wii</td>\n",
       "      <td>Wii</td>\n",
       "      <td>2009.0</td>\n",
       "      <td>Platform</td>\n",
       "      <td>14.44</td>\n",
       "      <td>6.94</td>\n",
       "      <td>4.7</td>\n",
       "      <td>2.24</td>\n",
       "      <td>87.0</td>\n",
       "      <td>8.4</td>\n",
       "      <td>E</td>\n",
       "    </tr>\n",
       "    <tr>\n",
       "      <th>9</th>\n",
       "      <td>Duck Hunt</td>\n",
       "      <td>NES</td>\n",
       "      <td>1984.0</td>\n",
       "      <td>Shooter</td>\n",
       "      <td>26.93</td>\n",
       "      <td>0.63</td>\n",
       "      <td>0.28</td>\n",
       "      <td>0.47</td>\n",
       "      <td>NaN</td>\n",
       "      <td>NaN</td>\n",
       "      <td>NaN</td>\n",
       "    </tr>\n",
       "  </tbody>\n",
       "</table>\n",
       "</div>"
      ],
      "text/plain": [
       "                        Name Platform  Year of Release         Genre  \\\n",
       "0                 Wii Sports      Wii           2006.0        Sports   \n",
       "1          Super Mario Bros.      NES           1985.0      Platform   \n",
       "2             Mario Kart Wii      Wii           2008.0        Racing   \n",
       "3          Wii Sports Resort      Wii           2009.0        Sports   \n",
       "4   Pokemon Red/Pokemon Blue       GB           1996.0  Role-Playing   \n",
       "5                     Tetris       GB           1989.0        Puzzle   \n",
       "6      New Super Mario Bros.       DS           2006.0      Platform   \n",
       "7                   Wii Play      Wii           2006.0          Misc   \n",
       "8  New Super Mario Bros. Wii      Wii           2009.0      Platform   \n",
       "9                  Duck Hunt      NES           1984.0       Shooter   \n",
       "\n",
       "   NA sales EU sales JP sales  Other sales  Critic Score User Score Rating  \n",
       "0     41.36    28.96     3.77         8.45          76.0          8      E  \n",
       "1     29.08     3.58     6.81         0.77           NaN        NaN    NaN  \n",
       "2     15.68    12.76     3.79         3.29          82.0        8.3      E  \n",
       "3     15.61    10.93     3.28         2.95          80.0          8      E  \n",
       "4     11.27     8.89    10.22         1.00           NaN        NaN    NaN  \n",
       "5     23.20     2.26     4.22         0.58           NaN        NaN    NaN  \n",
       "6     11.28     9.14      6.5         2.88          89.0        8.5      E  \n",
       "7     13.96     9.18     2.93         2.84          58.0        6.6      E  \n",
       "8     14.44     6.94      4.7         2.24          87.0        8.4      E  \n",
       "9     26.93     0.63     0.28         0.47           NaN        NaN    NaN  "
      ]
     },
     "execution_count": 4,
     "metadata": {},
     "output_type": "execute_result"
    }
   ],
   "source": [
    "# Выводим первые 10 строк датафрейма\n",
    "games.head(10)"
   ]
  },
  {
   "cell_type": "markdown",
   "id": "d65839cf",
   "metadata": {
    "id": "81651b8d"
   },
   "source": [
    "Данные состоят из 11 столбцов и 16956 строк. Данные соответствуют описанию. Названия столбцов имеют пробелы, это нужно будет исправить. \n",
    "\n",
    "Имеются 7 столбцов типа **object**, из которых `EU sales`, `JP sales`, `User Score` нужно будет преобразовать в числовой тип, так как эти столбцы содержат числовые данные, над которыми нужно будет проводить расчеты. \n",
    "\n",
    "Имеются 4 столбца типа **float64**, из которых `Year of Release` нужно будет преобразовать в целочисленный тип (этого типа будет достаточно для решения наших задач)\n",
    "\n",
    "В некоторых столбцах присутствуют пропуски, почти везде их небольшое количество. В столбцах, связанных с рейтингами (`Critic Score`, `User Score`, `Rating`) пропусков несколько тысяч"
   ]
  },
  {
   "cell_type": "markdown",
   "id": "774bf76e",
   "metadata": {
    "id": "774bf76e"
   },
   "source": [
    "# 2. Проверка ошибок в данных и их предобработка"
   ]
  },
  {
   "cell_type": "code",
   "execution_count": 5,
   "id": "b9276a2b",
   "metadata": {
    "id": "b9276a2b",
    "scrolled": true
   },
   "outputs": [
    {
     "data": {
      "text/plain": [
       "Index(['Name', 'Platform', 'Year of Release', 'Genre', 'NA sales', 'EU sales',\n",
       "       'JP sales', 'Other sales', 'Critic Score', 'User Score', 'Rating'],\n",
       "      dtype='object')"
      ]
     },
     "execution_count": 5,
     "metadata": {},
     "output_type": "execute_result"
    }
   ],
   "source": [
    "# Выводим на экран названия столбцов\n",
    "games.columns"
   ]
  },
  {
   "cell_type": "markdown",
   "id": "b72bdfb6",
   "metadata": {
    "id": "d554563c"
   },
   "source": [
    "Видно, что в названиях присутствуют *большие буквы* и *пробелы*, исправим это"
   ]
  },
  {
   "cell_type": "code",
   "execution_count": 6,
   "id": "87b573dd",
   "metadata": {
    "id": "87b573dd"
   },
   "outputs": [],
   "source": [
    "# Корректируем названия столбцов\n",
    "games.columns = ['name', 'platform', 'year_of_release', 'genre', 'na_sales', 'eu_sales',\n",
    "       'jp_sales', 'other_sales', 'critic_score', 'user_score', 'rating']"
   ]
  },
  {
   "cell_type": "markdown",
   "id": "7601598a",
   "metadata": {
    "id": "8adaac81"
   },
   "source": [
    "Вспомним столбцы с некорректным типом данных: \n",
    "1. `eu_sales`, `jp_sales`, `user_score` имеют тип **object**, нужно преобразовать в числовой.\n",
    "2. `year_of_release` имеет тип **float64**, нужно преобразовать в целочисленный\n",
    "\n",
    "Возможные причины, почему указан некорректный тип: \n",
    "- `eu_sales`, `jp_sales` - скорее всего изначально данные были правильного типа, но при создании таблицы их случайно преобразовали в строковый вид\n",
    "- `user_score` - данные вводились вручную в виде текста\n",
    "- `year_of_release` - данные вводились вручную в виде числа и преобразовывались в вещественное число\n",
    "\n",
    "Перед преобразованием типов оценим наличие пропусков в этих столбцах, убедимся, что помимо пропусков столбцы содержат корректные значения для преобразования в необходимый нам тип данных, и решим, что будем делать с пропусками\n"
   ]
  },
  {
   "cell_type": "code",
   "execution_count": 7,
   "id": "e8412c01",
   "metadata": {
    "id": "e8412c01"
   },
   "outputs": [
    {
     "data": {
      "text/plain": [
       "array(['28.96', '3.58', '12.76', '10.93', '8.89', '2.26', '9.14', '9.18',\n",
       "       '6.94', '0.63', '10.95', '7.47', '6.18', '8.03', '4.89', '8.49',\n",
       "       '9.09', '0.4', '3.75', '9.2', '4.46', '2.71', '3.44', '5.14',\n",
       "       '5.49', '3.9', '5.35', '3.17', '5.09', '4.24', '5.04', '5.86',\n",
       "       '3.68', '4.19', '5.73', '3.59', '4.51', '2.55', '4.02', '4.37',\n",
       "       '6.31', '3.45', '2.81', '2.85', '3.49', '0.01', '3.35', '2.04',\n",
       "       '3.07', '3.87', '3.0', '4.82', '3.64', '2.15', '3.69', '2.65',\n",
       "       '2.56', '3.11', '3.14', '1.94', '1.95', '2.47', '2.28', '3.42',\n",
       "       '3.63', '2.36', '1.71', '1.85', '2.79', '1.24', '6.12', '1.53',\n",
       "       '3.47', '2.24', '5.01', '2.01', '1.72', '2.07', '6.42', '3.86',\n",
       "       '0.45', '3.48', '1.89', '5.75', '2.17', '1.37', '2.35', '1.18',\n",
       "       '2.11', '1.88', '2.83', '2.99', '2.89', '3.27', '2.22', '2.14',\n",
       "       '1.45', '1.75', '1.04', '1.77', '3.02', '2.75', '2.16', '1.9',\n",
       "       '2.59', '2.2', '4.3', '0.93', '2.53', '2.52', '1.79', '1.3', '2.6',\n",
       "       '1.58', '1.2', '1.56', '1.34', '1.26', '0.83', '6.21', '2.8',\n",
       "       '1.59', '1.73', '4.33', '1.83', '0.0', '2.18', '1.98', '1.47',\n",
       "       '0.67', '1.55', '1.91', '0.69', '0.6', '1.93', '1.64', '0.55',\n",
       "       '2.19', '1.11', '2.29', '2.5', '0.96', '1.21', '1.12', '0.77',\n",
       "       '1.69', '1.08', '0.79', '2.37', '2.46', '0.26', '0.75', '1.25',\n",
       "       '2.43', '0.98', '0.74', '2.23', '0.61', '2.45', '1.41', '1.8',\n",
       "       '3.28', '1.16', '1.99', '1.38', '1.36', '1.17', '1.19', '0.99',\n",
       "       '1.68', '2.0', '1.33', '1.57', '1.48', '2.1', '1.27', '1.97',\n",
       "       '0.91', '1.39', '1.96', '0.24', '1.51', '0.14', '1.29', '2.39',\n",
       "       '1.03', '0.5', '0.58', '1.31', '2.02', '1.32', '1.01', '2.27',\n",
       "       '2.3', '1.82', '2.78', '0.44', '0.48', '0.27', '0.21', '2.48',\n",
       "       '0.51', '1.52', '0.04', '0.28', '1.35', '0.87', '2.13', '1.13',\n",
       "       '1.76', '0.76', '2.12', '0.66', '1.6', '1.44', '1.43', '1.7',\n",
       "       '0.47', '1.87', '0.86', '0.73', '1.28', '0.81', '1.09', '0.68',\n",
       "       '1.22', '1.4', '1.02', '1.49', '1.14', '0.49', '0.9', '0.38',\n",
       "       '1.42', '0.95', '1.62', '0.71', '1.05', '0.92', '0.33', '0.3',\n",
       "       '1.67', '1.0', '0.89', '0.1', '0.72', '0.59', '0.56', '0.16',\n",
       "       '0.97', '0.62', 'unknown', '0.85', '0.94', '0.88', '0.84', '1.06',\n",
       "       '0.2', '1.15', '0.8', '1.1', '0.7', '1.92', '0.32', '0.15', '0.53',\n",
       "       '0.09', '1.46', '0.29', '0.22', '1.23', '0.07', '0.17', '0.54',\n",
       "       '0.36', '0.31', '1.84', '0.52', '0.11', '0.64', '0.12', '2.05',\n",
       "       '1.63', '0.82', '0.08', '0.57', '1.65', '0.19', '0.02', '0.43',\n",
       "       '0.25', '1.5', '0.18', '0.39', '0.13', '1.07', '0.46', '0.41',\n",
       "       '0.06', '0.03', '0.37', '0.05', '0.23', '0.65', '0.42', '0.34',\n",
       "       '0.35', '0.78'], dtype=object)"
      ]
     },
     "execution_count": 7,
     "metadata": {},
     "output_type": "execute_result"
    }
   ],
   "source": [
    "# Выводим уникальные значения каждого столбца, который собираемся преобразовать в другой тип. \n",
    "# Каждый столбец в отдельной ячейке Jupyter Notebook\n",
    "games['eu_sales'].unique()"
   ]
  },
  {
   "cell_type": "code",
   "execution_count": 8,
   "id": "9e53cff4",
   "metadata": {
    "id": "9e53cff4"
   },
   "outputs": [
    {
     "data": {
      "text/plain": [
       "array(['3.77', '6.81', '3.79', '3.28', '10.22', '4.22', '6.5', '2.93',\n",
       "       '4.7', '0.28', '1.93', '4.13', '7.2', '3.6', '0.24', '2.53',\n",
       "       '0.98', '0.41', '3.54', '4.16', '6.04', '4.18', '3.84', '0.06',\n",
       "       '0.47', '5.38', '5.32', '5.65', '1.87', '0.13', '3.12', '0.36',\n",
       "       '0.11', '4.35', '0.65', '0.07', '0.08', '0.49', '0.3', '2.66',\n",
       "       '2.69', '0.48', '0.38', '5.33', '1.91', '3.96', '3.1', '1.1',\n",
       "       '1.2', '0.14', '2.54', '2.14', '0.81', '2.12', '0.44', '3.15',\n",
       "       '1.25', '0.04', '0.0', '2.47', '2.23', '1.69', '0.01', '3.0',\n",
       "       '0.02', '4.39', '1.98', '0.1', '3.81', '0.05', '2.49', '1.58',\n",
       "       '3.14', '2.73', '0.66', '0.22', '3.63', '1.45', '1.31', '2.43',\n",
       "       '0.7', '0.35', '1.4', '0.6', '2.26', '1.42', '1.28', '1.39',\n",
       "       '0.87', '0.17', '0.94', '0.19', '0.21', '1.6', '0.16', '1.03',\n",
       "       '0.25', '2.06', '1.49', '1.29', '0.09', '2.87', '0.03', '0.78',\n",
       "       '0.83', '2.33', '2.02', '1.36', '1.81', '1.97', '0.91', '0.99',\n",
       "       '0.95', '2.0', '1.01', '2.78', '2.11', '1.09', '0.2', '1.9',\n",
       "       '1.27', '3.61', '1.57', '2.2', '1.7', '1.08', '0.15', '1.11',\n",
       "       '0.29', '1.54', '0.12', '0.89', '4.87', '1.52', '1.32', '1.15',\n",
       "       '4.1', '1.46', '0.46', '1.05', '1.61', '0.26', '1.38', '0.62',\n",
       "       '0.73', '0.57', '0.31', '0.58', '1.76', '2.1', '0.9', '0.51',\n",
       "       '0.64', '2.46', '0.23', '0.37', '0.92', '1.07', '2.62', '1.12',\n",
       "       '0.54', '0.27', '0.59', '3.67', '0.55', '1.75', '3.44', '0.33',\n",
       "       '2.55', '2.32', '2.79', '0.74', '3.18', '0.82', '0.77', '0.4',\n",
       "       '2.35', '3.19', '0.8', '0.76', '3.03', '0.88', 'unknown', '0.45',\n",
       "       '1.16', '0.34', '1.19', '1.13', '2.13', '1.96', '0.71', '1.04',\n",
       "       '2.68', '0.68', '2.65', '0.96', '2.41', '0.52', '0.18', '1.34',\n",
       "       '1.48', '2.34', '1.06', '1.21', '2.29', '1.63', '2.05', '2.17',\n",
       "       '1.56', '1.35', '1.33', '0.63', '0.79', '0.75', '0.53', '1.53',\n",
       "       '1.3', '0.39', '0.69', '0.42', '0.93', '0.56', '0.84', '0.72',\n",
       "       '0.32', '1.71', '1.65', '0.61', '1.51', '1.5', '1.44', '1.24',\n",
       "       '1.18', '1.37', '1.0', '1.26', '0.85', '0.43', '0.67', '1.14',\n",
       "       '0.86', '1.17', '0.5', '1.02', '0.97'], dtype=object)"
      ]
     },
     "execution_count": 8,
     "metadata": {},
     "output_type": "execute_result"
    }
   ],
   "source": [
    "games['jp_sales'].unique()"
   ]
  },
  {
   "cell_type": "code",
   "execution_count": 9,
   "id": "c9d059b7",
   "metadata": {},
   "outputs": [
    {
     "data": {
      "text/plain": [
       "array(['8', nan, '8.3', '8.5', '6.6', '8.4', '8.6', '7.7', '6.3', '7.4',\n",
       "       '8.2', '9', '7.9', '8.1', '8.7', '7.1', '3.4', '5.3', '4.8', '3.2',\n",
       "       '8.9', '6.4', '7.8', '7.5', '2.6', '7.2', '9.2', '7', '7.3', '4.3',\n",
       "       '7.6', '5.7', '5', '9.1', '6.5', 'tbd', '8.8', '6.9', '9.4', '6.8',\n",
       "       '6.1', '6.7', '5.4', '4', '4.9', '4.5', '9.3', '6.2', '4.2', '6',\n",
       "       '3.7', '4.1', '5.8', '5.6', '5.5', '4.4', '4.6', '5.9', '3.9',\n",
       "       '3.1', '2.9', '5.2', '3.3', '4.7', '5.1', '3.5', '2.5', '1.9', '3',\n",
       "       '2.7', '2.2', '2', '9.5', '2.1', '3.6', '2.8', '1.8', '3.8', '0',\n",
       "       '1.6', '9.6', '2.4', '1.7', '1.1', '0.3', '1.5', '0.7', '1.2',\n",
       "       '2.3', '0.5', '1.3', '0.2', '0.6', '1.4', '0.9', '1', '9.7'],\n",
       "      dtype=object)"
      ]
     },
     "execution_count": 9,
     "metadata": {},
     "output_type": "execute_result"
    }
   ],
   "source": [
    "games['user_score'].unique()"
   ]
  },
  {
   "cell_type": "code",
   "execution_count": 10,
   "id": "5d3313d8",
   "metadata": {},
   "outputs": [
    {
     "data": {
      "text/plain": [
       "array([2006., 1985., 2008., 2009., 1996., 1989., 1984., 2005., 1999.,\n",
       "       2007., 2010., 2013., 2004., 1990., 1988., 2002., 2001., 2011.,\n",
       "       1998., 2015., 2012., 2014., 1992., 1997., 1993., 1994., 1982.,\n",
       "       2016., 2003., 1986., 2000.,   nan, 1995., 1991., 1981., 1987.,\n",
       "       1980., 1983.])"
      ]
     },
     "execution_count": 10,
     "metadata": {},
     "output_type": "execute_result"
    }
   ],
   "source": [
    "games['year_of_release'].unique()"
   ]
  },
  {
   "cell_type": "markdown",
   "id": "cc3bb120",
   "metadata": {},
   "source": [
    "Пока что займемся преобразованием типов, а позже проработаем пропуски. В качестве временной меры все строковые значения в числовых столбцах заменим на пропуски"
   ]
  },
  {
   "cell_type": "code",
   "execution_count": 11,
   "id": "e5e4c962",
   "metadata": {},
   "outputs": [],
   "source": [
    "# Преобразовываем eu_sales, jp_sales, user_score к float. \n",
    "\n",
    "games[['eu_sales', 'jp_sales','user_score']] = games[['eu_sales', 'jp_sales','user_score']].apply(pd.to_numeric, errors='coerce', downcast='float')"
   ]
  },
  {
   "cell_type": "markdown",
   "id": "cd166a32",
   "metadata": {},
   "source": [
    "- В столбцах `eu_sales`, `jp_sales` нет пропусков, но есть значения **unknown**, что по смыслу для нас эквивалентно пропуску. Эти значения заменим на среднее значение в зависимости от названия платформы и года выхода игры.\n",
    "- В столбце `user_score` есть пропуски и есть значение **tbd**. Восстановить значение рейтинга мы никак не сможем, поэтому дадим ему значение **-1** и не будем далее учитывать в анализе этого столбца\n",
    "- В столбце `year_of_release` - есть небольшое кол-во пропусков, дадим ему значение **-1** и не будем далее учитывать в анализе этого столбца"
   ]
  },
  {
   "cell_type": "code",
   "execution_count": 12,
   "id": "0f1c91a8",
   "metadata": {
    "id": "0f1c91a8"
   },
   "outputs": [
    {
     "name": "stdout",
     "output_type": "stream",
     "text": [
      "                 Пропуски  % пропусков\n",
      "name                    2         0.01\n",
      "platform                0         0.00\n",
      "year_of_release       275         1.62\n",
      "genre                   2         0.01\n",
      "na_sales                0         0.00\n",
      "eu_sales                6         0.04\n",
      "jp_sales                4         0.02\n",
      "other_sales             0         0.00\n",
      "critic_score         8714        51.39\n",
      "user_score           9268        54.66\n",
      "rating               6871        40.52\n"
     ]
    }
   ],
   "source": [
    "# Теперь считаем кол-во и долю пропусков в каждом столбце\n",
    "\n",
    "missing = pd.DataFrame({'Пропуски': games.isna().sum(), '% пропусков': round(games.isna().sum() / len(games) * 100,2)})\n",
    "print(missing)"
   ]
  },
  {
   "cell_type": "markdown",
   "id": "ba2b9f0e",
   "metadata": {
    "id": "bd69e642"
   },
   "source": [
    "Пропуски есть в следующих столбцах: \n",
    "- `name` - 2 пропуска, меньше 1%\n",
    "- `year_of_release` - 275 пропусков, меньше 2%\n",
    "- `genre` - 2 пропуска, меньше 1%\n",
    "- `eu_sales` - 6 пропусков, меньше 1%\n",
    "- `jp_sales` - 4 пропуска, меньше 1%\n",
    "- `critic_score` - 8714 пропуска, 51%\n",
    "- `user_score` - 9268 пропусков, 54%\n",
    "- `rating` - 6871 пропуска, 40%\n",
    "\n",
    "В целом пропуски характерны почти для всех столбцов, в большей степени пропуски занимают очень маленькую долю и особо не повлияют на анализ. Однако в стобцах, связанных с рейтингом, доля пропусков очень высокая - примерно половина, это может быть связано с тем, что не все игры участвовали в рейтингах и по ним просто нет необходимой информации."
   ]
  },
  {
   "cell_type": "markdown",
   "id": "9a5971a3",
   "metadata": {
    "id": "154be65d"
   },
   "source": [
    "В столбцах с продажами пропуски заменю на ср значение в зависимости от названия платформы и года выхода игры. В остальных перечисленных столбцах заменю на значение индикатор \"-1.0\" чтобы можно было работать со столбцом как с числом, а \"-1.0\" просто не будем учитывать"
   ]
  },
  {
   "cell_type": "code",
   "execution_count": 13,
   "id": "a30a1376",
   "metadata": {},
   "outputs": [
    {
     "name": "stdout",
     "output_type": "stream",
     "text": [
      "name               2\n",
      "platform           0\n",
      "year_of_release    0\n",
      "genre              2\n",
      "na_sales           0\n",
      "eu_sales           0\n",
      "jp_sales           0\n",
      "other_sales        0\n",
      "critic_score       0\n",
      "user_score         0\n",
      "rating             0\n",
      "dtype: int64\n",
      "<class 'pandas.core.frame.DataFrame'>\n",
      "RangeIndex: 16956 entries, 0 to 16955\n",
      "Data columns (total 11 columns):\n",
      " #   Column           Non-Null Count  Dtype  \n",
      "---  ------           --------------  -----  \n",
      " 0   name             16954 non-null  object \n",
      " 1   platform         16956 non-null  object \n",
      " 2   year_of_release  16956 non-null  float64\n",
      " 3   genre            16954 non-null  object \n",
      " 4   na_sales         16956 non-null  float64\n",
      " 5   eu_sales         16956 non-null  float64\n",
      " 6   jp_sales         16956 non-null  float64\n",
      " 7   other_sales      16956 non-null  float64\n",
      " 8   critic_score     16956 non-null  float64\n",
      " 9   user_score       16956 non-null  float32\n",
      " 10  rating           16956 non-null  object \n",
      "dtypes: float32(1), float64(6), object(4)\n",
      "memory usage: 1.4+ MB\n"
     ]
    }
   ],
   "source": [
    "# Создаем функции для определения значения продаж в зависимости от названия платформы и года выхода игры\n",
    "def mean_group_eu_sales(row):\n",
    "    if pd.isna(row['eu_sales']):\n",
    "        group = games[(games['platform'] == row['platform']) &\n",
    "                   (games['year_of_release'] == row['year_of_release'])]\n",
    "        return group['eu_sales'].mean()\n",
    "    else:\n",
    "        return row['eu_sales']\n",
    "                      \n",
    "def mean_group_jp_sales(row):\n",
    "    if pd.isna(row['jp_sales']):\n",
    "        group = games[(games['platform'] == row['platform']) &\n",
    "                   (games['year_of_release'] == row['year_of_release'])]\n",
    "        return group['jp_sales'].mean()\n",
    "    else:\n",
    "        return row['jp_sales']\n",
    "                  \n",
    "# Обрабатываем пропуски в eu_sales и jp_sales\n",
    "games['eu_sales'] = games.apply(mean_group_eu_sales, axis=1)\n",
    "games['jp_sales'] = games.apply(mean_group_jp_sales, axis=1)\n",
    "\n",
    "# Обрабатываем пропуски в столбцах year_of_release, critic_score, user_score, rating\n",
    "games['year_of_release'].fillna(-1.0, inplace=True)\n",
    "games['critic_score'].fillna(-1.0, inplace=True)\n",
    "games['user_score'].fillna(-1.0, inplace=True)\n",
    "games['rating'].fillna('неизвестно', inplace=True)\n",
    "\n",
    "# Повторно считаем кол-во пропусков в каждом столбце и смотрим типы данных                   \n",
    "print(games.isna().sum())\n",
    "games.info()"
   ]
  },
  {
   "cell_type": "code",
   "execution_count": 14,
   "id": "491c9c39",
   "metadata": {
    "id": "491c9c39"
   },
   "outputs": [
    {
     "name": "stdout",
     "output_type": "stream",
     "text": [
      "Уникальные значения platform: ['Wii' 'NES' 'GB' 'DS' 'X360' 'PS3' 'PS2' 'SNES' 'GBA' 'PS4' '3DS' 'N64'\n",
      " 'PS' 'XB' 'PC' '2600' 'PSP' 'XOne' 'WiiU' 'GC' 'GEN' 'DC' 'PSV' 'SAT'\n",
      " 'SCD' 'WS' 'NG' 'TG16' '3DO' 'GG' 'PCFX']\n",
      "\n",
      "Уникальные значения year_of_release: [ 2.006e+03  1.985e+03  2.008e+03  2.009e+03  1.996e+03  1.989e+03\n",
      "  1.984e+03  2.005e+03  1.999e+03  2.007e+03  2.010e+03  2.013e+03\n",
      "  2.004e+03  1.990e+03  1.988e+03  2.002e+03  2.001e+03  2.011e+03\n",
      "  1.998e+03  2.015e+03  2.012e+03  2.014e+03  1.992e+03  1.997e+03\n",
      "  1.993e+03  1.994e+03  1.982e+03  2.016e+03  2.003e+03  1.986e+03\n",
      "  2.000e+03 -1.000e+00  1.995e+03  1.991e+03  1.981e+03  1.987e+03\n",
      "  1.980e+03  1.983e+03]\n",
      "\n",
      "Уникальные значения genre: ['Sports' 'Platform' 'Racing' 'Role-Playing' 'Puzzle' 'Misc' 'Shooter'\n",
      " 'Simulation' 'Action' 'Fighting' 'Adventure' 'Strategy' nan 'MISC'\n",
      " 'ROLE-PLAYING' 'RACING' 'ACTION' 'SHOOTER' 'FIGHTING' 'SPORTS' 'PLATFORM'\n",
      " 'ADVENTURE' 'SIMULATION' 'PUZZLE' 'STRATEGY']\n",
      "\n",
      "Уникальные значения rating: ['E' 'неизвестно' 'M' 'T' 'E10+' 'K-A' 'AO' 'EC' 'RP']\n",
      "\n"
     ]
    }
   ],
   "source": [
    "# Выводим уникальные значения в категориальных данных\n",
    "\n",
    "for col in ['platform', 'year_of_release', 'genre', 'rating']:\n",
    "    print(f'Уникальные значения {col}: {games[col].unique()}', end='\\n\\n')"
   ]
  },
  {
   "cell_type": "markdown",
   "id": "484c15bf",
   "metadata": {
    "id": "f1627198"
   },
   "source": [
    "- Среди `platform`, `year_of_release`, нет неявных дубликатов\n",
    "- В `rating` значение **K-A** - это аналог значения **E**. Этот неявный дубликат позже устраним\n",
    "- В `genre` есть много неявных дубликатов, которые тоже подлежат устранению"
   ]
  },
  {
   "cell_type": "code",
   "execution_count": 15,
   "id": "fc5c91b5",
   "metadata": {
    "id": "fc5c91b5"
   },
   "outputs": [
    {
     "name": "stdout",
     "output_type": "stream",
     "text": [
      "Уникальные значения genre: ['sports' 'platform' 'racing' 'role-playing' 'puzzle' 'misc' 'shooter'\n",
      " 'simulation' 'action' 'fighting' 'adventure' 'strategy' nan]\n",
      "\n",
      "Уникальные значения rating: ['E' 'неизвестно' 'M' 'T' 'E10+' 'AO' 'EC' 'RP']\n"
     ]
    }
   ],
   "source": [
    "# Приводим к нижнему регистру названия жанров и проверяем уникальные значения\n",
    "games['genre'] = games['genre'].str.lower()\n",
    "print('Уникальные значения genre:', games['genre'].unique(), end='\\n\\n')\n",
    "\n",
    "# Заменяем рейтинг K-A на E и проверяем уникальные значения\n",
    "games['rating'].replace(to_replace='K-A', value='E', inplace=True)\n",
    "print('Уникальные значения rating:', games['rating'].unique())"
   ]
  },
  {
   "cell_type": "markdown",
   "id": "ed905cf6",
   "metadata": {
    "id": "2f61e076"
   },
   "source": [
    "Теперь значения уникальные и корректные"
   ]
  },
  {
   "cell_type": "code",
   "execution_count": 16,
   "id": "29e57705",
   "metadata": {
    "id": "29e57705"
   },
   "outputs": [
    {
     "data": {
      "text/plain": [
       "241"
      ]
     },
     "execution_count": 16,
     "metadata": {},
     "output_type": "execute_result"
    }
   ],
   "source": [
    "# Проверяем наличие явных дубликатов\n",
    "games.duplicated().sum()"
   ]
  },
  {
   "cell_type": "markdown",
   "id": "4d21b3d3",
   "metadata": {
    "id": "8548f894"
   },
   "source": [
    "Найден 241 явный дубликат, удалим эти строки, сохранив датафрейм без дубликатов в новую переменную"
   ]
  },
  {
   "cell_type": "code",
   "execution_count": 17,
   "id": "327e55bb",
   "metadata": {
    "id": "327e55bb"
   },
   "outputs": [],
   "source": [
    "# удаляем дубликаты и создаем новый датафрейм\n",
    "games_no_dp = games.drop_duplicates(subset=None, keep='first', inplace=False)"
   ]
  },
  {
   "cell_type": "code",
   "execution_count": 18,
   "id": "f9d8ee19",
   "metadata": {
    "id": "f9d8ee19"
   },
   "outputs": [
    {
     "name": "stdout",
     "output_type": "stream",
     "text": [
      "Кол-во строк до удаления дубликатов: 16956\n",
      "Кол-во строк после удаления дубликатов: 16715\n",
      "Кол-во удаленных строк: 241\n",
      "% удаленных строк: 1.42%\n"
     ]
    }
   ],
   "source": [
    "# проверяем кол-во строк в изначальном и новом датафреймах\n",
    "print('Кол-во строк до удаления дубликатов:', games.shape[0])\n",
    "print('Кол-во строк после удаления дубликатов:', games_no_dp.shape[0])\n",
    "count_deleted_rows = games.shape[0] - games_no_dp.shape[0]\n",
    "# считаем кол-во удаленных строк в абсолютном и относительном значениях\n",
    "print('Кол-во удаленных строк:', count_deleted_rows)\n",
    "print('% удаленных строк: ', round((count_deleted_rows / games.shape[0] * 100),2), '%', sep='')"
   ]
  },
  {
   "cell_type": "markdown",
   "id": "685a72b6",
   "metadata": {
    "id": "a2c09ca7"
   },
   "source": [
    "**Промежуточный вывод:**\n",
    "\n",
    "Проведена предобработка данных. В датафрейме имелись пропуски, столбцы с неоптимальными типами данных, неявные и явные дубликаты. На текущий момент остались пропуски в некоторых столбцах, которые нет необходимости преобразовывать во что-то конкретное. Все остальные недочеты устранены"
   ]
  },
  {
   "cell_type": "markdown",
   "id": "613f0eb0",
   "metadata": {
    "id": "613f0eb0",
    "jp-MarkdownHeadingCollapsed": true
   },
   "source": [
    "# 3. Фильтрация данных"
   ]
  },
  {
   "cell_type": "code",
   "execution_count": 19,
   "id": "2344916d",
   "metadata": {
    "id": "2344916d"
   },
   "outputs": [],
   "source": [
    "# Фильтруем игры, изданные с 2000 по 2013 год включительно\n",
    "df_actual = games_no_dp.loc[(games_no_dp['year_of_release'] >= 2000) & (games_no_dp['year_of_release'] <= 2013)]"
   ]
  },
  {
   "cell_type": "markdown",
   "id": "a6f10b01",
   "metadata": {
    "id": "a6f10b01",
    "jp-MarkdownHeadingCollapsed": true
   },
   "source": [
    "# 4. Категоризация данных"
   ]
  },
  {
   "cell_type": "markdown",
   "id": "f8f34b40",
   "metadata": {
    "id": "f8f34b40"
   },
   "source": [
    "Разделим все игры по оценкам критиков и выделим такие категории: высокая оценка (от 80 до 100 включительно), средняя оценка (от 30 до 80, не включая правую границу интервала) и низкая оценка (от 0 до 30, не включая правую границу интервала)."
   ]
  },
  {
   "cell_type": "code",
   "execution_count": 20,
   "id": "e3f7acb0",
   "metadata": {
    "id": "e3f7acb0"
   },
   "outputs": [
    {
     "data": {
      "text/html": [
       "<div>\n",
       "<style scoped>\n",
       "    .dataframe tbody tr th:only-of-type {\n",
       "        vertical-align: middle;\n",
       "    }\n",
       "\n",
       "    .dataframe tbody tr th {\n",
       "        vertical-align: top;\n",
       "    }\n",
       "\n",
       "    .dataframe thead th {\n",
       "        text-align: right;\n",
       "    }\n",
       "</style>\n",
       "<table border=\"1\" class=\"dataframe\">\n",
       "  <thead>\n",
       "    <tr style=\"text-align: right;\">\n",
       "      <th></th>\n",
       "      <th>name</th>\n",
       "      <th>platform</th>\n",
       "      <th>year_of_release</th>\n",
       "      <th>genre</th>\n",
       "      <th>na_sales</th>\n",
       "      <th>eu_sales</th>\n",
       "      <th>jp_sales</th>\n",
       "      <th>other_sales</th>\n",
       "      <th>critic_score</th>\n",
       "      <th>user_score</th>\n",
       "      <th>rating</th>\n",
       "      <th>categorize_user_score</th>\n",
       "      <th>categorize_critic_score</th>\n",
       "    </tr>\n",
       "  </thead>\n",
       "  <tbody>\n",
       "    <tr>\n",
       "      <th>0</th>\n",
       "      <td>Wii Sports</td>\n",
       "      <td>Wii</td>\n",
       "      <td>2006.0</td>\n",
       "      <td>sports</td>\n",
       "      <td>41.36</td>\n",
       "      <td>28.959999</td>\n",
       "      <td>3.77</td>\n",
       "      <td>8.45</td>\n",
       "      <td>76.0</td>\n",
       "      <td>8.0</td>\n",
       "      <td>E</td>\n",
       "      <td>1. высокая оценка</td>\n",
       "      <td>2. средняя оценка</td>\n",
       "    </tr>\n",
       "    <tr>\n",
       "      <th>2</th>\n",
       "      <td>Mario Kart Wii</td>\n",
       "      <td>Wii</td>\n",
       "      <td>2008.0</td>\n",
       "      <td>racing</td>\n",
       "      <td>15.68</td>\n",
       "      <td>12.760000</td>\n",
       "      <td>3.79</td>\n",
       "      <td>3.29</td>\n",
       "      <td>82.0</td>\n",
       "      <td>8.3</td>\n",
       "      <td>E</td>\n",
       "      <td>1. высокая оценка</td>\n",
       "      <td>1. высокая оценка</td>\n",
       "    </tr>\n",
       "    <tr>\n",
       "      <th>3</th>\n",
       "      <td>Wii Sports Resort</td>\n",
       "      <td>Wii</td>\n",
       "      <td>2009.0</td>\n",
       "      <td>sports</td>\n",
       "      <td>15.61</td>\n",
       "      <td>10.930000</td>\n",
       "      <td>3.28</td>\n",
       "      <td>2.95</td>\n",
       "      <td>80.0</td>\n",
       "      <td>8.0</td>\n",
       "      <td>E</td>\n",
       "      <td>1. высокая оценка</td>\n",
       "      <td>1. высокая оценка</td>\n",
       "    </tr>\n",
       "    <tr>\n",
       "      <th>6</th>\n",
       "      <td>New Super Mario Bros.</td>\n",
       "      <td>DS</td>\n",
       "      <td>2006.0</td>\n",
       "      <td>platform</td>\n",
       "      <td>11.28</td>\n",
       "      <td>9.140000</td>\n",
       "      <td>6.50</td>\n",
       "      <td>2.88</td>\n",
       "      <td>89.0</td>\n",
       "      <td>8.5</td>\n",
       "      <td>E</td>\n",
       "      <td>1. высокая оценка</td>\n",
       "      <td>1. высокая оценка</td>\n",
       "    </tr>\n",
       "    <tr>\n",
       "      <th>7</th>\n",
       "      <td>Wii Play</td>\n",
       "      <td>Wii</td>\n",
       "      <td>2006.0</td>\n",
       "      <td>misc</td>\n",
       "      <td>13.96</td>\n",
       "      <td>9.180000</td>\n",
       "      <td>2.93</td>\n",
       "      <td>2.84</td>\n",
       "      <td>58.0</td>\n",
       "      <td>6.6</td>\n",
       "      <td>E</td>\n",
       "      <td>2. средняя оценка</td>\n",
       "      <td>2. средняя оценка</td>\n",
       "    </tr>\n",
       "    <tr>\n",
       "      <th>8</th>\n",
       "      <td>New Super Mario Bros. Wii</td>\n",
       "      <td>Wii</td>\n",
       "      <td>2009.0</td>\n",
       "      <td>platform</td>\n",
       "      <td>14.44</td>\n",
       "      <td>6.940000</td>\n",
       "      <td>4.70</td>\n",
       "      <td>2.24</td>\n",
       "      <td>87.0</td>\n",
       "      <td>8.4</td>\n",
       "      <td>E</td>\n",
       "      <td>1. высокая оценка</td>\n",
       "      <td>1. высокая оценка</td>\n",
       "    </tr>\n",
       "    <tr>\n",
       "      <th>10</th>\n",
       "      <td>Nintendogs</td>\n",
       "      <td>DS</td>\n",
       "      <td>2005.0</td>\n",
       "      <td>simulation</td>\n",
       "      <td>9.05</td>\n",
       "      <td>10.950000</td>\n",
       "      <td>1.93</td>\n",
       "      <td>2.74</td>\n",
       "      <td>-1.0</td>\n",
       "      <td>-1.0</td>\n",
       "      <td>неизвестно</td>\n",
       "      <td>4. нет оценки</td>\n",
       "      <td>4. нет оценки</td>\n",
       "    </tr>\n",
       "    <tr>\n",
       "      <th>11</th>\n",
       "      <td>Mario Kart DS</td>\n",
       "      <td>DS</td>\n",
       "      <td>2005.0</td>\n",
       "      <td>racing</td>\n",
       "      <td>9.71</td>\n",
       "      <td>7.470000</td>\n",
       "      <td>4.13</td>\n",
       "      <td>1.90</td>\n",
       "      <td>91.0</td>\n",
       "      <td>8.6</td>\n",
       "      <td>E</td>\n",
       "      <td>1. высокая оценка</td>\n",
       "      <td>1. высокая оценка</td>\n",
       "    </tr>\n",
       "    <tr>\n",
       "      <th>13</th>\n",
       "      <td>Wii Fit</td>\n",
       "      <td>Wii</td>\n",
       "      <td>2007.0</td>\n",
       "      <td>sports</td>\n",
       "      <td>8.92</td>\n",
       "      <td>8.030000</td>\n",
       "      <td>3.60</td>\n",
       "      <td>2.15</td>\n",
       "      <td>80.0</td>\n",
       "      <td>7.7</td>\n",
       "      <td>E</td>\n",
       "      <td>2. средняя оценка</td>\n",
       "      <td>1. высокая оценка</td>\n",
       "    </tr>\n",
       "    <tr>\n",
       "      <th>14</th>\n",
       "      <td>Kinect Adventures!</td>\n",
       "      <td>X360</td>\n",
       "      <td>2010.0</td>\n",
       "      <td>misc</td>\n",
       "      <td>15.00</td>\n",
       "      <td>4.890000</td>\n",
       "      <td>0.24</td>\n",
       "      <td>1.69</td>\n",
       "      <td>61.0</td>\n",
       "      <td>6.3</td>\n",
       "      <td>E</td>\n",
       "      <td>2. средняя оценка</td>\n",
       "      <td>2. средняя оценка</td>\n",
       "    </tr>\n",
       "  </tbody>\n",
       "</table>\n",
       "</div>"
      ],
      "text/plain": [
       "                         name platform  year_of_release       genre  na_sales  \\\n",
       "0                  Wii Sports      Wii           2006.0      sports     41.36   \n",
       "2              Mario Kart Wii      Wii           2008.0      racing     15.68   \n",
       "3           Wii Sports Resort      Wii           2009.0      sports     15.61   \n",
       "6       New Super Mario Bros.       DS           2006.0    platform     11.28   \n",
       "7                    Wii Play      Wii           2006.0        misc     13.96   \n",
       "8   New Super Mario Bros. Wii      Wii           2009.0    platform     14.44   \n",
       "10                 Nintendogs       DS           2005.0  simulation      9.05   \n",
       "11              Mario Kart DS       DS           2005.0      racing      9.71   \n",
       "13                    Wii Fit      Wii           2007.0      sports      8.92   \n",
       "14         Kinect Adventures!     X360           2010.0        misc     15.00   \n",
       "\n",
       "     eu_sales  jp_sales  other_sales  critic_score  user_score      rating  \\\n",
       "0   28.959999      3.77         8.45          76.0         8.0           E   \n",
       "2   12.760000      3.79         3.29          82.0         8.3           E   \n",
       "3   10.930000      3.28         2.95          80.0         8.0           E   \n",
       "6    9.140000      6.50         2.88          89.0         8.5           E   \n",
       "7    9.180000      2.93         2.84          58.0         6.6           E   \n",
       "8    6.940000      4.70         2.24          87.0         8.4           E   \n",
       "10  10.950000      1.93         2.74          -1.0        -1.0  неизвестно   \n",
       "11   7.470000      4.13         1.90          91.0         8.6           E   \n",
       "13   8.030000      3.60         2.15          80.0         7.7           E   \n",
       "14   4.890000      0.24         1.69          61.0         6.3           E   \n",
       "\n",
       "   categorize_user_score categorize_critic_score  \n",
       "0      1. высокая оценка       2. средняя оценка  \n",
       "2      1. высокая оценка       1. высокая оценка  \n",
       "3      1. высокая оценка       1. высокая оценка  \n",
       "6      1. высокая оценка       1. высокая оценка  \n",
       "7      2. средняя оценка       2. средняя оценка  \n",
       "8      1. высокая оценка       1. высокая оценка  \n",
       "10         4. нет оценки           4. нет оценки  \n",
       "11     1. высокая оценка       1. высокая оценка  \n",
       "13     2. средняя оценка       1. высокая оценка  \n",
       "14     2. средняя оценка       2. средняя оценка  "
      ]
     },
     "execution_count": 20,
     "metadata": {},
     "output_type": "execute_result"
    }
   ],
   "source": [
    "# Создаем функции для категоризации\n",
    "def categorize_user_score(value):\n",
    "    value = value['user_score']\n",
    "    if value >= 8 and value <= 10:\n",
    "        return '1. высокая оценка'\n",
    "    elif value >= 3 and value < 8:\n",
    "        return '2. средняя оценка'\n",
    "    elif value >= 0 and value < 3:\n",
    "        return '3. низкая оценка'\n",
    "    else:\n",
    "        return '4. нет оценки';\n",
    "    \n",
    "def categorize_critic_score(value):\n",
    "    value = value['critic_score']\n",
    "    if value >= 80 and value <= 100:\n",
    "        return '1. высокая оценка'\n",
    "    elif value >= 30 and value < 80:\n",
    "        return '2. средняя оценка'\n",
    "    elif value >= 0 and value < 30:\n",
    "        return '3. низкая оценка'\n",
    "    else:\n",
    "        return '4. нет оценки';\n",
    "\n",
    "# Категоризируем\n",
    "df_actual['categorize_user_score'] = df_actual.apply(categorize_user_score, axis=1)\n",
    "df_actual['categorize_critic_score'] = df_actual.apply(categorize_critic_score, axis=1)\n",
    "# Проверяем результат\n",
    "df_actual.head(10)"
   ]
  },
  {
   "cell_type": "code",
   "execution_count": 21,
   "id": "HW0Nsp-4UMSL",
   "metadata": {
    "id": "HW0Nsp-4UMSL"
   },
   "outputs": [
    {
     "name": "stdout",
     "output_type": "stream",
     "text": [
      "categorize_user_score\n",
      "1. высокая оценка    2286\n",
      "2. средняя оценка    4081\n",
      "3. низкая оценка      116\n",
      "4. нет оценки        6298\n",
      "Name: name, dtype: int64 \n",
      "\n",
      "categorize_critic_score\n",
      "1. высокая оценка    1692\n",
      "2. средняя оценка    5422\n",
      "3. низкая оценка       55\n",
      "4. нет оценки        5612\n",
      "Name: name, dtype: int64\n"
     ]
    }
   ],
   "source": [
    "# Группируем данные по выделенным категориям\n",
    "grouped_data_user_score = df_actual.groupby('categorize_user_score')['name'].count()\n",
    "print(grouped_data_user_score, '\\n')\n",
    "\n",
    "grouped_data_critic_score = df_actual.groupby('categorize_critic_score')['name'].count()\n",
    "print(grouped_data_critic_score)"
   ]
  },
  {
   "cell_type": "code",
   "execution_count": 22,
   "id": "003caa2c",
   "metadata": {
    "id": "003caa2c"
   },
   "outputs": [
    {
     "name": "stdout",
     "output_type": "stream",
     "text": [
      "platform\n",
      "PS2     2127\n",
      "DS      2120\n",
      "Wii     1275\n",
      "PSP     1180\n",
      "X360    1121\n",
      "PS3     1087\n",
      "GBA      811\n",
      "Name: name, dtype: int64\n"
     ]
    }
   ],
   "source": [
    "# Топ-7 платформ по кол-ву игр\n",
    "grouped_data_top = df_actual.groupby('platform')['name'].count().sort_values(ascending=False)\n",
    "print(grouped_data_top.head(7))"
   ]
  },
  {
   "cell_type": "markdown",
   "id": "c0158881",
   "metadata": {
    "id": "c0158881",
    "jp-MarkdownHeadingCollapsed": true
   },
   "source": [
    "# 5. Итоговый вывод"
   ]
  },
  {
   "cell_type": "markdown",
   "id": "9f51c9b0",
   "metadata": {
    "id": "20175f5b"
   },
   "source": [
    "В рамках проекта была проведена работа с датасетом `/datasets/new_games.csv`\n",
    "\n",
    "1. Была изучена информация, которая в нем хранится: какие в нем столбцы, типы данных, какие значения содержатся, есть ли пропуски и явные/неявные дубликаты\n",
    "2. Была проведена предобработка датасета: устранены дубликаты, некоторые столбцы преобразованы в корректный тип данных, пропуски приведены к единому виду\n",
    "3. Из датасета выделен необходимый для анализа срез данных: игры, созданные с 2000 по 2013 год включительно\n",
    "4. Добавлена категоризация по рейтингу пользователей и рейтингу критиков: в датасете появилось два новых поля: `categorize_user_score` и `categorize_critic_score`\n",
    "5. Проведена группировка по полученным категориям"
   ]
  }
 ],
 "metadata": {
  "ExecuteTimeLog": [
   {
    "duration": 69,
    "start_time": "2025-05-05T13:52:18.082Z"
   },
   {
    "duration": 476,
    "start_time": "2025-05-05T14:44:19.789Z"
   },
   {
    "duration": 5,
    "start_time": "2025-05-05T14:44:21.400Z"
   },
   {
    "duration": 497,
    "start_time": "2025-05-05T14:44:37.231Z"
   },
   {
    "duration": 138,
    "start_time": "2025-05-05T14:44:40.832Z"
   },
   {
    "duration": 463,
    "start_time": "2025-05-05T14:44:56.271Z"
   },
   {
    "duration": 163,
    "start_time": "2025-05-05T14:44:56.736Z"
   },
   {
    "duration": 104,
    "start_time": "2025-05-05T14:45:43.578Z"
   },
   {
    "duration": 39,
    "start_time": "2025-05-05T14:45:49.326Z"
   },
   {
    "duration": 32,
    "start_time": "2025-05-05T14:46:15.422Z"
   },
   {
    "duration": 24,
    "start_time": "2025-05-05T14:46:18.578Z"
   },
   {
    "duration": 485,
    "start_time": "2025-05-05T14:46:35.189Z"
   },
   {
    "duration": 105,
    "start_time": "2025-05-05T14:46:35.676Z"
   },
   {
    "duration": 47,
    "start_time": "2025-05-05T14:46:35.784Z"
   },
   {
    "duration": 41,
    "start_time": "2025-05-05T14:46:35.840Z"
   },
   {
    "duration": 116,
    "start_time": "2025-05-05T15:16:45.677Z"
   },
   {
    "duration": 15,
    "start_time": "2025-05-05T15:17:12.701Z"
   },
   {
    "duration": 5,
    "start_time": "2025-05-05T15:17:19.322Z"
   },
   {
    "duration": 10,
    "start_time": "2025-05-05T15:17:22.317Z"
   },
   {
    "duration": 6,
    "start_time": "2025-05-05T15:17:34.137Z"
   },
   {
    "duration": 3,
    "start_time": "2025-05-05T15:21:12.651Z"
   },
   {
    "duration": 26,
    "start_time": "2025-05-05T15:21:27.837Z"
   },
   {
    "duration": 17,
    "start_time": "2025-05-05T15:21:31.356Z"
   },
   {
    "duration": 20,
    "start_time": "2025-05-05T15:21:40.454Z"
   },
   {
    "duration": 30,
    "start_time": "2025-05-05T15:22:21.015Z"
   },
   {
    "duration": 31,
    "start_time": "2025-05-05T15:23:29.304Z"
   },
   {
    "duration": 3,
    "start_time": "2025-05-05T15:39:46.867Z"
   },
   {
    "duration": 28,
    "start_time": "2025-05-05T15:40:57.747Z"
   },
   {
    "duration": 14,
    "start_time": "2025-05-05T15:41:05.805Z"
   },
   {
    "duration": 7,
    "start_time": "2025-05-05T15:41:23.657Z"
   },
   {
    "duration": 10,
    "start_time": "2025-05-05T15:41:47.909Z"
   },
   {
    "duration": 14,
    "start_time": "2025-05-05T15:42:34.035Z"
   },
   {
    "duration": 6,
    "start_time": "2025-05-05T15:42:52.662Z"
   },
   {
    "duration": 6,
    "start_time": "2025-05-05T15:43:10.671Z"
   },
   {
    "duration": 9,
    "start_time": "2025-05-05T15:43:12.691Z"
   },
   {
    "duration": 7,
    "start_time": "2025-05-05T15:43:17.858Z"
   },
   {
    "duration": 7,
    "start_time": "2025-05-05T15:43:48.491Z"
   },
   {
    "duration": 9,
    "start_time": "2025-05-05T15:43:55.777Z"
   },
   {
    "duration": 655,
    "start_time": "2025-05-05T19:16:04.281Z"
   },
   {
    "duration": 8,
    "start_time": "2025-05-05T19:16:32.065Z"
   },
   {
    "duration": 17,
    "start_time": "2025-05-05T19:17:00.500Z"
   },
   {
    "duration": 11,
    "start_time": "2025-05-05T19:17:52.881Z"
   },
   {
    "duration": 16,
    "start_time": "2025-05-05T19:18:04.060Z"
   },
   {
    "duration": 7,
    "start_time": "2025-05-05T19:20:34.379Z"
   },
   {
    "duration": 15,
    "start_time": "2025-05-05T19:20:35.961Z"
   },
   {
    "duration": 27,
    "start_time": "2025-05-05T19:20:44.961Z"
   },
   {
    "duration": 11,
    "start_time": "2025-05-05T19:20:53.646Z"
   },
   {
    "duration": 12,
    "start_time": "2025-05-05T19:20:55.934Z"
   },
   {
    "duration": 7,
    "start_time": "2025-05-05T19:20:58.230Z"
   },
   {
    "duration": 33,
    "start_time": "2025-05-05T19:20:59.880Z"
   },
   {
    "duration": 6,
    "start_time": "2025-05-05T19:22:35.167Z"
   },
   {
    "duration": 26,
    "start_time": "2025-05-05T19:22:37.068Z"
   },
   {
    "duration": 6,
    "start_time": "2025-05-05T19:22:41.144Z"
   },
   {
    "duration": 26,
    "start_time": "2025-05-05T19:22:42.355Z"
   },
   {
    "duration": 6,
    "start_time": "2025-05-05T19:22:56.397Z"
   },
   {
    "duration": 28,
    "start_time": "2025-05-05T19:22:57.449Z"
   },
   {
    "duration": 89,
    "start_time": "2025-05-05T19:24:14.389Z"
   },
   {
    "duration": 11,
    "start_time": "2025-05-05T19:24:20.415Z"
   },
   {
    "duration": 35,
    "start_time": "2025-05-05T19:24:21.693Z"
   },
   {
    "duration": 8,
    "start_time": "2025-05-05T19:24:25.868Z"
   },
   {
    "duration": 7,
    "start_time": "2025-05-05T19:24:27.231Z"
   },
   {
    "duration": 51,
    "start_time": "2025-05-05T19:24:28.373Z"
   },
   {
    "duration": 7,
    "start_time": "2025-05-05T19:27:07.621Z"
   },
   {
    "duration": 35,
    "start_time": "2025-05-05T19:27:09.014Z"
   },
   {
    "duration": 5,
    "start_time": "2025-05-05T19:28:06.057Z"
   },
   {
    "duration": 5,
    "start_time": "2025-05-05T19:28:08.381Z"
   },
   {
    "duration": 6,
    "start_time": "2025-05-05T19:28:46.681Z"
   },
   {
    "duration": 33,
    "start_time": "2025-05-05T19:28:47.975Z"
   },
   {
    "duration": 33,
    "start_time": "2025-05-05T19:35:36.114Z"
   },
   {
    "duration": 10,
    "start_time": "2025-05-05T19:35:40.792Z"
   },
   {
    "duration": 28,
    "start_time": "2025-05-05T19:36:20.913Z"
   },
   {
    "duration": 17,
    "start_time": "2025-05-05T19:36:28.578Z"
   },
   {
    "duration": 22,
    "start_time": "2025-05-05T19:37:27.818Z"
   },
   {
    "duration": 23,
    "start_time": "2025-05-05T19:37:33.424Z"
   },
   {
    "duration": 18,
    "start_time": "2025-05-05T19:38:00.237Z"
   },
   {
    "duration": 20,
    "start_time": "2025-05-05T19:38:05.081Z"
   },
   {
    "duration": 20,
    "start_time": "2025-05-05T19:38:22.493Z"
   },
   {
    "duration": 1233,
    "start_time": "2025-05-05T19:38:44.083Z"
   },
   {
    "duration": 50,
    "start_time": "2025-05-05T19:38:50.323Z"
   },
   {
    "duration": 12,
    "start_time": "2025-05-05T19:38:56.443Z"
   },
   {
    "duration": 15,
    "start_time": "2025-05-05T19:40:13.098Z"
   },
   {
    "duration": 29,
    "start_time": "2025-05-05T19:40:17.026Z"
   },
   {
    "duration": 9,
    "start_time": "2025-05-05T19:40:32.246Z"
   },
   {
    "duration": 5,
    "start_time": "2025-05-05T19:40:45.694Z"
   },
   {
    "duration": 14,
    "start_time": "2025-05-05T19:41:29.486Z"
   },
   {
    "duration": 12,
    "start_time": "2025-05-05T19:41:41.888Z"
   },
   {
    "duration": 12,
    "start_time": "2025-05-05T19:41:47.149Z"
   },
   {
    "duration": 12,
    "start_time": "2025-05-05T19:41:53.275Z"
   },
   {
    "duration": 23,
    "start_time": "2025-05-05T19:42:10.770Z"
   },
   {
    "duration": 14,
    "start_time": "2025-05-05T19:42:15.948Z"
   },
   {
    "duration": 26,
    "start_time": "2025-05-05T19:42:41.663Z"
   },
   {
    "duration": 45,
    "start_time": "2025-05-05T19:42:50.580Z"
   },
   {
    "duration": 26,
    "start_time": "2025-05-05T19:43:39.972Z"
   },
   {
    "duration": 348,
    "start_time": "2025-05-05T19:45:18.389Z"
   },
   {
    "duration": 66,
    "start_time": "2025-05-05T19:45:25.121Z"
   },
   {
    "duration": 23,
    "start_time": "2025-05-05T19:45:26.434Z"
   },
   {
    "duration": 13,
    "start_time": "2025-05-05T19:45:36.164Z"
   },
   {
    "duration": 29,
    "start_time": "2025-05-05T19:47:05.294Z"
   },
   {
    "duration": 34,
    "start_time": "2025-05-05T20:58:12.209Z"
   },
   {
    "duration": 13,
    "start_time": "2025-05-05T20:58:15.136Z"
   },
   {
    "duration": 9,
    "start_time": "2025-05-05T20:58:31.437Z"
   },
   {
    "duration": 7,
    "start_time": "2025-05-05T20:58:39.243Z"
   },
   {
    "duration": 5,
    "start_time": "2025-05-05T20:59:04.378Z"
   },
   {
    "duration": 4,
    "start_time": "2025-05-05T20:59:34.882Z"
   },
   {
    "duration": 22,
    "start_time": "2025-05-05T20:59:38.107Z"
   },
   {
    "duration": 11,
    "start_time": "2025-05-05T21:00:12.368Z"
   },
   {
    "duration": 10,
    "start_time": "2025-05-05T21:00:40.249Z"
   },
   {
    "duration": 9,
    "start_time": "2025-05-05T21:00:54.570Z"
   },
   {
    "duration": 102,
    "start_time": "2025-05-05T21:01:11.747Z"
   },
   {
    "duration": 9,
    "start_time": "2025-05-05T21:01:18.687Z"
   },
   {
    "duration": 16,
    "start_time": "2025-05-05T21:01:22.328Z"
   },
   {
    "duration": 24,
    "start_time": "2025-05-05T21:01:28.410Z"
   },
   {
    "duration": 10,
    "start_time": "2025-05-05T21:01:32.243Z"
   },
   {
    "duration": 292,
    "start_time": "2025-05-05T21:01:42.982Z"
   },
   {
    "duration": 69,
    "start_time": "2025-05-05T21:01:47.708Z"
   },
   {
    "duration": 13,
    "start_time": "2025-05-05T21:02:01.359Z"
   },
   {
    "duration": 11,
    "start_time": "2025-05-05T21:02:06.535Z"
   },
   {
    "duration": 10,
    "start_time": "2025-05-05T21:02:09.686Z"
   },
   {
    "duration": 53,
    "start_time": "2025-05-06T07:09:49.453Z"
   },
   {
    "duration": 437,
    "start_time": "2025-05-06T07:10:01.667Z"
   },
   {
    "duration": 149,
    "start_time": "2025-05-06T07:10:02.106Z"
   },
   {
    "duration": 16,
    "start_time": "2025-05-06T07:10:02.257Z"
   },
   {
    "duration": 44,
    "start_time": "2025-05-06T07:10:02.276Z"
   },
   {
    "duration": 8,
    "start_time": "2025-05-06T07:10:02.322Z"
   },
   {
    "duration": 22,
    "start_time": "2025-05-06T07:10:02.332Z"
   },
   {
    "duration": 15,
    "start_time": "2025-05-06T07:10:02.355Z"
   },
   {
    "duration": 45,
    "start_time": "2025-05-06T07:10:02.371Z"
   },
   {
    "duration": 8,
    "start_time": "2025-05-06T07:10:02.418Z"
   },
   {
    "duration": 16,
    "start_time": "2025-05-06T07:10:02.428Z"
   },
   {
    "duration": 86,
    "start_time": "2025-05-06T07:10:02.446Z"
   },
   {
    "duration": 36,
    "start_time": "2025-05-06T07:10:02.534Z"
   },
   {
    "duration": 16,
    "start_time": "2025-05-06T07:10:02.571Z"
   },
   {
    "duration": 12,
    "start_time": "2025-05-06T07:10:06.839Z"
   },
   {
    "duration": 9,
    "start_time": "2025-05-06T07:18:56.363Z"
   },
   {
    "duration": 12,
    "start_time": "2025-05-06T07:19:04.542Z"
   },
   {
    "duration": 76,
    "start_time": "2025-05-06T07:23:51.469Z"
   },
   {
    "duration": 13,
    "start_time": "2025-05-06T07:23:59.547Z"
   },
   {
    "duration": 20,
    "start_time": "2025-05-06T07:24:14.724Z"
   },
   {
    "duration": 8,
    "start_time": "2025-05-06T07:24:29.635Z"
   },
   {
    "duration": 372,
    "start_time": "2025-05-06T07:26:28.979Z"
   },
   {
    "duration": 105,
    "start_time": "2025-05-06T07:26:29.352Z"
   },
   {
    "duration": 17,
    "start_time": "2025-05-06T07:26:29.458Z"
   },
   {
    "duration": 23,
    "start_time": "2025-05-06T07:26:29.477Z"
   },
   {
    "duration": 6,
    "start_time": "2025-05-06T07:26:29.501Z"
   },
   {
    "duration": 36,
    "start_time": "2025-05-06T07:26:29.508Z"
   },
   {
    "duration": 5,
    "start_time": "2025-05-06T07:26:29.545Z"
   },
   {
    "duration": 7,
    "start_time": "2025-05-06T07:26:29.551Z"
   },
   {
    "duration": 5,
    "start_time": "2025-05-06T07:26:29.559Z"
   },
   {
    "duration": 5,
    "start_time": "2025-05-06T07:26:29.566Z"
   },
   {
    "duration": 20,
    "start_time": "2025-05-06T07:26:29.572Z"
   },
   {
    "duration": 48,
    "start_time": "2025-05-06T07:26:29.594Z"
   },
   {
    "duration": 9,
    "start_time": "2025-05-06T07:26:29.644Z"
   },
   {
    "duration": 16,
    "start_time": "2025-05-06T07:26:29.654Z"
   },
   {
    "duration": 407,
    "start_time": "2025-05-06T07:26:41.345Z"
   },
   {
    "duration": 124,
    "start_time": "2025-05-06T07:26:41.754Z"
   },
   {
    "duration": 17,
    "start_time": "2025-05-06T07:26:41.879Z"
   },
   {
    "duration": 24,
    "start_time": "2025-05-06T07:26:41.898Z"
   },
   {
    "duration": 12,
    "start_time": "2025-05-06T07:26:41.924Z"
   },
   {
    "duration": 16,
    "start_time": "2025-05-06T07:26:41.938Z"
   },
   {
    "duration": 5,
    "start_time": "2025-05-06T07:26:41.956Z"
   },
   {
    "duration": 11,
    "start_time": "2025-05-06T07:26:41.962Z"
   },
   {
    "duration": 5,
    "start_time": "2025-05-06T07:26:41.975Z"
   },
   {
    "duration": 8,
    "start_time": "2025-05-06T07:26:41.981Z"
   },
   {
    "duration": 48,
    "start_time": "2025-05-06T07:26:41.990Z"
   },
   {
    "duration": 17,
    "start_time": "2025-05-06T07:26:42.040Z"
   },
   {
    "duration": 9,
    "start_time": "2025-05-06T07:26:42.059Z"
   },
   {
    "duration": 18,
    "start_time": "2025-05-06T07:26:42.070Z"
   },
   {
    "duration": 422,
    "start_time": "2025-05-06T07:32:10.417Z"
   },
   {
    "duration": 110,
    "start_time": "2025-05-06T07:32:10.841Z"
   },
   {
    "duration": 16,
    "start_time": "2025-05-06T07:32:10.952Z"
   },
   {
    "duration": 24,
    "start_time": "2025-05-06T07:32:10.970Z"
   },
   {
    "duration": 3,
    "start_time": "2025-05-06T07:32:10.996Z"
   },
   {
    "duration": 17,
    "start_time": "2025-05-06T07:32:11.001Z"
   },
   {
    "duration": 5,
    "start_time": "2025-05-06T07:32:11.036Z"
   },
   {
    "duration": 8,
    "start_time": "2025-05-06T07:32:11.043Z"
   },
   {
    "duration": 9,
    "start_time": "2025-05-06T07:32:11.052Z"
   },
   {
    "duration": 6,
    "start_time": "2025-05-06T07:32:11.063Z"
   },
   {
    "duration": 18,
    "start_time": "2025-05-06T07:32:11.071Z"
   },
   {
    "duration": 45,
    "start_time": "2025-05-06T07:32:11.091Z"
   },
   {
    "duration": 9,
    "start_time": "2025-05-06T07:32:11.138Z"
   },
   {
    "duration": 22,
    "start_time": "2025-05-06T07:32:11.149Z"
   },
   {
    "duration": 24,
    "start_time": "2025-05-06T07:35:45.590Z"
   },
   {
    "duration": 21,
    "start_time": "2025-05-06T07:35:52.327Z"
   },
   {
    "duration": 24,
    "start_time": "2025-05-06T07:43:43.364Z"
   },
   {
    "duration": 24,
    "start_time": "2025-05-06T07:43:51.804Z"
   },
   {
    "duration": 28,
    "start_time": "2025-05-06T07:44:14.067Z"
   },
   {
    "duration": 23,
    "start_time": "2025-05-06T07:44:21.427Z"
   },
   {
    "duration": 22,
    "start_time": "2025-05-06T07:44:22.452Z"
   },
   {
    "duration": 16,
    "start_time": "2025-05-06T07:45:30.375Z"
   },
   {
    "duration": 4,
    "start_time": "2025-05-06T07:46:02.402Z"
   },
   {
    "duration": 4,
    "start_time": "2025-05-06T07:46:48.210Z"
   },
   {
    "duration": 6,
    "start_time": "2025-05-06T07:47:09.549Z"
   },
   {
    "duration": 6,
    "start_time": "2025-05-06T07:47:12.289Z"
   },
   {
    "duration": 4,
    "start_time": "2025-05-06T07:47:17.101Z"
   },
   {
    "duration": 5,
    "start_time": "2025-05-06T07:47:50.765Z"
   },
   {
    "duration": 6,
    "start_time": "2025-05-06T07:47:54.884Z"
   },
   {
    "duration": 5,
    "start_time": "2025-05-06T07:48:01.824Z"
   },
   {
    "duration": 5,
    "start_time": "2025-05-06T07:48:08.234Z"
   },
   {
    "duration": 7,
    "start_time": "2025-05-06T07:48:18.215Z"
   },
   {
    "duration": 5,
    "start_time": "2025-05-06T07:48:33.064Z"
   },
   {
    "duration": 4,
    "start_time": "2025-05-06T07:50:15.790Z"
   },
   {
    "duration": 5,
    "start_time": "2025-05-06T07:50:52.689Z"
   },
   {
    "duration": 5,
    "start_time": "2025-05-06T07:51:13.578Z"
   },
   {
    "duration": 6,
    "start_time": "2025-05-06T07:51:16.403Z"
   },
   {
    "duration": 5,
    "start_time": "2025-05-06T07:51:35.586Z"
   },
   {
    "duration": 7,
    "start_time": "2025-05-06T07:51:39.531Z"
   },
   {
    "duration": 5,
    "start_time": "2025-05-06T07:51:43.674Z"
   },
   {
    "duration": 6,
    "start_time": "2025-05-06T07:51:56.892Z"
   },
   {
    "duration": 6,
    "start_time": "2025-05-06T07:52:02.073Z"
   },
   {
    "duration": 7,
    "start_time": "2025-05-06T07:52:18.245Z"
   },
   {
    "duration": 5,
    "start_time": "2025-05-06T07:52:25.281Z"
   },
   {
    "duration": 6,
    "start_time": "2025-05-06T07:52:27.498Z"
   },
   {
    "duration": 5,
    "start_time": "2025-05-06T07:52:50.322Z"
   },
   {
    "duration": 5,
    "start_time": "2025-05-06T07:52:54.089Z"
   },
   {
    "duration": 5,
    "start_time": "2025-05-06T09:05:02.691Z"
   },
   {
    "duration": 20,
    "start_time": "2025-05-06T09:09:18.247Z"
   },
   {
    "duration": 14,
    "start_time": "2025-05-06T09:11:15.163Z"
   },
   {
    "duration": 14,
    "start_time": "2025-05-06T09:12:03.551Z"
   },
   {
    "duration": 15,
    "start_time": "2025-05-06T09:12:06.903Z"
   },
   {
    "duration": 87,
    "start_time": "2025-05-06T09:13:16.108Z"
   },
   {
    "duration": 17,
    "start_time": "2025-05-06T09:13:21.073Z"
   },
   {
    "duration": 7,
    "start_time": "2025-05-06T09:13:40.449Z"
   },
   {
    "duration": 4,
    "start_time": "2025-05-06T09:23:12.622Z"
   },
   {
    "duration": 4,
    "start_time": "2025-05-06T09:24:02.315Z"
   },
   {
    "duration": 338,
    "start_time": "2025-05-06T09:27:06.320Z"
   },
   {
    "duration": 322,
    "start_time": "2025-05-06T09:27:26.126Z"
   },
   {
    "duration": 371,
    "start_time": "2025-05-06T09:29:03.707Z"
   },
   {
    "duration": 311,
    "start_time": "2025-05-06T09:31:23.114Z"
   },
   {
    "duration": 104,
    "start_time": "2025-05-06T09:32:20.882Z"
   },
   {
    "duration": 105,
    "start_time": "2025-05-06T09:33:16.307Z"
   },
   {
    "duration": 103,
    "start_time": "2025-05-06T09:33:32.991Z"
   },
   {
    "duration": 69,
    "start_time": "2025-05-06T09:33:41.205Z"
   },
   {
    "duration": 108,
    "start_time": "2025-05-06T09:33:50.790Z"
   },
   {
    "duration": 185,
    "start_time": "2025-05-06T09:34:56.020Z"
   },
   {
    "duration": 13,
    "start_time": "2025-05-06T09:35:25.631Z"
   },
   {
    "duration": 319,
    "start_time": "2025-05-06T09:35:33.311Z"
   },
   {
    "duration": 208,
    "start_time": "2025-05-06T09:35:43.981Z"
   },
   {
    "duration": 105,
    "start_time": "2025-05-06T09:35:52.602Z"
   },
   {
    "duration": 186,
    "start_time": "2025-05-06T09:36:13.171Z"
   },
   {
    "duration": 201,
    "start_time": "2025-05-06T09:37:42.008Z"
   },
   {
    "duration": 192,
    "start_time": "2025-05-06T09:38:43.439Z"
   },
   {
    "duration": 388,
    "start_time": "2025-05-06T09:38:48.050Z"
   },
   {
    "duration": 122,
    "start_time": "2025-05-06T09:38:48.440Z"
   },
   {
    "duration": 15,
    "start_time": "2025-05-06T09:38:48.564Z"
   },
   {
    "duration": 19,
    "start_time": "2025-05-06T09:38:48.581Z"
   },
   {
    "duration": 4,
    "start_time": "2025-05-06T09:38:48.602Z"
   },
   {
    "duration": 48,
    "start_time": "2025-05-06T09:38:48.608Z"
   },
   {
    "duration": 6,
    "start_time": "2025-05-06T09:38:48.658Z"
   },
   {
    "duration": 5,
    "start_time": "2025-05-06T09:38:48.666Z"
   },
   {
    "duration": 6,
    "start_time": "2025-05-06T09:38:48.672Z"
   },
   {
    "duration": 5,
    "start_time": "2025-05-06T09:38:48.679Z"
   },
   {
    "duration": 20,
    "start_time": "2025-05-06T09:38:48.685Z"
   },
   {
    "duration": 22,
    "start_time": "2025-05-06T09:38:48.738Z"
   },
   {
    "duration": 8,
    "start_time": "2025-05-06T09:38:48.762Z"
   },
   {
    "duration": 16,
    "start_time": "2025-05-06T09:38:48.772Z"
   },
   {
    "duration": 19,
    "start_time": "2025-05-06T09:38:48.790Z"
   },
   {
    "duration": 40,
    "start_time": "2025-05-06T09:38:48.810Z"
   },
   {
    "duration": 6,
    "start_time": "2025-05-06T09:38:48.856Z"
   },
   {
    "duration": 7,
    "start_time": "2025-05-06T09:38:48.865Z"
   },
   {
    "duration": 230,
    "start_time": "2025-05-06T09:38:48.874Z"
   },
   {
    "duration": 198,
    "start_time": "2025-05-06T09:38:51.922Z"
   },
   {
    "duration": 4,
    "start_time": "2025-05-06T09:41:16.302Z"
   },
   {
    "duration": 200,
    "start_time": "2025-05-06T09:41:18.105Z"
   },
   {
    "duration": 188,
    "start_time": "2025-05-06T09:41:20.770Z"
   },
   {
    "duration": 429,
    "start_time": "2025-05-06T09:41:26.117Z"
   },
   {
    "duration": 88,
    "start_time": "2025-05-06T09:41:26.548Z"
   },
   {
    "duration": 29,
    "start_time": "2025-05-06T09:41:26.638Z"
   },
   {
    "duration": 28,
    "start_time": "2025-05-06T09:41:26.670Z"
   },
   {
    "duration": 4,
    "start_time": "2025-05-06T09:41:26.700Z"
   },
   {
    "duration": 49,
    "start_time": "2025-05-06T09:41:26.706Z"
   },
   {
    "duration": 7,
    "start_time": "2025-05-06T09:41:26.757Z"
   },
   {
    "duration": 7,
    "start_time": "2025-05-06T09:41:26.765Z"
   },
   {
    "duration": 6,
    "start_time": "2025-05-06T09:41:26.774Z"
   },
   {
    "duration": 5,
    "start_time": "2025-05-06T09:41:26.782Z"
   },
   {
    "duration": 59,
    "start_time": "2025-05-06T09:41:26.788Z"
   },
   {
    "duration": 17,
    "start_time": "2025-05-06T09:41:26.851Z"
   },
   {
    "duration": 11,
    "start_time": "2025-05-06T09:41:26.869Z"
   },
   {
    "duration": 14,
    "start_time": "2025-05-06T09:41:26.882Z"
   },
   {
    "duration": 47,
    "start_time": "2025-05-06T09:41:26.898Z"
   },
   {
    "duration": 21,
    "start_time": "2025-05-06T09:41:26.951Z"
   },
   {
    "duration": 5,
    "start_time": "2025-05-06T09:41:26.975Z"
   },
   {
    "duration": 7,
    "start_time": "2025-05-06T09:41:26.982Z"
   },
   {
    "duration": 228,
    "start_time": "2025-05-06T09:41:26.990Z"
   },
   {
    "duration": 205,
    "start_time": "2025-05-06T09:45:58.447Z"
   },
   {
    "duration": 6,
    "start_time": "2025-05-06T09:49:05.510Z"
   },
   {
    "duration": 7,
    "start_time": "2025-05-06T09:49:14.995Z"
   },
   {
    "duration": 196,
    "start_time": "2025-05-06T09:50:13.628Z"
   },
   {
    "duration": 7,
    "start_time": "2025-05-06T09:50:17.878Z"
   },
   {
    "duration": 21,
    "start_time": "2025-05-06T09:51:35.233Z"
   },
   {
    "duration": 11,
    "start_time": "2025-05-06T09:51:44.078Z"
   },
   {
    "duration": 17,
    "start_time": "2025-05-06T09:51:46.729Z"
   },
   {
    "duration": 10,
    "start_time": "2025-05-06T09:52:11.973Z"
   },
   {
    "duration": 9,
    "start_time": "2025-05-06T09:53:37.206Z"
   },
   {
    "duration": 6,
    "start_time": "2025-05-06T09:54:06.308Z"
   },
   {
    "duration": 68,
    "start_time": "2025-05-06T09:54:12.448Z"
   },
   {
    "duration": 7,
    "start_time": "2025-05-06T09:54:37.196Z"
   },
   {
    "duration": 7,
    "start_time": "2025-05-06T09:54:40.150Z"
   },
   {
    "duration": 7,
    "start_time": "2025-05-06T09:54:52.377Z"
   },
   {
    "duration": 460,
    "start_time": "2025-05-07T08:36:29.942Z"
   },
   {
    "duration": 126,
    "start_time": "2025-05-07T08:36:30.404Z"
   },
   {
    "duration": 18,
    "start_time": "2025-05-07T08:36:30.531Z"
   },
   {
    "duration": 41,
    "start_time": "2025-05-07T08:36:30.552Z"
   },
   {
    "duration": 4,
    "start_time": "2025-05-07T08:36:30.595Z"
   },
   {
    "duration": 30,
    "start_time": "2025-05-07T08:36:30.601Z"
   },
   {
    "duration": 6,
    "start_time": "2025-05-07T08:36:30.633Z"
   },
   {
    "duration": 17,
    "start_time": "2025-05-07T08:36:30.641Z"
   },
   {
    "duration": 8,
    "start_time": "2025-05-07T08:36:30.660Z"
   },
   {
    "duration": 5,
    "start_time": "2025-05-07T08:36:30.671Z"
   },
   {
    "duration": 22,
    "start_time": "2025-05-07T08:36:30.677Z"
   },
   {
    "duration": 17,
    "start_time": "2025-05-07T08:36:30.701Z"
   },
   {
    "duration": 41,
    "start_time": "2025-05-07T08:36:30.720Z"
   },
   {
    "duration": 15,
    "start_time": "2025-05-07T08:36:30.763Z"
   },
   {
    "duration": 19,
    "start_time": "2025-05-07T08:36:30.780Z"
   },
   {
    "duration": 16,
    "start_time": "2025-05-07T08:36:30.801Z"
   },
   {
    "duration": 14,
    "start_time": "2025-05-07T08:36:30.819Z"
   },
   {
    "duration": 30,
    "start_time": "2025-05-07T08:36:30.835Z"
   },
   {
    "duration": 206,
    "start_time": "2025-05-07T08:36:30.867Z"
   },
   {
    "duration": 10,
    "start_time": "2025-05-07T08:36:31.075Z"
   },
   {
    "duration": 6,
    "start_time": "2025-05-07T08:36:31.087Z"
   },
   {
    "duration": 10,
    "start_time": "2025-05-07T08:54:04.970Z"
   },
   {
    "duration": 424,
    "start_time": "2025-05-07T08:54:04.982Z"
   },
   {
    "duration": 99,
    "start_time": "2025-05-07T08:54:05.408Z"
   },
   {
    "duration": 20,
    "start_time": "2025-05-07T08:54:05.510Z"
   },
   {
    "duration": 73,
    "start_time": "2025-05-07T08:54:05.532Z"
   },
   {
    "duration": 5,
    "start_time": "2025-05-07T08:54:05.607Z"
   },
   {
    "duration": 18,
    "start_time": "2025-05-07T08:54:05.613Z"
   },
   {
    "duration": 73,
    "start_time": "2025-05-07T08:54:05.633Z"
   },
   {
    "duration": 41,
    "start_time": "2025-05-07T08:54:05.708Z"
   },
   {
    "duration": 34,
    "start_time": "2025-05-07T08:54:05.753Z"
   },
   {
    "duration": 48,
    "start_time": "2025-05-07T08:54:05.788Z"
   },
   {
    "duration": 30,
    "start_time": "2025-05-07T08:54:05.838Z"
   },
   {
    "duration": 53,
    "start_time": "2025-05-07T08:54:05.870Z"
   },
   {
    "duration": 10,
    "start_time": "2025-05-07T08:54:05.924Z"
   },
   {
    "duration": 26,
    "start_time": "2025-05-07T08:54:05.936Z"
   },
   {
    "duration": 22,
    "start_time": "2025-05-07T08:54:05.964Z"
   },
   {
    "duration": 92,
    "start_time": "2025-05-07T08:54:05.988Z"
   },
   {
    "duration": 18,
    "start_time": "2025-05-07T08:54:06.083Z"
   },
   {
    "duration": 33,
    "start_time": "2025-05-07T08:54:06.103Z"
   },
   {
    "duration": 220,
    "start_time": "2025-05-07T08:54:06.138Z"
   },
   {
    "duration": 11,
    "start_time": "2025-05-07T08:54:06.360Z"
   },
   {
    "duration": 7,
    "start_time": "2025-05-07T08:54:06.373Z"
   },
   {
    "duration": 3,
    "start_time": "2025-05-07T08:55:13.730Z"
   },
   {
    "duration": 8,
    "start_time": "2025-05-07T08:55:24.199Z"
   },
   {
    "duration": 389,
    "start_time": "2025-05-07T08:55:24.209Z"
   },
   {
    "duration": 117,
    "start_time": "2025-05-07T08:55:24.600Z"
   },
   {
    "duration": 18,
    "start_time": "2025-05-07T08:55:24.719Z"
   },
   {
    "duration": 32,
    "start_time": "2025-05-07T08:55:24.740Z"
   },
   {
    "duration": 4,
    "start_time": "2025-05-07T08:55:24.774Z"
   },
   {
    "duration": 26,
    "start_time": "2025-05-07T08:55:24.780Z"
   },
   {
    "duration": 6,
    "start_time": "2025-05-07T08:55:24.808Z"
   },
   {
    "duration": 7,
    "start_time": "2025-05-07T08:55:24.815Z"
   },
   {
    "duration": 8,
    "start_time": "2025-05-07T08:55:24.825Z"
   },
   {
    "duration": 31,
    "start_time": "2025-05-07T08:55:24.834Z"
   },
   {
    "duration": 22,
    "start_time": "2025-05-07T08:55:24.867Z"
   },
   {
    "duration": 17,
    "start_time": "2025-05-07T08:55:24.890Z"
   },
   {
    "duration": 11,
    "start_time": "2025-05-07T08:55:24.910Z"
   },
   {
    "duration": 49,
    "start_time": "2025-05-07T08:55:24.923Z"
   },
   {
    "duration": 19,
    "start_time": "2025-05-07T08:55:24.974Z"
   },
   {
    "duration": 16,
    "start_time": "2025-05-07T08:55:24.996Z"
   },
   {
    "duration": 6,
    "start_time": "2025-05-07T08:55:25.014Z"
   },
   {
    "duration": 41,
    "start_time": "2025-05-07T08:55:25.022Z"
   },
   {
    "duration": 210,
    "start_time": "2025-05-07T08:55:25.065Z"
   },
   {
    "duration": 10,
    "start_time": "2025-05-07T08:55:25.277Z"
   },
   {
    "duration": 7,
    "start_time": "2025-05-07T08:55:25.289Z"
   },
   {
    "duration": 120,
    "start_time": "2025-05-07T08:56:21.496Z"
   },
   {
    "duration": 8,
    "start_time": "2025-05-07T08:56:30.166Z"
   },
   {
    "duration": 430,
    "start_time": "2025-05-07T08:56:30.177Z"
   },
   {
    "duration": 84,
    "start_time": "2025-05-07T08:56:30.609Z"
   },
   {
    "duration": 21,
    "start_time": "2025-05-07T08:56:30.695Z"
   },
   {
    "duration": 47,
    "start_time": "2025-05-07T08:56:30.718Z"
   },
   {
    "duration": 4,
    "start_time": "2025-05-07T08:56:30.767Z"
   },
   {
    "duration": 32,
    "start_time": "2025-05-07T08:56:30.772Z"
   },
   {
    "duration": 25,
    "start_time": "2025-05-07T08:56:30.805Z"
   },
   {
    "duration": 14,
    "start_time": "2025-05-07T08:56:30.831Z"
   },
   {
    "duration": 6,
    "start_time": "2025-05-07T08:56:30.847Z"
   },
   {
    "duration": 6,
    "start_time": "2025-05-07T08:56:30.860Z"
   },
   {
    "duration": 21,
    "start_time": "2025-05-07T08:56:30.868Z"
   },
   {
    "duration": 34,
    "start_time": "2025-05-07T08:56:30.891Z"
   },
   {
    "duration": 10,
    "start_time": "2025-05-07T08:56:30.927Z"
   },
   {
    "duration": 37,
    "start_time": "2025-05-07T08:56:30.939Z"
   },
   {
    "duration": 55,
    "start_time": "2025-05-07T08:56:30.978Z"
   },
   {
    "duration": 16,
    "start_time": "2025-05-07T08:56:31.035Z"
   },
   {
    "duration": 8,
    "start_time": "2025-05-07T08:56:31.053Z"
   },
   {
    "duration": 5,
    "start_time": "2025-05-07T08:56:31.063Z"
   },
   {
    "duration": 216,
    "start_time": "2025-05-07T08:56:31.070Z"
   },
   {
    "duration": 10,
    "start_time": "2025-05-07T08:56:31.288Z"
   },
   {
    "duration": 7,
    "start_time": "2025-05-07T08:56:31.300Z"
   },
   {
    "duration": 5,
    "start_time": "2025-05-07T09:51:16.391Z"
   },
   {
    "duration": 95,
    "start_time": "2025-05-07T09:53:00.250Z"
   },
   {
    "duration": 354,
    "start_time": "2025-05-07T09:53:03.885Z"
   },
   {
    "duration": 339,
    "start_time": "2025-05-07T09:59:47.421Z"
   },
   {
    "duration": 348,
    "start_time": "2025-05-07T10:00:32.982Z"
   },
   {
    "duration": 11,
    "start_time": "2025-05-07T10:00:49.822Z"
   },
   {
    "duration": 14,
    "start_time": "2025-05-07T10:01:02.613Z"
   },
   {
    "duration": 21,
    "start_time": "2025-05-07T10:01:07.590Z"
   },
   {
    "duration": 22,
    "start_time": "2025-05-07T10:01:09.801Z"
   },
   {
    "duration": 6,
    "start_time": "2025-05-07T10:01:11.815Z"
   },
   {
    "duration": 417,
    "start_time": "2025-05-07T10:01:15.410Z"
   },
   {
    "duration": 356,
    "start_time": "2025-05-07T10:01:58.431Z"
   },
   {
    "duration": 8,
    "start_time": "2025-05-07T10:08:42.317Z"
   },
   {
    "duration": 402,
    "start_time": "2025-05-07T10:08:42.327Z"
   },
   {
    "duration": 101,
    "start_time": "2025-05-07T10:08:42.731Z"
   },
   {
    "duration": 17,
    "start_time": "2025-05-07T10:08:42.834Z"
   },
   {
    "duration": 54,
    "start_time": "2025-05-07T10:08:42.854Z"
   },
   {
    "duration": 4,
    "start_time": "2025-05-07T10:08:42.909Z"
   },
   {
    "duration": 19,
    "start_time": "2025-05-07T10:08:42.915Z"
   },
   {
    "duration": 6,
    "start_time": "2025-05-07T10:08:42.936Z"
   },
   {
    "duration": 10,
    "start_time": "2025-05-07T10:08:42.943Z"
   },
   {
    "duration": 8,
    "start_time": "2025-05-07T10:08:42.955Z"
   },
   {
    "duration": 10,
    "start_time": "2025-05-07T10:08:42.965Z"
   },
   {
    "duration": 22,
    "start_time": "2025-05-07T10:08:42.977Z"
   },
   {
    "duration": 19,
    "start_time": "2025-05-07T10:08:43.001Z"
   },
   {
    "duration": 407,
    "start_time": "2025-05-07T10:08:43.022Z"
   },
   {
    "duration": 9,
    "start_time": "2025-05-07T10:08:43.430Z"
   },
   {
    "duration": 27,
    "start_time": "2025-05-07T10:08:43.441Z"
   },
   {
    "duration": 20,
    "start_time": "2025-05-07T10:08:43.469Z"
   },
   {
    "duration": 16,
    "start_time": "2025-05-07T10:08:43.491Z"
   },
   {
    "duration": 42,
    "start_time": "2025-05-07T10:08:43.509Z"
   },
   {
    "duration": 15,
    "start_time": "2025-05-07T10:08:43.553Z"
   },
   {
    "duration": 201,
    "start_time": "2025-05-07T10:08:43.570Z"
   },
   {
    "duration": 10,
    "start_time": "2025-05-07T10:08:43.773Z"
   },
   {
    "duration": 61,
    "start_time": "2025-05-07T10:08:43.785Z"
   },
   {
    "duration": 383,
    "start_time": "2025-05-07T10:09:12.202Z"
   },
   {
    "duration": 345,
    "start_time": "2025-05-07T10:09:25.235Z"
   },
   {
    "duration": 9,
    "start_time": "2025-05-07T10:09:31.553Z"
   },
   {
    "duration": 446,
    "start_time": "2025-05-07T10:09:31.564Z"
   },
   {
    "duration": 190,
    "start_time": "2025-05-07T10:09:32.012Z"
   },
   {
    "duration": 18,
    "start_time": "2025-05-07T10:09:32.205Z"
   },
   {
    "duration": 36,
    "start_time": "2025-05-07T10:09:32.225Z"
   },
   {
    "duration": 7,
    "start_time": "2025-05-07T10:09:32.263Z"
   },
   {
    "duration": 20,
    "start_time": "2025-05-07T10:09:32.272Z"
   },
   {
    "duration": 7,
    "start_time": "2025-05-07T10:09:32.295Z"
   },
   {
    "duration": 20,
    "start_time": "2025-05-07T10:09:32.304Z"
   },
   {
    "duration": 35,
    "start_time": "2025-05-07T10:09:32.327Z"
   },
   {
    "duration": 5,
    "start_time": "2025-05-07T10:09:32.364Z"
   },
   {
    "duration": 25,
    "start_time": "2025-05-07T10:09:32.371Z"
   },
   {
    "duration": 17,
    "start_time": "2025-05-07T10:09:32.398Z"
   },
   {
    "duration": 411,
    "start_time": "2025-05-07T10:09:32.417Z"
   },
   {
    "duration": 9,
    "start_time": "2025-05-07T10:09:32.830Z"
   },
   {
    "duration": 43,
    "start_time": "2025-05-07T10:09:32.841Z"
   },
   {
    "duration": 19,
    "start_time": "2025-05-07T10:09:32.885Z"
   },
   {
    "duration": 19,
    "start_time": "2025-05-07T10:09:32.906Z"
   },
   {
    "duration": 6,
    "start_time": "2025-05-07T10:09:32.926Z"
   },
   {
    "duration": 423,
    "start_time": "2025-05-07T10:09:32.934Z"
   },
   {
    "duration": 0,
    "start_time": "2025-05-07T10:09:33.358Z"
   },
   {
    "duration": 0,
    "start_time": "2025-05-07T10:09:33.360Z"
   },
   {
    "duration": 0,
    "start_time": "2025-05-07T10:09:33.361Z"
   },
   {
    "duration": 375,
    "start_time": "2025-05-07T10:11:02.685Z"
   },
   {
    "duration": 371,
    "start_time": "2025-05-07T10:11:12.226Z"
   },
   {
    "duration": 376,
    "start_time": "2025-05-07T10:11:19.398Z"
   },
   {
    "duration": 355,
    "start_time": "2025-05-07T10:14:18.316Z"
   },
   {
    "duration": 8,
    "start_time": "2025-05-07T10:14:24.811Z"
   },
   {
    "duration": 404,
    "start_time": "2025-05-07T10:14:24.822Z"
   },
   {
    "duration": 95,
    "start_time": "2025-05-07T10:14:25.228Z"
   },
   {
    "duration": 19,
    "start_time": "2025-05-07T10:14:25.325Z"
   },
   {
    "duration": 24,
    "start_time": "2025-05-07T10:14:25.346Z"
   },
   {
    "duration": 4,
    "start_time": "2025-05-07T10:14:25.372Z"
   },
   {
    "duration": 18,
    "start_time": "2025-05-07T10:14:25.378Z"
   },
   {
    "duration": 6,
    "start_time": "2025-05-07T10:14:25.398Z"
   },
   {
    "duration": 6,
    "start_time": "2025-05-07T10:14:25.406Z"
   },
   {
    "duration": 6,
    "start_time": "2025-05-07T10:14:25.414Z"
   },
   {
    "duration": 42,
    "start_time": "2025-05-07T10:14:25.422Z"
   },
   {
    "duration": 23,
    "start_time": "2025-05-07T10:14:25.465Z"
   },
   {
    "duration": 17,
    "start_time": "2025-05-07T10:14:25.490Z"
   },
   {
    "duration": 440,
    "start_time": "2025-05-07T10:14:25.509Z"
   },
   {
    "duration": 16,
    "start_time": "2025-05-07T10:14:25.950Z"
   },
   {
    "duration": 20,
    "start_time": "2025-05-07T10:14:25.967Z"
   },
   {
    "duration": 20,
    "start_time": "2025-05-07T10:14:25.989Z"
   },
   {
    "duration": 16,
    "start_time": "2025-05-07T10:14:26.011Z"
   },
   {
    "duration": 34,
    "start_time": "2025-05-07T10:14:26.029Z"
   },
   {
    "duration": 9,
    "start_time": "2025-05-07T10:14:26.065Z"
   },
   {
    "duration": 210,
    "start_time": "2025-05-07T10:14:26.075Z"
   },
   {
    "duration": 10,
    "start_time": "2025-05-07T10:14:26.287Z"
   },
   {
    "duration": 8,
    "start_time": "2025-05-07T10:14:26.299Z"
   },
   {
    "duration": 352,
    "start_time": "2025-05-07T10:14:58.500Z"
   },
   {
    "duration": 9,
    "start_time": "2025-05-07T10:15:02.990Z"
   },
   {
    "duration": 418,
    "start_time": "2025-05-07T10:15:03.001Z"
   },
   {
    "duration": 86,
    "start_time": "2025-05-07T10:15:03.421Z"
   },
   {
    "duration": 20,
    "start_time": "2025-05-07T10:15:03.508Z"
   },
   {
    "duration": 29,
    "start_time": "2025-05-07T10:15:03.530Z"
   },
   {
    "duration": 26,
    "start_time": "2025-05-07T10:15:03.561Z"
   },
   {
    "duration": 26,
    "start_time": "2025-05-07T10:15:03.589Z"
   },
   {
    "duration": 22,
    "start_time": "2025-05-07T10:15:03.616Z"
   },
   {
    "duration": 34,
    "start_time": "2025-05-07T10:15:03.640Z"
   },
   {
    "duration": 15,
    "start_time": "2025-05-07T10:15:03.676Z"
   },
   {
    "duration": 22,
    "start_time": "2025-05-07T10:15:03.692Z"
   },
   {
    "duration": 126,
    "start_time": "2025-05-07T10:15:03.716Z"
   },
   {
    "duration": 48,
    "start_time": "2025-05-07T10:15:03.844Z"
   },
   {
    "duration": 416,
    "start_time": "2025-05-07T10:15:03.895Z"
   },
   {
    "duration": 11,
    "start_time": "2025-05-07T10:15:04.313Z"
   },
   {
    "duration": 49,
    "start_time": "2025-05-07T10:15:04.326Z"
   },
   {
    "duration": 22,
    "start_time": "2025-05-07T10:15:04.377Z"
   },
   {
    "duration": 133,
    "start_time": "2025-05-07T10:15:04.401Z"
   },
   {
    "duration": 5,
    "start_time": "2025-05-07T10:15:04.536Z"
   },
   {
    "duration": 8,
    "start_time": "2025-05-07T10:15:04.543Z"
   },
   {
    "duration": 213,
    "start_time": "2025-05-07T10:15:04.553Z"
   },
   {
    "duration": 11,
    "start_time": "2025-05-07T10:15:04.767Z"
   },
   {
    "duration": 11,
    "start_time": "2025-05-07T10:15:04.780Z"
   },
   {
    "duration": 9,
    "start_time": "2025-05-07T10:16:46.561Z"
   },
   {
    "duration": 431,
    "start_time": "2025-05-07T10:16:46.573Z"
   },
   {
    "duration": 116,
    "start_time": "2025-05-07T10:16:47.006Z"
   },
   {
    "duration": 18,
    "start_time": "2025-05-07T10:16:47.124Z"
   },
   {
    "duration": 25,
    "start_time": "2025-05-07T10:16:47.144Z"
   },
   {
    "duration": 4,
    "start_time": "2025-05-07T10:16:47.171Z"
   },
   {
    "duration": 18,
    "start_time": "2025-05-07T10:16:47.177Z"
   },
   {
    "duration": 7,
    "start_time": "2025-05-07T10:16:47.197Z"
   },
   {
    "duration": 6,
    "start_time": "2025-05-07T10:16:47.207Z"
   },
   {
    "duration": 45,
    "start_time": "2025-05-07T10:16:47.215Z"
   },
   {
    "duration": 5,
    "start_time": "2025-05-07T10:16:47.262Z"
   },
   {
    "duration": 22,
    "start_time": "2025-05-07T10:16:47.269Z"
   },
   {
    "duration": 19,
    "start_time": "2025-05-07T10:16:47.293Z"
   },
   {
    "duration": 419,
    "start_time": "2025-05-07T10:16:47.316Z"
   },
   {
    "duration": 10,
    "start_time": "2025-05-07T10:16:47.737Z"
   },
   {
    "duration": 25,
    "start_time": "2025-05-07T10:16:47.748Z"
   },
   {
    "duration": 55,
    "start_time": "2025-05-07T10:16:47.774Z"
   },
   {
    "duration": 16,
    "start_time": "2025-05-07T10:16:47.831Z"
   },
   {
    "duration": 5,
    "start_time": "2025-05-07T10:16:47.849Z"
   },
   {
    "duration": 7,
    "start_time": "2025-05-07T10:16:47.856Z"
   },
   {
    "duration": 206,
    "start_time": "2025-05-07T10:16:47.865Z"
   },
   {
    "duration": 10,
    "start_time": "2025-05-07T10:16:48.073Z"
   },
   {
    "duration": 7,
    "start_time": "2025-05-07T10:16:48.084Z"
   },
   {
    "duration": 9,
    "start_time": "2025-05-07T10:19:43.290Z"
   },
   {
    "duration": 401,
    "start_time": "2025-05-07T10:19:43.301Z"
   },
   {
    "duration": 86,
    "start_time": "2025-05-07T10:19:43.704Z"
   },
   {
    "duration": 18,
    "start_time": "2025-05-07T10:19:43.792Z"
   },
   {
    "duration": 73,
    "start_time": "2025-05-07T10:19:43.814Z"
   },
   {
    "duration": 5,
    "start_time": "2025-05-07T10:19:43.889Z"
   },
   {
    "duration": 79,
    "start_time": "2025-05-07T10:19:43.896Z"
   },
   {
    "duration": 6,
    "start_time": "2025-05-07T10:19:43.977Z"
   },
   {
    "duration": 5,
    "start_time": "2025-05-07T10:19:43.985Z"
   },
   {
    "duration": 5,
    "start_time": "2025-05-07T10:19:43.992Z"
   },
   {
    "duration": 8,
    "start_time": "2025-05-07T10:19:43.999Z"
   },
   {
    "duration": 52,
    "start_time": "2025-05-07T10:19:44.008Z"
   },
   {
    "duration": 17,
    "start_time": "2025-05-07T10:19:44.062Z"
   },
   {
    "duration": 389,
    "start_time": "2025-05-07T10:19:44.082Z"
   },
   {
    "duration": 9,
    "start_time": "2025-05-07T10:19:44.473Z"
   },
   {
    "duration": 55,
    "start_time": "2025-05-07T10:19:44.484Z"
   },
   {
    "duration": 21,
    "start_time": "2025-05-07T10:19:44.541Z"
   },
   {
    "duration": 16,
    "start_time": "2025-05-07T10:19:44.564Z"
   },
   {
    "duration": 6,
    "start_time": "2025-05-07T10:19:44.581Z"
   },
   {
    "duration": 9,
    "start_time": "2025-05-07T10:19:44.589Z"
   },
   {
    "duration": 227,
    "start_time": "2025-05-07T10:19:44.600Z"
   },
   {
    "duration": 11,
    "start_time": "2025-05-07T10:19:44.828Z"
   },
   {
    "duration": 20,
    "start_time": "2025-05-07T10:19:44.841Z"
   }
  ],
  "colab": {
   "provenance": []
  },
  "kernelspec": {
   "display_name": "Python [conda env:base] *",
   "language": "python",
   "name": "conda-base-py"
  },
  "language_info": {
   "codemirror_mode": {
    "name": "ipython",
    "version": 3
   },
   "file_extension": ".py",
   "mimetype": "text/x-python",
   "name": "python",
   "nbconvert_exporter": "python",
   "pygments_lexer": "ipython3",
   "version": "3.12.7"
  },
  "toc": {
   "base_numbering": 1,
   "nav_menu": {},
   "number_sections": true,
   "sideBar": true,
   "skip_h1_title": true,
   "title_cell": "Table of Contents",
   "title_sidebar": "Contents",
   "toc_cell": false,
   "toc_position": {},
   "toc_section_display": true,
   "toc_window_display": false
  }
 },
 "nbformat": 4,
 "nbformat_minor": 5
}
