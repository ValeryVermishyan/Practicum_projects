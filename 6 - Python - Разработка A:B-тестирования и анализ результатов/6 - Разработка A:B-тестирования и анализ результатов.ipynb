{
 "cells": [
  {
   "cell_type": "markdown",
   "metadata": {
    "id": "u98L9TgH0eMk"
   },
   "source": [
    "# Разработка A/B-тестирования и анализ результатов\n",
    "\n",
    "- Автор: Вермишян Валерий\n",
    "- Дата: 23.07.2025\n",
    "\n",
    "Цель проекта: провести A/B-тест рекомендательной системы развлекательного приложения."
   ]
  },
  {
   "cell_type": "markdown",
   "metadata": {},
   "source": [
    "# Цели и задачи проекта\n",
    "\n",
    "**Цель** - провести A/B-тест рекомендательной системы развлекательного приложения.\n",
    "\n",
    "**Задачи**:\n",
    "- изучить данные\n",
    "- рассчитать параметры теста\n",
    "- оценить корректность его проведения\n",
    "- проанализировать результаты эксперимента"
   ]
  },
  {
   "cell_type": "markdown",
   "metadata": {
    "id": "LJBRALHs0eMf"
   },
   "source": [
    "# Описание данных\n",
    "\n",
    "- `sessions_project_history.csv` — таблица с историческими данными по сессиям пользователей на период с 2025-08-11 по 2025-09-23. Путь к файлу: `/datasets/sessions_project_history.csv`.\n",
    "\n",
    "- `sessions_project_test_part.csv` — таблица с данными за первый день проведения A/B-теста, то есть за 2025-10-14. Путь к файлу: `/datasets/sessions_project_test_part.csv`.\n",
    "\n",
    "- `sessions_project_test.csv` — таблица с данными за весь период проведения A/B-теста, то есть с 2025-10-14 по 2025-11-02. Путь к файлу: `/datasets/sessions_project_test.csv`.\n",
    "\n",
    "У этих таблиц почти совпадает структура и содержание колонок, различаются лишь периоды наблюдения.\n",
    "\n",
    "Поля таблиц `sessions_project_history.csv`, `sessions_project_test.csv`, `sessions_project_test_part.csv`:\n",
    "\n",
    "- `user_id` — идентификатор пользователя;\n",
    "\n",
    "- `session_id` — идентификатор сессии в приложении;\n",
    "\n",
    "- `session_date` — дата сессии;\n",
    "\n",
    "- `session_start_ts` — дата и время начала сессии;\n",
    "\n",
    "- `install_date` — дата установки приложения;\n",
    "\n",
    "- `session_number` — порядковый номер сессии для конкретного пользователя;\n",
    "\n",
    "- `registration_flag` — является ли пользователь зарегистрированным;\n",
    "\n",
    "- `page_counter` — количество просмотренных страниц во время сессии;\n",
    "\n",
    "- `region` — регион пользователя;\n",
    "\n",
    "- `device` — тип устройства пользователя;\n",
    "\n",
    "- `test_group` — тестовая группа (в таблице с историческими данными этого столбца нет)."
   ]
  },
  {
   "cell_type": "markdown",
   "metadata": {},
   "source": [
    "# Содержимое проекта\n",
    "\n",
    "1. Работа с историческими данными\n",
    "2. Подготовка к тесту\n",
    "3. Мониторинг А/В-теста\n",
    "4. Проверка результатов A/B-теста"
   ]
  },
  {
   "cell_type": "markdown",
   "metadata": {
    "id": "UpOucjID0eMl",
    "jp-MarkdownHeadingCollapsed": true
   },
   "source": [
    "# 1. Работа с историческими данными"
   ]
  },
  {
   "cell_type": "code",
   "execution_count": 1,
   "metadata": {},
   "outputs": [],
   "source": [
    "# импортируем все нужные нам библиотеки\n",
    "import pandas as pd\n",
    "from statsmodels.stats.power import NormalIndPower\n",
    "from statsmodels.stats.proportion import proportion_effectsize\n",
    "import scipy.stats as st\n",
    "import matplotlib.pyplot as plt\n",
    "from math import ceil\n",
    "from statsmodels.stats.proportion import proportions_ztest"
   ]
  },
  {
   "cell_type": "markdown",
   "metadata": {
    "id": "8iJMtL-30eMl",
    "jp-MarkdownHeadingCollapsed": true
   },
   "source": [
    "Изучим CSV-файл с историческими данными о сессиях пользователей `sessions_project_history.csv`."
   ]
  },
  {
   "cell_type": "code",
   "execution_count": 2,
   "metadata": {
    "id": "6TPR2-1RPboT",
    "scrolled": true
   },
   "outputs": [
    {
     "data": {
      "text/html": [
       "<div>\n",
       "<style scoped>\n",
       "    .dataframe tbody tr th:only-of-type {\n",
       "        vertical-align: middle;\n",
       "    }\n",
       "\n",
       "    .dataframe tbody tr th {\n",
       "        vertical-align: top;\n",
       "    }\n",
       "\n",
       "    .dataframe thead th {\n",
       "        text-align: right;\n",
       "    }\n",
       "</style>\n",
       "<table border=\"1\" class=\"dataframe\">\n",
       "  <thead>\n",
       "    <tr style=\"text-align: right;\">\n",
       "      <th></th>\n",
       "      <th>user_id</th>\n",
       "      <th>session_id</th>\n",
       "      <th>session_date</th>\n",
       "      <th>session_start_ts</th>\n",
       "      <th>install_date</th>\n",
       "      <th>session_number</th>\n",
       "      <th>registration_flag</th>\n",
       "      <th>page_counter</th>\n",
       "      <th>region</th>\n",
       "      <th>device</th>\n",
       "    </tr>\n",
       "  </thead>\n",
       "  <tbody>\n",
       "    <tr>\n",
       "      <th>0</th>\n",
       "      <td>E302123B7000BFE4</td>\n",
       "      <td>F9AF61A0C2023832</td>\n",
       "      <td>2025-08-15</td>\n",
       "      <td>2025-08-15 17:47:35</td>\n",
       "      <td>2025-08-15</td>\n",
       "      <td>1</td>\n",
       "      <td>0</td>\n",
       "      <td>3</td>\n",
       "      <td>CIS</td>\n",
       "      <td>iPhone</td>\n",
       "    </tr>\n",
       "    <tr>\n",
       "      <th>1</th>\n",
       "      <td>2530F72E221829FB</td>\n",
       "      <td>85003A206CBDAC6F</td>\n",
       "      <td>2025-08-15</td>\n",
       "      <td>2025-08-15 16:42:14</td>\n",
       "      <td>2025-08-15</td>\n",
       "      <td>1</td>\n",
       "      <td>0</td>\n",
       "      <td>4</td>\n",
       "      <td>MENA</td>\n",
       "      <td>Android</td>\n",
       "    </tr>\n",
       "    <tr>\n",
       "      <th>2</th>\n",
       "      <td>876E020A4FC512F5</td>\n",
       "      <td>3677423E49D72DEE</td>\n",
       "      <td>2025-08-15</td>\n",
       "      <td>2025-08-15 12:30:00</td>\n",
       "      <td>2025-08-15</td>\n",
       "      <td>1</td>\n",
       "      <td>0</td>\n",
       "      <td>4</td>\n",
       "      <td>EU</td>\n",
       "      <td>PC</td>\n",
       "    </tr>\n",
       "    <tr>\n",
       "      <th>3</th>\n",
       "      <td>2640B349E1D81584</td>\n",
       "      <td>956B45F5915CA225</td>\n",
       "      <td>2025-08-15</td>\n",
       "      <td>2025-08-15 15:31:31</td>\n",
       "      <td>2025-08-15</td>\n",
       "      <td>1</td>\n",
       "      <td>0</td>\n",
       "      <td>4</td>\n",
       "      <td>CIS</td>\n",
       "      <td>Android</td>\n",
       "    </tr>\n",
       "    <tr>\n",
       "      <th>4</th>\n",
       "      <td>94E1CBFAEF1F5EE9</td>\n",
       "      <td>83BF0DA35F9F1F40</td>\n",
       "      <td>2025-08-15</td>\n",
       "      <td>2025-08-15 21:33:53</td>\n",
       "      <td>2025-08-15</td>\n",
       "      <td>1</td>\n",
       "      <td>0</td>\n",
       "      <td>3</td>\n",
       "      <td>CIS</td>\n",
       "      <td>Android</td>\n",
       "    </tr>\n",
       "  </tbody>\n",
       "</table>\n",
       "</div>"
      ],
      "text/plain": [
       "            user_id        session_id session_date     session_start_ts  \\\n",
       "0  E302123B7000BFE4  F9AF61A0C2023832   2025-08-15  2025-08-15 17:47:35   \n",
       "1  2530F72E221829FB  85003A206CBDAC6F   2025-08-15  2025-08-15 16:42:14   \n",
       "2  876E020A4FC512F5  3677423E49D72DEE   2025-08-15  2025-08-15 12:30:00   \n",
       "3  2640B349E1D81584  956B45F5915CA225   2025-08-15  2025-08-15 15:31:31   \n",
       "4  94E1CBFAEF1F5EE9  83BF0DA35F9F1F40   2025-08-15  2025-08-15 21:33:53   \n",
       "\n",
       "  install_date  session_number  registration_flag  page_counter region  \\\n",
       "0   2025-08-15               1                  0             3    CIS   \n",
       "1   2025-08-15               1                  0             4   MENA   \n",
       "2   2025-08-15               1                  0             4     EU   \n",
       "3   2025-08-15               1                  0             4    CIS   \n",
       "4   2025-08-15               1                  0             3    CIS   \n",
       "\n",
       "    device  \n",
       "0   iPhone  \n",
       "1  Android  \n",
       "2       PC  \n",
       "3  Android  \n",
       "4  Android  "
      ]
     },
     "execution_count": 2,
     "metadata": {},
     "output_type": "execute_result"
    }
   ],
   "source": [
    "sessions_history = pd.read_csv('sessions_project_history.csv')\n",
    "\n",
    "sessions_history.head()"
   ]
  },
  {
   "cell_type": "markdown",
   "metadata": {
    "id": "qTDoiODz0eMo"
   },
   "source": [
    "- Для каждого уникального пользователя `user_id` посчитаем количество уникальных сессий `session_id`.\n",
    "\n",
    "- Выведем на экран все данные из таблицы `sessions_history` для одного пользователя с наибольшим количеством сессий.\n",
    "\n",
    "- Изучим таблицу для одного пользователя, чтобы лучше понять логику формирования каждого столбца данных."
   ]
  },
  {
   "cell_type": "code",
   "execution_count": 3,
   "metadata": {
    "id": "PWZO9vTIPbPN"
   },
   "outputs": [
    {
     "name": "stdout",
     "output_type": "stream",
     "text": [
      "Кол-во уникальных сессий пользователя = кол-ву строк с id этого пользователя\n"
     ]
    }
   ],
   "source": [
    "#проверим равенство общего кол-ва строк и кол-во уникальных значений session_id\n",
    "if sessions_history.shape[0] == sessions_history['session_id'].nunique():\n",
    "    print('Кол-во уникальных сессий пользователя = кол-ву строк с id этого пользователя')"
   ]
  },
  {
   "cell_type": "code",
   "execution_count": 4,
   "metadata": {},
   "outputs": [
    {
     "data": {
      "text/html": [
       "<div>\n",
       "<style scoped>\n",
       "    .dataframe tbody tr th:only-of-type {\n",
       "        vertical-align: middle;\n",
       "    }\n",
       "\n",
       "    .dataframe tbody tr th {\n",
       "        vertical-align: top;\n",
       "    }\n",
       "\n",
       "    .dataframe thead th {\n",
       "        text-align: right;\n",
       "    }\n",
       "</style>\n",
       "<table border=\"1\" class=\"dataframe\">\n",
       "  <thead>\n",
       "    <tr style=\"text-align: right;\">\n",
       "      <th></th>\n",
       "      <th>user_id</th>\n",
       "      <th>session_id</th>\n",
       "      <th>session_date</th>\n",
       "      <th>session_start_ts</th>\n",
       "      <th>install_date</th>\n",
       "      <th>session_number</th>\n",
       "      <th>registration_flag</th>\n",
       "      <th>page_counter</th>\n",
       "      <th>region</th>\n",
       "      <th>device</th>\n",
       "    </tr>\n",
       "  </thead>\n",
       "  <tbody>\n",
       "    <tr>\n",
       "      <th>115558</th>\n",
       "      <td>10E0DEFC1ABDBBE0</td>\n",
       "      <td>B8F0423BBFFCF5DC</td>\n",
       "      <td>2025-08-14</td>\n",
       "      <td>2025-08-14 13:57:39</td>\n",
       "      <td>2025-08-14</td>\n",
       "      <td>1</td>\n",
       "      <td>0</td>\n",
       "      <td>4</td>\n",
       "      <td>CIS</td>\n",
       "      <td>Android</td>\n",
       "    </tr>\n",
       "    <tr>\n",
       "      <th>191751</th>\n",
       "      <td>10E0DEFC1ABDBBE0</td>\n",
       "      <td>87CA2FA549473837</td>\n",
       "      <td>2025-08-15</td>\n",
       "      <td>2025-08-15 16:42:10</td>\n",
       "      <td>2025-08-14</td>\n",
       "      <td>2</td>\n",
       "      <td>0</td>\n",
       "      <td>3</td>\n",
       "      <td>CIS</td>\n",
       "      <td>Android</td>\n",
       "    </tr>\n",
       "    <tr>\n",
       "      <th>239370</th>\n",
       "      <td>10E0DEFC1ABDBBE0</td>\n",
       "      <td>4ADD8011DCDCE318</td>\n",
       "      <td>2025-08-16</td>\n",
       "      <td>2025-08-16 19:53:21</td>\n",
       "      <td>2025-08-14</td>\n",
       "      <td>3</td>\n",
       "      <td>0</td>\n",
       "      <td>3</td>\n",
       "      <td>CIS</td>\n",
       "      <td>Android</td>\n",
       "    </tr>\n",
       "    <tr>\n",
       "      <th>274629</th>\n",
       "      <td>10E0DEFC1ABDBBE0</td>\n",
       "      <td>DF0FD0E09BF1F3D7</td>\n",
       "      <td>2025-08-17</td>\n",
       "      <td>2025-08-17 15:03:43</td>\n",
       "      <td>2025-08-14</td>\n",
       "      <td>4</td>\n",
       "      <td>0</td>\n",
       "      <td>1</td>\n",
       "      <td>CIS</td>\n",
       "      <td>Android</td>\n",
       "    </tr>\n",
       "    <tr>\n",
       "      <th>302501</th>\n",
       "      <td>10E0DEFC1ABDBBE0</td>\n",
       "      <td>3C221774B4DE6885</td>\n",
       "      <td>2025-08-18</td>\n",
       "      <td>2025-08-18 17:29:14</td>\n",
       "      <td>2025-08-14</td>\n",
       "      <td>5</td>\n",
       "      <td>0</td>\n",
       "      <td>4</td>\n",
       "      <td>CIS</td>\n",
       "      <td>Android</td>\n",
       "    </tr>\n",
       "    <tr>\n",
       "      <th>325557</th>\n",
       "      <td>10E0DEFC1ABDBBE0</td>\n",
       "      <td>031BD7A67048105B</td>\n",
       "      <td>2025-08-19</td>\n",
       "      <td>2025-08-19 13:23:55</td>\n",
       "      <td>2025-08-14</td>\n",
       "      <td>6</td>\n",
       "      <td>0</td>\n",
       "      <td>2</td>\n",
       "      <td>CIS</td>\n",
       "      <td>Android</td>\n",
       "    </tr>\n",
       "    <tr>\n",
       "      <th>345336</th>\n",
       "      <td>10E0DEFC1ABDBBE0</td>\n",
       "      <td>FF4315CF4AD4B100</td>\n",
       "      <td>2025-08-20</td>\n",
       "      <td>2025-08-20 19:31:54</td>\n",
       "      <td>2025-08-14</td>\n",
       "      <td>7</td>\n",
       "      <td>0</td>\n",
       "      <td>2</td>\n",
       "      <td>CIS</td>\n",
       "      <td>Android</td>\n",
       "    </tr>\n",
       "    <tr>\n",
       "      <th>377532</th>\n",
       "      <td>10E0DEFC1ABDBBE0</td>\n",
       "      <td>4045FEA0747203B4</td>\n",
       "      <td>2025-08-22</td>\n",
       "      <td>2025-08-22 17:54:13</td>\n",
       "      <td>2025-08-14</td>\n",
       "      <td>8</td>\n",
       "      <td>0</td>\n",
       "      <td>2</td>\n",
       "      <td>CIS</td>\n",
       "      <td>Android</td>\n",
       "    </tr>\n",
       "    <tr>\n",
       "      <th>403538</th>\n",
       "      <td>10E0DEFC1ABDBBE0</td>\n",
       "      <td>344B086C421C7F37</td>\n",
       "      <td>2025-08-24</td>\n",
       "      <td>2025-08-24 14:46:13</td>\n",
       "      <td>2025-08-14</td>\n",
       "      <td>9</td>\n",
       "      <td>0</td>\n",
       "      <td>2</td>\n",
       "      <td>CIS</td>\n",
       "      <td>Android</td>\n",
       "    </tr>\n",
       "    <tr>\n",
       "      <th>414743</th>\n",
       "      <td>10E0DEFC1ABDBBE0</td>\n",
       "      <td>054F20BA371E4C9D</td>\n",
       "      <td>2025-08-25</td>\n",
       "      <td>2025-08-25 18:36:41</td>\n",
       "      <td>2025-08-14</td>\n",
       "      <td>10</td>\n",
       "      <td>0</td>\n",
       "      <td>3</td>\n",
       "      <td>CIS</td>\n",
       "      <td>Android</td>\n",
       "    </tr>\n",
       "  </tbody>\n",
       "</table>\n",
       "</div>"
      ],
      "text/plain": [
       "                 user_id        session_id session_date     session_start_ts  \\\n",
       "115558  10E0DEFC1ABDBBE0  B8F0423BBFFCF5DC   2025-08-14  2025-08-14 13:57:39   \n",
       "191751  10E0DEFC1ABDBBE0  87CA2FA549473837   2025-08-15  2025-08-15 16:42:10   \n",
       "239370  10E0DEFC1ABDBBE0  4ADD8011DCDCE318   2025-08-16  2025-08-16 19:53:21   \n",
       "274629  10E0DEFC1ABDBBE0  DF0FD0E09BF1F3D7   2025-08-17  2025-08-17 15:03:43   \n",
       "302501  10E0DEFC1ABDBBE0  3C221774B4DE6885   2025-08-18  2025-08-18 17:29:14   \n",
       "325557  10E0DEFC1ABDBBE0  031BD7A67048105B   2025-08-19  2025-08-19 13:23:55   \n",
       "345336  10E0DEFC1ABDBBE0  FF4315CF4AD4B100   2025-08-20  2025-08-20 19:31:54   \n",
       "377532  10E0DEFC1ABDBBE0  4045FEA0747203B4   2025-08-22  2025-08-22 17:54:13   \n",
       "403538  10E0DEFC1ABDBBE0  344B086C421C7F37   2025-08-24  2025-08-24 14:46:13   \n",
       "414743  10E0DEFC1ABDBBE0  054F20BA371E4C9D   2025-08-25  2025-08-25 18:36:41   \n",
       "\n",
       "       install_date  session_number  registration_flag  page_counter region  \\\n",
       "115558   2025-08-14               1                  0             4    CIS   \n",
       "191751   2025-08-14               2                  0             3    CIS   \n",
       "239370   2025-08-14               3                  0             3    CIS   \n",
       "274629   2025-08-14               4                  0             1    CIS   \n",
       "302501   2025-08-14               5                  0             4    CIS   \n",
       "325557   2025-08-14               6                  0             2    CIS   \n",
       "345336   2025-08-14               7                  0             2    CIS   \n",
       "377532   2025-08-14               8                  0             2    CIS   \n",
       "403538   2025-08-14               9                  0             2    CIS   \n",
       "414743   2025-08-14              10                  0             3    CIS   \n",
       "\n",
       "         device  \n",
       "115558  Android  \n",
       "191751  Android  \n",
       "239370  Android  \n",
       "274629  Android  \n",
       "302501  Android  \n",
       "325557  Android  \n",
       "345336  Android  \n",
       "377532  Android  \n",
       "403538  Android  \n",
       "414743  Android  "
      ]
     },
     "execution_count": 4,
     "metadata": {},
     "output_type": "execute_result"
    }
   ],
   "source": [
    "#посчитаем кол-во уникальных сессий для каждого пользователя и отсортируем по убыванию\n",
    "users_sessions = sessions_history.groupby('user_id', \n",
    "                                          as_index=False)['session_id'].count().sort_values(by='session_id', \n",
    "                                                                                            ascending=False)\n",
    "\n",
    "#выведем на экран все данные из таблицы sessions_history для пользователя с наибольшим кол-вом сессий\n",
    "sessions_history[sessions_history['user_id'] == users_sessions.iloc[0,0]]"
   ]
  },
  {
   "cell_type": "markdown",
   "metadata": {},
   "source": [
    "Видно, что порядок нумерации сессий совпадает с порядком дат"
   ]
  },
  {
   "cell_type": "markdown",
   "metadata": {
    "id": "CmcGpJTP0eMq"
   },
   "source": [
    "Проанализируем динамику регистраций. Изучим, как менялось число регистраций в приложении за время его существования."
   ]
  },
  {
   "cell_type": "code",
   "execution_count": 5,
   "metadata": {
    "id": "tN_6Ml3EPatS"
   },
   "outputs": [],
   "source": [
    "# кол-во уникальных пользователей по дням\n",
    "uniq_users = sessions_history.groupby('session_date')['user_id'].nunique()\n",
    "\n",
    "# кол-во уникальных зарегистрированных пользователей по дням\n",
    "uniq_reg_users = sessions_history[sessions_history['registration_flag'] == 1].groupby('session_date')['user_id'].nunique()"
   ]
  },
  {
   "cell_type": "code",
   "execution_count": 6,
   "metadata": {},
   "outputs": [
    {
     "data": {
      "image/png": "[encoded data removed]",
      "text/plain": [
       "<Figure size 1500x500 with 1 Axes>"
      ]
     },
     "metadata": {},
     "output_type": "display_data"
    }
   ],
   "source": [
    "# строим график общего числа пользователей и общего числа зарегистрированных пользователей по дням\n",
    "plt.figure(figsize=(15,5))\n",
    "\n",
    "uniq_users.plot.line(label='Все пользователи')\n",
    "uniq_reg_users.plot.line(label='Зарегистрированные пользователи')\n",
    "\n",
    "plt.title('Динамика кол-ва всех пользователей и зарегистрированных пользователей по дням')\n",
    "plt.xlabel('Дни')\n",
    "plt.ylabel('Кол-во пользователей')\n",
    "plt.legend()\n",
    "plt.grid()\n",
    "plt.show()"
   ]
  },
  {
   "cell_type": "code",
   "execution_count": 7,
   "metadata": {},
   "outputs": [
    {
     "data": {
      "image/png": "[encoded data removed]",
      "text/plain": [
       "<Figure size 1500x500 with 1 Axes>"
      ]
     },
     "metadata": {},
     "output_type": "display_data"
    }
   ],
   "source": [
    "# строим график доли зарегистрированных пользователей от всех пользователей по дням\n",
    "plt.figure(figsize=(15,5))\n",
    "\n",
    "round(uniq_reg_users/uniq_users*100,2).plot.line(label='Соотношение пользователей')\n",
    "\n",
    "plt.title('% зарегистрированных пользователей от всех пользователей по дням')\n",
    "plt.xlabel('Дни')\n",
    "plt.ylabel('% пользователей')\n",
    "plt.legend()\n",
    "plt.grid()\n",
    "plt.show()"
   ]
  },
  {
   "cell_type": "markdown",
   "metadata": {},
   "source": [
    "Видим, что % зарегистрированных пользователей с каждым днем больше"
   ]
  },
  {
   "cell_type": "markdown",
   "metadata": {
    "id": "UR7D7RhF0eMr"
   },
   "source": [
    "Проанализируем число просмотренных страниц"
   ]
  },
  {
   "cell_type": "code",
   "execution_count": 8,
   "metadata": {
    "id": "cb6hPlVzPaSf"
   },
   "outputs": [
    {
     "data": {
      "image/png": "[encoded data removed]",
      "text/plain": [
       "<Figure size 1500x500 with 1 Axes>"
      ]
     },
     "metadata": {},
     "output_type": "display_data"
    }
   ],
   "source": [
    "# группируем датафрейм по кол-ву просмотренных страниц\n",
    "page_count = sessions_history.groupby('page_counter')['session_id'].count().sort_values(ascending=False)\n",
    "\n",
    "# строим столбчатую диаграмму кол-ва просмотренных страниц\n",
    "plt.figure(figsize=(15,5))\n",
    "\n",
    "page_count.plot.bar()\n",
    "\n",
    "plt.title('Кол-во сессий для каждого значения кол-ва просмотренных страниц')\n",
    "plt.xlabel('Кол-во просмотренных страниц')\n",
    "plt.ylabel('Кол-во сессий')\n",
    "plt.xticks(rotation=0)\n",
    "plt.show()"
   ]
  },
  {
   "cell_type": "markdown",
   "metadata": {
    "id": "xDltSpVP0eMr"
   },
   "source": [
    "Изучим долю пользователей, просмотревших более четырёх страниц"
   ]
  },
  {
   "cell_type": "code",
   "execution_count": 9,
   "metadata": {
    "id": "iygaPfixPYMW"
   },
   "outputs": [
    {
     "data": {
      "image/png": "[encoded data removed]",
      "text/plain": [
       "<Figure size 1500x500 with 1 Axes>"
      ]
     },
     "metadata": {},
     "output_type": "display_data"
    }
   ],
   "source": [
    "# создаем столбец good_session\n",
    "sessions_history['good_session'] = sessions_history['page_counter'].apply(lambda x: 1 if x >= 4 else 0)\n",
    "\n",
    "# считаем кол-во всех сессий и кол-во успешных по дням\n",
    "sessions_total = sessions_history.groupby(['session_date'])['good_session'].agg(['count', 'sum'])\n",
    "\n",
    "# строим график доли успешных сессий от всех сессий по дням\n",
    "plt.figure(figsize=(15,5))\n",
    "\n",
    "round(sessions_total.iloc[:,1]/sessions_total.iloc[:,0]*100,2).plot.line(label='Соотношение пользователей')\n",
    "\n",
    "plt.title('% успешных сессий от всех сессий по дням')\n",
    "plt.xlabel('Дни')\n",
    "plt.ylabel('% успешных сессий')\n",
    "plt.grid()\n",
    "plt.show()"
   ]
  },
  {
   "cell_type": "markdown",
   "metadata": {
    "id": "21JcG77Y0eMt",
    "jp-MarkdownHeadingCollapsed": true
   },
   "source": [
    "# 2. Подготовка к тесту"
   ]
  },
  {
   "cell_type": "markdown",
   "metadata": {
    "id": "kXdcwkjf859k"
   },
   "source": [
    "Формулировка нулевой и альтернативной гипотез"
   ]
  },
  {
   "cell_type": "markdown",
   "metadata": {},
   "source": [
    "Будем работать с метрикой \"Доля пользователей, просмотревших более четырёх страниц\", так как она лучше всего отражает вовлеченность пользователей\n",
    "\n",
    "- **Нулевая гипотеза** - значение метрики одинаково для каждой из групп\n",
    "- **Альтернативная гипотеза** - значение метрики выше в тестовой группе"
   ]
  },
  {
   "cell_type": "markdown",
   "metadata": {
    "id": "uzaeln270eMt"
   },
   "source": [
    "Рассчитаем размер выборки. Ориентируемся на следующие параметры:\n",
    "\n",
    "- Уровень значимости — 0.05.\n",
    "\n",
    "- Вероятность ошибки второго рода — 0.2.\n",
    "\n",
    "- Мощность теста - 0.8\n",
    "\n",
    "- MDE, — 3%."
   ]
  },
  {
   "cell_type": "code",
   "execution_count": 10,
   "metadata": {
    "id": "zSxJyPGPNdaI"
   },
   "outputs": [
    {
     "name": "stdout",
     "output_type": "stream",
     "text": [
      "Необходимый размер выборки для каждой группы: 41040\n"
     ]
    }
   ],
   "source": [
    "# Задаём параметры\n",
    "alpha = 0.05  # Уровень значимости\n",
    "beta = 0.2  # Ошибка второго рода, часто 1 - мощность\n",
    "power = 1-beta  # Мощность теста\n",
    "p1 = 0.3 # Базовый уровень доли\n",
    "mde = 0.03 * p1  # Минимальный детектируемый эффект\n",
    "effect_size = proportion_effectsize(p1, p1 + mde)\n",
    "\n",
    "# Инициализируем класс NormalIndPower для расчета размера выборки\n",
    "power_analysis = NormalIndPower()\n",
    "\n",
    "# Рассчитываем размер выборки\n",
    "sample_size = power_analysis.solve_power(\n",
    "    effect_size = effect_size,\n",
    "    power = power,\n",
    "    alpha = alpha,\n",
    "    ratio = 1 # Равномерное распределение выборок\n",
    ")\n",
    "\n",
    "print(f\"Необходимый размер выборки для каждой группы: {int(sample_size)}\")"
   ]
  },
  {
   "cell_type": "markdown",
   "metadata": {
    "id": "qLEv4RoV0eMu"
   },
   "source": [
    "Рассчитаем длительности A/B-теста"
   ]
  },
  {
   "cell_type": "code",
   "execution_count": 11,
   "metadata": {
    "id": "KZDRbryDOGHa"
   },
   "outputs": [
    {
     "name": "stdout",
     "output_type": "stream",
     "text": [
      "Рассчитанная длительность A/B-теста при текущем уровене трафика в 9907.363636363636 пользователей в день составит 9 дней\n"
     ]
    }
   ],
   "source": [
    "# Среднее количество пользователей приложения в день по историческим данным\n",
    "avg_daily_users = uniq_users.mean()\n",
    "\n",
    "# Рассчитываем длительность теста в днях как отношение размера выборки к среднему числу пользователей\n",
    "test_duration = ceil((sample_size*2)/avg_daily_users)\n",
    "\n",
    "print(f\"Рассчитанная длительность A/B-теста при текущем уровене трафика в {avg_daily_users} пользователей в день составит {test_duration} дней\")"
   ]
  },
  {
   "cell_type": "markdown",
   "metadata": {
    "id": "ZuvtAdha0eMv",
    "jp-MarkdownHeadingCollapsed": true
   },
   "source": [
    "# 3. Мониторинг А/В-теста"
   ]
  },
  {
   "cell_type": "markdown",
   "metadata": {
    "id": "jq5sE3Ya0eMv"
   },
   "source": [
    "Проверим распределение пользователей за первые 3 дня теста"
   ]
  },
  {
   "cell_type": "code",
   "execution_count": 12,
   "metadata": {
    "id": "G1bqIzDJOUiz"
   },
   "outputs": [
    {
     "name": "stdout",
     "output_type": "stream",
     "text": [
      "Разница в кол-ве пользователей в двух группах составляет 0.7%\n"
     ]
    }
   ],
   "source": [
    "# создадим дф с данными за первые 3 дня теста\n",
    "sessions_test_part = pd.read_csv('sessions_project_test_part.csv')\n",
    "\n",
    "# группируем кол-во уникальных пользователей по тестовым группам\n",
    "uniq_users = sessions_test_part.groupby('test_group', as_index=False)['user_id'].nunique()\n",
    "\n",
    "# считаем процентную разницу в кол-ве пользователей\n",
    "P = 100 * (abs(uniq_users.iloc[0,1] - uniq_users.iloc[1,1])/uniq_users.iloc[0,1])\n",
    "\n",
    "print(f'Разница в кол-ве пользователей в двух группах составляет {round(P,1)}%')"
   ]
  },
  {
   "cell_type": "code",
   "execution_count": 13,
   "metadata": {},
   "outputs": [
    {
     "data": {
      "text/plain": [
       "<Figure size 1500x500 with 0 Axes>"
      ]
     },
     "metadata": {},
     "output_type": "display_data"
    },
    {
     "data": {
      "image/png": "[encoded data removed]",
      "text/plain": [
       "<Figure size 640x480 with 1 Axes>"
      ]
     },
     "metadata": {},
     "output_type": "display_data"
    }
   ],
   "source": [
    "# строим столбчатую диаграмму кол-ва уникальных пользователей каждой группы\n",
    "plt.figure(figsize=(15,5))\n",
    "\n",
    "uniq_users.plot.bar(x='test_group', y='user_id')\n",
    "\n",
    "plt.title('Кол-во уникальных пользователей каждой группы')\n",
    "plt.xlabel('Кол-во')\n",
    "plt.ylabel('Группа')\n",
    "plt.xticks(rotation=0)\n",
    "plt.show()"
   ]
  },
  {
   "cell_type": "markdown",
   "metadata": {
    "id": "sgpNY5bv0eM0"
   },
   "source": [
    "Проверим отсутствие пересечения пользователей"
   ]
  },
  {
   "cell_type": "code",
   "execution_count": 14,
   "metadata": {
    "id": "E72ozN9FOX1u"
   },
   "outputs": [
    {
     "name": "stdout",
     "output_type": "stream",
     "text": [
      "Пользователей, которые одновременно встречаются в группах A и B нет\n"
     ]
    }
   ],
   "source": [
    "# разделим дф на группы\n",
    "group_a = sessions_test_part[sessions_test_part['test_group'] == 'A']\n",
    "group_b = sessions_test_part[sessions_test_part['test_group'] == 'B']\n",
    "\n",
    "# получим серии пользователей по группам\n",
    "group_a_users = group_a['user_id']\n",
    "group_b_users = group_b['user_id']\n",
    "\n",
    "if set(group_a_users) & set(group_b_users) == set():\n",
    "    print('Пользователей, которые одновременно встречаются в группах A и B нет')\n",
    "else:\n",
    "    print('Есть пользователи, который одновременно встречаются в группах A и B')"
   ]
  },
  {
   "cell_type": "markdown",
   "metadata": {
    "id": "6RvkNLrg0eM1"
   },
   "source": [
    "Проверим равномерность разделения пользователей по устройствам"
   ]
  },
  {
   "cell_type": "code",
   "execution_count": 15,
   "metadata": {},
   "outputs": [],
   "source": [
    "# удалим дубли user_id\n",
    "group_a_nod = group_a.drop_duplicates(subset='user_id', keep='first', inplace=False)\n",
    "group_b_nod = group_b.drop_duplicates(subset='user_id', keep='first', inplace=False)"
   ]
  },
  {
   "cell_type": "code",
   "execution_count": 16,
   "metadata": {
    "id": "x_IP6PUNPWHC"
   },
   "outputs": [
    {
     "data": {
      "image/png": "[encoded data removed]",
      "text/plain": [
       "<Figure size 1500x500 with 1 Axes>"
      ]
     },
     "metadata": {},
     "output_type": "display_data"
    }
   ],
   "source": [
    "# получим доли каждого типа устройства для пользователей из групп\n",
    "group_a_devises = round(group_a_nod['device'].value_counts(normalize=True)*100)\n",
    "group_b_devises = round(group_b_nod['device'].value_counts(normalize=True)*100)\n",
    "\n",
    "# построим график доли пользователей каждого устройства для каждой из групп\n",
    "\n",
    "plt.figure(figsize=(15,5))\n",
    "\n",
    "group_a_devises.plot.line(label='Группа A')\n",
    "group_b_devises.plot.line(label='Группа B')\n",
    "\n",
    "plt.title('Доля пользователей по устройствам')\n",
    "plt.xlabel('Тип устройства')\n",
    "plt.ylabel('% пользователей')\n",
    "plt.legend()\n",
    "plt.show()"
   ]
  },
  {
   "cell_type": "markdown",
   "metadata": {},
   "source": [
    "Видно, что распределение одинаковое"
   ]
  },
  {
   "cell_type": "markdown",
   "metadata": {
    "id": "gAgmP6vo0eM1"
   },
   "source": [
    "Проверим равномерность разделения пользователей по регионам"
   ]
  },
  {
   "cell_type": "code",
   "execution_count": 17,
   "metadata": {
    "id": "3hAq-FG4OdYM"
   },
   "outputs": [
    {
     "data": {
      "image/png": "[encoded data removed]",
      "text/plain": [
       "<Figure size 1500x500 with 1 Axes>"
      ]
     },
     "metadata": {},
     "output_type": "display_data"
    }
   ],
   "source": [
    "# получим доли каждого региона для пользователей из групп\n",
    "group_a_regions = round(group_a_nod['region'].value_counts(normalize=True)*100)\n",
    "group_b_regions = round(group_b_nod['region'].value_counts(normalize=True)*100)\n",
    "\n",
    "# построим график доли пользователей каждого региона для каждой из групп\n",
    "\n",
    "plt.figure(figsize=(15,5))\n",
    "\n",
    "group_a_regions.plot.line(label='Группа A')\n",
    "group_b_regions.plot.line(label='Группа B')\n",
    "\n",
    "plt.title('Доля пользователей по регионам')\n",
    "plt.xlabel('Регион')\n",
    "plt.ylabel('% пользователей')\n",
    "plt.legend()\n",
    "plt.show()"
   ]
  },
  {
   "cell_type": "markdown",
   "metadata": {},
   "source": [
    "Видно, что распределение одинаковое"
   ]
  },
  {
   "cell_type": "markdown",
   "metadata": {
    "id": "X2WSZ-sDrSUi"
   },
   "source": [
    "Вывод после проверки A/B-теста"
   ]
  },
  {
   "cell_type": "markdown",
   "metadata": {
    "id": "dDELHlAcOi8d"
   },
   "source": [
    "- Различие в кол-ве пользователей незначительно и составляет менее 1%\n",
    "- Отсутствует пересечение пользователей в группах. Выборки независимы\n",
    "- Сохраняется равномерное распределение пользователей по типам устройств и регионам\n",
    "\n",
    "A/B-тест проходит корректно"
   ]
  },
  {
   "cell_type": "markdown",
   "metadata": {
    "id": "nudRr_BQ0eM2",
    "jp-MarkdownHeadingCollapsed": true
   },
   "source": [
    "# 4. Проверка результатов A/B-теста"
   ]
  },
  {
   "cell_type": "markdown",
   "metadata": {
    "id": "JVve-YBB0eM2"
   },
   "source": [
    "Получение результатов теста и подсчёт основной метрики"
   ]
  },
  {
   "cell_type": "code",
   "execution_count": 18,
   "metadata": {
    "id": "EqRlwMtKPTir"
   },
   "outputs": [],
   "source": [
    "# создадим дф с данными всего теста\n",
    "sessions_test = pd.read_csv('sessions_project_test.csv')\n",
    "# создаем столбец good_session\n",
    "sessions_test['good_session'] = sessions_test['page_counter'].apply(lambda x: 1 if x >= 4 else 0)"
   ]
  },
  {
   "cell_type": "markdown",
   "metadata": {
    "id": "aeYhrMYy0eM2"
   },
   "source": [
    "Проверка корректности результатов теста"
   ]
  },
  {
   "cell_type": "code",
   "execution_count": 19,
   "metadata": {
    "id": "5NUlcltkTTSU"
   },
   "outputs": [],
   "source": [
    "# разделим дф на группы\n",
    "group_A = sessions_test[sessions_test['test_group'] == 'A']\n",
    "group_B = sessions_test[sessions_test['test_group'] == 'B']\n",
    "\n",
    "# рассчитаем кол-во уникальных сессий для каждой группы по дням\n",
    "uniq_sessions_group_a = group_A.groupby('session_date')['session_id'].nunique()\n",
    "uniq_sessions_group_b = group_B.groupby('session_date')['session_id'].nunique()"
   ]
  },
  {
   "cell_type": "code",
   "execution_count": 20,
   "metadata": {},
   "outputs": [
    {
     "name": "stdout",
     "output_type": "stream",
     "text": [
      "pvalue составляет 0.94, значит различие средних двух выборок не является статистически значимым. Группы сопоставимы\n"
     ]
    }
   ],
   "source": [
    "# проведем статистический тест на равенство средних двух выборок\n",
    "statistic, pvalue = st.ttest_ind(uniq_sessions_group_a, uniq_sessions_group_b, alternative='two-sided')\n",
    "\n",
    "if pvalue > 0.05:\n",
    "    print(f'pvalue составляет {round(pvalue,2)}, значит различие средних \\\n",
    "двух выборок не является статистически значимым. Группы сопоставимы')\n",
    "else:\n",
    "    print(f'pvalue составляет {round(pvalue,2)}, различие статистически значимы, значит группы не сопоставимы')\n"
   ]
  },
  {
   "cell_type": "markdown",
   "metadata": {
    "id": "7kwRxzg70eM3"
   },
   "source": [
    "Сравним доли успешных сессий"
   ]
  },
  {
   "cell_type": "code",
   "execution_count": 21,
   "metadata": {
    "id": "Uku-V1CpPRCz"
   },
   "outputs": [
    {
     "name": "stdout",
     "output_type": "stream",
     "text": [
      "Доля успешных сессий для группы A = 30.77%\n",
      "Доля успешных сессий для группы B = 31.83%\n",
      "Разница составляет 1.1 процентных пункта или 3.3%\n"
     ]
    }
   ],
   "source": [
    "# рассчитаем доли успешных сессий для каждой группы\n",
    "group_A_good_session = round(group_A[group_A['good_session'] == 1].shape[0] / group_A.shape[0]*100,2)\n",
    "group_B_good_session = round(group_B[group_B['good_session'] == 1].shape[0] / group_B.shape[0]*100,2)\n",
    "\n",
    "print(f'Доля успешных сессий для группы A = {group_A_good_session}%')\n",
    "print(f'Доля успешных сессий для группы B = {group_B_good_session}%')\n",
    "print(f'Разница составляет {round(group_B_good_session-group_A_good_session,1)} процентных пункта или \\\n",
    "{round(abs(group_B_good_session-group_A_good_session)/group_B_good_session*100,1)}%')"
   ]
  },
  {
   "cell_type": "markdown",
   "metadata": {
    "id": "9fMFuja10eM4"
   },
   "source": [
    "Изучим, насколько статистически значимо изменение ключевой метрики"
   ]
  },
  {
   "cell_type": "markdown",
   "metadata": {},
   "source": [
    "Процедем z-test пропорций"
   ]
  },
  {
   "cell_type": "code",
   "execution_count": 22,
   "metadata": {},
   "outputs": [
    {
     "name": "stdout",
     "output_type": "stream",
     "text": [
      "Предпосылка о достаточном количестве данных выполняется!\n",
      "pvalue=0.00015747399880361237\n",
      "Нулевая гипотеза не находит подтверждения!\n",
      "При переходе на новый алгоритм рекомендаций доля успешных сессий увеличилась\n"
     ]
    }
   ],
   "source": [
    "n_a = group_A.shape[0]\n",
    "\n",
    "n_b = group_B.shape[0]\n",
    "\n",
    "m_a = group_A[group_A['good_session'] == 1].shape[0]\n",
    "\n",
    "m_b = group_B[group_B['good_session'] == 1].shape[0]\n",
    "\n",
    "p_a, p_b = m_a/n_a, m_b/n_b\n",
    "\n",
    "if (p_a*n_a > 10)and((1-p_a)*n_a > 10)and(p_b*n_b > 10)and((1-p_b)*n_b > 10):\n",
    "    print('Предпосылка о достаточном количестве данных выполняется!')\n",
    "else:\n",
    "    print('Предпосылка о достаточном количестве данных НЕ выполняется!')\n",
    "\n",
    "alpha = 0.05\n",
    "\n",
    "stat_ztest, p_value_ztest = proportions_ztest(\n",
    "    [m_a, m_b],\n",
    "    [n_a, n_b],\n",
    "    alternative='smaller'\n",
    ")\n",
    "\n",
    "print(f'pvalue={p_value_ztest}')\n",
    "\n",
    "if p_value_ztest > alpha:\n",
    "    print('Нулевая гипотеза находит подтверждение!')\n",
    "else:\n",
    "    print('Нулевая гипотеза не находит подтверждения!')\n",
    "\n",
    "text_interpretation = 'увеличилась'\n",
    "\n",
    "print(f'При переходе на новый алгоритм рекомендаций доля успешных сессий {text_interpretation}')"
   ]
  },
  {
   "cell_type": "markdown",
   "metadata": {
    "id": "GnJrkY9Q63zS"
   },
   "source": [
    "**Вывод по результатам A/B-эксперимента**"
   ]
  },
  {
   "cell_type": "markdown",
   "metadata": {
    "id": "rri8KRIgPMrW"
   },
   "source": [
    "Был проведен а/б-тест нового алгоритма рекомендаций.\n",
    "\n",
    "Характеристики эксперимента:\n",
    "\n",
    "- Эксперимент длился 20 дней. В группе А было задействовано 15 163 пользователй, в группе B 15 416. Всего 30 579 пользователей.\n",
    "- В качестве целевой метрики была выбрана доля успешных сессий (отношение сессий с кол-вом просмотренных страниц >= 4 ко всем сессиям).\n",
    "- Уровень значимости — 0.05.\n",
    "- Вероятность ошибки второго рода — 0.2.\n",
    "\n",
    "По результатам а/б-теста можно сказать, что внедрение нового алгоритма положительно повлияло на % успешных сессий. Метрика выросла на 1.1 процентный пункт или на 3.3%\n",
    "\n",
    "p-value для оценки статистической значимости выявленного эффекта = 0.0001574739988036123\n",
    "\n",
    "Нововведение стоит внедрить в приложение"
   ]
  }
 ],
 "metadata": {
  "ExecuteTimeLog": [
   {
    "duration": 2555,
    "start_time": "2025-07-23T19:35:38.693Z"
   },
   {
    "duration": 167,
    "start_time": "2025-07-23T19:38:34.743Z"
   },
   {
    "duration": 233,
    "start_time": "2025-07-23T19:38:58.342Z"
   },
   {
    "duration": 112,
    "start_time": "2025-07-23T19:39:03.597Z"
   },
   {
    "duration": 221,
    "start_time": "2025-07-23T19:40:44.364Z"
   },
   {
    "duration": 217,
    "start_time": "2025-07-23T19:41:11.909Z"
   },
   {
    "duration": 212,
    "start_time": "2025-07-23T19:41:57.853Z"
   },
   {
    "duration": 5,
    "start_time": "2025-07-23T19:44:03.025Z"
   },
   {
    "duration": 23,
    "start_time": "2025-07-23T19:44:07.878Z"
   },
   {
    "duration": 331,
    "start_time": "2025-07-23T19:44:35.457Z"
   },
   {
    "duration": 345,
    "start_time": "2025-07-23T19:44:48.294Z"
   },
   {
    "duration": 364,
    "start_time": "2025-07-23T19:44:55.281Z"
   },
   {
    "duration": 332,
    "start_time": "2025-07-23T19:45:07.014Z"
   },
   {
    "duration": 326,
    "start_time": "2025-07-23T19:45:10.171Z"
   },
   {
    "duration": 104,
    "start_time": "2025-07-23T19:45:29.721Z"
   },
   {
    "duration": 343,
    "start_time": "2025-07-23T19:46:30.967Z"
   },
   {
    "duration": 299,
    "start_time": "2025-07-23T19:47:11.900Z"
   },
   {
    "duration": 359,
    "start_time": "2025-07-23T19:47:24.141Z"
   },
   {
    "duration": 319,
    "start_time": "2025-07-23T19:47:34.149Z"
   },
   {
    "duration": 341,
    "start_time": "2025-07-23T19:47:40.513Z"
   },
   {
    "duration": 8,
    "start_time": "2025-07-23T19:48:00.833Z"
   },
   {
    "duration": 381,
    "start_time": "2025-07-23T19:48:44.970Z"
   },
   {
    "duration": 345,
    "start_time": "2025-07-23T19:48:46.972Z"
   },
   {
    "duration": 492,
    "start_time": "2025-07-23T19:49:17.784Z"
   },
   {
    "duration": 347,
    "start_time": "2025-07-23T19:49:30.639Z"
   },
   {
    "duration": 331,
    "start_time": "2025-07-23T19:49:37.414Z"
   },
   {
    "duration": 350,
    "start_time": "2025-07-23T19:49:41.799Z"
   },
   {
    "duration": 360,
    "start_time": "2025-07-23T19:49:50.363Z"
   },
   {
    "duration": 342,
    "start_time": "2025-07-23T19:49:54.408Z"
   },
   {
    "duration": 375,
    "start_time": "2025-07-23T19:50:19.496Z"
   },
   {
    "duration": 819,
    "start_time": "2025-07-23T20:02:21.724Z"
   },
   {
    "duration": 368,
    "start_time": "2025-07-23T20:02:25.422Z"
   },
   {
    "duration": 362,
    "start_time": "2025-07-23T20:02:27.269Z"
   },
   {
    "duration": 419,
    "start_time": "2025-07-23T20:02:34.997Z"
   },
   {
    "duration": 5,
    "start_time": "2025-07-23T20:36:54.155Z"
   },
   {
    "duration": 55,
    "start_time": "2025-07-23T20:37:00.935Z"
   },
   {
    "duration": 85,
    "start_time": "2025-07-23T20:38:13.834Z"
   },
   {
    "duration": 20,
    "start_time": "2025-07-23T20:38:19.100Z"
   },
   {
    "duration": 15,
    "start_time": "2025-07-23T20:38:24.387Z"
   },
   {
    "duration": 7,
    "start_time": "2025-07-23T20:38:27.122Z"
   },
   {
    "duration": 28,
    "start_time": "2025-07-23T20:38:30.161Z"
   },
   {
    "duration": 1473,
    "start_time": "2025-07-23T20:39:06.137Z"
   },
   {
    "duration": 21,
    "start_time": "2025-07-23T20:39:10.632Z"
   },
   {
    "duration": 21,
    "start_time": "2025-07-23T20:39:44.633Z"
   },
   {
    "duration": 21,
    "start_time": "2025-07-23T20:39:47.921Z"
   },
   {
    "duration": 5,
    "start_time": "2025-07-23T20:40:00.083Z"
   },
   {
    "duration": 466,
    "start_time": "2025-07-23T20:40:31.251Z"
   },
   {
    "duration": 52,
    "start_time": "2025-07-23T20:42:18.762Z"
   },
   {
    "duration": 160,
    "start_time": "2025-07-23T20:45:01.090Z"
   },
   {
    "duration": 160,
    "start_time": "2025-07-23T20:46:04.154Z"
   },
   {
    "duration": 186,
    "start_time": "2025-07-23T20:46:29.251Z"
   },
   {
    "duration": 190,
    "start_time": "2025-07-23T20:47:54.113Z"
   },
   {
    "duration": 7,
    "start_time": "2025-07-23T20:48:45.716Z"
   },
   {
    "duration": 456,
    "start_time": "2025-07-23T20:48:52.700Z"
   },
   {
    "duration": 17,
    "start_time": "2025-07-23T20:49:16.061Z"
   },
   {
    "duration": 147,
    "start_time": "2025-07-23T20:49:25.074Z"
   },
   {
    "duration": 131,
    "start_time": "2025-07-23T20:49:40.755Z"
   },
   {
    "duration": 152,
    "start_time": "2025-07-23T20:50:48.640Z"
   },
   {
    "duration": 226,
    "start_time": "2025-07-23T20:50:54.700Z"
   },
   {
    "duration": 161,
    "start_time": "2025-07-23T20:50:58.317Z"
   },
   {
    "duration": 148,
    "start_time": "2025-07-23T20:51:07.590Z"
   },
   {
    "duration": 166,
    "start_time": "2025-07-23T20:51:10.375Z"
   },
   {
    "duration": 149,
    "start_time": "2025-07-23T20:51:13.275Z"
   },
   {
    "duration": 147,
    "start_time": "2025-07-23T20:51:18.307Z"
   },
   {
    "duration": 142,
    "start_time": "2025-07-23T20:51:28.953Z"
   },
   {
    "duration": 167,
    "start_time": "2025-07-23T20:52:38.756Z"
   },
   {
    "duration": 167,
    "start_time": "2025-07-23T20:53:11.412Z"
   },
   {
    "duration": 161,
    "start_time": "2025-07-23T20:53:39.113Z"
   },
   {
    "duration": 166,
    "start_time": "2025-07-23T20:53:50.197Z"
   },
   {
    "duration": 220,
    "start_time": "2025-07-23T20:53:54.653Z"
   },
   {
    "duration": 180,
    "start_time": "2025-07-23T20:54:00.732Z"
   },
   {
    "duration": 179,
    "start_time": "2025-07-23T20:54:07.672Z"
   },
   {
    "duration": 182,
    "start_time": "2025-07-23T20:54:18.945Z"
   },
   {
    "duration": 193,
    "start_time": "2025-07-23T20:54:35.714Z"
   },
   {
    "duration": 192,
    "start_time": "2025-07-23T20:55:21.334Z"
   },
   {
    "duration": 9,
    "start_time": "2025-07-23T20:56:01.759Z"
   },
   {
    "duration": 5,
    "start_time": "2025-07-23T20:56:08.257Z"
   },
   {
    "duration": 7,
    "start_time": "2025-07-23T20:56:20.636Z"
   },
   {
    "duration": 6,
    "start_time": "2025-07-23T20:56:28.452Z"
   },
   {
    "duration": 8,
    "start_time": "2025-07-23T20:56:49.817Z"
   },
   {
    "duration": 89,
    "start_time": "2025-07-23T20:56:52.984Z"
   },
   {
    "duration": 5,
    "start_time": "2025-07-23T20:56:55.233Z"
   },
   {
    "duration": 4,
    "start_time": "2025-07-23T20:56:58.203Z"
   },
   {
    "duration": 5,
    "start_time": "2025-07-23T20:57:02.999Z"
   },
   {
    "duration": 6,
    "start_time": "2025-07-23T20:57:05.069Z"
   },
   {
    "duration": 5,
    "start_time": "2025-07-23T20:57:14.061Z"
   },
   {
    "duration": 4,
    "start_time": "2025-07-23T20:57:19.475Z"
   },
   {
    "duration": 6,
    "start_time": "2025-07-23T20:57:23.258Z"
   },
   {
    "duration": 6,
    "start_time": "2025-07-23T20:57:31.654Z"
   },
   {
    "duration": 6,
    "start_time": "2025-07-23T20:57:34.553Z"
   },
   {
    "duration": 7,
    "start_time": "2025-07-23T20:57:53.919Z"
   },
   {
    "duration": 7,
    "start_time": "2025-07-23T20:57:56.315Z"
   },
   {
    "duration": 178,
    "start_time": "2025-07-23T20:58:44.868Z"
   },
   {
    "duration": 198,
    "start_time": "2025-07-23T21:00:06.451Z"
   },
   {
    "duration": 1453,
    "start_time": "2025-07-23T21:00:58.077Z"
   },
   {
    "duration": 243,
    "start_time": "2025-07-23T21:00:59.532Z"
   },
   {
    "duration": 383,
    "start_time": "2025-07-23T21:00:59.777Z"
   },
   {
    "duration": 219,
    "start_time": "2025-07-23T21:01:00.161Z"
   },
   {
    "duration": 248,
    "start_time": "2025-07-23T21:01:00.383Z"
   },
   {
    "duration": 214,
    "start_time": "2025-07-23T21:01:00.633Z"
   },
   {
    "duration": 185,
    "start_time": "2025-07-23T21:01:00.850Z"
   },
   {
    "duration": 608,
    "start_time": "2025-07-23T21:01:01.037Z"
   },
   {
    "duration": 0,
    "start_time": "2025-07-23T21:01:01.646Z"
   },
   {
    "duration": 16,
    "start_time": "2025-07-23T21:01:38.360Z"
   },
   {
    "duration": 36,
    "start_time": "2025-07-23T21:02:12.137Z"
   },
   {
    "duration": 27,
    "start_time": "2025-07-23T21:02:30.900Z"
   },
   {
    "duration": 210,
    "start_time": "2025-07-23T21:03:30.273Z"
   },
   {
    "duration": 208,
    "start_time": "2025-07-23T21:04:09.699Z"
   },
   {
    "duration": 186,
    "start_time": "2025-07-23T21:04:16.125Z"
   },
   {
    "duration": 183,
    "start_time": "2025-07-23T21:05:09.846Z"
   },
   {
    "duration": 194,
    "start_time": "2025-07-23T21:05:32.434Z"
   },
   {
    "duration": 1486,
    "start_time": "2025-07-24T08:52:09.352Z"
   },
   {
    "duration": 254,
    "start_time": "2025-07-24T08:52:10.840Z"
   },
   {
    "duration": 390,
    "start_time": "2025-07-24T08:52:11.095Z"
   },
   {
    "duration": 215,
    "start_time": "2025-07-24T08:52:11.486Z"
   },
   {
    "duration": 253,
    "start_time": "2025-07-24T08:52:11.702Z"
   },
   {
    "duration": 216,
    "start_time": "2025-07-24T08:52:11.957Z"
   },
   {
    "duration": 185,
    "start_time": "2025-07-24T08:52:12.174Z"
   },
   {
    "duration": 197,
    "start_time": "2025-07-24T08:52:12.361Z"
   },
   {
    "duration": 591,
    "start_time": "2025-07-24T08:52:12.559Z"
   },
   {
    "duration": 0,
    "start_time": "2025-07-24T08:52:13.152Z"
   },
   {
    "duration": 154,
    "start_time": "2025-07-24T08:56:16.478Z"
   },
   {
    "duration": 160,
    "start_time": "2025-07-24T08:56:21.065Z"
   },
   {
    "duration": 154,
    "start_time": "2025-07-24T08:59:03.573Z"
   },
   {
    "duration": 17,
    "start_time": "2025-07-24T08:59:52.026Z"
   },
   {
    "duration": 191,
    "start_time": "2025-07-24T09:00:12.194Z"
   },
   {
    "duration": 192,
    "start_time": "2025-07-24T09:00:17.132Z"
   },
   {
    "duration": 185,
    "start_time": "2025-07-24T09:00:21.401Z"
   },
   {
    "duration": 156,
    "start_time": "2025-07-24T09:00:37.509Z"
   },
   {
    "duration": 193,
    "start_time": "2025-07-24T09:00:44.277Z"
   },
   {
    "duration": 195,
    "start_time": "2025-07-24T09:00:48.974Z"
   },
   {
    "duration": 200,
    "start_time": "2025-07-24T09:01:11.552Z"
   },
   {
    "duration": 199,
    "start_time": "2025-07-24T09:01:14.137Z"
   },
   {
    "duration": 197,
    "start_time": "2025-07-24T09:01:17.399Z"
   },
   {
    "duration": 201,
    "start_time": "2025-07-24T09:01:26.849Z"
   },
   {
    "duration": 196,
    "start_time": "2025-07-24T09:01:29.716Z"
   },
   {
    "duration": 203,
    "start_time": "2025-07-24T09:02:02.353Z"
   },
   {
    "duration": 202,
    "start_time": "2025-07-24T09:02:07.638Z"
   },
   {
    "duration": 188,
    "start_time": "2025-07-24T09:02:11.132Z"
   },
   {
    "duration": 196,
    "start_time": "2025-07-24T09:02:18.077Z"
   },
   {
    "duration": 196,
    "start_time": "2025-07-24T09:02:20.149Z"
   },
   {
    "duration": 193,
    "start_time": "2025-07-24T09:02:39.758Z"
   },
   {
    "duration": 196,
    "start_time": "2025-07-24T09:03:29.055Z"
   },
   {
    "duration": 204,
    "start_time": "2025-07-24T09:03:34.434Z"
   },
   {
    "duration": 189,
    "start_time": "2025-07-24T09:04:38.288Z"
   },
   {
    "duration": 1675,
    "start_time": "2025-07-24T09:04:48.211Z"
   },
   {
    "duration": 1087,
    "start_time": "2025-07-24T09:04:54.496Z"
   },
   {
    "duration": 894,
    "start_time": "2025-07-24T09:04:57.679Z"
   },
   {
    "duration": 170,
    "start_time": "2025-07-24T09:05:04.227Z"
   },
   {
    "duration": 169,
    "start_time": "2025-07-24T09:05:07.793Z"
   },
   {
    "duration": 171,
    "start_time": "2025-07-24T09:05:09.769Z"
   },
   {
    "duration": 174,
    "start_time": "2025-07-24T09:05:19.284Z"
   },
   {
    "duration": 172,
    "start_time": "2025-07-24T09:05:44.185Z"
   },
   {
    "duration": 337,
    "start_time": "2025-07-24T09:06:44.695Z"
   },
   {
    "duration": 326,
    "start_time": "2025-07-24T09:06:52.603Z"
   },
   {
    "duration": 11,
    "start_time": "2025-07-24T09:20:42.528Z"
   },
   {
    "duration": 14,
    "start_time": "2025-07-24T09:20:59.749Z"
   },
   {
    "duration": 16,
    "start_time": "2025-07-24T09:21:13.319Z"
   },
   {
    "duration": 15,
    "start_time": "2025-07-24T09:21:16.539Z"
   },
   {
    "duration": 15,
    "start_time": "2025-07-24T09:21:25.689Z"
   },
   {
    "duration": 19,
    "start_time": "2025-07-24T09:21:28.539Z"
   },
   {
    "duration": 14,
    "start_time": "2025-07-24T09:21:30.939Z"
   },
   {
    "duration": 16,
    "start_time": "2025-07-24T09:45:22.596Z"
   },
   {
    "duration": 9,
    "start_time": "2025-07-24T09:45:52.014Z"
   },
   {
    "duration": 12,
    "start_time": "2025-07-24T09:45:57.090Z"
   },
   {
    "duration": 9,
    "start_time": "2025-07-24T09:46:03.236Z"
   },
   {
    "duration": 9,
    "start_time": "2025-07-24T09:46:11.601Z"
   },
   {
    "duration": 11,
    "start_time": "2025-07-24T09:46:30.681Z"
   },
   {
    "duration": 5,
    "start_time": "2025-07-24T09:47:04.870Z"
   },
   {
    "duration": 10,
    "start_time": "2025-07-24T09:47:09.137Z"
   },
   {
    "duration": 4,
    "start_time": "2025-07-24T09:47:11.013Z"
   },
   {
    "duration": 9,
    "start_time": "2025-07-24T09:51:38.660Z"
   },
   {
    "duration": 5,
    "start_time": "2025-07-24T09:51:54.507Z"
   },
   {
    "duration": 4,
    "start_time": "2025-07-24T09:52:36.618Z"
   },
   {
    "duration": 1599,
    "start_time": "2025-07-24T10:07:55.454Z"
   },
   {
    "duration": 247,
    "start_time": "2025-07-24T10:07:57.055Z"
   },
   {
    "duration": 386,
    "start_time": "2025-07-24T10:07:57.304Z"
   },
   {
    "duration": 224,
    "start_time": "2025-07-24T10:07:57.692Z"
   },
   {
    "duration": 256,
    "start_time": "2025-07-24T10:07:57.918Z"
   },
   {
    "duration": 215,
    "start_time": "2025-07-24T10:07:58.176Z"
   },
   {
    "duration": 191,
    "start_time": "2025-07-24T10:07:58.393Z"
   },
   {
    "duration": 209,
    "start_time": "2025-07-24T10:07:58.586Z"
   },
   {
    "duration": 339,
    "start_time": "2025-07-24T10:07:58.797Z"
   },
   {
    "duration": 449,
    "start_time": "2025-07-24T10:07:59.138Z"
   },
   {
    "duration": 4,
    "start_time": "2025-07-24T10:07:59.588Z"
   },
   {
    "duration": 14,
    "start_time": "2025-07-24T10:08:10.291Z"
   },
   {
    "duration": 15,
    "start_time": "2025-07-24T10:08:12.632Z"
   },
   {
    "duration": 15,
    "start_time": "2025-07-24T10:10:33.671Z"
   },
   {
    "duration": 4,
    "start_time": "2025-07-24T10:10:37.245Z"
   },
   {
    "duration": 23,
    "start_time": "2025-07-24T10:15:04.688Z"
   },
   {
    "duration": 35,
    "start_time": "2025-07-24T10:15:28.325Z"
   },
   {
    "duration": 4,
    "start_time": "2025-07-24T10:15:41.866Z"
   },
   {
    "duration": 25,
    "start_time": "2025-07-24T10:15:43.946Z"
   },
   {
    "duration": 35,
    "start_time": "2025-07-24T10:15:53.862Z"
   },
   {
    "duration": 26,
    "start_time": "2025-07-24T10:16:26.660Z"
   },
   {
    "duration": 30,
    "start_time": "2025-07-24T10:17:46.350Z"
   },
   {
    "duration": 26,
    "start_time": "2025-07-24T10:18:35.856Z"
   },
   {
    "duration": 28,
    "start_time": "2025-07-24T10:18:38.326Z"
   },
   {
    "duration": 29,
    "start_time": "2025-07-24T10:18:44.980Z"
   },
   {
    "duration": 29,
    "start_time": "2025-07-24T10:18:47.295Z"
   },
   {
    "duration": 27,
    "start_time": "2025-07-24T10:19:06.030Z"
   },
   {
    "duration": 27,
    "start_time": "2025-07-24T10:19:09.897Z"
   },
   {
    "duration": 29,
    "start_time": "2025-07-24T10:20:21.979Z"
   },
   {
    "duration": 28,
    "start_time": "2025-07-24T10:20:27.776Z"
   },
   {
    "duration": 27,
    "start_time": "2025-07-24T10:20:33.392Z"
   },
   {
    "duration": 117,
    "start_time": "2025-07-24T10:20:55.703Z"
   },
   {
    "duration": 133,
    "start_time": "2025-07-24T10:22:00.216Z"
   },
   {
    "duration": 133,
    "start_time": "2025-07-24T10:22:42.220Z"
   },
   {
    "duration": 1494,
    "start_time": "2025-07-24T10:22:52.392Z"
   },
   {
    "duration": 7,
    "start_time": "2025-07-24T10:22:57.668Z"
   },
   {
    "duration": 150,
    "start_time": "2025-07-24T10:23:03.017Z"
   },
   {
    "duration": 28,
    "start_time": "2025-07-24T10:23:10.451Z"
   },
   {
    "duration": 15,
    "start_time": "2025-07-24T10:23:20.544Z"
   },
   {
    "duration": 220,
    "start_time": "2025-07-24T10:23:23.891Z"
   },
   {
    "duration": 139,
    "start_time": "2025-07-24T10:23:28.358Z"
   },
   {
    "duration": 1451,
    "start_time": "2025-07-24T10:23:37.694Z"
   },
   {
    "duration": 246,
    "start_time": "2025-07-24T10:23:39.149Z"
   },
   {
    "duration": 379,
    "start_time": "2025-07-24T10:23:39.396Z"
   },
   {
    "duration": 214,
    "start_time": "2025-07-24T10:23:39.777Z"
   },
   {
    "duration": 264,
    "start_time": "2025-07-24T10:23:39.993Z"
   },
   {
    "duration": 214,
    "start_time": "2025-07-24T10:23:40.259Z"
   },
   {
    "duration": 191,
    "start_time": "2025-07-24T10:23:40.474Z"
   },
   {
    "duration": 227,
    "start_time": "2025-07-24T10:23:40.666Z"
   },
   {
    "duration": 347,
    "start_time": "2025-07-24T10:23:40.895Z"
   },
   {
    "duration": 490,
    "start_time": "2025-07-24T10:23:41.244Z"
   },
   {
    "duration": 5,
    "start_time": "2025-07-24T10:23:41.735Z"
   },
   {
    "duration": 38,
    "start_time": "2025-07-24T10:23:41.749Z"
   },
   {
    "duration": 133,
    "start_time": "2025-07-24T10:23:41.789Z"
   },
   {
    "duration": 16,
    "start_time": "2025-07-24T10:25:54.198Z"
   },
   {
    "duration": 8,
    "start_time": "2025-07-24T10:26:28.011Z"
   },
   {
    "duration": 7,
    "start_time": "2025-07-24T10:26:31.883Z"
   },
   {
    "duration": 6,
    "start_time": "2025-07-24T10:26:35.364Z"
   },
   {
    "duration": 6,
    "start_time": "2025-07-24T10:26:45.041Z"
   },
   {
    "duration": 7,
    "start_time": "2025-07-24T10:26:48.518Z"
   },
   {
    "duration": 7,
    "start_time": "2025-07-24T10:26:51.273Z"
   },
   {
    "duration": 6,
    "start_time": "2025-07-24T10:27:10.263Z"
   },
   {
    "duration": 17,
    "start_time": "2025-07-24T10:27:18.183Z"
   },
   {
    "duration": 8,
    "start_time": "2025-07-24T10:27:25.398Z"
   },
   {
    "duration": 93,
    "start_time": "2025-07-24T10:27:28.170Z"
   },
   {
    "duration": 23,
    "start_time": "2025-07-24T10:27:32.774Z"
   },
   {
    "duration": 8,
    "start_time": "2025-07-24T10:27:37.484Z"
   },
   {
    "duration": 7,
    "start_time": "2025-07-24T10:28:04.598Z"
   },
   {
    "duration": 7,
    "start_time": "2025-07-24T10:28:40.234Z"
   },
   {
    "duration": 7,
    "start_time": "2025-07-24T10:28:48.146Z"
   },
   {
    "duration": 7,
    "start_time": "2025-07-24T10:29:31.310Z"
   },
   {
    "duration": 1473,
    "start_time": "2025-07-24T10:29:59.670Z"
   },
   {
    "duration": 243,
    "start_time": "2025-07-24T10:30:01.145Z"
   },
   {
    "duration": 405,
    "start_time": "2025-07-24T10:30:01.390Z"
   },
   {
    "duration": 219,
    "start_time": "2025-07-24T10:30:01.796Z"
   },
   {
    "duration": 251,
    "start_time": "2025-07-24T10:30:02.017Z"
   },
   {
    "duration": 206,
    "start_time": "2025-07-24T10:30:02.270Z"
   },
   {
    "duration": 189,
    "start_time": "2025-07-24T10:30:02.478Z"
   },
   {
    "duration": 196,
    "start_time": "2025-07-24T10:30:02.669Z"
   },
   {
    "duration": 333,
    "start_time": "2025-07-24T10:30:02.866Z"
   },
   {
    "duration": 488,
    "start_time": "2025-07-24T10:30:03.201Z"
   },
   {
    "duration": 4,
    "start_time": "2025-07-24T10:30:03.691Z"
   },
   {
    "duration": 67,
    "start_time": "2025-07-24T10:30:03.697Z"
   },
   {
    "duration": 150,
    "start_time": "2025-07-24T10:30:03.766Z"
   },
   {
    "duration": 8,
    "start_time": "2025-07-24T10:30:03.919Z"
   },
   {
    "duration": 7,
    "start_time": "2025-07-24T11:14:22.883Z"
   },
   {
    "duration": 16,
    "start_time": "2025-07-24T11:14:33.968Z"
   },
   {
    "duration": 17,
    "start_time": "2025-07-24T11:14:42.723Z"
   },
   {
    "duration": 14,
    "start_time": "2025-07-24T11:15:13.254Z"
   },
   {
    "duration": 6,
    "start_time": "2025-07-24T11:15:37.235Z"
   },
   {
    "duration": 17,
    "start_time": "2025-07-24T11:15:43.307Z"
   },
   {
    "duration": 6,
    "start_time": "2025-07-24T11:16:12.974Z"
   },
   {
    "duration": 107,
    "start_time": "2025-07-24T11:16:21.243Z"
   },
   {
    "duration": 10,
    "start_time": "2025-07-24T11:16:24.176Z"
   },
   {
    "duration": 11,
    "start_time": "2025-07-24T11:16:25.366Z"
   },
   {
    "duration": 6,
    "start_time": "2025-07-24T11:16:30.573Z"
   },
   {
    "duration": 7,
    "start_time": "2025-07-24T11:16:57.985Z"
   },
   {
    "duration": 8,
    "start_time": "2025-07-24T11:17:09.244Z"
   },
   {
    "duration": 9,
    "start_time": "2025-07-24T11:17:41.411Z"
   },
   {
    "duration": 7,
    "start_time": "2025-07-24T11:18:09.174Z"
   },
   {
    "duration": 8,
    "start_time": "2025-07-24T11:19:10.375Z"
   },
   {
    "duration": 5,
    "start_time": "2025-07-24T11:19:26.852Z"
   },
   {
    "duration": 5,
    "start_time": "2025-07-24T11:19:36.906Z"
   },
   {
    "duration": 7,
    "start_time": "2025-07-24T11:19:41.964Z"
   },
   {
    "duration": 6,
    "start_time": "2025-07-24T11:20:02.735Z"
   },
   {
    "duration": 15,
    "start_time": "2025-07-24T11:20:10.495Z"
   },
   {
    "duration": 106,
    "start_time": "2025-07-24T11:20:12.682Z"
   },
   {
    "duration": 118,
    "start_time": "2025-07-24T11:20:22.020Z"
   },
   {
    "duration": 114,
    "start_time": "2025-07-24T11:20:33.208Z"
   },
   {
    "duration": 127,
    "start_time": "2025-07-24T11:20:35.467Z"
   },
   {
    "duration": 8,
    "start_time": "2025-07-24T11:21:15.134Z"
   },
   {
    "duration": 264,
    "start_time": "2025-07-24T11:23:30.886Z"
   },
   {
    "duration": 179,
    "start_time": "2025-07-24T11:23:39.562Z"
   },
   {
    "duration": 181,
    "start_time": "2025-07-24T11:23:53.235Z"
   },
   {
    "duration": 176,
    "start_time": "2025-07-24T11:25:08.074Z"
   },
   {
    "duration": 312,
    "start_time": "2025-07-24T11:37:35.408Z"
   },
   {
    "duration": 288,
    "start_time": "2025-07-24T11:38:21.505Z"
   },
   {
    "duration": 18,
    "start_time": "2025-07-24T11:39:55.188Z"
   },
   {
    "duration": 291,
    "start_time": "2025-07-24T11:40:06.207Z"
   },
   {
    "duration": 18,
    "start_time": "2025-07-24T11:40:29.985Z"
   },
   {
    "duration": 31,
    "start_time": "2025-07-24T11:41:07.580Z"
   },
   {
    "duration": 32,
    "start_time": "2025-07-24T11:41:24.191Z"
   },
   {
    "duration": 42,
    "start_time": "2025-07-24T11:42:01.772Z"
   },
   {
    "duration": 40,
    "start_time": "2025-07-24T11:42:04.546Z"
   },
   {
    "duration": 46,
    "start_time": "2025-07-24T11:42:20.414Z"
   },
   {
    "duration": 40,
    "start_time": "2025-07-24T11:42:49.938Z"
   },
   {
    "duration": 74,
    "start_time": "2025-07-24T12:24:17.193Z"
   },
   {
    "duration": 65,
    "start_time": "2025-07-24T12:24:24.814Z"
   },
   {
    "duration": 65,
    "start_time": "2025-07-24T12:24:32.721Z"
   },
   {
    "duration": 65,
    "start_time": "2025-07-24T12:24:36.644Z"
   },
   {
    "duration": 65,
    "start_time": "2025-07-24T12:25:05.002Z"
   },
   {
    "duration": 67,
    "start_time": "2025-07-24T12:25:07.783Z"
   },
   {
    "duration": 65,
    "start_time": "2025-07-24T12:25:10.403Z"
   },
   {
    "duration": 63,
    "start_time": "2025-07-24T12:25:38.038Z"
   },
   {
    "duration": 2,
    "start_time": "2025-07-24T12:25:49.488Z"
   },
   {
    "duration": 8,
    "start_time": "2025-07-24T12:26:35.581Z"
   },
   {
    "duration": 4,
    "start_time": "2025-07-24T12:26:39.849Z"
   },
   {
    "duration": 4,
    "start_time": "2025-07-24T12:26:43.114Z"
   },
   {
    "duration": 5,
    "start_time": "2025-07-24T12:27:36.416Z"
   },
   {
    "duration": 5,
    "start_time": "2025-07-24T12:27:41.750Z"
   },
   {
    "duration": 5,
    "start_time": "2025-07-24T12:27:45.132Z"
   },
   {
    "duration": 5,
    "start_time": "2025-07-24T12:28:00.678Z"
   },
   {
    "duration": 5,
    "start_time": "2025-07-24T12:28:05.425Z"
   },
   {
    "duration": 4,
    "start_time": "2025-07-24T12:29:22.333Z"
   },
   {
    "duration": 4,
    "start_time": "2025-07-24T12:30:04.231Z"
   },
   {
    "duration": 5,
    "start_time": "2025-07-24T12:30:15.679Z"
   },
   {
    "duration": 92,
    "start_time": "2025-07-24T12:30:37.178Z"
   },
   {
    "duration": 96,
    "start_time": "2025-07-24T12:30:47.014Z"
   },
   {
    "duration": 4,
    "start_time": "2025-07-24T12:30:54.723Z"
   },
   {
    "duration": 5,
    "start_time": "2025-07-24T12:30:58.147Z"
   },
   {
    "duration": 6,
    "start_time": "2025-07-24T12:32:02.516Z"
   },
   {
    "duration": 7,
    "start_time": "2025-07-24T12:32:10.051Z"
   },
   {
    "duration": 1599,
    "start_time": "2025-07-24T12:32:17.874Z"
   },
   {
    "duration": 253,
    "start_time": "2025-07-24T12:32:19.476Z"
   },
   {
    "duration": 412,
    "start_time": "2025-07-24T12:32:19.731Z"
   },
   {
    "duration": 241,
    "start_time": "2025-07-24T12:32:20.149Z"
   },
   {
    "duration": 256,
    "start_time": "2025-07-24T12:32:20.392Z"
   },
   {
    "duration": 225,
    "start_time": "2025-07-24T12:32:20.650Z"
   },
   {
    "duration": 222,
    "start_time": "2025-07-24T12:32:20.877Z"
   },
   {
    "duration": 209,
    "start_time": "2025-07-24T12:32:21.101Z"
   },
   {
    "duration": 347,
    "start_time": "2025-07-24T12:32:21.312Z"
   },
   {
    "duration": 508,
    "start_time": "2025-07-24T12:32:21.661Z"
   },
   {
    "duration": 5,
    "start_time": "2025-07-24T12:32:22.171Z"
   },
   {
    "duration": 100,
    "start_time": "2025-07-24T12:32:22.177Z"
   },
   {
    "duration": 165,
    "start_time": "2025-07-24T12:32:22.279Z"
   },
   {
    "duration": 14,
    "start_time": "2025-07-24T12:32:22.447Z"
   },
   {
    "duration": 232,
    "start_time": "2025-07-24T12:32:22.464Z"
   },
   {
    "duration": 218,
    "start_time": "2025-07-24T12:32:22.698Z"
   },
   {
    "duration": 332,
    "start_time": "2025-07-24T12:32:22.918Z"
   },
   {
    "duration": 76,
    "start_time": "2025-07-24T12:32:23.252Z"
   },
   {
    "duration": 3,
    "start_time": "2025-07-24T12:32:23.329Z"
   },
   {
    "duration": 9,
    "start_time": "2025-07-24T12:32:23.351Z"
   },
   {
    "duration": 8,
    "start_time": "2025-07-24T12:51:38.805Z"
   },
   {
    "duration": 77,
    "start_time": "2025-07-24T12:52:29.108Z"
   },
   {
    "duration": 3,
    "start_time": "2025-07-24T12:52:30.542Z"
   },
   {
    "duration": 6,
    "start_time": "2025-07-24T12:52:31.384Z"
   },
   {
    "duration": 18,
    "start_time": "2025-07-24T12:52:38.771Z"
   },
   {
    "duration": 22,
    "start_time": "2025-07-24T12:54:00.771Z"
   },
   {
    "duration": 4,
    "start_time": "2025-07-24T12:54:09.763Z"
   },
   {
    "duration": 4,
    "start_time": "2025-07-24T12:54:12.896Z"
   },
   {
    "duration": 4,
    "start_time": "2025-07-24T12:54:14.937Z"
   },
   {
    "duration": 5,
    "start_time": "2025-07-24T12:54:21.396Z"
   },
   {
    "duration": 16,
    "start_time": "2025-07-24T12:54:24.879Z"
   },
   {
    "duration": 17,
    "start_time": "2025-07-24T12:54:28.776Z"
   },
   {
    "duration": 5,
    "start_time": "2025-07-24T12:54:35.807Z"
   },
   {
    "duration": 5,
    "start_time": "2025-07-24T12:54:46.912Z"
   },
   {
    "duration": 150,
    "start_time": "2025-07-24T12:55:11.147Z"
   },
   {
    "duration": 99,
    "start_time": "2025-07-24T12:55:44.539Z"
   },
   {
    "duration": 4,
    "start_time": "2025-07-24T12:56:01.934Z"
   },
   {
    "duration": 10,
    "start_time": "2025-07-24T12:56:12.005Z"
   },
   {
    "duration": 13,
    "start_time": "2025-07-24T12:56:23.820Z"
   },
   {
    "duration": 12,
    "start_time": "2025-07-24T12:57:15.394Z"
   },
   {
    "duration": 13,
    "start_time": "2025-07-24T12:58:00.625Z"
   },
   {
    "duration": 13,
    "start_time": "2025-07-24T12:58:14.675Z"
   },
   {
    "duration": 13,
    "start_time": "2025-07-24T12:58:22.108Z"
   },
   {
    "duration": 12,
    "start_time": "2025-07-24T12:58:25.916Z"
   },
   {
    "duration": 12,
    "start_time": "2025-07-24T12:58:29.026Z"
   },
   {
    "duration": 13,
    "start_time": "2025-07-24T12:58:44.515Z"
   },
   {
    "duration": 13,
    "start_time": "2025-07-24T12:59:15.669Z"
   },
   {
    "duration": 20,
    "start_time": "2025-07-24T12:59:26.558Z"
   },
   {
    "duration": 15,
    "start_time": "2025-07-24T12:59:35.187Z"
   },
   {
    "duration": 17,
    "start_time": "2025-07-24T12:59:47.240Z"
   },
   {
    "duration": 13,
    "start_time": "2025-07-24T12:59:55.875Z"
   },
   {
    "duration": 14,
    "start_time": "2025-07-24T13:00:01.408Z"
   },
   {
    "duration": 14,
    "start_time": "2025-07-24T13:00:10.391Z"
   },
   {
    "duration": 126,
    "start_time": "2025-07-24T13:00:23.777Z"
   },
   {
    "duration": 14,
    "start_time": "2025-07-24T13:00:27.400Z"
   },
   {
    "duration": 17,
    "start_time": "2025-07-24T13:00:32.364Z"
   },
   {
    "duration": 14,
    "start_time": "2025-07-24T13:01:03.488Z"
   },
   {
    "duration": 13,
    "start_time": "2025-07-24T13:01:27.198Z"
   },
   {
    "duration": 15,
    "start_time": "2025-07-24T13:01:31.015Z"
   },
   {
    "duration": 14,
    "start_time": "2025-07-24T13:01:44.583Z"
   },
   {
    "duration": 13,
    "start_time": "2025-07-24T13:01:49.175Z"
   },
   {
    "duration": 18,
    "start_time": "2025-07-24T13:01:57.966Z"
   },
   {
    "duration": 14,
    "start_time": "2025-07-24T13:02:00.001Z"
   },
   {
    "duration": 15,
    "start_time": "2025-07-24T13:02:13.301Z"
   },
   {
    "duration": 18,
    "start_time": "2025-07-24T13:02:17.357Z"
   },
   {
    "duration": 1499,
    "start_time": "2025-07-24T13:02:32.317Z"
   },
   {
    "duration": 244,
    "start_time": "2025-07-24T13:02:33.818Z"
   },
   {
    "duration": 414,
    "start_time": "2025-07-24T13:02:34.064Z"
   },
   {
    "duration": 217,
    "start_time": "2025-07-24T13:02:34.481Z"
   },
   {
    "duration": 252,
    "start_time": "2025-07-24T13:02:34.699Z"
   },
   {
    "duration": 264,
    "start_time": "2025-07-24T13:02:34.953Z"
   },
   {
    "duration": 224,
    "start_time": "2025-07-24T13:02:35.218Z"
   },
   {
    "duration": 246,
    "start_time": "2025-07-24T13:02:35.444Z"
   },
   {
    "duration": 398,
    "start_time": "2025-07-24T13:02:35.692Z"
   },
   {
    "duration": 563,
    "start_time": "2025-07-24T13:02:36.093Z"
   },
   {
    "duration": 8,
    "start_time": "2025-07-24T13:02:36.659Z"
   },
   {
    "duration": 36,
    "start_time": "2025-07-24T13:02:36.670Z"
   },
   {
    "duration": 184,
    "start_time": "2025-07-24T13:02:36.708Z"
   },
   {
    "duration": 8,
    "start_time": "2025-07-24T13:02:36.893Z"
   },
   {
    "duration": 227,
    "start_time": "2025-07-24T13:02:36.903Z"
   },
   {
    "duration": 214,
    "start_time": "2025-07-24T13:02:37.132Z"
   },
   {
    "duration": 342,
    "start_time": "2025-07-24T13:02:37.351Z"
   },
   {
    "duration": 86,
    "start_time": "2025-07-24T13:02:37.694Z"
   },
   {
    "duration": 2,
    "start_time": "2025-07-24T13:02:37.782Z"
   },
   {
    "duration": 6,
    "start_time": "2025-07-24T13:02:37.786Z"
   },
   {
    "duration": 27,
    "start_time": "2025-07-24T13:02:37.793Z"
   },
   {
    "duration": 13,
    "start_time": "2025-07-24T13:04:38.420Z"
   },
   {
    "duration": 14,
    "start_time": "2025-07-24T13:04:40.372Z"
   },
   {
    "duration": 13,
    "start_time": "2025-07-24T13:04:45.879Z"
   },
   {
    "duration": 4,
    "start_time": "2025-07-24T13:05:34.522Z"
   },
   {
    "duration": 17,
    "start_time": "2025-07-24T13:13:39.708Z"
   },
   {
    "duration": 3,
    "start_time": "2025-07-24T13:15:31.206Z"
   },
   {
    "duration": 16,
    "start_time": "2025-07-24T13:17:46.214Z"
   },
   {
    "duration": 16,
    "start_time": "2025-07-24T13:19:18.435Z"
   },
   {
    "duration": 1513,
    "start_time": "2025-07-24T13:19:22.129Z"
   },
   {
    "duration": 243,
    "start_time": "2025-07-24T13:19:23.644Z"
   },
   {
    "duration": 389,
    "start_time": "2025-07-24T13:19:23.888Z"
   },
   {
    "duration": 215,
    "start_time": "2025-07-24T13:19:24.279Z"
   },
   {
    "duration": 248,
    "start_time": "2025-07-24T13:19:24.496Z"
   },
   {
    "duration": 219,
    "start_time": "2025-07-24T13:19:24.745Z"
   },
   {
    "duration": 194,
    "start_time": "2025-07-24T13:19:24.966Z"
   },
   {
    "duration": 214,
    "start_time": "2025-07-24T13:19:25.163Z"
   },
   {
    "duration": 337,
    "start_time": "2025-07-24T13:19:25.380Z"
   },
   {
    "duration": 484,
    "start_time": "2025-07-24T13:19:25.719Z"
   },
   {
    "duration": 4,
    "start_time": "2025-07-24T13:19:26.206Z"
   },
   {
    "duration": 89,
    "start_time": "2025-07-24T13:19:26.212Z"
   },
   {
    "duration": 246,
    "start_time": "2025-07-24T13:19:26.303Z"
   },
   {
    "duration": 9,
    "start_time": "2025-07-24T13:19:26.553Z"
   },
   {
    "duration": 205,
    "start_time": "2025-07-24T13:19:26.564Z"
   },
   {
    "duration": 184,
    "start_time": "2025-07-24T13:19:26.770Z"
   },
   {
    "duration": 283,
    "start_time": "2025-07-24T13:19:26.956Z"
   },
   {
    "duration": 63,
    "start_time": "2025-07-24T13:19:27.241Z"
   },
   {
    "duration": 123,
    "start_time": "2025-07-24T13:19:27.306Z"
   },
   {
    "duration": 5,
    "start_time": "2025-07-24T13:19:27.431Z"
   },
   {
    "duration": 13,
    "start_time": "2025-07-24T13:19:27.438Z"
   },
   {
    "duration": 14,
    "start_time": "2025-07-24T13:19:27.453Z"
   },
   {
    "duration": 18,
    "start_time": "2025-07-24T13:55:15.062Z"
   },
   {
    "duration": 15,
    "start_time": "2025-07-24T13:55:27.063Z"
   },
   {
    "duration": 9,
    "start_time": "2025-07-24T13:55:32.746Z"
   },
   {
    "duration": 4,
    "start_time": "2025-07-24T13:55:49.153Z"
   },
   {
    "duration": 87,
    "start_time": "2025-07-24T13:55:51.312Z"
   },
   {
    "duration": 10,
    "start_time": "2025-07-24T13:56:55.655Z"
   },
   {
    "duration": 69,
    "start_time": "2025-07-24T13:57:15.140Z"
   },
   {
    "duration": 184,
    "start_time": "2025-07-24T13:57:21.364Z"
   },
   {
    "duration": 5,
    "start_time": "2025-07-24T13:58:23.149Z"
   },
   {
    "duration": 1585,
    "start_time": "2025-07-24T14:03:56.839Z"
   },
   {
    "duration": 255,
    "start_time": "2025-07-24T14:03:58.426Z"
   },
   {
    "duration": 419,
    "start_time": "2025-07-24T14:03:58.683Z"
   },
   {
    "duration": 236,
    "start_time": "2025-07-24T14:03:59.104Z"
   },
   {
    "duration": 269,
    "start_time": "2025-07-24T14:03:59.343Z"
   },
   {
    "duration": 248,
    "start_time": "2025-07-24T14:03:59.613Z"
   },
   {
    "duration": 203,
    "start_time": "2025-07-24T14:03:59.863Z"
   },
   {
    "duration": 211,
    "start_time": "2025-07-24T14:04:00.067Z"
   },
   {
    "duration": 363,
    "start_time": "2025-07-24T14:04:00.280Z"
   },
   {
    "duration": 523,
    "start_time": "2025-07-24T14:04:00.648Z"
   },
   {
    "duration": 4,
    "start_time": "2025-07-24T14:04:01.174Z"
   },
   {
    "duration": 90,
    "start_time": "2025-07-24T14:04:01.179Z"
   },
   {
    "duration": 160,
    "start_time": "2025-07-24T14:04:01.271Z"
   },
   {
    "duration": 26,
    "start_time": "2025-07-24T14:04:01.435Z"
   },
   {
    "duration": 301,
    "start_time": "2025-07-24T14:04:01.463Z"
   },
   {
    "duration": 200,
    "start_time": "2025-07-24T14:04:01.765Z"
   },
   {
    "duration": 299,
    "start_time": "2025-07-24T14:04:01.967Z"
   },
   {
    "duration": 66,
    "start_time": "2025-07-24T14:04:02.268Z"
   },
   {
    "duration": 13,
    "start_time": "2025-07-24T14:04:02.336Z"
   },
   {
    "duration": 102,
    "start_time": "2025-07-24T14:04:02.359Z"
   },
   {
    "duration": 147,
    "start_time": "2025-07-24T14:04:02.463Z"
   },
   {
    "duration": 49,
    "start_time": "2025-07-24T14:04:02.612Z"
   },
   {
    "duration": 1824,
    "start_time": "2025-07-24T16:45:03.433Z"
   },
   {
    "duration": 268,
    "start_time": "2025-07-24T16:45:05.260Z"
   },
   {
    "duration": 452,
    "start_time": "2025-07-24T16:45:05.531Z"
   },
   {
    "duration": 264,
    "start_time": "2025-07-24T16:45:05.990Z"
   },
   {
    "duration": 313,
    "start_time": "2025-07-24T16:45:06.262Z"
   },
   {
    "duration": 283,
    "start_time": "2025-07-24T16:45:06.577Z"
   },
   {
    "duration": 256,
    "start_time": "2025-07-24T16:45:06.862Z"
   },
   {
    "duration": 285,
    "start_time": "2025-07-24T16:45:07.120Z"
   },
   {
    "duration": 487,
    "start_time": "2025-07-24T16:45:07.414Z"
   },
   {
    "duration": 548,
    "start_time": "2025-07-24T16:45:07.917Z"
   },
   {
    "duration": 5,
    "start_time": "2025-07-24T16:45:08.468Z"
   },
   {
    "duration": 72,
    "start_time": "2025-07-24T16:45:08.475Z"
   },
   {
    "duration": 172,
    "start_time": "2025-07-24T16:45:08.549Z"
   },
   {
    "duration": 9,
    "start_time": "2025-07-24T16:45:08.723Z"
   },
   {
    "duration": 242,
    "start_time": "2025-07-24T16:45:08.734Z"
   },
   {
    "duration": 238,
    "start_time": "2025-07-24T16:45:08.978Z"
   },
   {
    "duration": 359,
    "start_time": "2025-07-24T16:45:09.218Z"
   },
   {
    "duration": 88,
    "start_time": "2025-07-24T16:45:09.579Z"
   },
   {
    "duration": 36,
    "start_time": "2025-07-24T16:45:09.669Z"
   },
   {
    "duration": 138,
    "start_time": "2025-07-24T16:45:09.707Z"
   },
   {
    "duration": 37,
    "start_time": "2025-07-24T16:45:09.847Z"
   },
   {
    "duration": 26,
    "start_time": "2025-07-24T16:45:09.886Z"
   },
   {
    "duration": 5,
    "start_time": "2025-07-24T16:58:17.355Z"
   },
   {
    "duration": 5,
    "start_time": "2025-07-24T16:58:21.946Z"
   },
   {
    "duration": 5,
    "start_time": "2025-07-24T16:59:16.869Z"
   },
   {
    "duration": 13,
    "start_time": "2025-07-24T16:59:20.620Z"
   },
   {
    "duration": 1801,
    "start_time": "2025-07-24T17:03:24.566Z"
   },
   {
    "duration": 267,
    "start_time": "2025-07-24T17:03:26.370Z"
   },
   {
    "duration": 435,
    "start_time": "2025-07-24T17:03:26.639Z"
   },
   {
    "duration": 252,
    "start_time": "2025-07-24T17:03:27.076Z"
   },
   {
    "duration": 297,
    "start_time": "2025-07-24T17:03:27.330Z"
   },
   {
    "duration": 274,
    "start_time": "2025-07-24T17:03:27.629Z"
   },
   {
    "duration": 244,
    "start_time": "2025-07-24T17:03:27.904Z"
   },
   {
    "duration": 280,
    "start_time": "2025-07-24T17:03:28.150Z"
   },
   {
    "duration": 420,
    "start_time": "2025-07-24T17:03:28.433Z"
   },
   {
    "duration": 518,
    "start_time": "2025-07-24T17:03:28.856Z"
   },
   {
    "duration": 4,
    "start_time": "2025-07-24T17:03:29.376Z"
   },
   {
    "duration": 82,
    "start_time": "2025-07-24T17:03:29.393Z"
   },
   {
    "duration": 181,
    "start_time": "2025-07-24T17:03:29.476Z"
   },
   {
    "duration": 9,
    "start_time": "2025-07-24T17:03:29.660Z"
   },
   {
    "duration": 286,
    "start_time": "2025-07-24T17:03:29.671Z"
   },
   {
    "duration": 225,
    "start_time": "2025-07-24T17:03:29.959Z"
   },
   {
    "duration": 346,
    "start_time": "2025-07-24T17:03:30.198Z"
   },
   {
    "duration": 84,
    "start_time": "2025-07-24T17:03:30.546Z"
   },
   {
    "duration": 4,
    "start_time": "2025-07-24T17:03:30.632Z"
   },
   {
    "duration": 6,
    "start_time": "2025-07-24T17:03:30.637Z"
   },
   {
    "duration": 44,
    "start_time": "2025-07-24T17:03:30.644Z"
   },
   {
    "duration": 60,
    "start_time": "2025-07-24T17:03:30.694Z"
   },
   {
    "duration": 52,
    "start_time": "2025-07-25T09:26:40.412Z"
   },
   {
    "duration": 1527,
    "start_time": "2025-07-25T09:26:45.762Z"
   },
   {
    "duration": 267,
    "start_time": "2025-07-25T09:26:47.291Z"
   },
   {
    "duration": 407,
    "start_time": "2025-07-25T09:26:47.560Z"
   },
   {
    "duration": 214,
    "start_time": "2025-07-25T09:26:47.972Z"
   },
   {
    "duration": 475,
    "start_time": "2025-07-25T09:26:48.188Z"
   },
   {
    "duration": 229,
    "start_time": "2025-07-25T09:26:48.665Z"
   },
   {
    "duration": 187,
    "start_time": "2025-07-25T09:26:48.896Z"
   },
   {
    "duration": 215,
    "start_time": "2025-07-25T09:26:49.085Z"
   },
   {
    "duration": 392,
    "start_time": "2025-07-25T09:26:49.302Z"
   },
   {
    "duration": 437,
    "start_time": "2025-07-25T09:26:49.696Z"
   },
   {
    "duration": 5,
    "start_time": "2025-07-25T09:26:50.134Z"
   },
   {
    "duration": 50,
    "start_time": "2025-07-25T09:26:50.140Z"
   },
   {
    "duration": 142,
    "start_time": "2025-07-25T09:26:50.192Z"
   },
   {
    "duration": 7,
    "start_time": "2025-07-25T09:26:50.336Z"
   },
   {
    "duration": 195,
    "start_time": "2025-07-25T09:26:50.345Z"
   },
   {
    "duration": 191,
    "start_time": "2025-07-25T09:26:50.542Z"
   },
   {
    "duration": 313,
    "start_time": "2025-07-25T09:26:50.735Z"
   },
   {
    "duration": 73,
    "start_time": "2025-07-25T09:26:51.049Z"
   },
   {
    "duration": 7,
    "start_time": "2025-07-25T09:26:51.124Z"
   },
   {
    "duration": 7,
    "start_time": "2025-07-25T09:26:51.132Z"
   },
   {
    "duration": 33,
    "start_time": "2025-07-25T09:26:51.140Z"
   },
   {
    "duration": 20,
    "start_time": "2025-07-25T09:26:51.174Z"
   },
   {
    "duration": 6,
    "start_time": "2025-07-25T09:26:57.159Z"
   },
   {
    "duration": 1515,
    "start_time": "2025-07-25T09:27:14.818Z"
   },
   {
    "duration": 243,
    "start_time": "2025-07-25T09:27:16.336Z"
   },
   {
    "duration": 391,
    "start_time": "2025-07-25T09:27:16.581Z"
   },
   {
    "duration": 220,
    "start_time": "2025-07-25T09:27:16.974Z"
   },
   {
    "duration": 250,
    "start_time": "2025-07-25T09:27:17.196Z"
   },
   {
    "duration": 210,
    "start_time": "2025-07-25T09:27:17.448Z"
   },
   {
    "duration": 184,
    "start_time": "2025-07-25T09:27:17.660Z"
   },
   {
    "duration": 197,
    "start_time": "2025-07-25T09:27:17.846Z"
   },
   {
    "duration": 326,
    "start_time": "2025-07-25T09:27:18.045Z"
   },
   {
    "duration": 508,
    "start_time": "2025-07-25T09:27:18.374Z"
   },
   {
    "duration": 4,
    "start_time": "2025-07-25T09:27:18.884Z"
   },
   {
    "duration": 33,
    "start_time": "2025-07-25T09:27:18.889Z"
   },
   {
    "duration": 138,
    "start_time": "2025-07-25T09:27:18.924Z"
   },
   {
    "duration": 8,
    "start_time": "2025-07-25T09:27:19.070Z"
   },
   {
    "duration": 259,
    "start_time": "2025-07-25T09:27:19.079Z"
   },
   {
    "duration": 179,
    "start_time": "2025-07-25T09:27:19.340Z"
   },
   {
    "duration": 289,
    "start_time": "2025-07-25T09:27:19.520Z"
   },
   {
    "duration": 70,
    "start_time": "2025-07-25T09:27:19.810Z"
   },
   {
    "duration": 2,
    "start_time": "2025-07-25T09:27:19.883Z"
   },
   {
    "duration": 11,
    "start_time": "2025-07-25T09:27:19.887Z"
   },
   {
    "duration": 14,
    "start_time": "2025-07-25T09:27:19.900Z"
   },
   {
    "duration": 67,
    "start_time": "2025-07-25T09:27:19.915Z"
   },
   {
    "duration": 1606,
    "start_time": "2025-07-25T09:27:40.678Z"
   },
   {
    "duration": 244,
    "start_time": "2025-07-25T09:27:42.286Z"
   },
   {
    "duration": 383,
    "start_time": "2025-07-25T09:27:42.532Z"
   },
   {
    "duration": 216,
    "start_time": "2025-07-25T09:27:42.917Z"
   },
   {
    "duration": 249,
    "start_time": "2025-07-25T09:27:43.135Z"
   },
   {
    "duration": 211,
    "start_time": "2025-07-25T09:27:43.386Z"
   },
   {
    "duration": 191,
    "start_time": "2025-07-25T09:27:43.601Z"
   },
   {
    "duration": 202,
    "start_time": "2025-07-25T09:27:43.793Z"
   },
   {
    "duration": 332,
    "start_time": "2025-07-25T09:27:43.996Z"
   },
   {
    "duration": 475,
    "start_time": "2025-07-25T09:27:44.331Z"
   },
   {
    "duration": 4,
    "start_time": "2025-07-25T09:27:44.807Z"
   },
   {
    "duration": 30,
    "start_time": "2025-07-25T09:27:44.813Z"
   },
   {
    "duration": 152,
    "start_time": "2025-07-25T09:27:44.845Z"
   },
   {
    "duration": 8,
    "start_time": "2025-07-25T09:27:44.999Z"
   },
   {
    "duration": 347,
    "start_time": "2025-07-25T09:27:45.009Z"
   },
   {
    "duration": 193,
    "start_time": "2025-07-25T09:27:45.358Z"
   },
   {
    "duration": 315,
    "start_time": "2025-07-25T09:27:45.553Z"
   },
   {
    "duration": 72,
    "start_time": "2025-07-25T09:27:45.870Z"
   },
   {
    "duration": 4,
    "start_time": "2025-07-25T09:27:45.944Z"
   },
   {
    "duration": 58,
    "start_time": "2025-07-25T09:27:45.950Z"
   },
   {
    "duration": 31,
    "start_time": "2025-07-25T09:27:46.009Z"
   },
   {
    "duration": 24,
    "start_time": "2025-07-25T09:27:46.042Z"
   },
   {
    "duration": 6,
    "start_time": "2025-07-25T09:28:00.996Z"
   },
   {
    "duration": 7,
    "start_time": "2025-07-25T09:28:02.531Z"
   },
   {
    "duration": 6,
    "start_time": "2025-07-25T09:28:03.096Z"
   },
   {
    "duration": 1593,
    "start_time": "2025-07-25T09:28:11.358Z"
   },
   {
    "duration": 266,
    "start_time": "2025-07-25T09:28:12.953Z"
   },
   {
    "duration": 416,
    "start_time": "2025-07-25T09:28:13.221Z"
   },
   {
    "duration": 226,
    "start_time": "2025-07-25T09:28:13.639Z"
   },
   {
    "duration": 255,
    "start_time": "2025-07-25T09:28:13.870Z"
   },
   {
    "duration": 219,
    "start_time": "2025-07-25T09:28:14.127Z"
   },
   {
    "duration": 202,
    "start_time": "2025-07-25T09:28:14.348Z"
   },
   {
    "duration": 196,
    "start_time": "2025-07-25T09:28:14.552Z"
   },
   {
    "duration": 341,
    "start_time": "2025-07-25T09:28:14.750Z"
   },
   {
    "duration": 526,
    "start_time": "2025-07-25T09:28:15.094Z"
   },
   {
    "duration": 4,
    "start_time": "2025-07-25T09:28:15.621Z"
   },
   {
    "duration": 39,
    "start_time": "2025-07-25T09:28:15.627Z"
   },
   {
    "duration": 146,
    "start_time": "2025-07-25T09:28:15.668Z"
   },
   {
    "duration": 7,
    "start_time": "2025-07-25T09:28:15.816Z"
   },
   {
    "duration": 202,
    "start_time": "2025-07-25T09:28:15.825Z"
   },
   {
    "duration": 194,
    "start_time": "2025-07-25T09:28:16.029Z"
   },
   {
    "duration": 311,
    "start_time": "2025-07-25T09:28:16.225Z"
   },
   {
    "duration": 70,
    "start_time": "2025-07-25T09:28:16.538Z"
   },
   {
    "duration": 3,
    "start_time": "2025-07-25T09:28:16.610Z"
   },
   {
    "duration": 79,
    "start_time": "2025-07-25T09:28:16.614Z"
   },
   {
    "duration": 16,
    "start_time": "2025-07-25T09:28:16.695Z"
   },
   {
    "duration": 17,
    "start_time": "2025-07-25T09:28:16.712Z"
   },
   {
    "duration": 1138,
    "start_time": "2025-07-25T09:29:48.838Z"
   },
   {
    "duration": 246,
    "start_time": "2025-07-25T09:29:49.979Z"
   },
   {
    "duration": 436,
    "start_time": "2025-07-25T09:29:50.227Z"
   },
   {
    "duration": 244,
    "start_time": "2025-07-25T09:29:50.906Z"
   },
   {
    "duration": 3,
    "start_time": "2025-07-25T09:29:52.686Z"
   },
   {
    "duration": 220,
    "start_time": "2025-07-25T09:29:53.524Z"
   },
   {
    "duration": 179,
    "start_time": "2025-07-25T09:29:54.823Z"
   },
   {
    "duration": 280,
    "start_time": "2025-07-25T09:29:57.503Z"
   },
   {
    "duration": 341,
    "start_time": "2025-07-25T09:29:59.311Z"
   },
   {
    "duration": 18,
    "start_time": "2025-07-25T09:30:02.569Z"
   },
   {
    "duration": 4,
    "start_time": "2025-07-25T09:30:04.963Z"
   },
   {
    "duration": 33,
    "start_time": "2025-07-25T09:30:14.755Z"
   },
   {
    "duration": 152,
    "start_time": "2025-07-25T09:30:15.356Z"
   },
   {
    "duration": 8,
    "start_time": "2025-07-25T09:30:17.923Z"
   },
   {
    "duration": 15,
    "start_time": "2025-07-25T09:30:38.002Z"
   },
   {
    "duration": 9,
    "start_time": "2025-07-25T09:31:11.720Z"
   },
   {
    "duration": 9,
    "start_time": "2025-07-25T09:31:21.151Z"
   },
   {
    "duration": 9,
    "start_time": "2025-07-25T09:31:25.284Z"
   },
   {
    "duration": 8,
    "start_time": "2025-07-25T09:31:30.922Z"
   },
   {
    "duration": 7,
    "start_time": "2025-07-25T09:31:36.143Z"
   },
   {
    "duration": 10,
    "start_time": "2025-07-25T09:31:41.063Z"
   },
   {
    "duration": 11,
    "start_time": "2025-07-25T09:31:43.807Z"
   },
   {
    "duration": 9,
    "start_time": "2025-07-25T09:31:45.861Z"
   },
   {
    "duration": 9,
    "start_time": "2025-07-25T09:31:48.479Z"
   },
   {
    "duration": 9,
    "start_time": "2025-07-25T09:32:10.939Z"
   },
   {
    "duration": 17,
    "start_time": "2025-07-25T09:33:16.572Z"
   },
   {
    "duration": 129,
    "start_time": "2025-07-25T09:34:29.266Z"
   },
   {
    "duration": 4,
    "start_time": "2025-07-25T09:34:31.315Z"
   },
   {
    "duration": 12,
    "start_time": "2025-07-25T09:34:37.601Z"
   },
   {
    "duration": 8,
    "start_time": "2025-07-25T09:34:40.468Z"
   },
   {
    "duration": 24,
    "start_time": "2025-07-25T09:41:53.882Z"
   },
   {
    "duration": 6,
    "start_time": "2025-07-25T09:50:19.728Z"
   },
   {
    "duration": 7,
    "start_time": "2025-07-25T09:50:59.526Z"
   },
   {
    "duration": 223,
    "start_time": "2025-07-25T09:51:07.989Z"
   },
   {
    "duration": 7,
    "start_time": "2025-07-25T09:51:37.238Z"
   },
   {
    "duration": 8,
    "start_time": "2025-07-25T09:51:58.239Z"
   },
   {
    "duration": 209,
    "start_time": "2025-07-25T09:51:59.148Z"
   },
   {
    "duration": 206,
    "start_time": "2025-07-25T09:52:00.691Z"
   },
   {
    "duration": 213,
    "start_time": "2025-07-25T09:52:10.466Z"
   },
   {
    "duration": 176,
    "start_time": "2025-07-25T09:52:49.411Z"
   },
   {
    "duration": 188,
    "start_time": "2025-07-25T09:54:50.809Z"
   },
   {
    "duration": 190,
    "start_time": "2025-07-25T09:55:00.288Z"
   },
   {
    "duration": 180,
    "start_time": "2025-07-25T09:55:27.048Z"
   },
   {
    "duration": 8,
    "start_time": "2025-07-25T09:56:05.384Z"
   },
   {
    "duration": 326,
    "start_time": "2025-07-25T09:56:07.570Z"
   },
   {
    "duration": 187,
    "start_time": "2025-07-25T09:56:35.200Z"
   },
   {
    "duration": 157,
    "start_time": "2025-07-25T09:56:47.197Z"
   },
   {
    "duration": 191,
    "start_time": "2025-07-25T09:56:50.077Z"
   },
   {
    "duration": 1616,
    "start_time": "2025-07-25T09:58:48.580Z"
   },
   {
    "duration": 260,
    "start_time": "2025-07-25T09:58:50.197Z"
   },
   {
    "duration": 456,
    "start_time": "2025-07-25T09:58:50.459Z"
   },
   {
    "duration": 246,
    "start_time": "2025-07-25T09:58:50.917Z"
   },
   {
    "duration": 265,
    "start_time": "2025-07-25T09:58:51.166Z"
   },
   {
    "duration": 225,
    "start_time": "2025-07-25T09:58:51.432Z"
   },
   {
    "duration": 193,
    "start_time": "2025-07-25T09:58:51.659Z"
   },
   {
    "duration": 213,
    "start_time": "2025-07-25T09:58:51.854Z"
   },
   {
    "duration": 377,
    "start_time": "2025-07-25T09:58:52.068Z"
   },
   {
    "duration": 468,
    "start_time": "2025-07-25T09:58:52.447Z"
   },
   {
    "duration": 4,
    "start_time": "2025-07-25T09:58:52.917Z"
   },
   {
    "duration": 32,
    "start_time": "2025-07-25T09:58:52.923Z"
   },
   {
    "duration": 149,
    "start_time": "2025-07-25T09:58:52.956Z"
   },
   {
    "duration": 7,
    "start_time": "2025-07-25T09:58:53.108Z"
   },
   {
    "duration": 47,
    "start_time": "2025-07-25T09:58:53.117Z"
   },
   {
    "duration": 259,
    "start_time": "2025-07-25T09:58:53.166Z"
   },
   {
    "duration": 197,
    "start_time": "2025-07-25T09:58:53.426Z"
   },
   {
    "duration": 313,
    "start_time": "2025-07-25T09:58:53.625Z"
   },
   {
    "duration": 76,
    "start_time": "2025-07-25T09:58:53.940Z"
   },
   {
    "duration": 2,
    "start_time": "2025-07-25T09:58:54.018Z"
   },
   {
    "duration": 9,
    "start_time": "2025-07-25T09:58:54.022Z"
   },
   {
    "duration": 19,
    "start_time": "2025-07-25T09:58:54.032Z"
   },
   {
    "duration": 51,
    "start_time": "2025-07-25T09:58:54.053Z"
   },
   {
    "duration": 1400,
    "start_time": "2025-07-25T22:40:02.197Z"
   },
   {
    "duration": 229,
    "start_time": "2025-07-25T22:40:03.599Z"
   },
   {
    "duration": 342,
    "start_time": "2025-07-25T22:40:03.829Z"
   },
   {
    "duration": 187,
    "start_time": "2025-07-25T22:40:04.173Z"
   },
   {
    "duration": 440,
    "start_time": "2025-07-25T22:40:04.361Z"
   },
   {
    "duration": 199,
    "start_time": "2025-07-25T22:40:04.802Z"
   },
   {
    "duration": 183,
    "start_time": "2025-07-25T22:40:05.002Z"
   },
   {
    "duration": 200,
    "start_time": "2025-07-25T22:40:05.186Z"
   },
   {
    "duration": 366,
    "start_time": "2025-07-25T22:40:05.388Z"
   },
   {
    "duration": 418,
    "start_time": "2025-07-25T22:40:05.757Z"
   },
   {
    "duration": 5,
    "start_time": "2025-07-25T22:40:06.177Z"
   },
   {
    "duration": 186,
    "start_time": "2025-07-25T22:40:06.183Z"
   },
   {
    "duration": 124,
    "start_time": "2025-07-25T22:40:06.370Z"
   },
   {
    "duration": 7,
    "start_time": "2025-07-25T22:40:06.495Z"
   },
   {
    "duration": 31,
    "start_time": "2025-07-25T22:40:06.504Z"
   },
   {
    "duration": 199,
    "start_time": "2025-07-25T22:40:06.537Z"
   },
   {
    "duration": 170,
    "start_time": "2025-07-25T22:40:06.738Z"
   },
   {
    "duration": 267,
    "start_time": "2025-07-25T22:40:06.910Z"
   },
   {
    "duration": 64,
    "start_time": "2025-07-25T22:40:07.178Z"
   },
   {
    "duration": 4,
    "start_time": "2025-07-25T22:40:07.243Z"
   },
   {
    "duration": 35,
    "start_time": "2025-07-25T22:40:07.248Z"
   },
   {
    "duration": 54,
    "start_time": "2025-07-25T22:40:07.285Z"
   },
   {
    "duration": 14,
    "start_time": "2025-07-25T22:40:07.341Z"
   },
   {
    "duration": 5,
    "start_time": "2025-07-25T22:42:09.827Z"
   },
   {
    "duration": 5,
    "start_time": "2025-07-25T22:42:13.725Z"
   },
   {
    "duration": 1421,
    "start_time": "2025-07-25T22:44:25.178Z"
   },
   {
    "duration": 224,
    "start_time": "2025-07-25T22:44:26.601Z"
   },
   {
    "duration": 346,
    "start_time": "2025-07-25T22:44:26.827Z"
   },
   {
    "duration": 183,
    "start_time": "2025-07-25T22:44:27.174Z"
   },
   {
    "duration": 230,
    "start_time": "2025-07-25T22:44:27.359Z"
   },
   {
    "duration": 196,
    "start_time": "2025-07-25T22:44:27.591Z"
   },
   {
    "duration": 177,
    "start_time": "2025-07-25T22:44:27.788Z"
   },
   {
    "duration": 185,
    "start_time": "2025-07-25T22:44:27.967Z"
   },
   {
    "duration": 314,
    "start_time": "2025-07-25T22:44:28.154Z"
   },
   {
    "duration": 458,
    "start_time": "2025-07-25T22:44:28.470Z"
   },
   {
    "duration": 4,
    "start_time": "2025-07-25T22:44:28.930Z"
   },
   {
    "duration": 34,
    "start_time": "2025-07-25T22:44:28.935Z"
   },
   {
    "duration": 134,
    "start_time": "2025-07-25T22:44:28.971Z"
   },
   {
    "duration": 8,
    "start_time": "2025-07-25T22:44:29.108Z"
   },
   {
    "duration": 15,
    "start_time": "2025-07-25T22:44:29.117Z"
   },
   {
    "duration": 178,
    "start_time": "2025-07-25T22:44:29.133Z"
   },
   {
    "duration": 178,
    "start_time": "2025-07-25T22:44:29.312Z"
   },
   {
    "duration": 275,
    "start_time": "2025-07-25T22:44:29.492Z"
   },
   {
    "duration": 67,
    "start_time": "2025-07-25T22:44:29.768Z"
   },
   {
    "duration": 3,
    "start_time": "2025-07-25T22:44:29.837Z"
   },
   {
    "duration": 18,
    "start_time": "2025-07-25T22:44:29.842Z"
   },
   {
    "duration": 50,
    "start_time": "2025-07-25T22:44:29.862Z"
   },
   {
    "duration": 15,
    "start_time": "2025-07-25T22:44:29.914Z"
   }
  ],
  "colab": {
   "provenance": []
  },
  "kernelspec": {
   "display_name": "Python [conda env:base] *",
   "language": "python",
   "name": "conda-base-py"
  },
  "language_info": {
   "codemirror_mode": {
    "name": "ipython",
    "version": 3
   },
   "file_extension": ".py",
   "mimetype": "text/x-python",
   "name": "python",
   "nbconvert_exporter": "python",
   "pygments_lexer": "ipython3",
   "version": "3.12.7"
  },
  "toc": {
   "base_numbering": 1,
   "nav_menu": {},
   "number_sections": true,
   "sideBar": true,
   "skip_h1_title": true,
   "title_cell": "Table of Contents",
   "title_sidebar": "Contents",
   "toc_cell": false,
   "toc_position": {},
   "toc_section_display": true,
   "toc_window_display": false
  }
 },
 "nbformat": 4,
 "nbformat_minor": 4
}
