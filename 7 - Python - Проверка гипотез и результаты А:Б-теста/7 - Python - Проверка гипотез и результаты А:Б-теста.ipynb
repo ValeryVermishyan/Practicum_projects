{
 "cells": [
  {
   "cell_type": "markdown",
   "id": "4a85c71a-1533-4a8a-997f-4460eedfb29e",
   "metadata": {},
   "source": [
    "# Проверка гипотез и анализ результатов А/Б теста\n",
    "\n",
    "- Автор: Вермишян Валерий\n",
    "- Дата: 07.08.2025"
   ]
  },
  {
   "cell_type": "markdown",
   "id": "_E41Wr5fqnFT",
   "metadata": {
    "id": "_E41Wr5fqnFT"
   },
   "source": [
    "# Часть 1. Проверка гипотезы в Python и составление аналитической записки"
   ]
  },
  {
   "cell_type": "markdown",
   "id": "4149134c",
   "metadata": {
    "id": "4149134c"
   },
   "source": [
    "## Цели и задачи проекта\n",
    "\n",
    "**Цель**: проверить гипотезу о том, что пользователи приложения Яндекс Книги в Санкт-Пететрбурге проводят в среднем больше времени за чтением и прослушиванием книг, чем пользователи из Москвы\n",
    "\n",
    "**Задачи**: \n",
    "- Загрузить данные и ознакомиться с ними\n",
    "- Выбрать параметры теста\n",
    "- Проверить гипотезу\n",
    "- Сформировать аналитическую записку"
   ]
  },
  {
   "cell_type": "markdown",
   "id": "728986ea",
   "metadata": {
    "id": "728986ea"
   },
   "source": [
    "## Описание данных\n",
    "\n",
    "Датасет - `yandex_knigi_data` состоит из столбцов:\n",
    "\n",
    "- `Unnamed: 0` - id строки, начиная с 0\n",
    "- `city` - город пользователя. Москва или Санкт-Петербург\n",
    "- `puid` - id пользователя\n",
    "- `hours` - суммарное кол-во часов активности"
   ]
  },
  {
   "cell_type": "markdown",
   "id": "6f7d21d6",
   "metadata": {
    "id": "6f7d21d6"
   },
   "source": [
    "## Загрузка данных и знакомство с ними"
   ]
  },
  {
   "cell_type": "code",
   "execution_count": 1,
   "id": "183f08c1",
   "metadata": {},
   "outputs": [],
   "source": [
    "import pandas as pd\n",
    "import scipy.stats as st\n",
    "import matplotlib.pyplot as plt\n",
    "from statsmodels.stats.power import NormalIndPower\n",
    "from statsmodels.stats.proportion import proportion_effectsize\n",
    "from statsmodels.stats.proportion import proportions_ztest"
   ]
  },
  {
   "cell_type": "code",
   "execution_count": 2,
   "id": "05faf34b",
   "metadata": {
    "id": "05faf34b"
   },
   "outputs": [
    {
     "name": "stdout",
     "output_type": "stream",
     "text": [
      "<class 'pandas.core.frame.DataFrame'>\n",
      "RangeIndex: 8784 entries, 0 to 8783\n",
      "Data columns (total 4 columns):\n",
      " #   Column      Non-Null Count  Dtype  \n",
      "---  ------      --------------  -----  \n",
      " 0   Unnamed: 0  8784 non-null   int64  \n",
      " 1   city        8784 non-null   object \n",
      " 2   puid        8784 non-null   int64  \n",
      " 3   hours       8784 non-null   float64\n",
      "dtypes: float64(1), int64(2), object(1)\n",
      "memory usage: 274.6+ KB\n",
      "None\n"
     ]
    },
    {
     "data": {
      "text/html": [
       "<div>\n",
       "<style scoped>\n",
       "    .dataframe tbody tr th:only-of-type {\n",
       "        vertical-align: middle;\n",
       "    }\n",
       "\n",
       "    .dataframe tbody tr th {\n",
       "        vertical-align: top;\n",
       "    }\n",
       "\n",
       "    .dataframe thead th {\n",
       "        text-align: right;\n",
       "    }\n",
       "</style>\n",
       "<table border=\"1\" class=\"dataframe\">\n",
       "  <thead>\n",
       "    <tr style=\"text-align: right;\">\n",
       "      <th></th>\n",
       "      <th>Unnamed: 0</th>\n",
       "      <th>city</th>\n",
       "      <th>puid</th>\n",
       "      <th>hours</th>\n",
       "    </tr>\n",
       "  </thead>\n",
       "  <tbody>\n",
       "    <tr>\n",
       "      <th>0</th>\n",
       "      <td>0</td>\n",
       "      <td>Москва</td>\n",
       "      <td>9668</td>\n",
       "      <td>26.167776</td>\n",
       "    </tr>\n",
       "    <tr>\n",
       "      <th>1</th>\n",
       "      <td>1</td>\n",
       "      <td>Москва</td>\n",
       "      <td>16598</td>\n",
       "      <td>82.111217</td>\n",
       "    </tr>\n",
       "    <tr>\n",
       "      <th>2</th>\n",
       "      <td>2</td>\n",
       "      <td>Москва</td>\n",
       "      <td>80401</td>\n",
       "      <td>4.656906</td>\n",
       "    </tr>\n",
       "    <tr>\n",
       "      <th>3</th>\n",
       "      <td>3</td>\n",
       "      <td>Москва</td>\n",
       "      <td>140205</td>\n",
       "      <td>1.840556</td>\n",
       "    </tr>\n",
       "    <tr>\n",
       "      <th>4</th>\n",
       "      <td>4</td>\n",
       "      <td>Москва</td>\n",
       "      <td>248755</td>\n",
       "      <td>151.326434</td>\n",
       "    </tr>\n",
       "  </tbody>\n",
       "</table>\n",
       "</div>"
      ],
      "text/plain": [
       "   Unnamed: 0    city    puid       hours\n",
       "0           0  Москва    9668   26.167776\n",
       "1           1  Москва   16598   82.111217\n",
       "2           2  Москва   80401    4.656906\n",
       "3           3  Москва  140205    1.840556\n",
       "4           4  Москва  248755  151.326434"
      ]
     },
     "metadata": {},
     "output_type": "display_data"
    }
   ],
   "source": [
    "df = pd.read_csv('yandex_knigi_data.csv')\n",
    "\n",
    "print(df.info())\n",
    "display(df.head())"
   ]
  },
  {
   "cell_type": "code",
   "execution_count": 3,
   "id": "3fe7b969",
   "metadata": {
    "scrolled": true
   },
   "outputs": [
    {
     "name": "stdout",
     "output_type": "stream",
     "text": [
      "В столбце Unnamed: 0 - 8784 уникальных значений. Например:\n",
      "[   0    1    2 ... 8781 8782 8783]\n",
      "В столбце city - 2 уникальных значений. Например:\n",
      "['Москва' 'Санкт-Петербург']\n",
      "В столбце puid - 8540 уникальных значений. Например:\n",
      "[            9668            16598            80401 ... 1130000038726322\n",
      " 1130000047892100 1130000061443598]\n",
      "В столбце hours - 8025 уникальных значений. Например:\n",
      "[26.16777639 82.11121667  4.65690606 ...  0.21194444  4.31184146\n",
      " 20.84722222]\n"
     ]
    }
   ],
   "source": [
    "# Проверим кол-во уникальных значений\n",
    "for col in df.columns:\n",
    "    print(f'В столбце {col} - {df[col].nunique()} уникальных значений. Например:')\n",
    "    print(df[col].unique())"
   ]
  },
  {
   "cell_type": "code",
   "execution_count": 4,
   "id": "6b41795b",
   "metadata": {},
   "outputs": [],
   "source": [
    "#Сделаем 2 столбец индексом\n",
    "df.set_index('Unnamed: 0', inplace=True)"
   ]
  },
  {
   "cell_type": "code",
   "execution_count": 5,
   "id": "b41892c5",
   "metadata": {},
   "outputs": [
    {
     "name": "stdout",
     "output_type": "stream",
     "text": [
      "0 явных дублей строк\n"
     ]
    }
   ],
   "source": [
    "# Проверим наличие явных дублей\n",
    "print(f'{df.duplicated().sum()} явных дублей строк')"
   ]
  },
  {
   "cell_type": "code",
   "execution_count": 6,
   "id": "3626e92e",
   "metadata": {},
   "outputs": [],
   "source": [
    "#Удалим строки с дублями puid. Причем полностью, так как мы не знаем, какая из строк является корректной\n",
    "df.drop_duplicates(subset='puid', keep=False, inplace=True)"
   ]
  },
  {
   "cell_type": "code",
   "execution_count": 7,
   "id": "dfb86e30",
   "metadata": {},
   "outputs": [
    {
     "name": "stdout",
     "output_type": "stream",
     "text": [
      "Статистики пользователей из Москвы\n",
      "count    5990.000000\n",
      "mean       10.848192\n",
      "std        36.925622\n",
      "min         0.000022\n",
      "25%         0.057042\n",
      "50%         0.888232\n",
      "75%         5.933439\n",
      "max       857.209373\n",
      "Name: hours, dtype: float64\n",
      "\n",
      "Статистики пользователей из Санкт-Петербурга\n",
      "count    2306.000000\n",
      "mean       11.264433\n",
      "std        39.831755\n",
      "min         0.000025\n",
      "25%         0.060173\n",
      "50%         0.875355\n",
      "75%         6.138424\n",
      "max       978.764775\n",
      "Name: hours, dtype: float64\n"
     ]
    }
   ],
   "source": [
    "#Оценим статистики выборок\n",
    "df_moscow = df[df['city'] == 'Москва']\n",
    "df_spb = df[df['city'] == 'Санкт-Петербург']\n",
    "\n",
    "print('Статистики пользователей из Москвы')\n",
    "print(df_moscow['hours'].describe())\n",
    "print()\n",
    "print('Статистики пользователей из Санкт-Петербурга')\n",
    "print(df_spb['hours'].describe())"
   ]
  },
  {
   "cell_type": "markdown",
   "id": "df3fb82e",
   "metadata": {},
   "source": [
    "**Итоговый вывод о датафрейме и выборках**\n",
    "\n",
    "Датафрейм содержит информацию о сумме времени активности пользователей пользователей Яндекс Книг в Москве и СПБ\n",
    "\n",
    "8784 строки и 4 столбца:\n",
    "- `Unnamed: 0` - id пользователя. 8784 уникальных значения от 0 до 8783. Столбец соответствует индексу, поэтому превратим его в индекс.\n",
    "- `city` - город пользователя. 2 уникальных значения\n",
    "- `puid` - id пользователя. 8540 уникальных значения, значит есть дубли, от них избавились\n",
    "- `hours` - сумма времени активностей пользователей.\n",
    "______\n",
    "- Типы данных корректные\n",
    "- Пропусков нет\n",
    "- 0 явных дублей строк\n",
    "______\n",
    "- Видно, что пользователей из Москвы значительно больше чем из Санкт-Петербурга.\n",
    "\n",
    "Что касается показателя `hours`, то показетели примерно рядом. Значения Санкт-Петербурга немного преобладают везде кроме медианы"
   ]
  },
  {
   "cell_type": "markdown",
   "id": "956e82e2",
   "metadata": {
    "id": "956e82e2"
   },
   "source": [
    "## Проверка гипотезы в Python\n",
    "\n",
    "- Нулевая гипотеза H₀: Средняя активность пользователей в часах в двух группах (Москва и Санкт-Петербург) не различается.\n",
    "\n",
    "- Альтернативная гипотеза H₁: Средняя активность пользователей в Санкт-Петербурге больше, и это различие статистически значимо."
   ]
  },
  {
   "cell_type": "code",
   "execution_count": 8,
   "id": "1c062a7f",
   "metadata": {},
   "outputs": [
    {
     "name": "stdout",
     "output_type": "stream",
     "text": [
      "Кол-во пользователей из Москвы = 5990, их среднее = 10.84819150713916 \n",
      "Кол-во пользователей из Санкт-Петербурга = 2306, их среднее = 11.264433367029522\n"
     ]
    }
   ],
   "source": [
    "# Создадим 2 серии hours для каждого города, выведем кол-во значений и их среднее\n",
    "hours_moscow = df[df['city'] == 'Москва']['hours']\n",
    "hours_spb = df[df['city'] == 'Санкт-Петербург']['hours']\n",
    "\n",
    "print(f'Кол-во пользователей из Москвы = {len(hours_moscow)}, их среднее = {hours_moscow.mean()} ')\n",
    "print(f'Кол-во пользователей из Санкт-Петербурга = {len(hours_spb)}, их среднее = {hours_spb.mean()}')"
   ]
  },
  {
   "cell_type": "markdown",
   "id": "4a5ba4c2",
   "metadata": {},
   "source": [
    "В качестве статистического теста используем t-тест с 2 выборками, так как мы сравниваем средние значения двух разных выборок с близкими значениями дисперсий"
   ]
  },
  {
   "cell_type": "code",
   "execution_count": 9,
   "id": "7c7bf91e",
   "metadata": {},
   "outputs": [
    {
     "name": "stdout",
     "output_type": "stream",
     "text": [
      "pvalue=0.67, альтернативная гипотеза не находит подтверждения. Верна нулевая гипотеза\n"
     ]
    }
   ],
   "source": [
    "# Проведем t-test с 2 выборками\n",
    "\n",
    "# Задаем уровень стат значимости\n",
    "alpha = 0.05\n",
    "\n",
    "statistic, pvalue = st.ttest_ind(hours_moscow, hours_spb, alternative='greater')\n",
    "\n",
    "if pvalue < alpha:\n",
    "    print(f'pvalue={round(pvalue,2)}, нулевая гипотеза не находит подтверждение. Принимаем альтернативную гипотезу')\n",
    "else:\n",
    "    print(f'pvalue={round(pvalue,2)}, альтернативная гипотеза не находит подтверждения. Верна нулевая гипотеза')"
   ]
  },
  {
   "cell_type": "markdown",
   "id": "26154203",
   "metadata": {},
   "source": [
    "## Аналитическая записка:\n",
    "\n",
    "- Выбранный тип t-теста - ttest_ind\n",
    "- Уровень статистической значимости = 0.05\n",
    "- p-value = 0.67\n",
    "- p-value > уровня статистической значимости, поэтому будем считать верной нулевую гипотезу\n",
    "- Предположу, что имеющихся данных слишком мало для того, чтобы считать статистически значимой разницу средних значений. Видно, что кол-во пользователей в СПБ в 2,5 раза меньше, чем в Москве"
   ]
  },
  {
   "cell_type": "markdown",
   "id": "hc1d6jVISegz",
   "metadata": {
    "id": "hc1d6jVISegz"
   },
   "source": [
    "----"
   ]
  },
  {
   "cell_type": "markdown",
   "id": "NqOUIYhbrIfC",
   "metadata": {
    "id": "NqOUIYhbrIfC"
   },
   "source": [
    "# Часть 2. Анализ результатов A/B-тестирования"
   ]
  },
  {
   "cell_type": "markdown",
   "id": "tDwMKFNGsClr",
   "metadata": {
    "id": "tDwMKFNGsClr"
   },
   "source": [
    "К нам обратились представители интернет-магазина BitMotion Kit, в котором продаются геймифицированные товары для тех, кто ведёт здоровый образ жизни. У него есть своя целевая аудитория, даже появились хиты продаж: эспандер со счётчиком и напоминанием, так и подстольный велотренажёр с Bluetooth.\n",
    "\n",
    "В будущем компания хочет расширить ассортимент товаров. Но перед этим нужно решить одну проблему. Интерфейс онлайн-магазина слишком сложен для пользователей — об этом говорят отзывы.\n",
    "\n",
    "Чтобы привлечь новых клиентов и увеличить число продаж, владельцы магазина разработали новую версию сайта и протестировали его на части пользователей. По задумке, это решение доказуемо повысит количество пользователей, которые совершат покупку.\n",
    "\n",
    "Задача — провести оценку результатов A/B-теста."
   ]
  },
  {
   "cell_type": "markdown",
   "id": "UNXAAyF5r9Rk",
   "metadata": {
    "id": "UNXAAyF5r9Rk"
   },
   "source": [
    "## Цель исследования.\n",
    "\n"
   ]
  },
  {
   "cell_type": "markdown",
   "id": "kHx-51yES8bd",
   "metadata": {
    "id": "kHx-51yES8bd"
   },
   "source": [
    "**Цель исследования**: оценить влияние новой версии сайта на % пользователей, которые совершают покупку"
   ]
  },
  {
   "cell_type": "markdown",
   "id": "_CZryx2OsH-s",
   "metadata": {
    "id": "_CZryx2OsH-s"
   },
   "source": [
    "## Загрузка данных, и оценка их целостности\n"
   ]
  },
  {
   "cell_type": "code",
   "execution_count": 10,
   "id": "DjFcJbeGsTIg",
   "metadata": {
    "id": "DjFcJbeGsTIg"
   },
   "outputs": [],
   "source": [
    "participants = pd.read_csv('ab_test_participants.csv')\n",
    "events = pd.read_csv('ab_test_events.csv',\n",
    "                     parse_dates=['event_dt'], low_memory=False)"
   ]
  },
  {
   "cell_type": "markdown",
   "id": "0535393e",
   "metadata": {},
   "source": [
    "Изучим датафрейм `participants`"
   ]
  },
  {
   "cell_type": "code",
   "execution_count": 11,
   "id": "7a629339",
   "metadata": {},
   "outputs": [
    {
     "name": "stdout",
     "output_type": "stream",
     "text": [
      "<class 'pandas.core.frame.DataFrame'>\n",
      "RangeIndex: 14525 entries, 0 to 14524\n",
      "Data columns (total 4 columns):\n",
      " #   Column   Non-Null Count  Dtype \n",
      "---  ------   --------------  ----- \n",
      " 0   user_id  14525 non-null  object\n",
      " 1   group    14525 non-null  object\n",
      " 2   ab_test  14525 non-null  object\n",
      " 3   device   14525 non-null  object\n",
      "dtypes: object(4)\n",
      "memory usage: 454.0+ KB\n"
     ]
    },
    {
     "data": {
      "text/plain": [
       "None"
      ]
     },
     "metadata": {},
     "output_type": "display_data"
    },
    {
     "data": {
      "text/html": [
       "<div>\n",
       "<style scoped>\n",
       "    .dataframe tbody tr th:only-of-type {\n",
       "        vertical-align: middle;\n",
       "    }\n",
       "\n",
       "    .dataframe tbody tr th {\n",
       "        vertical-align: top;\n",
       "    }\n",
       "\n",
       "    .dataframe thead th {\n",
       "        text-align: right;\n",
       "    }\n",
       "</style>\n",
       "<table border=\"1\" class=\"dataframe\">\n",
       "  <thead>\n",
       "    <tr style=\"text-align: right;\">\n",
       "      <th></th>\n",
       "      <th>user_id</th>\n",
       "      <th>group</th>\n",
       "      <th>ab_test</th>\n",
       "      <th>device</th>\n",
       "    </tr>\n",
       "  </thead>\n",
       "  <tbody>\n",
       "    <tr>\n",
       "      <th>0</th>\n",
       "      <td>0002CE61FF2C4011</td>\n",
       "      <td>B</td>\n",
       "      <td>interface_eu_test</td>\n",
       "      <td>Mac</td>\n",
       "    </tr>\n",
       "    <tr>\n",
       "      <th>1</th>\n",
       "      <td>001064FEAAB631A1</td>\n",
       "      <td>B</td>\n",
       "      <td>recommender_system_test</td>\n",
       "      <td>Android</td>\n",
       "    </tr>\n",
       "    <tr>\n",
       "      <th>2</th>\n",
       "      <td>001064FEAAB631A1</td>\n",
       "      <td>A</td>\n",
       "      <td>interface_eu_test</td>\n",
       "      <td>Android</td>\n",
       "    </tr>\n",
       "    <tr>\n",
       "      <th>3</th>\n",
       "      <td>0010A1C096941592</td>\n",
       "      <td>A</td>\n",
       "      <td>recommender_system_test</td>\n",
       "      <td>Android</td>\n",
       "    </tr>\n",
       "    <tr>\n",
       "      <th>4</th>\n",
       "      <td>001E72F50D1C48FA</td>\n",
       "      <td>A</td>\n",
       "      <td>interface_eu_test</td>\n",
       "      <td>Mac</td>\n",
       "    </tr>\n",
       "  </tbody>\n",
       "</table>\n",
       "</div>"
      ],
      "text/plain": [
       "            user_id group                  ab_test   device\n",
       "0  0002CE61FF2C4011     B        interface_eu_test      Mac\n",
       "1  001064FEAAB631A1     B  recommender_system_test  Android\n",
       "2  001064FEAAB631A1     A        interface_eu_test  Android\n",
       "3  0010A1C096941592     A  recommender_system_test  Android\n",
       "4  001E72F50D1C48FA     A        interface_eu_test      Mac"
      ]
     },
     "metadata": {},
     "output_type": "display_data"
    }
   ],
   "source": [
    "# Выведем основную информацию\n",
    "display(participants.info())\n",
    "display(participants.head())"
   ]
  },
  {
   "cell_type": "code",
   "execution_count": 12,
   "id": "3772b7e0",
   "metadata": {},
   "outputs": [
    {
     "name": "stdout",
     "output_type": "stream",
     "text": [
      "В столбце user_id - 13638 уникальных значений. Например:\n",
      "['0002CE61FF2C4011' '001064FEAAB631A1' '0010A1C096941592' ...\n",
      " 'FFEFC0E55C1CCD4F' 'FFF28D02B1EACBE1' 'FFF58BC33966EB51']\n",
      "В столбце group - 2 уникальных значений. Например:\n",
      "['B' 'A']\n",
      "В столбце ab_test - 2 уникальных значений. Например:\n",
      "['interface_eu_test' 'recommender_system_test']\n",
      "В столбце device - 4 уникальных значений. Например:\n",
      "['Mac' 'Android' 'iPhone' 'PC']\n"
     ]
    }
   ],
   "source": [
    "# Проверим кол-во уникальных значений\n",
    "for col in participants.columns:\n",
    "    print(f'В столбце {col} - {participants[col].nunique()} уникальных значений. Например:')\n",
    "    print(participants[col].unique())"
   ]
  },
  {
   "cell_type": "code",
   "execution_count": 13,
   "id": "04322f4e",
   "metadata": {},
   "outputs": [
    {
     "name": "stdout",
     "output_type": "stream",
     "text": [
      "0 явных дублей строк\n"
     ]
    }
   ],
   "source": [
    "# Проверим наличие явных дублей\n",
    "print(f'{participants.duplicated().sum()} явных дублей строк')"
   ]
  },
  {
   "cell_type": "markdown",
   "id": "2e261e16",
   "metadata": {},
   "source": [
    "**Итоговый вывод о датафрейме `participants`**\n",
    "\n",
    "Датафрейм `participants` содержит информацию о пользователях, принимающих участие в а/б тестах\n",
    "\n",
    "14525 строк и 4 столбца:\n",
    "- `user_id` - id пользователя. 13638 уникальных значений (возможно есть дубли из-за наличия 2 разных тестов)\n",
    "- `group` - тестовая группа. 2 уникальных значения, столбец корректный\n",
    "- `ab_test` - название теста. 2 уникальных значения, так как в данных представлены 2 разных теста, столбец корректный\n",
    "- `device` - устройство. 4 уникальных значения, столбец корректный\n",
    "______\n",
    "- Типы данных корректные\n",
    "- 0 явных пропусков\n",
    "- 0 явных дублей строк\n"
   ]
  },
  {
   "cell_type": "markdown",
   "id": "a07bdb5d",
   "metadata": {},
   "source": [
    "Изучим датафрейм `events`"
   ]
  },
  {
   "cell_type": "code",
   "execution_count": 14,
   "id": "a605bf4c",
   "metadata": {},
   "outputs": [
    {
     "name": "stdout",
     "output_type": "stream",
     "text": [
      "<class 'pandas.core.frame.DataFrame'>\n",
      "RangeIndex: 787286 entries, 0 to 787285\n",
      "Data columns (total 4 columns):\n",
      " #   Column      Non-Null Count   Dtype         \n",
      "---  ------      --------------   -----         \n",
      " 0   user_id     787286 non-null  object        \n",
      " 1   event_dt    787286 non-null  datetime64[ns]\n",
      " 2   event_name  787286 non-null  object        \n",
      " 3   details     249022 non-null  object        \n",
      "dtypes: datetime64[ns](1), object(3)\n",
      "memory usage: 24.0+ MB\n"
     ]
    },
    {
     "data": {
      "text/plain": [
       "None"
      ]
     },
     "metadata": {},
     "output_type": "display_data"
    },
    {
     "data": {
      "text/html": [
       "<div>\n",
       "<style scoped>\n",
       "    .dataframe tbody tr th:only-of-type {\n",
       "        vertical-align: middle;\n",
       "    }\n",
       "\n",
       "    .dataframe tbody tr th {\n",
       "        vertical-align: top;\n",
       "    }\n",
       "\n",
       "    .dataframe thead th {\n",
       "        text-align: right;\n",
       "    }\n",
       "</style>\n",
       "<table border=\"1\" class=\"dataframe\">\n",
       "  <thead>\n",
       "    <tr style=\"text-align: right;\">\n",
       "      <th></th>\n",
       "      <th>user_id</th>\n",
       "      <th>event_dt</th>\n",
       "      <th>event_name</th>\n",
       "      <th>details</th>\n",
       "    </tr>\n",
       "  </thead>\n",
       "  <tbody>\n",
       "    <tr>\n",
       "      <th>0</th>\n",
       "      <td>GLOBAL</td>\n",
       "      <td>2020-12-01 00:00:00</td>\n",
       "      <td>End of Black Friday Ads Campaign</td>\n",
       "      <td>ZONE_CODE15</td>\n",
       "    </tr>\n",
       "    <tr>\n",
       "      <th>1</th>\n",
       "      <td>CCBE9E7E99F94A08</td>\n",
       "      <td>2020-12-01 00:00:11</td>\n",
       "      <td>registration</td>\n",
       "      <td>0.0</td>\n",
       "    </tr>\n",
       "    <tr>\n",
       "      <th>2</th>\n",
       "      <td>GLOBAL</td>\n",
       "      <td>2020-12-01 00:00:25</td>\n",
       "      <td>product_page</td>\n",
       "      <td>NaN</td>\n",
       "    </tr>\n",
       "    <tr>\n",
       "      <th>3</th>\n",
       "      <td>CCBE9E7E99F94A08</td>\n",
       "      <td>2020-12-01 00:00:33</td>\n",
       "      <td>login</td>\n",
       "      <td>NaN</td>\n",
       "    </tr>\n",
       "    <tr>\n",
       "      <th>4</th>\n",
       "      <td>CCBE9E7E99F94A08</td>\n",
       "      <td>2020-12-01 00:00:52</td>\n",
       "      <td>product_page</td>\n",
       "      <td>NaN</td>\n",
       "    </tr>\n",
       "  </tbody>\n",
       "</table>\n",
       "</div>"
      ],
      "text/plain": [
       "            user_id            event_dt                        event_name  \\\n",
       "0            GLOBAL 2020-12-01 00:00:00  End of Black Friday Ads Campaign   \n",
       "1  CCBE9E7E99F94A08 2020-12-01 00:00:11                      registration   \n",
       "2            GLOBAL 2020-12-01 00:00:25                      product_page   \n",
       "3  CCBE9E7E99F94A08 2020-12-01 00:00:33                             login   \n",
       "4  CCBE9E7E99F94A08 2020-12-01 00:00:52                      product_page   \n",
       "\n",
       "       details  \n",
       "0  ZONE_CODE15  \n",
       "1          0.0  \n",
       "2          NaN  \n",
       "3          NaN  \n",
       "4          NaN  "
      ]
     },
     "metadata": {},
     "output_type": "display_data"
    }
   ],
   "source": [
    "# Выведем основную информацию\n",
    "display(events.info())\n",
    "display(events.head())"
   ]
  },
  {
   "cell_type": "code",
   "execution_count": 15,
   "id": "fb0a8c42",
   "metadata": {},
   "outputs": [
    {
     "name": "stdout",
     "output_type": "stream",
     "text": [
      "В столбце user_id - 144184 уникальных значений. Например:\n",
      "['GLOBAL' 'CCBE9E7E99F94A08' 'AA346F4D22148024' ... 'B77B2F4BCA134618'\n",
      " 'B12AD1623E494FAD' '5456977474344433']\n",
      "В столбце event_dt - 606573 уникальных значений. Например:\n",
      "<DatetimeArray>\n",
      "['2020-12-01 00:00:00', '2020-12-01 00:00:11', '2020-12-01 00:00:25',\n",
      " '2020-12-01 00:00:33', '2020-12-01 00:00:52', '2020-12-01 00:01:46',\n",
      " '2020-12-01 00:02:06', '2020-12-01 00:02:20', '2020-12-01 00:02:37',\n",
      " '2020-12-01 00:02:53',\n",
      " ...\n",
      " '2020-12-31 23:56:46', '2020-12-31 23:56:56', '2020-12-31 23:57:28',\n",
      " '2020-12-31 23:57:31', '2020-12-31 23:57:35', '2020-12-31 23:57:44',\n",
      " '2020-12-31 23:58:23', '2020-12-31 23:58:30', '2020-12-31 23:58:34',\n",
      " '2020-12-31 23:59:48']\n",
      "Length: 606573, dtype: datetime64[ns]\n",
      "В столбце event_name - 8 уникальных значений. Например:\n",
      "['End of Black Friday Ads Campaign' 'registration' 'product_page' 'login'\n",
      " 'product_cart' 'purchase' 'Start of Christmas&New Year Promo'\n",
      " 'Start of CIS New Year Gift Lottery']\n",
      "В столбце details - 169 уникальных значений. Например:\n",
      "['ZONE_CODE15' '0.0' nan '-2.0' '-5.0' '-3.5' '-1.5' '-0.5' '-2.5' '-4.0'\n",
      " '-4.5' '4.99' '9.99' '-6.0' '-5.5' '-3.0' '-1.0' '499.99' '-7.0' '99.99'\n",
      " '-6.5' '4.59' '4.890000000000001' '-7.5' '-9.0' '-8.5' '-9.5' '-8.0'\n",
      " '9.49' '9.59' '99.89' '99.58999999999999' '4.49' '9.89' '-0.48' '-2.38'\n",
      " '-2.85' '-6.18' '-4.27' '-3.8' '-4.75' '-3.32' '-5.22' '-5.7' '-7.6'\n",
      " '-8.55' '-9.02' '-1.42' '-1.9' '-8.07' '-6.65' '-0.95' '-7.12' '-0.4'\n",
      " '99.49' '-0.88' '-4.2' '499.59' '4.09' '99.59' '-2.3' '499.89'\n",
      " '4.390000000000001' '4.79' '-0.45' '-3.16' '-2.26' '-4.51' '-4.06'\n",
      " '-5.87' '-1.35' '-2.71' '-3.61' '-5.41' '-7.22' '-0.9' '-8.12' '-4.96'\n",
      " '-1.8' '-6.32' '-6.77' '-7.67' '-8.57' '9.69' '9.79' '99.79' '9.39'\n",
      " '99.69' '499.49' '499.39' '-4.46' '3.99' '99.39' '499.79' '99.29' '-1.29'\n",
      " '-8.15' '-2.14' '-0.43' '-2.57' '-1.71' '-5.57' '-4.72' '-3.86' '-0.86'\n",
      " '-3.43' '-4.29' '-5.14' '-6.86' '-7.29' '-7.72' '-6.43' '99.09' '8.99'\n",
      " '98.99' '-3.83' '-1.26' '-3.93' '-1.69' '4.29' '498.89' '3.39' '-4.26'\n",
      " '-4.69' '-2.04' '-4.48' '-0.41' '-4.89' '-0.81' '-4.07' '-5.29' '-1.63'\n",
      " '-1.22' '-3.26' '-3.67' '89.99' '-2.44' '3.89' '-6.52' '-7.33' '-6.92'\n",
      " '-7.74' '449.99' '9.790000000000001' '-6.11' '499.59000000000003'\n",
      " 'ZONE_CODE09' '8.89' '8.790000000000001' '8.49' '89.58999999999999'\n",
      " '89.89' '89.49' '449.89' '8.59' '8.39' '3.79' '3.49' '449.49'\n",
      " '3.5900000000000003' '89.78999999999999' '449.79' '89.39'\n",
      " '449.59000000000003' '3.6900000000000004' '449.39' '4.19' '8.09' '7.99'\n",
      " 'ZONE_CODE02']\n"
     ]
    }
   ],
   "source": [
    "# Проверим кол-во уникальных значений\n",
    "for col in events.columns:\n",
    "    print(f'В столбце {col} - {events[col].nunique()} уникальных значений. Например:')\n",
    "    print(events[col].unique())"
   ]
  },
  {
   "cell_type": "code",
   "execution_count": 16,
   "id": "bd3fea74",
   "metadata": {},
   "outputs": [
    {
     "data": {
      "text/plain": [
       "(Timestamp('2020-12-01 00:00:00'), Timestamp('2020-12-31 23:59:48'))"
      ]
     },
     "execution_count": 16,
     "metadata": {},
     "output_type": "execute_result"
    }
   ],
   "source": [
    "# Проверим мин и макс значения даты действия:\n",
    "min(events['event_dt']), max(events['event_dt'])"
   ]
  },
  {
   "cell_type": "code",
   "execution_count": 17,
   "id": "7c8db998",
   "metadata": {},
   "outputs": [
    {
     "data": {
      "text/html": [
       "<div>\n",
       "<style scoped>\n",
       "    .dataframe tbody tr th:only-of-type {\n",
       "        vertical-align: middle;\n",
       "    }\n",
       "\n",
       "    .dataframe tbody tr th {\n",
       "        vertical-align: top;\n",
       "    }\n",
       "\n",
       "    .dataframe thead th {\n",
       "        text-align: right;\n",
       "    }\n",
       "</style>\n",
       "<table border=\"1\" class=\"dataframe\">\n",
       "  <thead>\n",
       "    <tr style=\"text-align: right;\">\n",
       "      <th></th>\n",
       "      <th>user_id</th>\n",
       "      <th>event_dt</th>\n",
       "      <th>event_name</th>\n",
       "      <th>details</th>\n",
       "    </tr>\n",
       "  </thead>\n",
       "  <tbody>\n",
       "    <tr>\n",
       "      <th>0</th>\n",
       "      <td>GLOBAL</td>\n",
       "      <td>2020-12-01</td>\n",
       "      <td>End of Black Friday Ads Campaign</td>\n",
       "      <td>ZONE_CODE15</td>\n",
       "    </tr>\n",
       "    <tr>\n",
       "      <th>683503</th>\n",
       "      <td>GLOBAL</td>\n",
       "      <td>2020-12-25</td>\n",
       "      <td>Start of Christmas&amp;New Year Promo</td>\n",
       "      <td>ZONE_CODE09</td>\n",
       "    </tr>\n",
       "    <tr>\n",
       "      <th>773846</th>\n",
       "      <td>GLOBAL</td>\n",
       "      <td>2020-12-30</td>\n",
       "      <td>Start of CIS New Year Gift Lottery</td>\n",
       "      <td>ZONE_CODE02</td>\n",
       "    </tr>\n",
       "  </tbody>\n",
       "</table>\n",
       "</div>"
      ],
      "text/plain": [
       "       user_id   event_dt                          event_name      details\n",
       "0       GLOBAL 2020-12-01    End of Black Friday Ads Campaign  ZONE_CODE15\n",
       "683503  GLOBAL 2020-12-25   Start of Christmas&New Year Promo  ZONE_CODE09\n",
       "773846  GLOBAL 2020-12-30  Start of CIS New Year Gift Lottery  ZONE_CODE02"
      ]
     },
     "metadata": {},
     "output_type": "display_data"
    },
    {
     "name": "stdout",
     "output_type": "stream",
     "text": [
      "Всего строк: 3\n"
     ]
    }
   ],
   "source": [
    "# Изучим подробнее действия 'End of Black Friday Ads Campaign', 'Start of Christmas&New Year Promo', 'Start of CIS New Year Gift Lottery'\n",
    "ev = ['End of Black Friday Ads Campaign', \n",
    "       'Start of Christmas&New Year Promo', \n",
    "     'Start of CIS New Year Gift Lottery']\n",
    "\n",
    "display(events[events.event_name.isin(ev)].head())\n",
    "print('Всего строк:', len(events[events.event_name.isin(ev)]))"
   ]
  },
  {
   "cell_type": "code",
   "execution_count": 18,
   "id": "f40fb9ce",
   "metadata": {},
   "outputs": [
    {
     "data": {
      "text/plain": [
       "event_name\n",
       "registration                          144183\n",
       "purchase                              104836\n",
       "End of Black Friday Ads Campaign           1\n",
       "Start of Christmas&New Year Promo          1\n",
       "Start of CIS New Year Gift Lottery         1\n",
       "Name: count, dtype: int64"
      ]
     },
     "metadata": {},
     "output_type": "display_data"
    },
    {
     "data": {
      "text/plain": [
       "event_name\n",
       "login                                 248285\n",
       "product_page                          195606\n",
       "registration                          144183\n",
       "purchase                              104836\n",
       "product_cart                           94373\n",
       "End of Black Friday Ads Campaign           1\n",
       "Start of Christmas&New Year Promo          1\n",
       "Start of CIS New Year Gift Lottery         1\n",
       "Name: count, dtype: int64"
      ]
     },
     "metadata": {},
     "output_type": "display_data"
    }
   ],
   "source": [
    "# Изучим подробнее столбец \"details\"\n",
    "# Выгрузим информацию о датафрейме, где это значение непустое и посмотрим, для каких действий оно характерно:\n",
    "display(events[~events['details'].isna()]['event_name'].value_counts())\n",
    "\n",
    "# Теперь посмотрим, сколько всего каждого действия было совершено в изначальном датафрейме\n",
    "display(events['event_name'].value_counts())"
   ]
  },
  {
   "cell_type": "code",
   "execution_count": 19,
   "id": "7a381235",
   "metadata": {},
   "outputs": [
    {
     "name": "stdout",
     "output_type": "stream",
     "text": [
      "36318 явных дублей строк\n"
     ]
    }
   ],
   "source": [
    "# Проверим наличие явных дублей\n",
    "print(f'{events.duplicated().sum()} явных дублей строк')"
   ]
  },
  {
   "cell_type": "code",
   "execution_count": 20,
   "id": "7e729bd3",
   "metadata": {},
   "outputs": [],
   "source": [
    "# Удалим дубли\n",
    "events.drop_duplicates(subset=None, keep='first', inplace=True)"
   ]
  },
  {
   "cell_type": "markdown",
   "id": "1fe8ebbd",
   "metadata": {},
   "source": [
    "**Итоговый вывод о датафрейме `events`**\n",
    "\n",
    "Датафрейм `events` содержит информацию о действиях, совершенных пользователями с 1 по 31 декабря\n",
    "\n",
    "787 286 строк и 4 столбца:\n",
    "- `user_id` - id пользователя. 144 184 уникальных значения, столбец корректный\n",
    "- `event_dt` - дата действия. 606 573 уникальных значения, столбец корректный\n",
    "- `event_name` - название действия. 8 уникальных значений, в основном описаны действия пользователей, но есть 3 действия, связанные с запусками промо или рекламы, которые судя по всему совершались от лица сайта (user_id = GLOBAL). Столбец корректный\n",
    "- `details` - детали действия. 169 уникальных значений. Это поле непустое для всех покупок, регистраций и для глобальных действий. Этот столбец в основном принимает значения в виде вещественного числа, которое может быть отрицательным, положительным, равным нулю. Для глобальных действий столбец принимает значение вида \"ZONE_CODE15\", где отличается только числом в конце. Пока непонятно, что оно может значить\n",
    "______\n",
    "- Типы данных корректные\n",
    "- Есть явные пропуски в столбце `details`\n",
    "- 36318 явных дублей строк. Их мы удалили\n"
   ]
  },
  {
   "cell_type": "markdown",
   "id": "CnzA-efasUrk",
   "metadata": {
    "id": "CnzA-efasUrk"
   },
   "source": [
    "## По таблице `ab_test_participants` оценим корректность проведения теста:"
   ]
  },
  {
   "cell_type": "code",
   "execution_count": 21,
   "id": "aNa3zHrKslEN",
   "metadata": {
    "id": "aNa3zHrKslEN"
   },
   "outputs": [],
   "source": [
    "# Выделим пользователей, участвующих в тесте\n",
    "participants_interface_test = participants[participants['ab_test']=='interface_eu_test'].copy()"
   ]
  },
  {
   "cell_type": "code",
   "execution_count": 22,
   "id": "8fb84783",
   "metadata": {},
   "outputs": [
    {
     "name": "stdout",
     "output_type": "stream",
     "text": [
      "Разница в кол-ве пользователей в двух группах составляет 1.6%\n"
     ]
    }
   ],
   "source": [
    "# Проверим равномерность распределения пользователей по группам теста\n",
    "\n",
    "# группируем кол-во уникальных пользователей по тестовым группам\n",
    "uniq_users = participants_interface_test.groupby('group', as_index=False)['user_id'].nunique()\n",
    "\n",
    "# считаем процентную разницу в кол-ве пользователей\n",
    "P = 100 * (abs(uniq_users.iloc[0,1] - uniq_users.iloc[1,1])/uniq_users.iloc[0,1])\n",
    "\n",
    "print(f'Разница в кол-ве пользователей в двух группах составляет {round(P,1)}%')"
   ]
  },
  {
   "cell_type": "code",
   "execution_count": 23,
   "id": "8f26be59",
   "metadata": {},
   "outputs": [
    {
     "data": {
      "text/plain": [
       "<Figure size 1500x700 with 0 Axes>"
      ]
     },
     "metadata": {},
     "output_type": "display_data"
    },
    {
     "data": {
      "image/png": "[encoded data removed]",
      "text/plain": [
       "<Figure size 640x480 with 1 Axes>"
      ]
     },
     "metadata": {},
     "output_type": "display_data"
    }
   ],
   "source": [
    "# строим столбчатую диаграмму кол-ва уникальных пользователей каждой группы\n",
    "plt.figure(figsize=(15,7))\n",
    "\n",
    "uniq_users.plot.bar(x='group', y='user_id')\n",
    "\n",
    "plt.title('Кол-во уникальных пользователей каждой группы')\n",
    "plt.xlabel('Группа')\n",
    "plt.ylabel('Кол-во')\n",
    "plt.show()"
   ]
  },
  {
   "cell_type": "code",
   "execution_count": 24,
   "id": "e9455e11",
   "metadata": {},
   "outputs": [
    {
     "name": "stdout",
     "output_type": "stream",
     "text": [
      "Пользователи не пересекаются\n"
     ]
    }
   ],
   "source": [
    "# Проверим пересечение пользователей в двух тестовых группах\n",
    "if len(participants_interface_test) == participants_interface_test['user_id'].nunique():\n",
    "    print('Пользователи не пересекаются')"
   ]
  },
  {
   "cell_type": "code",
   "execution_count": 25,
   "id": "fdd00105",
   "metadata": {},
   "outputs": [
    {
     "name": "stdout",
     "output_type": "stream",
     "text": [
      "Всего 116 пользователей групп B находятся в обоих тестах.\n"
     ]
    }
   ],
   "source": [
    "# Проверим пересечение пользователей группы B в двух тестах\n",
    "\n",
    "# Создадим списки пользователей для каждого теста\n",
    "participants_interface_eu_test = participants[(participants['ab_test'] == 'interface_eu_test') &\n",
    "                                             (participants['group'] == 'B')]['user_id']\n",
    "participants_recommender_system_test = participants[(participants['ab_test'] == 'recommender_system_test') &\n",
    "                                                   (participants['group'] == 'B')]['user_id']\n",
    "\n",
    "#получим пересечения\n",
    "intersection_users = set(participants_interface_eu_test)&set(participants_recommender_system_test)\n",
    "print(f'Всего {len(intersection_users)} пользователей групп B находятся в обоих тестах.')"
   ]
  },
  {
   "cell_type": "markdown",
   "id": "ded99ae8",
   "metadata": {},
   "source": [
    "**Промежуточный вывод:**\n",
    "\n",
    "- Пользователи нормально распределены по группам, разница в 1,6% не критична\n",
    "- Пользователи не пересекаются между группами\n",
    "- 116 пользователей групп B пересекаются между тестами, далее удалим их"
   ]
  },
  {
   "cell_type": "markdown",
   "id": "GjulgSrlsqUU",
   "metadata": {
    "id": "GjulgSrlsqUU"
   },
   "source": [
    "Проанализируем данные о пользовательской активности по таблице `ab_test_events`:\n",
    "\n",
    "- оставьте только события, связанные с участвующими в изучаемом тесте пользователями;"
   ]
  },
  {
   "cell_type": "code",
   "execution_count": 26,
   "id": "QMt0Ybo_swDK",
   "metadata": {
    "id": "QMt0Ybo_swDK"
   },
   "outputs": [],
   "source": [
    "# Присоединим к таблице events информацию из таблицы participants_interface_test\n",
    "events_participants = events.merge(participants_interface_test, on='user_id', how='left')\n",
    "# Удалим действия пользователей, которые не участвуют в тесте\n",
    "events_participants.dropna(subset=['group'], inplace=True)\n",
    "# Удалим столбец ab_test, так как он избыточен\n",
    "del events_participants['ab_test']"
   ]
  },
  {
   "cell_type": "code",
   "execution_count": 27,
   "id": "5e897270",
   "metadata": {},
   "outputs": [],
   "source": [
    "# Удалим пользователей, которые присутствуют в двух тестах\n",
    "events_participants = events_participants[~events_participants['user_id'].isin(intersection_users)]"
   ]
  },
  {
   "cell_type": "markdown",
   "id": "fBZ4DC2xswZJ",
   "metadata": {
    "id": "fBZ4DC2xswZJ"
   },
   "source": [
    "- определим горизонт анализа: рассчитаем время совершения события пользователем после регистрации и оставим только те события, которые были выполнены в течение первых семи дней с момента регистрации"
   ]
  },
  {
   "cell_type": "code",
   "execution_count": 28,
   "id": "6c5be14f",
   "metadata": {},
   "outputs": [
    {
     "name": "stdout",
     "output_type": "stream",
     "text": [
      "У всех пользователей в базе есть ровно одно событие \"регистрация\"\n"
     ]
    }
   ],
   "source": [
    "# Оставим в датафрейме только регистрации\n",
    "registration_dt = events_participants[events_participants['event_name'] == 'registration']\n",
    "\n",
    "# Проверим, у всех ли пользователей есть ровно одно событие \"регистрация\"\n",
    "if events_participants['user_id'].nunique() == registration_dt['user_id'].nunique() == len(registration_dt):\n",
    "    print('У всех пользователей в базе есть ровно одно событие \"регистрация\"')"
   ]
  },
  {
   "cell_type": "code",
   "execution_count": 29,
   "id": "052173cd",
   "metadata": {
    "scrolled": true
   },
   "outputs": [
    {
     "name": "stderr",
     "output_type": "stream",
     "text": [
      "/var/folders/j0/t_q57p5s5cd5c9lzd6y7scs80000gn/T/ipykernel_31234/2144951459.py:2: SettingWithCopyWarning: \n",
      "A value is trying to be set on a copy of a slice from a DataFrame\n",
      "\n",
      "See the caveats in the documentation: https://pandas.pydata.org/pandas-docs/stable/user_guide/indexing.html#returning-a-view-versus-a-copy\n",
      "  registration_dt.rename(columns={'event_dt': 'registration_dt'}, inplace=True)\n"
     ]
    }
   ],
   "source": [
    "# Переименуем столбец event_dt, удалим ненужные столбцы и присоединим значения к таблице events_participants\n",
    "registration_dt.rename(columns={'event_dt': 'registration_dt'}, inplace=True)\n",
    "registration_dt = registration_dt[['user_id','registration_dt']]\n",
    "    \n",
    "events_participants = events_participants.merge(registration_dt, on='user_id', how='left')"
   ]
  },
  {
   "cell_type": "code",
   "execution_count": 30,
   "id": "67c5625a",
   "metadata": {},
   "outputs": [],
   "source": [
    "# Посчитаем разницу между registration_dt и event_dt\n",
    "events_participants['dif_dt'] = events_participants['event_dt'] - events_participants['registration_dt']\n",
    "# Оставим только те строки, где разница <= 7 дней и событие не является регистрацией\n",
    "events_participants = events_participants[(events_participants['dif_dt'] < '7 days') & \n",
    "                                         (events_participants['event_name'] != 'registration')]"
   ]
  },
  {
   "cell_type": "code",
   "execution_count": 31,
   "id": "e69a21a4",
   "metadata": {},
   "outputs": [
    {
     "name": "stdout",
     "output_type": "stream",
     "text": [
      "Получили 52200 строк\n"
     ]
    }
   ],
   "source": [
    "print(f'Получили {len(events_participants)} строк')"
   ]
  },
  {
   "cell_type": "markdown",
   "id": "7cf1df48",
   "metadata": {},
   "source": [
    "Оценим достаточность выборки для получения статистически значимых результатов A/B-теста. "
   ]
  },
  {
   "cell_type": "code",
   "execution_count": 32,
   "id": "2079431a",
   "metadata": {},
   "outputs": [
    {
     "name": "stdout",
     "output_type": "stream",
     "text": [
      "В группе A - 25771 событий\n",
      "В группе B - 26429 событий\n"
     ]
    }
   ],
   "source": [
    "# Посчитаем кол-во событий для каждой группы\n",
    "events_A = events_participants[events_participants['group'] == 'A']\n",
    "events_B = events_participants[events_participants['group'] == 'B']\n",
    "\n",
    "print(f'В группе A - {len(events_A)} событий')\n",
    "print(f'В группе B - {len(events_B)} событий')"
   ]
  },
  {
   "cell_type": "code",
   "execution_count": 33,
   "id": "7d97b466",
   "metadata": {},
   "outputs": [
    {
     "name": "stdout",
     "output_type": "stream",
     "text": [
      "При MDE = 0.02 необходимый размер выборки событий для каждой группы: 8392\n"
     ]
    }
   ],
   "source": [
    "# Задаем параметры\n",
    "alpha = 0.05 # ошибка 1 рода. 1 - достоверность теста\n",
    "beta = 0.2 # ошибка 2 рода\n",
    "power = 1-beta # мощность\n",
    "p1 = 0.3 # базовый показатель конверсии\n",
    "mde = 0.02 # Минимальный детектируемый эффект\n",
    "effect_size = proportion_effectsize(p1,p1+mde)\n",
    "\n",
    "# Инициализируем класс NormalIndPower для расчета размера выборки\n",
    "power_analysis = NormalIndPower()\n",
    "\n",
    "# Рассчитываем размер выборки\n",
    "sample_size = power_analysis.solve_power(\n",
    "    effect_size = effect_size,\n",
    "    power = power,\n",
    "    alpha = alpha,\n",
    "    ratio = 1 # Равномерное распределение выборок\n",
    ")\n",
    "\n",
    "print(f\"При MDE = {mde} необходимый размер выборки событий для каждой группы: {int(sample_size)}\")"
   ]
  },
  {
   "cell_type": "markdown",
   "id": "8cf78bde",
   "metadata": {},
   "source": [
    "Выборка событий в нашем тесте удовлетворяет условию минимального размера выборки"
   ]
  },
  {
   "cell_type": "markdown",
   "id": "SadyUDgZs0t3",
   "metadata": {
    "id": "SadyUDgZs0t3"
   },
   "source": [
    "- рассчитаем для каждой группы количество посетителей, сделавших покупку, и общее количество посетителей."
   ]
  },
  {
   "cell_type": "code",
   "execution_count": 34,
   "id": "7ph853Xks4sy",
   "metadata": {
    "id": "7ph853Xks4sy"
   },
   "outputs": [
    {
     "name": "stdout",
     "output_type": "stream",
     "text": [
      "В группе A всего 5383 пользователей 1480 пользователей, совершивших покупку. CR - 27.49%\n",
      "В группе B всего 5351 пользователей 1579 пользователей, совершивших покупку. CR - 29.51%\n"
     ]
    }
   ],
   "source": [
    "# Посчитаем кол-во посетителей всего\n",
    "users_total_A = events_A['user_id'].nunique()\n",
    "users_total_B = events_B['user_id'].nunique()\n",
    "\n",
    "# Посчитаем кол-во посетителей, сделавших покупку\n",
    "users_purchase_A = events_A[events_A['event_name'] == 'purchase']['user_id'].nunique()\n",
    "users_purchase_B = events_B[events_B['event_name'] == 'purchase']['user_id'].nunique()\n",
    "\n",
    "crA = round(users_purchase_A/users_total_A*100,2)\n",
    "crB = round(users_purchase_B/users_total_B*100,2)\n",
    "\n",
    "print(f'В группе A всего {users_total_A} пользователей {users_purchase_A} пользователей, совершивших покупку. \\\n",
    "CR - {crA}%')\n",
    "print(f'В группе B всего {users_total_B} пользователей {users_purchase_B} пользователей, совершивших покупку. \\\n",
    "CR - {crB}%')"
   ]
  },
  {
   "cell_type": "code",
   "execution_count": 35,
   "id": "hHTHPkJYs8mE",
   "metadata": {
    "id": "hHTHPkJYs8mE"
   },
   "outputs": [
    {
     "name": "stdout",
     "output_type": "stream",
     "text": [
      "В тестовой группе CR вырос на 2.02 п.п.\n",
      "Это на 0.02 п.п. больше планового значения\n"
     ]
    }
   ],
   "source": [
    "# считаем рост CR в п. п.\n",
    "print(f'В тестовой группе CR вырос на {round((crB-crA),2)} п.п.')\n",
    "print(f'Это на {round((crB-crA)-2,2)} п.п. больше планового значения')"
   ]
  },
  {
   "cell_type": "markdown",
   "id": "IKZ1Oo3Ws919",
   "metadata": {
    "id": "IKZ1Oo3Ws919"
   },
   "source": [
    "## Проведем оценку результатов A/B-тестирования:"
   ]
  },
  {
   "cell_type": "markdown",
   "id": "b09f7e70",
   "metadata": {},
   "source": [
    "Сформулируем гипотезы:\n",
    "\n",
    "Будем работать с метрикой \"Доля покупок, от всех событий\"\n",
    "\n",
    "- Нулевая гипотеза - значение метрики одинаково для каждой из групп\n",
    "- Альтернативная гипотеза - значение метрики выше в тестовой группе"
   ]
  },
  {
   "cell_type": "markdown",
   "id": "ca35467f",
   "metadata": {},
   "source": [
    "Проведем z-test пропорций. Выбираем этот тест, так как сравниваем конверсии"
   ]
  },
  {
   "cell_type": "code",
   "execution_count": 36,
   "id": "l_KOziBQtL3t",
   "metadata": {
    "id": "l_KOziBQtL3t"
   },
   "outputs": [
    {
     "name": "stdout",
     "output_type": "stream",
     "text": [
      "Предпосылка о достаточном количестве данных выполняется!\n",
      "pvalue=0.010393282955333765\n",
      "Нулевая гипотеза не находит подтверждения!\n",
      "При переходе на новый сайт доля покупок среди всех сессий увеличилась\n"
     ]
    }
   ],
   "source": [
    "n_a = users_total_A\n",
    "n_b = users_total_B\n",
    "m_a = users_purchase_A\n",
    "m_b = users_purchase_B\n",
    "p_a, p_b = m_a/n_a, m_b/n_b\n",
    "\n",
    "if (p_a*n_a > 10)and((1-p_a)*n_a > 10)and(p_b*n_b > 10)and((1-p_b)*n_b > 10):\n",
    "    print('Предпосылка о достаточном количестве данных выполняется!')\n",
    "else:\n",
    "    print('Предпосылка о достаточном количестве данных НЕ выполняется!')\n",
    "    \n",
    "stat_ztest, p_value_ztest = proportions_ztest(\n",
    "    [m_a, m_b],\n",
    "    [n_a, n_b],\n",
    "    alternative='smaller'\n",
    ")\n",
    "\n",
    "print(f'pvalue={p_value_ztest}')\n",
    "\n",
    "if p_value_ztest > alpha:\n",
    "    print('Нулевая гипотеза находит подтверждение!')\n",
    "    print(f'При переходе на новый сайт доля покупок среди всех сессий не увеличилась')\n",
    "else:\n",
    "    print('Нулевая гипотеза не находит подтверждения!')\n",
    "    print(f'При переходе на новый сайт доля покупок среди всех сессий увеличилась')"
   ]
  },
  {
   "cell_type": "markdown",
   "id": "npoPPSKytKvR",
   "metadata": {
    "id": "npoPPSKytKvR"
   },
   "source": [
    "**Выводы:**\n",
    "\n",
    "Был проведен а/б-тест нового сайта.\n",
    "\n",
    "Характеристики эксперимента:\n",
    "\n",
    "- Эксперимент длился 22 дня. В группе А было задействовано 5383 пользователй, в группе B - 5351.\n",
    "- В качестве целевой метрики была выбрана доля пользователей, совершивших покупку, от всех пользователей за период в 7 дней с момента регистрации для каждого пользователя\n",
    "- Уровень значимости — 0.05.\n",
    "- Вероятность ошибки второго рода — 0.2.\n",
    "\n",
    "По результатам а/б-теста можно сказать, что внедрение нового сайта положительно повлияло на % покупок. Метрика выросла на 2,02 п.п.\n",
    "\n",
    "Нововведение стоит внедрить"
   ]
  }
 ],
 "metadata": {
  "ExecuteTimeLog": [
   {
    "duration": 436,
    "start_time": "2025-08-04T12:04:31.804Z"
   },
   {
    "duration": 25,
    "start_time": "2025-08-04T12:04:36.723Z"
   },
   {
    "duration": 27,
    "start_time": "2025-08-04T12:04:40.106Z"
   },
   {
    "duration": 16,
    "start_time": "2025-08-04T12:04:53.466Z"
   },
   {
    "duration": 25,
    "start_time": "2025-08-04T12:05:42.693Z"
   },
   {
    "duration": 29,
    "start_time": "2025-08-04T12:05:45.848Z"
   },
   {
    "duration": 12,
    "start_time": "2025-08-04T12:06:10.334Z"
   },
   {
    "duration": 37,
    "start_time": "2025-08-04T12:10:08.498Z"
   },
   {
    "duration": 88,
    "start_time": "2025-08-04T12:11:52.945Z"
   },
   {
    "duration": 8,
    "start_time": "2025-08-04T12:11:57.703Z"
   },
   {
    "duration": 6,
    "start_time": "2025-08-04T12:12:00.107Z"
   },
   {
    "duration": 5,
    "start_time": "2025-08-04T12:12:04.535Z"
   },
   {
    "duration": 5,
    "start_time": "2025-08-04T12:12:10.890Z"
   },
   {
    "duration": 557,
    "start_time": "2025-08-04T12:13:13.075Z"
   },
   {
    "duration": 7,
    "start_time": "2025-08-04T12:13:16.868Z"
   },
   {
    "duration": 125,
    "start_time": "2025-08-04T12:15:00.830Z"
   },
   {
    "duration": 4,
    "start_time": "2025-08-04T12:15:04.141Z"
   },
   {
    "duration": 4,
    "start_time": "2025-08-04T12:15:09.266Z"
   },
   {
    "duration": 9,
    "start_time": "2025-08-04T12:15:24.220Z"
   },
   {
    "duration": 7,
    "start_time": "2025-08-04T12:15:25.201Z"
   },
   {
    "duration": 4,
    "start_time": "2025-08-04T12:15:26.139Z"
   },
   {
    "duration": 5,
    "start_time": "2025-08-04T12:18:03.463Z"
   },
   {
    "duration": 4,
    "start_time": "2025-08-04T12:18:04.614Z"
   },
   {
    "duration": 4,
    "start_time": "2025-08-04T12:18:11.723Z"
   },
   {
    "duration": 4,
    "start_time": "2025-08-04T12:18:13.172Z"
   },
   {
    "duration": 4,
    "start_time": "2025-08-04T12:25:24.798Z"
   },
   {
    "duration": 4,
    "start_time": "2025-08-04T12:25:41.582Z"
   },
   {
    "duration": 6,
    "start_time": "2025-08-04T12:27:02.302Z"
   },
   {
    "duration": 6,
    "start_time": "2025-08-04T12:27:26.628Z"
   },
   {
    "duration": 7,
    "start_time": "2025-08-04T12:27:43.650Z"
   },
   {
    "duration": 5,
    "start_time": "2025-08-04T12:27:50.762Z"
   },
   {
    "duration": 8,
    "start_time": "2025-08-04T12:27:56.510Z"
   },
   {
    "duration": 6,
    "start_time": "2025-08-04T12:27:58.863Z"
   },
   {
    "duration": 14,
    "start_time": "2025-08-04T12:28:26.546Z"
   },
   {
    "duration": 6,
    "start_time": "2025-08-04T12:28:33.062Z"
   },
   {
    "duration": 967,
    "start_time": "2025-08-04T12:29:05.988Z"
   },
   {
    "duration": 8,
    "start_time": "2025-08-04T12:29:06.964Z"
   },
   {
    "duration": 52,
    "start_time": "2025-08-04T12:29:06.974Z"
   },
   {
    "duration": 1774,
    "start_time": "2025-08-04T12:29:07.028Z"
   },
   {
    "duration": 8,
    "start_time": "2025-08-04T12:33:49.174Z"
   },
   {
    "duration": 5,
    "start_time": "2025-08-04T12:34:49.513Z"
   },
   {
    "duration": 7,
    "start_time": "2025-08-04T12:37:22.906Z"
   },
   {
    "duration": 981,
    "start_time": "2025-08-04T12:38:31.091Z"
   },
   {
    "duration": 9,
    "start_time": "2025-08-04T12:38:32.074Z"
   },
   {
    "duration": 101,
    "start_time": "2025-08-04T12:38:32.085Z"
   },
   {
    "duration": 1924,
    "start_time": "2025-08-04T12:38:32.188Z"
   },
   {
    "duration": 1981,
    "start_time": "2025-08-04T13:07:46.430Z"
   },
   {
    "duration": 12,
    "start_time": "2025-08-04T13:07:52.762Z"
   },
   {
    "duration": 14,
    "start_time": "2025-08-04T13:08:20.778Z"
   },
   {
    "duration": 14,
    "start_time": "2025-08-04T13:09:11.162Z"
   },
   {
    "duration": 142,
    "start_time": "2025-08-04T13:09:44.223Z"
   },
   {
    "duration": 13,
    "start_time": "2025-08-04T13:10:32.086Z"
   },
   {
    "duration": 19,
    "start_time": "2025-08-04T13:10:54.785Z"
   },
   {
    "duration": 101,
    "start_time": "2025-08-04T13:12:44.599Z"
   },
   {
    "duration": 22,
    "start_time": "2025-08-04T13:12:48.561Z"
   },
   {
    "duration": 1001,
    "start_time": "2025-08-04T13:15:00.664Z"
   },
   {
    "duration": 9,
    "start_time": "2025-08-04T13:15:01.667Z"
   },
   {
    "duration": 90,
    "start_time": "2025-08-04T13:15:01.678Z"
   },
   {
    "duration": 2011,
    "start_time": "2025-08-04T13:15:01.770Z"
   },
   {
    "duration": 22,
    "start_time": "2025-08-04T13:15:03.783Z"
   },
   {
    "duration": 28,
    "start_time": "2025-08-04T13:15:03.807Z"
   },
   {
    "duration": 4,
    "start_time": "2025-08-04T13:15:18.479Z"
   },
   {
    "duration": 5,
    "start_time": "2025-08-04T13:15:32.214Z"
   },
   {
    "duration": 3,
    "start_time": "2025-08-04T13:15:39.273Z"
   },
   {
    "duration": 25,
    "start_time": "2025-08-04T13:15:49.441Z"
   },
   {
    "duration": 4,
    "start_time": "2025-08-04T13:16:08.273Z"
   },
   {
    "duration": 1487,
    "start_time": "2025-08-04T13:16:14.195Z"
   },
   {
    "duration": 1421,
    "start_time": "2025-08-04T13:16:18.766Z"
   },
   {
    "duration": 8,
    "start_time": "2025-08-04T13:16:32.397Z"
   },
   {
    "duration": 26,
    "start_time": "2025-08-04T13:16:37.847Z"
   },
   {
    "duration": 22,
    "start_time": "2025-08-04T13:17:20.949Z"
   },
   {
    "duration": 20,
    "start_time": "2025-08-04T13:17:42.565Z"
   },
   {
    "duration": 13,
    "start_time": "2025-08-04T13:17:51.983Z"
   },
   {
    "duration": 19,
    "start_time": "2025-08-04T13:18:01.319Z"
   },
   {
    "duration": 21,
    "start_time": "2025-08-04T13:18:10.778Z"
   },
   {
    "duration": 12,
    "start_time": "2025-08-04T13:22:52.921Z"
   },
   {
    "duration": 12,
    "start_time": "2025-08-04T13:22:57.432Z"
   },
   {
    "duration": 14,
    "start_time": "2025-08-04T13:23:18.362Z"
   },
   {
    "duration": 18,
    "start_time": "2025-08-04T13:23:51.180Z"
   },
   {
    "duration": 27,
    "start_time": "2025-08-04T13:23:55.481Z"
   },
   {
    "duration": 12,
    "start_time": "2025-08-04T13:23:59.183Z"
   },
   {
    "duration": 16,
    "start_time": "2025-08-04T13:24:02.440Z"
   },
   {
    "duration": 12,
    "start_time": "2025-08-04T13:24:08.062Z"
   },
   {
    "duration": 4,
    "start_time": "2025-08-04T13:24:40.051Z"
   },
   {
    "duration": 11,
    "start_time": "2025-08-04T13:24:48.018Z"
   },
   {
    "duration": 139,
    "start_time": "2025-08-04T13:31:03.075Z"
   },
   {
    "duration": 619,
    "start_time": "2025-08-04T14:06:49.090Z"
   },
   {
    "duration": 1090,
    "start_time": "2025-08-04T14:10:37.409Z"
   },
   {
    "duration": 2251,
    "start_time": "2025-08-04T14:10:44.943Z"
   },
   {
    "duration": 3,
    "start_time": "2025-08-04T14:11:49.365Z"
   },
   {
    "duration": 22,
    "start_time": "2025-08-04T14:12:10.776Z"
   },
   {
    "duration": 30,
    "start_time": "2025-08-04T14:12:22.550Z"
   },
   {
    "duration": 23,
    "start_time": "2025-08-04T14:12:50.177Z"
   },
   {
    "duration": 4,
    "start_time": "2025-08-04T14:12:53.402Z"
   },
   {
    "duration": 26,
    "start_time": "2025-08-04T14:12:55.122Z"
   },
   {
    "duration": 23,
    "start_time": "2025-08-04T14:13:04.102Z"
   },
   {
    "duration": 69,
    "start_time": "2025-08-04T14:13:20.804Z"
   },
   {
    "duration": 61,
    "start_time": "2025-08-04T14:13:27.965Z"
   },
   {
    "duration": 114,
    "start_time": "2025-08-04T14:13:45.554Z"
   },
   {
    "duration": 113,
    "start_time": "2025-08-04T14:13:52.555Z"
   },
   {
    "duration": 120,
    "start_time": "2025-08-04T14:14:01.487Z"
   },
   {
    "duration": 166,
    "start_time": "2025-08-04T14:14:17.442Z"
   },
   {
    "duration": 184,
    "start_time": "2025-08-04T14:14:35.503Z"
   },
   {
    "duration": 128,
    "start_time": "2025-08-04T14:14:43.786Z"
   },
   {
    "duration": 82,
    "start_time": "2025-08-04T14:14:48.565Z"
   },
   {
    "duration": 168,
    "start_time": "2025-08-04T14:14:53.665Z"
   },
   {
    "duration": 140,
    "start_time": "2025-08-04T14:15:04.179Z"
   },
   {
    "duration": 121,
    "start_time": "2025-08-04T14:15:09.693Z"
   },
   {
    "duration": 82,
    "start_time": "2025-08-04T14:15:15.553Z"
   },
   {
    "duration": 66,
    "start_time": "2025-08-04T14:15:45.237Z"
   },
   {
    "duration": 18,
    "start_time": "2025-08-04T14:15:59.962Z"
   },
   {
    "duration": 10,
    "start_time": "2025-08-04T14:16:30.469Z"
   },
   {
    "duration": 10,
    "start_time": "2025-08-04T14:16:32.112Z"
   },
   {
    "duration": 10,
    "start_time": "2025-08-04T14:16:40.225Z"
   },
   {
    "duration": 9,
    "start_time": "2025-08-04T14:16:47.707Z"
   },
   {
    "duration": 1652,
    "start_time": "2025-08-04T14:17:01.898Z"
   },
   {
    "duration": 61,
    "start_time": "2025-08-04T14:17:08.324Z"
   },
   {
    "duration": 76,
    "start_time": "2025-08-04T14:19:23.095Z"
   },
   {
    "duration": 61,
    "start_time": "2025-08-04T14:19:25.273Z"
   },
   {
    "duration": 75,
    "start_time": "2025-08-04T14:21:02.962Z"
   },
   {
    "duration": 62,
    "start_time": "2025-08-04T14:21:08.072Z"
   },
   {
    "duration": 59,
    "start_time": "2025-08-04T14:21:28.983Z"
   },
   {
    "duration": 74,
    "start_time": "2025-08-04T14:21:35.312Z"
   },
   {
    "duration": 58,
    "start_time": "2025-08-04T14:22:05.570Z"
   },
   {
    "duration": 64,
    "start_time": "2025-08-04T14:22:10.024Z"
   },
   {
    "duration": 88,
    "start_time": "2025-08-04T14:22:15.346Z"
   },
   {
    "duration": 80,
    "start_time": "2025-08-04T14:22:17.360Z"
   },
   {
    "duration": 77,
    "start_time": "2025-08-04T14:22:45.652Z"
   },
   {
    "duration": 77,
    "start_time": "2025-08-04T14:22:51.557Z"
   },
   {
    "duration": 142,
    "start_time": "2025-08-04T14:23:32.278Z"
   },
   {
    "duration": 345,
    "start_time": "2025-08-04T14:28:23.239Z"
   },
   {
    "duration": 12,
    "start_time": "2025-08-04T14:29:44.979Z"
   },
   {
    "duration": 392,
    "start_time": "2025-08-04T14:29:52.746Z"
   },
   {
    "duration": 321,
    "start_time": "2025-08-04T14:30:01.080Z"
   },
   {
    "duration": 129,
    "start_time": "2025-08-04T14:30:12.265Z"
   },
   {
    "duration": 4,
    "start_time": "2025-08-04T14:30:30.942Z"
   },
   {
    "duration": 11,
    "start_time": "2025-08-04T14:41:21.994Z"
   },
   {
    "duration": 8,
    "start_time": "2025-08-04T14:42:09.766Z"
   },
   {
    "duration": 14,
    "start_time": "2025-08-04T14:42:12.629Z"
   },
   {
    "duration": 5,
    "start_time": "2025-08-04T14:42:19.293Z"
   },
   {
    "duration": 56,
    "start_time": "2025-08-04T14:43:39.966Z"
   },
   {
    "duration": 9,
    "start_time": "2025-08-04T14:43:48.734Z"
   },
   {
    "duration": 9,
    "start_time": "2025-08-04T14:46:41.097Z"
   },
   {
    "duration": 22,
    "start_time": "2025-08-04T14:46:43.563Z"
   },
   {
    "duration": 13,
    "start_time": "2025-08-04T14:46:59.926Z"
   },
   {
    "duration": 94,
    "start_time": "2025-08-04T14:47:45.276Z"
   },
   {
    "duration": 12,
    "start_time": "2025-08-04T14:47:55.004Z"
   },
   {
    "duration": 6,
    "start_time": "2025-08-04T14:48:12.526Z"
   },
   {
    "duration": 10,
    "start_time": "2025-08-04T14:48:13.921Z"
   },
   {
    "duration": 16,
    "start_time": "2025-08-04T14:48:39.852Z"
   },
   {
    "duration": 15,
    "start_time": "2025-08-04T14:48:41.246Z"
   },
   {
    "duration": 9,
    "start_time": "2025-08-04T14:48:55.399Z"
   },
   {
    "duration": 10,
    "start_time": "2025-08-04T14:49:00.604Z"
   },
   {
    "duration": 10,
    "start_time": "2025-08-04T14:49:06.171Z"
   },
   {
    "duration": 516,
    "start_time": "2025-08-04T14:49:21.458Z"
   },
   {
    "duration": 114,
    "start_time": "2025-08-04T14:49:23.659Z"
   },
   {
    "duration": 160,
    "start_time": "2025-08-04T14:49:48.132Z"
   },
   {
    "duration": 145,
    "start_time": "2025-08-04T14:51:04.937Z"
   },
   {
    "duration": 142,
    "start_time": "2025-08-04T14:51:10.256Z"
   },
   {
    "duration": 149,
    "start_time": "2025-08-04T14:51:12.625Z"
   },
   {
    "duration": 149,
    "start_time": "2025-08-04T14:51:15.503Z"
   },
   {
    "duration": 146,
    "start_time": "2025-08-04T14:51:18.171Z"
   },
   {
    "duration": 151,
    "start_time": "2025-08-04T14:51:23.929Z"
   },
   {
    "duration": 1252,
    "start_time": "2025-08-04T14:51:39.627Z"
   },
   {
    "duration": 9,
    "start_time": "2025-08-04T14:51:40.882Z"
   },
   {
    "duration": 10,
    "start_time": "2025-08-04T14:51:40.893Z"
   },
   {
    "duration": 1705,
    "start_time": "2025-08-04T14:51:40.905Z"
   },
   {
    "duration": 36,
    "start_time": "2025-08-04T14:51:42.613Z"
   },
   {
    "duration": 20,
    "start_time": "2025-08-04T14:51:42.651Z"
   },
   {
    "duration": 10,
    "start_time": "2025-08-04T14:51:42.673Z"
   },
   {
    "duration": 211,
    "start_time": "2025-08-04T14:51:42.685Z"
   },
   {
    "duration": 665,
    "start_time": "2025-08-04T14:51:42.897Z"
   },
   {
    "duration": 2337,
    "start_time": "2025-08-04T14:51:43.563Z"
   },
   {
    "duration": 116,
    "start_time": "2025-08-04T14:51:45.902Z"
   },
   {
    "duration": 0,
    "start_time": "2025-08-04T14:51:46.019Z"
   },
   {
    "duration": 0,
    "start_time": "2025-08-04T14:51:46.020Z"
   },
   {
    "duration": 0,
    "start_time": "2025-08-04T14:51:46.021Z"
   },
   {
    "duration": 0,
    "start_time": "2025-08-04T14:51:46.022Z"
   },
   {
    "duration": 0,
    "start_time": "2025-08-04T14:51:46.023Z"
   },
   {
    "duration": 0,
    "start_time": "2025-08-04T14:51:46.024Z"
   },
   {
    "duration": 19,
    "start_time": "2025-08-04T14:51:57.045Z"
   },
   {
    "duration": 106,
    "start_time": "2025-08-04T14:51:59.848Z"
   },
   {
    "duration": 1390,
    "start_time": "2025-08-04T14:52:04.661Z"
   },
   {
    "duration": 12,
    "start_time": "2025-08-04T14:52:06.055Z"
   },
   {
    "duration": 25,
    "start_time": "2025-08-04T14:52:06.069Z"
   },
   {
    "duration": 1716,
    "start_time": "2025-08-04T14:52:06.096Z"
   },
   {
    "duration": 22,
    "start_time": "2025-08-04T14:52:07.814Z"
   },
   {
    "duration": 65,
    "start_time": "2025-08-04T14:52:07.852Z"
   },
   {
    "duration": 76,
    "start_time": "2025-08-04T14:52:07.919Z"
   },
   {
    "duration": 140,
    "start_time": "2025-08-04T14:52:07.996Z"
   },
   {
    "duration": 707,
    "start_time": "2025-08-04T14:52:08.138Z"
   },
   {
    "duration": 2331,
    "start_time": "2025-08-04T14:52:08.848Z"
   },
   {
    "duration": 84,
    "start_time": "2025-08-04T14:52:11.181Z"
   },
   {
    "duration": 208,
    "start_time": "2025-08-04T14:52:11.267Z"
   },
   {
    "duration": 377,
    "start_time": "2025-08-04T14:52:11.477Z"
   },
   {
    "duration": 431,
    "start_time": "2025-08-04T14:52:11.857Z"
   },
   {
    "duration": 7,
    "start_time": "2025-08-04T14:52:12.290Z"
   },
   {
    "duration": 82,
    "start_time": "2025-08-04T14:52:12.298Z"
   },
   {
    "duration": 183,
    "start_time": "2025-08-04T14:52:12.383Z"
   },
   {
    "duration": 11,
    "start_time": "2025-08-04T14:52:55.895Z"
   },
   {
    "duration": 7,
    "start_time": "2025-08-04T14:53:05.399Z"
   },
   {
    "duration": 7,
    "start_time": "2025-08-04T14:53:41.854Z"
   },
   {
    "duration": 6,
    "start_time": "2025-08-04T14:53:50.962Z"
   },
   {
    "duration": 6,
    "start_time": "2025-08-04T14:54:23.441Z"
   },
   {
    "duration": 266,
    "start_time": "2025-08-04T14:59:05.685Z"
   },
   {
    "duration": 498,
    "start_time": "2025-08-04T14:59:14.762Z"
   },
   {
    "duration": 354,
    "start_time": "2025-08-04T15:00:25.404Z"
   },
   {
    "duration": 486,
    "start_time": "2025-08-04T15:00:30.698Z"
   },
   {
    "duration": 560,
    "start_time": "2025-08-04T15:02:14.217Z"
   },
   {
    "duration": 516,
    "start_time": "2025-08-04T15:02:18.508Z"
   },
   {
    "duration": 487,
    "start_time": "2025-08-04T15:02:50.555Z"
   },
   {
    "duration": 485,
    "start_time": "2025-08-04T15:03:30.323Z"
   },
   {
    "duration": 460,
    "start_time": "2025-08-04T15:03:38.281Z"
   },
   {
    "duration": 14,
    "start_time": "2025-08-04T15:21:21.146Z"
   },
   {
    "duration": 10,
    "start_time": "2025-08-04T15:25:11.080Z"
   },
   {
    "duration": 1553,
    "start_time": "2025-08-04T15:25:18.363Z"
   },
   {
    "duration": 19,
    "start_time": "2025-08-04T15:25:30.112Z"
   },
   {
    "duration": 13,
    "start_time": "2025-08-04T15:26:11.566Z"
   },
   {
    "duration": 13,
    "start_time": "2025-08-04T15:26:18.792Z"
   },
   {
    "duration": 12,
    "start_time": "2025-08-04T15:26:27.091Z"
   },
   {
    "duration": 10,
    "start_time": "2025-08-04T15:28:06.868Z"
   },
   {
    "duration": 1203,
    "start_time": "2025-08-04T15:34:14.583Z"
   },
   {
    "duration": 9,
    "start_time": "2025-08-04T15:34:15.788Z"
   },
   {
    "duration": 9,
    "start_time": "2025-08-04T15:34:15.799Z"
   },
   {
    "duration": 1676,
    "start_time": "2025-08-04T15:34:15.810Z"
   },
   {
    "duration": 22,
    "start_time": "2025-08-04T15:34:17.488Z"
   },
   {
    "duration": 43,
    "start_time": "2025-08-04T15:34:17.512Z"
   },
   {
    "duration": 12,
    "start_time": "2025-08-04T15:34:17.556Z"
   },
   {
    "duration": 146,
    "start_time": "2025-08-04T15:34:17.570Z"
   },
   {
    "duration": 643,
    "start_time": "2025-08-04T15:34:17.718Z"
   },
   {
    "duration": 2145,
    "start_time": "2025-08-04T15:34:18.364Z"
   },
   {
    "duration": 73,
    "start_time": "2025-08-04T15:34:20.511Z"
   },
   {
    "duration": 167,
    "start_time": "2025-08-04T15:34:20.586Z"
   },
   {
    "duration": 365,
    "start_time": "2025-08-04T15:34:20.755Z"
   },
   {
    "duration": 397,
    "start_time": "2025-08-04T15:34:21.122Z"
   },
   {
    "duration": 5,
    "start_time": "2025-08-04T15:34:21.521Z"
   },
   {
    "duration": 25,
    "start_time": "2025-08-04T15:34:21.527Z"
   },
   {
    "duration": 163,
    "start_time": "2025-08-04T15:34:21.553Z"
   },
   {
    "duration": 6,
    "start_time": "2025-08-04T15:34:21.718Z"
   },
   {
    "duration": 496,
    "start_time": "2025-08-04T15:34:21.725Z"
   },
   {
    "duration": 11,
    "start_time": "2025-08-04T15:34:22.223Z"
   },
   {
    "duration": 14,
    "start_time": "2025-08-04T15:34:22.236Z"
   },
   {
    "duration": 22,
    "start_time": "2025-08-04T15:34:31.507Z"
   },
   {
    "duration": 93,
    "start_time": "2025-08-04T15:35:24.131Z"
   },
   {
    "duration": 95,
    "start_time": "2025-08-04T15:35:37.130Z"
   },
   {
    "duration": 4,
    "start_time": "2025-08-04T15:35:43.041Z"
   },
   {
    "duration": 84,
    "start_time": "2025-08-04T15:35:46.269Z"
   },
   {
    "duration": 21,
    "start_time": "2025-08-04T15:35:48.004Z"
   },
   {
    "duration": 19,
    "start_time": "2025-08-04T15:35:57.548Z"
   },
   {
    "duration": 23,
    "start_time": "2025-08-04T15:36:13.992Z"
   },
   {
    "duration": 23,
    "start_time": "2025-08-04T15:36:19.279Z"
   },
   {
    "duration": 19,
    "start_time": "2025-08-04T15:36:23.017Z"
   },
   {
    "duration": 18,
    "start_time": "2025-08-04T15:36:28.455Z"
   },
   {
    "duration": 14,
    "start_time": "2025-08-04T15:36:58.381Z"
   },
   {
    "duration": 29,
    "start_time": "2025-08-04T15:37:18.604Z"
   },
   {
    "duration": 17,
    "start_time": "2025-08-04T15:37:48.030Z"
   },
   {
    "duration": 16,
    "start_time": "2025-08-04T15:37:50.478Z"
   },
   {
    "duration": 19,
    "start_time": "2025-08-04T15:37:58.156Z"
   },
   {
    "duration": 24,
    "start_time": "2025-08-04T15:38:19.049Z"
   },
   {
    "duration": 5,
    "start_time": "2025-08-04T15:38:22.647Z"
   },
   {
    "duration": 4,
    "start_time": "2025-08-04T15:38:30.162Z"
   },
   {
    "duration": 7,
    "start_time": "2025-08-04T15:38:32.627Z"
   },
   {
    "duration": 23,
    "start_time": "2025-08-04T15:38:36.653Z"
   },
   {
    "duration": 103,
    "start_time": "2025-08-04T15:38:37.800Z"
   },
   {
    "duration": 17,
    "start_time": "2025-08-04T15:38:50.105Z"
   },
   {
    "duration": 23,
    "start_time": "2025-08-04T15:38:57.569Z"
   },
   {
    "duration": 6,
    "start_time": "2025-08-04T15:38:59.676Z"
   },
   {
    "duration": 5,
    "start_time": "2025-08-04T15:39:17.561Z"
   },
   {
    "duration": 31,
    "start_time": "2025-08-04T15:39:59.732Z"
   },
   {
    "duration": 5,
    "start_time": "2025-08-04T15:40:01.801Z"
   },
   {
    "duration": 5,
    "start_time": "2025-08-04T15:40:03.813Z"
   },
   {
    "duration": 24,
    "start_time": "2025-08-04T15:40:14.694Z"
   },
   {
    "duration": 5,
    "start_time": "2025-08-04T15:40:15.683Z"
   },
   {
    "duration": 5,
    "start_time": "2025-08-04T15:40:16.836Z"
   },
   {
    "duration": 23,
    "start_time": "2025-08-04T15:40:32.094Z"
   },
   {
    "duration": 5,
    "start_time": "2025-08-04T15:40:33.035Z"
   },
   {
    "duration": 6,
    "start_time": "2025-08-04T15:40:34.178Z"
   },
   {
    "duration": 16,
    "start_time": "2025-08-04T15:40:45.692Z"
   },
   {
    "duration": 23,
    "start_time": "2025-08-04T15:41:00.247Z"
   },
   {
    "duration": 5,
    "start_time": "2025-08-04T15:41:01.933Z"
   },
   {
    "duration": 6,
    "start_time": "2025-08-04T15:41:17.296Z"
   },
   {
    "duration": 6,
    "start_time": "2025-08-04T15:41:21.249Z"
   },
   {
    "duration": 4,
    "start_time": "2025-08-04T15:42:37.904Z"
   },
   {
    "duration": 7,
    "start_time": "2025-08-04T15:42:40.578Z"
   },
   {
    "duration": 10,
    "start_time": "2025-08-04T15:43:23.209Z"
   },
   {
    "duration": 7,
    "start_time": "2025-08-04T15:43:26.781Z"
   },
   {
    "duration": 4,
    "start_time": "2025-08-04T15:44:42.625Z"
   },
   {
    "duration": 4,
    "start_time": "2025-08-04T15:44:49.777Z"
   },
   {
    "duration": 23,
    "start_time": "2025-08-04T15:46:36.133Z"
   },
   {
    "duration": 6,
    "start_time": "2025-08-04T15:46:43.870Z"
   },
   {
    "duration": 7,
    "start_time": "2025-08-04T15:46:52.546Z"
   },
   {
    "duration": 5,
    "start_time": "2025-08-04T15:47:06.840Z"
   },
   {
    "duration": 26,
    "start_time": "2025-08-04T15:47:28.572Z"
   },
   {
    "duration": 27,
    "start_time": "2025-08-04T15:47:35.407Z"
   },
   {
    "duration": 25,
    "start_time": "2025-08-04T15:47:41.180Z"
   },
   {
    "duration": 30,
    "start_time": "2025-08-04T15:47:50.971Z"
   },
   {
    "duration": 24,
    "start_time": "2025-08-04T15:47:54.843Z"
   },
   {
    "duration": 35,
    "start_time": "2025-08-04T15:48:55.887Z"
   },
   {
    "duration": 6,
    "start_time": "2025-08-04T15:48:57.692Z"
   },
   {
    "duration": 3,
    "start_time": "2025-08-04T15:50:02.715Z"
   },
   {
    "duration": 1214,
    "start_time": "2025-08-04T15:52:13.906Z"
   },
   {
    "duration": 10,
    "start_time": "2025-08-04T15:52:15.123Z"
   },
   {
    "duration": 25,
    "start_time": "2025-08-04T15:52:15.134Z"
   },
   {
    "duration": 1802,
    "start_time": "2025-08-04T15:52:15.162Z"
   },
   {
    "duration": 21,
    "start_time": "2025-08-04T15:52:16.965Z"
   },
   {
    "duration": 164,
    "start_time": "2025-08-04T15:52:16.988Z"
   },
   {
    "duration": 14,
    "start_time": "2025-08-04T15:52:17.153Z"
   },
   {
    "duration": 143,
    "start_time": "2025-08-04T15:52:17.169Z"
   },
   {
    "duration": 643,
    "start_time": "2025-08-04T15:52:17.314Z"
   },
   {
    "duration": 2191,
    "start_time": "2025-08-04T15:52:17.960Z"
   },
   {
    "duration": 81,
    "start_time": "2025-08-04T15:52:20.153Z"
   },
   {
    "duration": 165,
    "start_time": "2025-08-04T15:52:20.235Z"
   },
   {
    "duration": 388,
    "start_time": "2025-08-04T15:52:20.402Z"
   },
   {
    "duration": 425,
    "start_time": "2025-08-04T15:52:20.791Z"
   },
   {
    "duration": 7,
    "start_time": "2025-08-04T15:52:21.217Z"
   },
   {
    "duration": 148,
    "start_time": "2025-08-04T15:52:21.225Z"
   },
   {
    "duration": 184,
    "start_time": "2025-08-04T15:52:21.374Z"
   },
   {
    "duration": 7,
    "start_time": "2025-08-04T15:52:21.560Z"
   },
   {
    "duration": 564,
    "start_time": "2025-08-04T15:52:21.569Z"
   },
   {
    "duration": 33,
    "start_time": "2025-08-04T15:52:22.134Z"
   },
   {
    "duration": 75,
    "start_time": "2025-08-04T15:52:22.169Z"
   },
   {
    "duration": 16,
    "start_time": "2025-08-04T15:53:01.021Z"
   },
   {
    "duration": 5,
    "start_time": "2025-08-04T15:53:59.882Z"
   },
   {
    "duration": 12,
    "start_time": "2025-08-04T15:54:04.905Z"
   },
   {
    "duration": 11,
    "start_time": "2025-08-04T15:54:06.941Z"
   },
   {
    "duration": 8,
    "start_time": "2025-08-04T15:54:13.141Z"
   },
   {
    "duration": 8,
    "start_time": "2025-08-04T15:54:33.386Z"
   },
   {
    "duration": 11,
    "start_time": "2025-08-04T15:54:40.361Z"
   },
   {
    "duration": 10,
    "start_time": "2025-08-04T15:55:23.898Z"
   },
   {
    "duration": 9,
    "start_time": "2025-08-04T15:55:29.773Z"
   },
   {
    "duration": 9,
    "start_time": "2025-08-04T15:55:30.925Z"
   },
   {
    "duration": 10,
    "start_time": "2025-08-04T15:55:35.430Z"
   },
   {
    "duration": 9,
    "start_time": "2025-08-04T15:55:42.206Z"
   },
   {
    "duration": 11,
    "start_time": "2025-08-04T15:56:09.205Z"
   },
   {
    "duration": 9,
    "start_time": "2025-08-04T15:56:21.882Z"
   },
   {
    "duration": 108,
    "start_time": "2025-08-04T15:56:51.158Z"
   },
   {
    "duration": 11,
    "start_time": "2025-08-04T15:56:55.537Z"
   },
   {
    "duration": 11,
    "start_time": "2025-08-04T15:56:57.584Z"
   },
   {
    "duration": 11,
    "start_time": "2025-08-04T15:56:59.514Z"
   },
   {
    "duration": 17,
    "start_time": "2025-08-04T15:58:31.780Z"
   },
   {
    "duration": 10,
    "start_time": "2025-08-04T15:58:35.682Z"
   },
   {
    "duration": 10,
    "start_time": "2025-08-04T15:58:50.852Z"
   },
   {
    "duration": 9,
    "start_time": "2025-08-04T15:59:04.239Z"
   },
   {
    "duration": 9,
    "start_time": "2025-08-04T16:00:31.403Z"
   },
   {
    "duration": 9,
    "start_time": "2025-08-04T16:00:40.832Z"
   },
   {
    "duration": 9,
    "start_time": "2025-08-04T16:02:36.700Z"
   },
   {
    "duration": 11,
    "start_time": "2025-08-04T16:03:12.149Z"
   },
   {
    "duration": 16,
    "start_time": "2025-08-04T16:03:21.111Z"
   },
   {
    "duration": 1396,
    "start_time": "2025-08-04T16:03:26.048Z"
   },
   {
    "duration": 1428,
    "start_time": "2025-08-04T16:03:28.663Z"
   },
   {
    "duration": 14,
    "start_time": "2025-08-04T16:03:31.891Z"
   },
   {
    "duration": 10,
    "start_time": "2025-08-04T16:03:34.370Z"
   },
   {
    "duration": 14,
    "start_time": "2025-08-04T16:03:48.396Z"
   },
   {
    "duration": 10,
    "start_time": "2025-08-04T16:03:52.878Z"
   },
   {
    "duration": 10,
    "start_time": "2025-08-04T16:04:27.375Z"
   },
   {
    "duration": 1570,
    "start_time": "2025-08-04T16:04:40.302Z"
   },
   {
    "duration": 4,
    "start_time": "2025-08-04T16:04:56.228Z"
   },
   {
    "duration": 13,
    "start_time": "2025-08-04T16:05:05.099Z"
   },
   {
    "duration": 10,
    "start_time": "2025-08-04T16:05:12.164Z"
   },
   {
    "duration": 7,
    "start_time": "2025-08-04T16:05:23.456Z"
   },
   {
    "duration": 7,
    "start_time": "2025-08-04T16:05:41.913Z"
   },
   {
    "duration": 9,
    "start_time": "2025-08-04T19:26:55.710Z"
   },
   {
    "duration": 21,
    "start_time": "2025-08-04T19:26:59.475Z"
   },
   {
    "duration": 27,
    "start_time": "2025-08-04T19:27:16.184Z"
   },
   {
    "duration": 5,
    "start_time": "2025-08-04T19:29:44.512Z"
   },
   {
    "duration": 266,
    "start_time": "2025-08-04T19:29:50.705Z"
   },
   {
    "duration": 284,
    "start_time": "2025-08-04T19:30:05.731Z"
   },
   {
    "duration": 304,
    "start_time": "2025-08-04T19:30:28.573Z"
   },
   {
    "duration": 1144,
    "start_time": "2025-08-04T19:32:19.806Z"
   },
   {
    "duration": 8,
    "start_time": "2025-08-04T19:32:20.952Z"
   },
   {
    "duration": 23,
    "start_time": "2025-08-04T19:32:20.962Z"
   },
   {
    "duration": 1718,
    "start_time": "2025-08-04T19:32:20.987Z"
   },
   {
    "duration": 19,
    "start_time": "2025-08-04T19:32:22.707Z"
   },
   {
    "duration": 86,
    "start_time": "2025-08-04T19:32:22.727Z"
   },
   {
    "duration": 30,
    "start_time": "2025-08-04T19:32:22.814Z"
   },
   {
    "duration": 135,
    "start_time": "2025-08-04T19:32:22.846Z"
   },
   {
    "duration": 601,
    "start_time": "2025-08-04T19:32:22.983Z"
   },
   {
    "duration": 2165,
    "start_time": "2025-08-04T19:32:23.585Z"
   },
   {
    "duration": 98,
    "start_time": "2025-08-04T19:32:25.752Z"
   },
   {
    "duration": 155,
    "start_time": "2025-08-04T19:32:25.853Z"
   },
   {
    "duration": 376,
    "start_time": "2025-08-04T19:32:26.011Z"
   },
   {
    "duration": 426,
    "start_time": "2025-08-04T19:32:26.391Z"
   },
   {
    "duration": 7,
    "start_time": "2025-08-04T19:32:26.819Z"
   },
   {
    "duration": 22,
    "start_time": "2025-08-04T19:32:26.827Z"
   },
   {
    "duration": 154,
    "start_time": "2025-08-04T19:32:26.851Z"
   },
   {
    "duration": 6,
    "start_time": "2025-08-04T19:32:27.006Z"
   },
   {
    "duration": 513,
    "start_time": "2025-08-04T19:32:27.014Z"
   },
   {
    "duration": 14,
    "start_time": "2025-08-04T19:32:27.528Z"
   },
   {
    "duration": 12,
    "start_time": "2025-08-04T19:32:27.549Z"
   },
   {
    "duration": 5,
    "start_time": "2025-08-04T19:32:27.562Z"
   },
   {
    "duration": 31,
    "start_time": "2025-08-04T19:32:27.568Z"
   },
   {
    "duration": 3,
    "start_time": "2025-08-04T19:32:27.601Z"
   },
   {
    "duration": 2086,
    "start_time": "2025-08-04T19:33:03.007Z"
   },
   {
    "duration": 5,
    "start_time": "2025-08-04T19:33:11.886Z"
   },
   {
    "duration": 4,
    "start_time": "2025-08-04T19:33:25.922Z"
   },
   {
    "duration": 1250,
    "start_time": "2025-08-04T19:37:48.334Z"
   },
   {
    "duration": 8,
    "start_time": "2025-08-04T19:37:49.585Z"
   },
   {
    "duration": 7,
    "start_time": "2025-08-04T19:37:49.595Z"
   },
   {
    "duration": 1595,
    "start_time": "2025-08-04T19:37:49.604Z"
   },
   {
    "duration": 22,
    "start_time": "2025-08-04T19:37:51.202Z"
   },
   {
    "duration": 36,
    "start_time": "2025-08-04T19:37:51.226Z"
   },
   {
    "duration": 38,
    "start_time": "2025-08-04T19:37:51.264Z"
   },
   {
    "duration": 148,
    "start_time": "2025-08-04T19:37:51.304Z"
   },
   {
    "duration": 632,
    "start_time": "2025-08-04T19:37:51.454Z"
   },
   {
    "duration": 2142,
    "start_time": "2025-08-04T19:37:52.087Z"
   },
   {
    "duration": 72,
    "start_time": "2025-08-04T19:37:54.231Z"
   },
   {
    "duration": 1316,
    "start_time": "2025-08-04T19:38:34.726Z"
   },
   {
    "duration": 10,
    "start_time": "2025-08-04T19:38:36.044Z"
   },
   {
    "duration": 137,
    "start_time": "2025-08-04T19:38:36.055Z"
   },
   {
    "duration": 1568,
    "start_time": "2025-08-04T19:38:36.194Z"
   },
   {
    "duration": 21,
    "start_time": "2025-08-04T19:38:37.764Z"
   },
   {
    "duration": 32,
    "start_time": "2025-08-04T19:38:37.786Z"
   },
   {
    "duration": 11,
    "start_time": "2025-08-04T19:38:37.819Z"
   },
   {
    "duration": 139,
    "start_time": "2025-08-04T19:38:37.850Z"
   },
   {
    "duration": 616,
    "start_time": "2025-08-04T19:38:37.991Z"
   },
   {
    "duration": 2116,
    "start_time": "2025-08-04T19:38:38.609Z"
   },
   {
    "duration": 78,
    "start_time": "2025-08-04T19:38:40.727Z"
   },
   {
    "duration": 167,
    "start_time": "2025-08-04T19:38:40.806Z"
   },
   {
    "duration": 348,
    "start_time": "2025-08-04T19:38:40.974Z"
   },
   {
    "duration": 376,
    "start_time": "2025-08-04T19:38:41.325Z"
   },
   {
    "duration": 5,
    "start_time": "2025-08-04T19:38:41.703Z"
   },
   {
    "duration": 14,
    "start_time": "2025-08-04T19:38:41.710Z"
   },
   {
    "duration": 160,
    "start_time": "2025-08-04T19:38:41.726Z"
   },
   {
    "duration": 6,
    "start_time": "2025-08-04T19:38:41.887Z"
   },
   {
    "duration": 500,
    "start_time": "2025-08-04T19:38:41.895Z"
   },
   {
    "duration": 7,
    "start_time": "2025-08-04T19:38:42.397Z"
   },
   {
    "duration": 35,
    "start_time": "2025-08-04T19:38:42.405Z"
   },
   {
    "duration": 30,
    "start_time": "2025-08-04T19:38:42.442Z"
   },
   {
    "duration": 720,
    "start_time": "2025-08-04T19:39:21.592Z"
   },
   {
    "duration": 388,
    "start_time": "2025-08-04T19:39:31.619Z"
   },
   {
    "duration": 738,
    "start_time": "2025-08-04T19:39:44.963Z"
   },
   {
    "duration": 1215,
    "start_time": "2025-08-04T19:41:09.545Z"
   },
   {
    "duration": 9,
    "start_time": "2025-08-04T19:41:10.763Z"
   },
   {
    "duration": 65,
    "start_time": "2025-08-04T19:41:10.773Z"
   },
   {
    "duration": 1582,
    "start_time": "2025-08-04T19:41:10.841Z"
   },
   {
    "duration": 30,
    "start_time": "2025-08-04T19:41:12.425Z"
   },
   {
    "duration": 21,
    "start_time": "2025-08-04T19:41:12.457Z"
   },
   {
    "duration": 11,
    "start_time": "2025-08-04T19:41:12.480Z"
   },
   {
    "duration": 214,
    "start_time": "2025-08-04T19:41:12.493Z"
   },
   {
    "duration": 626,
    "start_time": "2025-08-04T19:41:12.708Z"
   },
   {
    "duration": 2172,
    "start_time": "2025-08-04T19:41:13.337Z"
   },
   {
    "duration": 83,
    "start_time": "2025-08-04T19:41:15.511Z"
   },
   {
    "duration": 162,
    "start_time": "2025-08-04T19:41:15.596Z"
   },
   {
    "duration": 372,
    "start_time": "2025-08-04T19:41:15.760Z"
   },
   {
    "duration": 428,
    "start_time": "2025-08-04T19:41:16.134Z"
   },
   {
    "duration": 5,
    "start_time": "2025-08-04T19:41:16.565Z"
   },
   {
    "duration": 39,
    "start_time": "2025-08-04T19:41:16.572Z"
   },
   {
    "duration": 155,
    "start_time": "2025-08-04T19:41:16.613Z"
   },
   {
    "duration": 7,
    "start_time": "2025-08-04T19:41:16.770Z"
   },
   {
    "duration": 526,
    "start_time": "2025-08-04T19:41:16.780Z"
   },
   {
    "duration": 8,
    "start_time": "2025-08-04T19:41:17.308Z"
   },
   {
    "duration": 17,
    "start_time": "2025-08-04T19:41:17.318Z"
   },
   {
    "duration": 21,
    "start_time": "2025-08-04T19:41:17.337Z"
   },
   {
    "duration": 16,
    "start_time": "2025-08-04T19:41:46.733Z"
   },
   {
    "duration": 1149,
    "start_time": "2025-08-04T19:42:50.093Z"
   },
   {
    "duration": 7,
    "start_time": "2025-08-04T19:42:51.244Z"
   },
   {
    "duration": 17,
    "start_time": "2025-08-04T19:42:51.253Z"
   },
   {
    "duration": 1521,
    "start_time": "2025-08-04T19:42:51.271Z"
   },
   {
    "duration": 19,
    "start_time": "2025-08-04T19:42:52.795Z"
   },
   {
    "duration": 41,
    "start_time": "2025-08-04T19:42:52.815Z"
   },
   {
    "duration": 11,
    "start_time": "2025-08-04T19:42:52.857Z"
   },
   {
    "duration": 136,
    "start_time": "2025-08-04T19:42:52.870Z"
   },
   {
    "duration": 630,
    "start_time": "2025-08-04T19:42:53.008Z"
   },
   {
    "duration": 2210,
    "start_time": "2025-08-04T19:42:53.640Z"
   },
   {
    "duration": 75,
    "start_time": "2025-08-04T19:42:55.852Z"
   },
   {
    "duration": 161,
    "start_time": "2025-08-04T19:42:55.929Z"
   },
   {
    "duration": 371,
    "start_time": "2025-08-04T19:42:56.091Z"
   },
   {
    "duration": 436,
    "start_time": "2025-08-04T19:42:56.465Z"
   },
   {
    "duration": 6,
    "start_time": "2025-08-04T19:42:56.903Z"
   },
   {
    "duration": 98,
    "start_time": "2025-08-04T19:42:56.910Z"
   },
   {
    "duration": 162,
    "start_time": "2025-08-04T19:42:57.010Z"
   },
   {
    "duration": 6,
    "start_time": "2025-08-04T19:42:57.174Z"
   },
   {
    "duration": 497,
    "start_time": "2025-08-04T19:42:57.182Z"
   },
   {
    "duration": 8,
    "start_time": "2025-08-04T19:42:57.681Z"
   },
   {
    "duration": 33,
    "start_time": "2025-08-04T19:42:57.691Z"
   },
   {
    "duration": 24,
    "start_time": "2025-08-04T19:42:57.726Z"
   },
   {
    "duration": 11,
    "start_time": "2025-08-04T19:44:13.985Z"
   },
   {
    "duration": 12,
    "start_time": "2025-08-04T19:44:16.358Z"
   },
   {
    "duration": 15,
    "start_time": "2025-08-04T19:44:39.167Z"
   },
   {
    "duration": 26,
    "start_time": "2025-08-04T19:44:43.019Z"
   },
   {
    "duration": 19,
    "start_time": "2025-08-04T19:45:25.122Z"
   },
   {
    "duration": 607,
    "start_time": "2025-08-04T19:45:30.633Z"
   },
   {
    "duration": 906,
    "start_time": "2025-08-04T19:47:40.166Z"
   },
   {
    "duration": 1256,
    "start_time": "2025-08-04T20:04:45.615Z"
   },
   {
    "duration": 8,
    "start_time": "2025-08-04T20:04:46.874Z"
   },
   {
    "duration": 16,
    "start_time": "2025-08-04T20:04:46.884Z"
   },
   {
    "duration": 1603,
    "start_time": "2025-08-04T20:04:46.901Z"
   },
   {
    "duration": 20,
    "start_time": "2025-08-04T20:04:48.506Z"
   },
   {
    "duration": 37,
    "start_time": "2025-08-04T20:04:48.528Z"
   },
   {
    "duration": 10,
    "start_time": "2025-08-04T20:04:48.566Z"
   },
   {
    "duration": 145,
    "start_time": "2025-08-04T20:04:48.578Z"
   },
   {
    "duration": 643,
    "start_time": "2025-08-04T20:04:48.725Z"
   },
   {
    "duration": 2144,
    "start_time": "2025-08-04T20:04:49.370Z"
   },
   {
    "duration": 92,
    "start_time": "2025-08-04T20:04:51.516Z"
   },
   {
    "duration": 161,
    "start_time": "2025-08-04T20:04:51.610Z"
   },
   {
    "duration": 377,
    "start_time": "2025-08-04T20:04:51.773Z"
   },
   {
    "duration": 423,
    "start_time": "2025-08-04T20:04:52.153Z"
   },
   {
    "duration": 5,
    "start_time": "2025-08-04T20:04:52.578Z"
   },
   {
    "duration": 116,
    "start_time": "2025-08-04T20:04:52.585Z"
   },
   {
    "duration": 165,
    "start_time": "2025-08-04T20:04:52.703Z"
   },
   {
    "duration": 8,
    "start_time": "2025-08-04T20:04:52.870Z"
   },
   {
    "duration": 514,
    "start_time": "2025-08-04T20:04:52.881Z"
   },
   {
    "duration": 82,
    "start_time": "2025-08-04T20:04:53.397Z"
   },
   {
    "duration": 0,
    "start_time": "2025-08-04T20:04:53.481Z"
   },
   {
    "duration": 4,
    "start_time": "2025-08-04T20:05:09.944Z"
   },
   {
    "duration": 6,
    "start_time": "2025-08-04T20:06:12.991Z"
   },
   {
    "duration": 111,
    "start_time": "2025-08-04T20:06:28.093Z"
   },
   {
    "duration": 4,
    "start_time": "2025-08-04T20:07:10.650Z"
   },
   {
    "duration": 17,
    "start_time": "2025-08-04T20:07:14.535Z"
   },
   {
    "duration": 6,
    "start_time": "2025-08-04T20:07:36.418Z"
   },
   {
    "duration": 16,
    "start_time": "2025-08-04T20:07:39.177Z"
   },
   {
    "duration": 23,
    "start_time": "2025-08-04T20:08:34.187Z"
   },
   {
    "duration": 1468,
    "start_time": "2025-08-04T20:08:50.417Z"
   },
   {
    "duration": 1213,
    "start_time": "2025-08-04T20:10:23.768Z"
   },
   {
    "duration": 10,
    "start_time": "2025-08-04T20:10:24.984Z"
   },
   {
    "duration": 10,
    "start_time": "2025-08-04T20:10:24.996Z"
   },
   {
    "duration": 1827,
    "start_time": "2025-08-04T20:10:25.009Z"
   },
   {
    "duration": 26,
    "start_time": "2025-08-04T20:10:26.838Z"
   },
   {
    "duration": 55,
    "start_time": "2025-08-04T20:10:26.865Z"
   },
   {
    "duration": 9,
    "start_time": "2025-08-04T20:10:26.922Z"
   },
   {
    "duration": 132,
    "start_time": "2025-08-04T20:10:26.933Z"
   },
   {
    "duration": 616,
    "start_time": "2025-08-04T20:10:27.067Z"
   },
   {
    "duration": 2135,
    "start_time": "2025-08-04T20:10:27.686Z"
   },
   {
    "duration": 62,
    "start_time": "2025-08-04T20:10:29.822Z"
   },
   {
    "duration": 167,
    "start_time": "2025-08-04T20:10:29.886Z"
   },
   {
    "duration": 369,
    "start_time": "2025-08-04T20:10:30.055Z"
   },
   {
    "duration": 405,
    "start_time": "2025-08-04T20:10:30.426Z"
   },
   {
    "duration": 6,
    "start_time": "2025-08-04T20:10:30.833Z"
   },
   {
    "duration": 87,
    "start_time": "2025-08-04T20:10:30.849Z"
   },
   {
    "duration": 164,
    "start_time": "2025-08-04T20:10:30.938Z"
   },
   {
    "duration": 7,
    "start_time": "2025-08-04T20:10:31.103Z"
   },
   {
    "duration": 511,
    "start_time": "2025-08-04T20:10:31.111Z"
   },
   {
    "duration": 5,
    "start_time": "2025-08-04T20:10:31.624Z"
   },
   {
    "duration": 27,
    "start_time": "2025-08-04T20:10:31.631Z"
   },
   {
    "duration": 59146,
    "start_time": "2025-08-04T20:10:31.660Z"
   },
   {
    "duration": 58434,
    "start_time": "2025-08-04T20:11:46.002Z"
   },
   {
    "duration": 28,
    "start_time": "2025-08-04T20:14:38.499Z"
   },
   {
    "duration": 30,
    "start_time": "2025-08-04T20:14:40.149Z"
   },
   {
    "duration": 1209,
    "start_time": "2025-08-04T20:15:01.192Z"
   },
   {
    "duration": 9,
    "start_time": "2025-08-04T20:15:02.403Z"
   },
   {
    "duration": 26,
    "start_time": "2025-08-04T20:15:02.413Z"
   },
   {
    "duration": 1625,
    "start_time": "2025-08-04T20:15:02.440Z"
   },
   {
    "duration": 20,
    "start_time": "2025-08-04T20:15:04.067Z"
   },
   {
    "duration": 37,
    "start_time": "2025-08-04T20:15:04.089Z"
   },
   {
    "duration": 25,
    "start_time": "2025-08-04T20:15:04.127Z"
   },
   {
    "duration": 133,
    "start_time": "2025-08-04T20:15:04.154Z"
   },
   {
    "duration": 695,
    "start_time": "2025-08-04T20:15:04.289Z"
   },
   {
    "duration": 2222,
    "start_time": "2025-08-04T20:15:04.986Z"
   },
   {
    "duration": 94,
    "start_time": "2025-08-04T20:15:07.209Z"
   },
   {
    "duration": 160,
    "start_time": "2025-08-04T20:15:07.305Z"
   },
   {
    "duration": 383,
    "start_time": "2025-08-04T20:15:07.466Z"
   },
   {
    "duration": 426,
    "start_time": "2025-08-04T20:15:07.852Z"
   },
   {
    "duration": 5,
    "start_time": "2025-08-04T20:15:08.280Z"
   },
   {
    "duration": 84,
    "start_time": "2025-08-04T20:15:08.287Z"
   },
   {
    "duration": 143,
    "start_time": "2025-08-04T20:15:08.373Z"
   },
   {
    "duration": 6,
    "start_time": "2025-08-04T20:15:08.518Z"
   },
   {
    "duration": 500,
    "start_time": "2025-08-04T20:15:08.525Z"
   },
   {
    "duration": 4,
    "start_time": "2025-08-04T20:15:09.027Z"
   },
   {
    "duration": 116,
    "start_time": "2025-08-04T20:15:09.033Z"
   },
   {
    "duration": 16,
    "start_time": "2025-08-04T20:15:11.904Z"
   },
   {
    "duration": 29,
    "start_time": "2025-08-04T20:15:24.758Z"
   },
   {
    "duration": 156,
    "start_time": "2025-08-04T20:15:28.775Z"
   },
   {
    "duration": 26,
    "start_time": "2025-08-04T20:15:41.575Z"
   },
   {
    "duration": 29,
    "start_time": "2025-08-04T20:15:47.863Z"
   },
   {
    "duration": 1172,
    "start_time": "2025-08-04T20:17:18.478Z"
   },
   {
    "duration": 9,
    "start_time": "2025-08-04T20:17:19.652Z"
   },
   {
    "duration": 22,
    "start_time": "2025-08-04T20:17:19.662Z"
   },
   {
    "duration": 1538,
    "start_time": "2025-08-04T20:17:19.687Z"
   },
   {
    "duration": 25,
    "start_time": "2025-08-04T20:17:21.226Z"
   },
   {
    "duration": 72,
    "start_time": "2025-08-04T20:17:21.253Z"
   },
   {
    "duration": 18,
    "start_time": "2025-08-04T20:17:21.327Z"
   },
   {
    "duration": 144,
    "start_time": "2025-08-04T20:17:21.347Z"
   },
   {
    "duration": 626,
    "start_time": "2025-08-04T20:17:21.493Z"
   },
   {
    "duration": 2103,
    "start_time": "2025-08-04T20:17:22.122Z"
   },
   {
    "duration": 74,
    "start_time": "2025-08-04T20:17:24.227Z"
   },
   {
    "duration": 243,
    "start_time": "2025-08-04T20:17:24.303Z"
   },
   {
    "duration": 370,
    "start_time": "2025-08-04T20:17:24.548Z"
   },
   {
    "duration": 429,
    "start_time": "2025-08-04T20:17:24.920Z"
   },
   {
    "duration": 5,
    "start_time": "2025-08-04T20:17:25.351Z"
   },
   {
    "duration": 24,
    "start_time": "2025-08-04T20:17:25.358Z"
   },
   {
    "duration": 165,
    "start_time": "2025-08-04T20:17:25.384Z"
   },
   {
    "duration": 6,
    "start_time": "2025-08-04T20:17:25.551Z"
   },
   {
    "duration": 488,
    "start_time": "2025-08-04T20:17:25.558Z"
   },
   {
    "duration": 816542,
    "start_time": "2025-08-04T20:17:26.048Z"
   },
   {
    "duration": 17,
    "start_time": "2025-08-04T20:34:34.547Z"
   },
   {
    "duration": 5,
    "start_time": "2025-08-04T20:35:49.439Z"
   },
   {
    "duration": 19,
    "start_time": "2025-08-04T20:36:04.513Z"
   },
   {
    "duration": 22,
    "start_time": "2025-08-04T20:36:15.611Z"
   },
   {
    "duration": 7,
    "start_time": "2025-08-04T20:40:32.780Z"
   },
   {
    "duration": 20,
    "start_time": "2025-08-04T20:40:41.585Z"
   },
   {
    "duration": 19,
    "start_time": "2025-08-04T20:40:46.229Z"
   },
   {
    "duration": 19,
    "start_time": "2025-08-04T20:41:09.735Z"
   },
   {
    "duration": 14,
    "start_time": "2025-08-04T20:41:23.642Z"
   },
   {
    "duration": 16,
    "start_time": "2025-08-04T20:41:30.174Z"
   },
   {
    "duration": 1488,
    "start_time": "2025-08-05T08:28:52.133Z"
   },
   {
    "duration": 1285,
    "start_time": "2025-08-05T08:32:06.664Z"
   },
   {
    "duration": 9,
    "start_time": "2025-08-05T08:32:07.951Z"
   },
   {
    "duration": 7,
    "start_time": "2025-08-05T08:32:07.962Z"
   },
   {
    "duration": 1643,
    "start_time": "2025-08-05T08:32:07.971Z"
   },
   {
    "duration": 34,
    "start_time": "2025-08-05T08:32:09.616Z"
   },
   {
    "duration": 21,
    "start_time": "2025-08-05T08:32:09.651Z"
   },
   {
    "duration": 11,
    "start_time": "2025-08-05T08:32:09.674Z"
   },
   {
    "duration": 166,
    "start_time": "2025-08-05T08:32:09.687Z"
   },
   {
    "duration": 644,
    "start_time": "2025-08-05T08:32:09.855Z"
   },
   {
    "duration": 2274,
    "start_time": "2025-08-05T08:32:10.502Z"
   },
   {
    "duration": 85,
    "start_time": "2025-08-05T08:32:12.779Z"
   },
   {
    "duration": 163,
    "start_time": "2025-08-05T08:32:12.866Z"
   },
   {
    "duration": 383,
    "start_time": "2025-08-05T08:32:13.031Z"
   },
   {
    "duration": 412,
    "start_time": "2025-08-05T08:32:13.416Z"
   },
   {
    "duration": 5,
    "start_time": "2025-08-05T08:32:13.830Z"
   },
   {
    "duration": 16,
    "start_time": "2025-08-05T08:32:13.849Z"
   },
   {
    "duration": 202,
    "start_time": "2025-08-05T08:32:13.867Z"
   },
   {
    "duration": 7,
    "start_time": "2025-08-05T08:32:14.071Z"
   },
   {
    "duration": 594,
    "start_time": "2025-08-05T08:32:14.079Z"
   },
   {
    "duration": 3,
    "start_time": "2025-08-05T08:32:14.675Z"
   },
   {
    "duration": 37,
    "start_time": "2025-08-05T08:32:14.679Z"
   },
   {
    "duration": 5,
    "start_time": "2025-08-05T08:32:14.718Z"
   },
   {
    "duration": 10721,
    "start_time": "2025-08-05T08:32:26.931Z"
   },
   {
    "duration": 1276,
    "start_time": "2025-08-05T08:34:18.027Z"
   },
   {
    "duration": 9,
    "start_time": "2025-08-05T08:34:19.304Z"
   },
   {
    "duration": 9,
    "start_time": "2025-08-05T08:34:19.315Z"
   },
   {
    "duration": 1658,
    "start_time": "2025-08-05T08:34:19.326Z"
   },
   {
    "duration": 21,
    "start_time": "2025-08-05T08:34:20.987Z"
   },
   {
    "duration": 41,
    "start_time": "2025-08-05T08:34:21.009Z"
   },
   {
    "duration": 12,
    "start_time": "2025-08-05T08:34:21.052Z"
   },
   {
    "duration": 149,
    "start_time": "2025-08-05T08:34:21.066Z"
   },
   {
    "duration": 634,
    "start_time": "2025-08-05T08:34:21.217Z"
   },
   {
    "duration": 2259,
    "start_time": "2025-08-05T08:34:21.853Z"
   },
   {
    "duration": 96,
    "start_time": "2025-08-05T08:34:24.114Z"
   },
   {
    "duration": 164,
    "start_time": "2025-08-05T08:34:24.212Z"
   },
   {
    "duration": 413,
    "start_time": "2025-08-05T08:34:24.378Z"
   },
   {
    "duration": 436,
    "start_time": "2025-08-05T08:34:24.793Z"
   },
   {
    "duration": 18,
    "start_time": "2025-08-05T08:34:25.232Z"
   },
   {
    "duration": 42,
    "start_time": "2025-08-05T08:34:25.253Z"
   },
   {
    "duration": 197,
    "start_time": "2025-08-05T08:34:25.298Z"
   },
   {
    "duration": 6,
    "start_time": "2025-08-05T08:34:25.497Z"
   },
   {
    "duration": 569,
    "start_time": "2025-08-05T08:34:25.505Z"
   },
   {
    "duration": 1338,
    "start_time": "2025-08-05T08:34:44.650Z"
   },
   {
    "duration": 9,
    "start_time": "2025-08-05T08:34:45.990Z"
   },
   {
    "duration": 33,
    "start_time": "2025-08-05T08:34:46.001Z"
   },
   {
    "duration": 1538,
    "start_time": "2025-08-05T08:34:46.036Z"
   },
   {
    "duration": 20,
    "start_time": "2025-08-05T08:34:47.576Z"
   },
   {
    "duration": 41,
    "start_time": "2025-08-05T08:34:47.598Z"
   },
   {
    "duration": 16,
    "start_time": "2025-08-05T08:34:47.641Z"
   },
   {
    "duration": 145,
    "start_time": "2025-08-05T08:34:47.659Z"
   },
   {
    "duration": 643,
    "start_time": "2025-08-05T08:34:47.806Z"
   },
   {
    "duration": 2209,
    "start_time": "2025-08-05T08:34:48.452Z"
   },
   {
    "duration": 92,
    "start_time": "2025-08-05T08:34:50.663Z"
   },
   {
    "duration": 156,
    "start_time": "2025-08-05T08:34:50.756Z"
   },
   {
    "duration": 379,
    "start_time": "2025-08-05T08:34:50.913Z"
   },
   {
    "duration": 413,
    "start_time": "2025-08-05T08:34:51.293Z"
   },
   {
    "duration": 6,
    "start_time": "2025-08-05T08:34:51.708Z"
   },
   {
    "duration": 17,
    "start_time": "2025-08-05T08:34:51.716Z"
   },
   {
    "duration": 173,
    "start_time": "2025-08-05T08:34:51.735Z"
   },
   {
    "duration": 6,
    "start_time": "2025-08-05T08:34:51.910Z"
   },
   {
    "duration": 498,
    "start_time": "2025-08-05T08:34:51.918Z"
   },
   {
    "duration": 137772,
    "start_time": "2025-08-05T08:34:52.418Z"
   },
   {
    "duration": 4,
    "start_time": "2025-08-05T08:37:10.192Z"
   },
   {
    "duration": 42,
    "start_time": "2025-08-05T08:37:10.199Z"
   },
   {
    "duration": 36,
    "start_time": "2025-08-05T08:40:08.558Z"
   },
   {
    "duration": 44,
    "start_time": "2025-08-05T08:40:11.748Z"
   },
   {
    "duration": 53,
    "start_time": "2025-08-05T08:40:24.820Z"
   },
   {
    "duration": 49,
    "start_time": "2025-08-05T08:41:46.820Z"
   },
   {
    "duration": 47,
    "start_time": "2025-08-05T08:42:20.509Z"
   },
   {
    "duration": 50,
    "start_time": "2025-08-05T08:42:24.679Z"
   },
   {
    "duration": 59,
    "start_time": "2025-08-05T08:42:30.909Z"
   },
   {
    "duration": 23,
    "start_time": "2025-08-05T08:43:04.220Z"
   },
   {
    "duration": 65,
    "start_time": "2025-08-05T08:44:42.263Z"
   },
   {
    "duration": 67,
    "start_time": "2025-08-05T08:45:03.701Z"
   },
   {
    "duration": 66,
    "start_time": "2025-08-05T08:45:53.207Z"
   },
   {
    "duration": 12,
    "start_time": "2025-08-05T08:46:01.601Z"
   },
   {
    "duration": 78,
    "start_time": "2025-08-05T09:10:45.150Z"
   },
   {
    "duration": 13,
    "start_time": "2025-08-05T09:10:46.365Z"
   },
   {
    "duration": 14,
    "start_time": "2025-08-05T09:10:49.959Z"
   },
   {
    "duration": 14,
    "start_time": "2025-08-05T09:11:00.067Z"
   },
   {
    "duration": 115,
    "start_time": "2025-08-05T09:11:36.155Z"
   },
   {
    "duration": 16,
    "start_time": "2025-08-05T09:11:56.348Z"
   },
   {
    "duration": 14,
    "start_time": "2025-08-05T09:12:20.190Z"
   },
   {
    "duration": 18,
    "start_time": "2025-08-05T09:12:48.219Z"
   },
   {
    "duration": 1460,
    "start_time": "2025-08-05T09:12:50.457Z"
   },
   {
    "duration": 1474,
    "start_time": "2025-08-05T09:12:52.065Z"
   },
   {
    "duration": 11,
    "start_time": "2025-08-05T09:13:30.057Z"
   },
   {
    "duration": 15,
    "start_time": "2025-08-05T09:13:50.962Z"
   },
   {
    "duration": 16,
    "start_time": "2025-08-05T09:14:09.082Z"
   },
   {
    "duration": 11,
    "start_time": "2025-08-05T09:14:20.893Z"
   },
   {
    "duration": 32,
    "start_time": "2025-08-05T09:15:05.957Z"
   },
   {
    "duration": 45,
    "start_time": "2025-08-05T09:15:14.201Z"
   },
   {
    "duration": 44,
    "start_time": "2025-08-05T09:15:16.818Z"
   },
   {
    "duration": 13,
    "start_time": "2025-08-05T09:15:23.108Z"
   },
   {
    "duration": 46,
    "start_time": "2025-08-05T09:15:45.877Z"
   },
   {
    "duration": 26,
    "start_time": "2025-08-05T09:16:14.409Z"
   },
   {
    "duration": 1485,
    "start_time": "2025-08-05T09:17:36.883Z"
   },
   {
    "duration": 20,
    "start_time": "2025-08-05T09:17:59.343Z"
   },
   {
    "duration": 77,
    "start_time": "2025-08-05T09:18:11.291Z"
   },
   {
    "duration": 18,
    "start_time": "2025-08-05T09:18:15.247Z"
   },
   {
    "duration": 1322,
    "start_time": "2025-08-05T09:18:27.836Z"
   },
   {
    "duration": 9,
    "start_time": "2025-08-05T09:18:29.159Z"
   },
   {
    "duration": 6,
    "start_time": "2025-08-05T09:18:29.169Z"
   },
   {
    "duration": 1601,
    "start_time": "2025-08-05T09:18:29.176Z"
   },
   {
    "duration": 21,
    "start_time": "2025-08-05T09:18:30.779Z"
   },
   {
    "duration": 135,
    "start_time": "2025-08-05T09:18:30.802Z"
   },
   {
    "duration": 46,
    "start_time": "2025-08-05T09:18:30.939Z"
   },
   {
    "duration": 142,
    "start_time": "2025-08-05T09:18:30.987Z"
   },
   {
    "duration": 661,
    "start_time": "2025-08-05T09:18:31.131Z"
   },
   {
    "duration": 2247,
    "start_time": "2025-08-05T09:18:31.794Z"
   },
   {
    "duration": 83,
    "start_time": "2025-08-05T09:18:34.042Z"
   },
   {
    "duration": 168,
    "start_time": "2025-08-05T09:18:34.127Z"
   },
   {
    "duration": 382,
    "start_time": "2025-08-05T09:18:34.297Z"
   },
   {
    "duration": 439,
    "start_time": "2025-08-05T09:18:34.681Z"
   },
   {
    "duration": 7,
    "start_time": "2025-08-05T09:18:35.122Z"
   },
   {
    "duration": 45,
    "start_time": "2025-08-05T09:18:35.131Z"
   },
   {
    "duration": 204,
    "start_time": "2025-08-05T09:18:35.178Z"
   },
   {
    "duration": 7,
    "start_time": "2025-08-05T09:18:35.383Z"
   },
   {
    "duration": 621,
    "start_time": "2025-08-05T09:18:35.391Z"
   },
   {
    "duration": 75,
    "start_time": "2025-08-05T09:18:36.013Z"
   },
   {
    "duration": 31,
    "start_time": "2025-08-05T09:18:36.090Z"
   },
   {
    "duration": 5,
    "start_time": "2025-08-05T09:18:36.122Z"
   },
   {
    "duration": 3,
    "start_time": "2025-08-05T09:18:36.150Z"
   },
   {
    "duration": 15,
    "start_time": "2025-08-05T09:18:36.155Z"
   },
   {
    "duration": 21,
    "start_time": "2025-08-05T09:19:16.161Z"
   },
   {
    "duration": 20,
    "start_time": "2025-08-05T09:19:26.663Z"
   },
   {
    "duration": 20,
    "start_time": "2025-08-05T09:19:28.313Z"
   },
   {
    "duration": 20,
    "start_time": "2025-08-05T09:20:22.791Z"
   },
   {
    "duration": 11,
    "start_time": "2025-08-05T09:20:40.852Z"
   },
   {
    "duration": 26,
    "start_time": "2025-08-05T09:20:42.280Z"
   },
   {
    "duration": 13,
    "start_time": "2025-08-05T09:34:24.249Z"
   },
   {
    "duration": 1302,
    "start_time": "2025-08-05T09:35:12.839Z"
   },
   {
    "duration": 8,
    "start_time": "2025-08-05T09:35:14.143Z"
   },
   {
    "duration": 9,
    "start_time": "2025-08-05T09:35:14.153Z"
   },
   {
    "duration": 1670,
    "start_time": "2025-08-05T09:35:14.164Z"
   },
   {
    "duration": 29,
    "start_time": "2025-08-05T09:35:15.835Z"
   },
   {
    "duration": 181,
    "start_time": "2025-08-05T09:35:15.866Z"
   },
   {
    "duration": 10,
    "start_time": "2025-08-05T09:35:16.049Z"
   },
   {
    "duration": 156,
    "start_time": "2025-08-05T09:35:16.061Z"
   },
   {
    "duration": 683,
    "start_time": "2025-08-05T09:35:16.219Z"
   },
   {
    "duration": 2254,
    "start_time": "2025-08-05T09:35:16.906Z"
   },
   {
    "duration": 74,
    "start_time": "2025-08-05T09:35:19.162Z"
   },
   {
    "duration": 158,
    "start_time": "2025-08-05T09:35:19.249Z"
   },
   {
    "duration": 371,
    "start_time": "2025-08-05T09:35:19.409Z"
   },
   {
    "duration": 401,
    "start_time": "2025-08-05T09:35:19.782Z"
   },
   {
    "duration": 6,
    "start_time": "2025-08-05T09:35:20.184Z"
   },
   {
    "duration": 27,
    "start_time": "2025-08-05T09:35:20.192Z"
   },
   {
    "duration": 179,
    "start_time": "2025-08-05T09:35:20.220Z"
   },
   {
    "duration": 7,
    "start_time": "2025-08-05T09:35:20.401Z"
   },
   {
    "duration": 617,
    "start_time": "2025-08-05T09:35:20.410Z"
   },
   {
    "duration": 113,
    "start_time": "2025-08-05T09:35:21.029Z"
   },
   {
    "duration": 0,
    "start_time": "2025-08-05T09:35:21.144Z"
   },
   {
    "duration": 0,
    "start_time": "2025-08-05T09:35:21.149Z"
   },
   {
    "duration": 28,
    "start_time": "2025-08-05T09:35:34.013Z"
   },
   {
    "duration": 35,
    "start_time": "2025-08-05T09:35:35.239Z"
   },
   {
    "duration": 22,
    "start_time": "2025-08-05T09:35:37.527Z"
   },
   {
    "duration": 1570,
    "start_time": "2025-08-05T09:36:29.349Z"
   },
   {
    "duration": 9,
    "start_time": "2025-08-05T09:36:30.921Z"
   },
   {
    "duration": 24,
    "start_time": "2025-08-05T09:36:30.931Z"
   },
   {
    "duration": 1763,
    "start_time": "2025-08-05T09:36:30.958Z"
   },
   {
    "duration": 20,
    "start_time": "2025-08-05T09:36:32.723Z"
   },
   {
    "duration": 51,
    "start_time": "2025-08-05T09:36:32.745Z"
   },
   {
    "duration": 17,
    "start_time": "2025-08-05T09:36:32.798Z"
   },
   {
    "duration": 216,
    "start_time": "2025-08-05T09:36:32.817Z"
   },
   {
    "duration": 655,
    "start_time": "2025-08-05T09:36:33.035Z"
   },
   {
    "duration": 2258,
    "start_time": "2025-08-05T09:36:33.693Z"
   },
   {
    "duration": 97,
    "start_time": "2025-08-05T09:36:35.953Z"
   },
   {
    "duration": 160,
    "start_time": "2025-08-05T09:36:36.052Z"
   },
   {
    "duration": 424,
    "start_time": "2025-08-05T09:36:36.214Z"
   },
   {
    "duration": 418,
    "start_time": "2025-08-05T09:36:36.639Z"
   },
   {
    "duration": 5,
    "start_time": "2025-08-05T09:36:37.059Z"
   },
   {
    "duration": 16,
    "start_time": "2025-08-05T09:36:37.066Z"
   },
   {
    "duration": 180,
    "start_time": "2025-08-05T09:36:37.083Z"
   },
   {
    "duration": 6,
    "start_time": "2025-08-05T09:36:37.265Z"
   },
   {
    "duration": 521,
    "start_time": "2025-08-05T09:36:37.273Z"
   },
   {
    "duration": 27,
    "start_time": "2025-08-05T09:36:37.795Z"
   },
   {
    "duration": 54,
    "start_time": "2025-08-05T09:36:37.824Z"
   },
   {
    "duration": 172,
    "start_time": "2025-08-05T09:36:37.881Z"
   },
   {
    "duration": 18,
    "start_time": "2025-08-05T09:37:32.118Z"
   },
   {
    "duration": 12,
    "start_time": "2025-08-05T09:37:46.837Z"
   },
   {
    "duration": 23,
    "start_time": "2025-08-05T09:37:48.950Z"
   },
   {
    "duration": 5,
    "start_time": "2025-08-05T09:40:11.684Z"
   },
   {
    "duration": 16,
    "start_time": "2025-08-05T09:40:34.901Z"
   },
   {
    "duration": 20,
    "start_time": "2025-08-05T09:40:38.299Z"
   },
   {
    "duration": 3,
    "start_time": "2025-08-05T09:41:43.750Z"
   },
   {
    "duration": 46,
    "start_time": "2025-08-05T09:51:24.132Z"
   },
   {
    "duration": 15,
    "start_time": "2025-08-05T09:53:04.397Z"
   },
   {
    "duration": 1544,
    "start_time": "2025-08-05T09:55:28.842Z"
   },
   {
    "duration": 1614,
    "start_time": "2025-08-05T09:55:38.799Z"
   },
   {
    "duration": 21,
    "start_time": "2025-08-05T09:55:43.922Z"
   },
   {
    "duration": 1181,
    "start_time": "2025-08-05T09:56:18.783Z"
   },
   {
    "duration": 8,
    "start_time": "2025-08-05T09:56:19.966Z"
   },
   {
    "duration": 107,
    "start_time": "2025-08-05T09:56:19.976Z"
   },
   {
    "duration": 1541,
    "start_time": "2025-08-05T09:56:20.085Z"
   },
   {
    "duration": 31,
    "start_time": "2025-08-05T09:56:21.627Z"
   },
   {
    "duration": 20,
    "start_time": "2025-08-05T09:56:21.659Z"
   },
   {
    "duration": 11,
    "start_time": "2025-08-05T09:56:21.680Z"
   },
   {
    "duration": 151,
    "start_time": "2025-08-05T09:56:21.693Z"
   },
   {
    "duration": 612,
    "start_time": "2025-08-05T09:56:21.850Z"
   },
   {
    "duration": 2185,
    "start_time": "2025-08-05T09:56:22.465Z"
   },
   {
    "duration": 68,
    "start_time": "2025-08-05T09:56:24.652Z"
   },
   {
    "duration": 156,
    "start_time": "2025-08-05T09:56:24.721Z"
   },
   {
    "duration": 391,
    "start_time": "2025-08-05T09:56:24.879Z"
   },
   {
    "duration": 391,
    "start_time": "2025-08-05T09:56:25.272Z"
   },
   {
    "duration": 6,
    "start_time": "2025-08-05T09:56:25.665Z"
   },
   {
    "duration": 13,
    "start_time": "2025-08-05T09:56:25.672Z"
   },
   {
    "duration": 167,
    "start_time": "2025-08-05T09:56:25.686Z"
   },
   {
    "duration": 6,
    "start_time": "2025-08-05T09:56:25.854Z"
   },
   {
    "duration": 486,
    "start_time": "2025-08-05T09:56:25.862Z"
   },
   {
    "duration": 28,
    "start_time": "2025-08-05T09:56:26.350Z"
   },
   {
    "duration": 34,
    "start_time": "2025-08-05T09:56:26.379Z"
   },
   {
    "duration": 43,
    "start_time": "2025-08-05T09:56:26.416Z"
   },
   {
    "duration": 4,
    "start_time": "2025-08-05T09:56:26.461Z"
   },
   {
    "duration": 1670,
    "start_time": "2025-08-05T09:56:26.467Z"
   },
   {
    "duration": 0,
    "start_time": "2025-08-05T09:56:28.139Z"
   },
   {
    "duration": 14,
    "start_time": "2025-08-05T09:57:16.111Z"
   },
   {
    "duration": 33,
    "start_time": "2025-08-05T09:58:00.243Z"
   },
   {
    "duration": 11,
    "start_time": "2025-08-05T09:58:01.316Z"
   },
   {
    "duration": 11,
    "start_time": "2025-08-05T09:58:02.407Z"
   },
   {
    "duration": 1295,
    "start_time": "2025-08-05T09:58:12.607Z"
   },
   {
    "duration": 9,
    "start_time": "2025-08-05T09:58:13.904Z"
   },
   {
    "duration": 9,
    "start_time": "2025-08-05T09:58:13.915Z"
   },
   {
    "duration": 1644,
    "start_time": "2025-08-05T09:58:13.926Z"
   },
   {
    "duration": 19,
    "start_time": "2025-08-05T09:58:15.573Z"
   },
   {
    "duration": 40,
    "start_time": "2025-08-05T09:58:15.593Z"
   },
   {
    "duration": 19,
    "start_time": "2025-08-05T09:58:15.635Z"
   },
   {
    "duration": 132,
    "start_time": "2025-08-05T09:58:15.656Z"
   },
   {
    "duration": 636,
    "start_time": "2025-08-05T09:58:15.790Z"
   },
   {
    "duration": 2271,
    "start_time": "2025-08-05T09:58:16.428Z"
   },
   {
    "duration": 59,
    "start_time": "2025-08-05T09:58:18.700Z"
   },
   {
    "duration": 147,
    "start_time": "2025-08-05T09:58:18.761Z"
   },
   {
    "duration": 399,
    "start_time": "2025-08-05T09:58:18.909Z"
   },
   {
    "duration": 419,
    "start_time": "2025-08-05T09:58:19.312Z"
   },
   {
    "duration": 6,
    "start_time": "2025-08-05T09:58:19.732Z"
   },
   {
    "duration": 20,
    "start_time": "2025-08-05T09:58:19.740Z"
   },
   {
    "duration": 167,
    "start_time": "2025-08-05T09:58:19.762Z"
   },
   {
    "duration": 7,
    "start_time": "2025-08-05T09:58:19.931Z"
   },
   {
    "duration": 588,
    "start_time": "2025-08-05T09:58:19.949Z"
   },
   {
    "duration": 32,
    "start_time": "2025-08-05T09:58:20.538Z"
   },
   {
    "duration": 97,
    "start_time": "2025-08-05T09:58:20.571Z"
   },
   {
    "duration": 25,
    "start_time": "2025-08-05T09:58:20.670Z"
   },
   {
    "duration": 31,
    "start_time": "2025-08-05T09:58:20.696Z"
   },
   {
    "duration": 4907,
    "start_time": "2025-08-05T09:58:20.729Z"
   },
   {
    "duration": 0,
    "start_time": "2025-08-05T09:58:25.638Z"
   },
   {
    "duration": 2099,
    "start_time": "2025-08-05T09:58:29.738Z"
   },
   {
    "duration": 18,
    "start_time": "2025-08-05T09:58:36.204Z"
   },
   {
    "duration": 8,
    "start_time": "2025-08-05T09:58:56.011Z"
   },
   {
    "duration": 16,
    "start_time": "2025-08-05T09:59:07.623Z"
   },
   {
    "duration": 18,
    "start_time": "2025-08-05T09:59:48.954Z"
   },
   {
    "duration": 17,
    "start_time": "2025-08-05T10:00:16.684Z"
   },
   {
    "duration": 17,
    "start_time": "2025-08-05T10:00:16.854Z"
   },
   {
    "duration": 17,
    "start_time": "2025-08-05T10:00:17.991Z"
   },
   {
    "duration": 15,
    "start_time": "2025-08-05T10:00:21.069Z"
   },
   {
    "duration": 15,
    "start_time": "2025-08-05T10:00:47.022Z"
   },
   {
    "duration": 15,
    "start_time": "2025-08-05T10:01:52.149Z"
   },
   {
    "duration": 15,
    "start_time": "2025-08-05T10:01:58.842Z"
   },
   {
    "duration": 16,
    "start_time": "2025-08-05T10:02:03.076Z"
   },
   {
    "duration": 2,
    "start_time": "2025-08-05T10:04:21.971Z"
   },
   {
    "duration": 9,
    "start_time": "2025-08-05T10:05:57.217Z"
   },
   {
    "duration": 16,
    "start_time": "2025-08-05T10:06:03.094Z"
   },
   {
    "duration": 10,
    "start_time": "2025-08-05T10:06:05.380Z"
   },
   {
    "duration": 17,
    "start_time": "2025-08-05T10:06:18.374Z"
   },
   {
    "duration": 11,
    "start_time": "2025-08-05T10:06:48.503Z"
   },
   {
    "duration": 17,
    "start_time": "2025-08-05T10:08:11.440Z"
   },
   {
    "duration": 11,
    "start_time": "2025-08-05T10:08:19.400Z"
   },
   {
    "duration": 11,
    "start_time": "2025-08-05T10:08:26.659Z"
   },
   {
    "duration": 3,
    "start_time": "2025-08-05T11:04:44.371Z"
   },
   {
    "duration": 4,
    "start_time": "2025-08-05T11:04:47.262Z"
   },
   {
    "duration": 6,
    "start_time": "2025-08-05T11:05:20.750Z"
   },
   {
    "duration": 5,
    "start_time": "2025-08-05T11:05:29.314Z"
   },
   {
    "duration": 3,
    "start_time": "2025-08-05T11:05:35.887Z"
   },
   {
    "duration": 5,
    "start_time": "2025-08-05T11:10:53.760Z"
   },
   {
    "duration": 13,
    "start_time": "2025-08-05T11:13:42.244Z"
   },
   {
    "duration": 48,
    "start_time": "2025-08-05T11:14:22.881Z"
   },
   {
    "duration": 3,
    "start_time": "2025-08-05T11:14:44.726Z"
   },
   {
    "duration": 14,
    "start_time": "2025-08-05T11:14:48.206Z"
   },
   {
    "duration": 16,
    "start_time": "2025-08-05T11:15:00.877Z"
   },
   {
    "duration": 13,
    "start_time": "2025-08-05T11:15:35.007Z"
   },
   {
    "duration": 7,
    "start_time": "2025-08-05T11:16:00.039Z"
   },
   {
    "duration": 5,
    "start_time": "2025-08-05T11:16:56.382Z"
   },
   {
    "duration": 7,
    "start_time": "2025-08-05T11:18:07.571Z"
   },
   {
    "duration": 7,
    "start_time": "2025-08-05T11:18:13.304Z"
   },
   {
    "duration": 4,
    "start_time": "2025-08-05T11:18:18.384Z"
   },
   {
    "duration": 7,
    "start_time": "2025-08-05T11:18:35.861Z"
   },
   {
    "duration": 4,
    "start_time": "2025-08-05T11:18:37.449Z"
   },
   {
    "duration": 7,
    "start_time": "2025-08-05T11:18:40.832Z"
   },
   {
    "duration": 4,
    "start_time": "2025-08-05T11:18:43.268Z"
   },
   {
    "duration": 6,
    "start_time": "2025-08-05T11:18:53.313Z"
   },
   {
    "duration": 4,
    "start_time": "2025-08-05T11:18:54.438Z"
   },
   {
    "duration": 7,
    "start_time": "2025-08-05T11:20:13.014Z"
   },
   {
    "duration": 4,
    "start_time": "2025-08-05T11:20:18.236Z"
   },
   {
    "duration": 7,
    "start_time": "2025-08-05T11:22:17.140Z"
   },
   {
    "duration": 7,
    "start_time": "2025-08-05T11:22:21.304Z"
   },
   {
    "duration": 7,
    "start_time": "2025-08-05T11:22:23.797Z"
   },
   {
    "duration": 8,
    "start_time": "2025-08-05T11:22:26.372Z"
   },
   {
    "duration": 8,
    "start_time": "2025-08-05T11:22:28.664Z"
   },
   {
    "duration": 7,
    "start_time": "2025-08-05T11:22:30.521Z"
   },
   {
    "duration": 7,
    "start_time": "2025-08-05T11:22:37.386Z"
   },
   {
    "duration": 9,
    "start_time": "2025-08-05T11:22:43.132Z"
   },
   {
    "duration": 18,
    "start_time": "2025-08-05T11:34:18.496Z"
   },
   {
    "duration": 7,
    "start_time": "2025-08-05T11:34:28.575Z"
   },
   {
    "duration": 7,
    "start_time": "2025-08-05T11:34:36.851Z"
   },
   {
    "duration": 5,
    "start_time": "2025-08-05T11:34:53.701Z"
   },
   {
    "duration": 5,
    "start_time": "2025-08-05T11:35:07.318Z"
   },
   {
    "duration": 12,
    "start_time": "2025-08-05T11:35:18.602Z"
   },
   {
    "duration": 13,
    "start_time": "2025-08-05T11:35:32.265Z"
   },
   {
    "duration": 10,
    "start_time": "2025-08-05T11:35:37.937Z"
   },
   {
    "duration": 159,
    "start_time": "2025-08-05T11:36:19.582Z"
   },
   {
    "duration": 216,
    "start_time": "2025-08-05T11:36:21.763Z"
   },
   {
    "duration": 325,
    "start_time": "2025-08-05T11:36:35.025Z"
   },
   {
    "duration": 1552,
    "start_time": "2025-08-05T11:37:04.619Z"
   },
   {
    "duration": 6,
    "start_time": "2025-08-05T11:37:08.798Z"
   },
   {
    "duration": 16,
    "start_time": "2025-08-05T11:37:28.184Z"
   },
   {
    "duration": 10,
    "start_time": "2025-08-05T11:37:35.001Z"
   },
   {
    "duration": 9,
    "start_time": "2025-08-05T11:37:42.951Z"
   },
   {
    "duration": 966,
    "start_time": "2025-08-05T11:40:32.544Z"
   },
   {
    "duration": 9,
    "start_time": "2025-08-05T11:40:33.512Z"
   },
   {
    "duration": 35,
    "start_time": "2025-08-05T11:40:33.523Z"
   },
   {
    "duration": 288,
    "start_time": "2025-08-05T11:40:33.560Z"
   },
   {
    "duration": 1534,
    "start_time": "2025-08-05T11:40:33.851Z"
   },
   {
    "duration": 21,
    "start_time": "2025-08-05T11:40:35.387Z"
   },
   {
    "duration": 40,
    "start_time": "2025-08-05T11:40:35.410Z"
   },
   {
    "duration": 25,
    "start_time": "2025-08-05T11:40:35.453Z"
   },
   {
    "duration": 129,
    "start_time": "2025-08-05T11:40:35.480Z"
   },
   {
    "duration": 621,
    "start_time": "2025-08-05T11:40:35.611Z"
   },
   {
    "duration": 2134,
    "start_time": "2025-08-05T11:40:36.234Z"
   },
   {
    "duration": 81,
    "start_time": "2025-08-05T11:40:38.370Z"
   },
   {
    "duration": 244,
    "start_time": "2025-08-05T11:40:38.453Z"
   },
   {
    "duration": 372,
    "start_time": "2025-08-05T11:40:38.700Z"
   },
   {
    "duration": 405,
    "start_time": "2025-08-05T11:40:39.073Z"
   },
   {
    "duration": 6,
    "start_time": "2025-08-05T11:40:39.480Z"
   },
   {
    "duration": 10,
    "start_time": "2025-08-05T11:40:39.487Z"
   },
   {
    "duration": 165,
    "start_time": "2025-08-05T11:40:39.499Z"
   },
   {
    "duration": 6,
    "start_time": "2025-08-05T11:40:39.666Z"
   },
   {
    "duration": 593,
    "start_time": "2025-08-05T11:40:39.673Z"
   },
   {
    "duration": 27,
    "start_time": "2025-08-05T11:40:40.268Z"
   },
   {
    "duration": 33,
    "start_time": "2025-08-05T11:40:40.296Z"
   },
   {
    "duration": 47,
    "start_time": "2025-08-05T11:40:40.332Z"
   },
   {
    "duration": 4,
    "start_time": "2025-08-05T11:40:40.381Z"
   },
   {
    "duration": 95,
    "start_time": "2025-08-05T11:40:40.387Z"
   },
   {
    "duration": 102,
    "start_time": "2025-08-05T11:40:40.484Z"
   },
   {
    "duration": 18,
    "start_time": "2025-08-05T11:40:40.588Z"
   },
   {
    "duration": 6,
    "start_time": "2025-08-05T11:40:40.608Z"
   },
   {
    "duration": 18,
    "start_time": "2025-08-05T11:40:40.616Z"
   },
   {
    "duration": 1047,
    "start_time": "2025-08-05T15:27:32.210Z"
   },
   {
    "duration": 148,
    "start_time": "2025-08-05T15:28:44.460Z"
   },
   {
    "duration": 183,
    "start_time": "2025-08-05T15:28:48.034Z"
   },
   {
    "duration": 2,
    "start_time": "2025-08-05T15:28:51.320Z"
   },
   {
    "duration": 63,
    "start_time": "2025-08-05T15:28:52.668Z"
   },
   {
    "duration": 28,
    "start_time": "2025-08-05T15:28:54.981Z"
   },
   {
    "duration": 13,
    "start_time": "2025-08-05T15:29:00.339Z"
   },
   {
    "duration": 13,
    "start_time": "2025-08-05T15:29:07.438Z"
   },
   {
    "duration": 28,
    "start_time": "2025-08-05T15:29:16.558Z"
   },
   {
    "duration": 14,
    "start_time": "2025-08-05T15:29:22.439Z"
   },
   {
    "duration": 19,
    "start_time": "2025-08-05T15:29:30.908Z"
   },
   {
    "duration": 50,
    "start_time": "2025-08-05T15:29:33.294Z"
   },
   {
    "duration": 4,
    "start_time": "2025-08-05T15:29:35.713Z"
   },
   {
    "duration": 15,
    "start_time": "2025-08-05T15:29:37.409Z"
   },
   {
    "duration": 34,
    "start_time": "2025-08-05T15:29:47.979Z"
   },
   {
    "duration": 9,
    "start_time": "2025-08-05T15:29:51.752Z"
   },
   {
    "duration": 9,
    "start_time": "2025-08-05T15:31:53.805Z"
   },
   {
    "duration": 8,
    "start_time": "2025-08-05T15:34:01.179Z"
   },
   {
    "duration": 48,
    "start_time": "2025-08-05T15:34:01.603Z"
   },
   {
    "duration": 10,
    "start_time": "2025-08-05T15:34:02.469Z"
   },
   {
    "duration": 41,
    "start_time": "2025-08-05T15:34:03.966Z"
   },
   {
    "duration": 6,
    "start_time": "2025-08-05T15:34:14.554Z"
   },
   {
    "duration": 29,
    "start_time": "2025-08-05T15:34:24.470Z"
   },
   {
    "duration": 5,
    "start_time": "2025-08-05T15:34:30.040Z"
   },
   {
    "duration": 16,
    "start_time": "2025-08-05T15:35:25.003Z"
   },
   {
    "duration": 8,
    "start_time": "2025-08-05T15:35:35.147Z"
   },
   {
    "duration": 8,
    "start_time": "2025-08-05T15:35:39.752Z"
   },
   {
    "duration": 20,
    "start_time": "2025-08-05T15:36:19.070Z"
   },
   {
    "duration": 2,
    "start_time": "2025-08-05T15:40:35.923Z"
   },
   {
    "duration": 36,
    "start_time": "2025-08-05T15:40:36.323Z"
   },
   {
    "duration": 10,
    "start_time": "2025-08-05T15:40:37.056Z"
   },
   {
    "duration": 11,
    "start_time": "2025-08-05T15:44:09.567Z"
   },
   {
    "duration": 14,
    "start_time": "2025-08-05T15:44:45.400Z"
   },
   {
    "duration": 2,
    "start_time": "2025-08-05T15:44:50.441Z"
   },
   {
    "duration": 57,
    "start_time": "2025-08-05T15:44:50.992Z"
   },
   {
    "duration": 18,
    "start_time": "2025-08-05T15:44:52.008Z"
   },
   {
    "duration": 6,
    "start_time": "2025-08-05T15:44:52.943Z"
   },
   {
    "duration": 11,
    "start_time": "2025-08-05T15:44:53.597Z"
   },
   {
    "duration": 11,
    "start_time": "2025-08-05T15:44:54.411Z"
   },
   {
    "duration": 2,
    "start_time": "2025-08-05T15:45:08.567Z"
   },
   {
    "duration": 59,
    "start_time": "2025-08-05T15:45:09.181Z"
   },
   {
    "duration": 15,
    "start_time": "2025-08-05T15:45:09.811Z"
   },
   {
    "duration": 4,
    "start_time": "2025-08-05T15:45:12.142Z"
   },
   {
    "duration": 20,
    "start_time": "2025-08-05T15:45:15.682Z"
   },
   {
    "duration": 7,
    "start_time": "2025-08-05T15:49:15.019Z"
   },
   {
    "duration": 33,
    "start_time": "2025-08-05T15:49:19.177Z"
   },
   {
    "duration": 10,
    "start_time": "2025-08-05T15:49:21.927Z"
   },
   {
    "duration": 5,
    "start_time": "2025-08-05T15:49:34.781Z"
   },
   {
    "duration": 42,
    "start_time": "2025-08-05T15:49:35.303Z"
   },
   {
    "duration": 27,
    "start_time": "2025-08-05T15:49:36.661Z"
   },
   {
    "duration": 3,
    "start_time": "2025-08-05T15:49:38.144Z"
   },
   {
    "duration": 18,
    "start_time": "2025-08-05T15:49:38.596Z"
   },
   {
    "duration": 7,
    "start_time": "2025-08-05T15:49:39.178Z"
   },
   {
    "duration": 7,
    "start_time": "2025-08-05T15:49:40.329Z"
   },
   {
    "duration": 18,
    "start_time": "2025-08-05T15:50:33.585Z"
   },
   {
    "duration": 19,
    "start_time": "2025-08-05T15:50:35.186Z"
   },
   {
    "duration": 29,
    "start_time": "2025-08-05T15:50:45.206Z"
   },
   {
    "duration": 13,
    "start_time": "2025-08-05T15:50:56.741Z"
   },
   {
    "duration": 37,
    "start_time": "2025-08-05T15:52:11.575Z"
   },
   {
    "duration": 49,
    "start_time": "2025-08-05T15:52:18.882Z"
   },
   {
    "duration": 17,
    "start_time": "2025-08-05T15:52:24.920Z"
   },
   {
    "duration": 14,
    "start_time": "2025-08-05T15:52:29.151Z"
   },
   {
    "duration": 24,
    "start_time": "2025-08-05T15:52:46.477Z"
   },
   {
    "duration": 35,
    "start_time": "2025-08-05T15:52:52.781Z"
   },
   {
    "duration": 14,
    "start_time": "2025-08-05T15:52:58.246Z"
   },
   {
    "duration": 832,
    "start_time": "2025-08-05T20:41:53.503Z"
   },
   {
    "duration": 60,
    "start_time": "2025-08-05T20:41:54.337Z"
   },
   {
    "duration": 13,
    "start_time": "2025-08-05T20:41:54.399Z"
   },
   {
    "duration": 16,
    "start_time": "2025-08-05T20:41:54.414Z"
   },
   {
    "duration": 12,
    "start_time": "2025-08-05T20:41:54.432Z"
   },
   {
    "duration": 11,
    "start_time": "2025-08-05T20:41:54.445Z"
   },
   {
    "duration": 26,
    "start_time": "2025-08-05T20:41:54.457Z"
   },
   {
    "duration": 9,
    "start_time": "2025-08-05T20:41:54.487Z"
   },
   {
    "duration": 8,
    "start_time": "2025-08-05T20:41:54.498Z"
   },
   {
    "duration": 503,
    "start_time": "2025-08-05T20:41:54.509Z"
   },
   {
    "duration": 1695,
    "start_time": "2025-08-05T20:41:55.014Z"
   },
   {
    "duration": 21,
    "start_time": "2025-08-05T20:41:56.711Z"
   },
   {
    "duration": 19,
    "start_time": "2025-08-05T20:41:56.733Z"
   },
   {
    "duration": 31,
    "start_time": "2025-08-05T20:41:56.770Z"
   },
   {
    "duration": 136,
    "start_time": "2025-08-05T20:41:56.804Z"
   },
   {
    "duration": 678,
    "start_time": "2025-08-05T20:41:56.942Z"
   },
   {
    "duration": 2156,
    "start_time": "2025-08-05T20:41:57.622Z"
   },
   {
    "duration": 63,
    "start_time": "2025-08-05T20:41:59.780Z"
   },
   {
    "duration": 156,
    "start_time": "2025-08-05T20:41:59.845Z"
   },
   {
    "duration": 365,
    "start_time": "2025-08-05T20:42:00.003Z"
   },
   {
    "duration": 428,
    "start_time": "2025-08-05T20:42:00.369Z"
   },
   {
    "duration": 5,
    "start_time": "2025-08-05T20:42:00.798Z"
   },
   {
    "duration": 14,
    "start_time": "2025-08-05T20:42:00.805Z"
   },
   {
    "duration": 174,
    "start_time": "2025-08-05T20:42:00.821Z"
   },
   {
    "duration": 6,
    "start_time": "2025-08-05T20:42:00.997Z"
   },
   {
    "duration": 479,
    "start_time": "2025-08-05T20:42:01.005Z"
   },
   {
    "duration": 31,
    "start_time": "2025-08-05T20:42:01.486Z"
   },
   {
    "duration": 57,
    "start_time": "2025-08-05T20:42:01.520Z"
   },
   {
    "duration": 21,
    "start_time": "2025-08-05T20:42:01.579Z"
   },
   {
    "duration": 72,
    "start_time": "2025-08-05T20:42:01.602Z"
   },
   {
    "duration": 33,
    "start_time": "2025-08-05T20:42:01.676Z"
   },
   {
    "duration": 17,
    "start_time": "2025-08-05T20:42:01.710Z"
   },
   {
    "duration": 54,
    "start_time": "2025-08-05T20:42:01.728Z"
   },
   {
    "duration": 84,
    "start_time": "2025-08-05T20:42:01.784Z"
   },
   {
    "duration": 35,
    "start_time": "2025-08-05T20:42:01.869Z"
   },
   {
    "duration": 3,
    "start_time": "2025-08-05T20:43:28.425Z"
   },
   {
    "duration": 4,
    "start_time": "2025-08-05T20:44:10.874Z"
   },
   {
    "duration": 12,
    "start_time": "2025-08-05T20:55:27.950Z"
   },
   {
    "duration": 6,
    "start_time": "2025-08-05T20:56:16.863Z"
   },
   {
    "duration": 6,
    "start_time": "2025-08-05T20:56:18.984Z"
   },
   {
    "duration": 11,
    "start_time": "2025-08-05T20:56:25.261Z"
   },
   {
    "duration": 7,
    "start_time": "2025-08-05T20:57:30.419Z"
   },
   {
    "duration": 5,
    "start_time": "2025-08-05T20:57:35.232Z"
   },
   {
    "duration": 12,
    "start_time": "2025-08-05T20:59:13.199Z"
   },
   {
    "duration": 6,
    "start_time": "2025-08-05T20:59:15.458Z"
   },
   {
    "duration": 948,
    "start_time": "2025-08-05T21:01:19.972Z"
   },
   {
    "duration": 10,
    "start_time": "2025-08-05T21:01:28.520Z"
   },
   {
    "duration": 5,
    "start_time": "2025-08-05T21:01:32.825Z"
   },
   {
    "duration": 14,
    "start_time": "2025-08-05T21:03:04.695Z"
   },
   {
    "duration": 21,
    "start_time": "2025-08-05T21:04:50.476Z"
   },
   {
    "duration": 508,
    "start_time": "2025-08-05T21:08:06.935Z"
   },
   {
    "duration": 16,
    "start_time": "2025-08-05T21:08:15.593Z"
   },
   {
    "duration": 499,
    "start_time": "2025-08-05T21:08:25.026Z"
   },
   {
    "duration": 14,
    "start_time": "2025-08-05T21:08:26.655Z"
   },
   {
    "duration": 477,
    "start_time": "2025-08-05T21:08:59.815Z"
   },
   {
    "duration": 18,
    "start_time": "2025-08-05T21:09:05.088Z"
   },
   {
    "duration": 14,
    "start_time": "2025-08-05T21:09:07.567Z"
   },
   {
    "duration": 13,
    "start_time": "2025-08-05T21:09:09.554Z"
   },
   {
    "duration": 14,
    "start_time": "2025-08-05T21:09:37.583Z"
   },
   {
    "duration": 1181,
    "start_time": "2025-08-05T21:09:50.757Z"
   },
   {
    "duration": 42,
    "start_time": "2025-08-05T21:09:51.940Z"
   },
   {
    "duration": 33,
    "start_time": "2025-08-05T21:09:51.986Z"
   },
   {
    "duration": 4,
    "start_time": "2025-08-05T21:09:52.021Z"
   },
   {
    "duration": 17,
    "start_time": "2025-08-05T21:09:52.026Z"
   },
   {
    "duration": 58,
    "start_time": "2025-08-05T21:09:52.044Z"
   },
   {
    "duration": 114,
    "start_time": "2025-08-05T21:09:52.104Z"
   },
   {
    "duration": 12,
    "start_time": "2025-08-05T21:09:52.221Z"
   },
   {
    "duration": 28,
    "start_time": "2025-08-05T21:09:52.236Z"
   },
   {
    "duration": 1738,
    "start_time": "2025-08-05T21:09:52.268Z"
   },
   {
    "duration": 19,
    "start_time": "2025-08-05T21:09:54.008Z"
   },
   {
    "duration": 18,
    "start_time": "2025-08-05T21:09:54.029Z"
   },
   {
    "duration": 37,
    "start_time": "2025-08-05T21:09:54.049Z"
   },
   {
    "duration": 145,
    "start_time": "2025-08-05T21:09:54.088Z"
   },
   {
    "duration": 601,
    "start_time": "2025-08-05T21:09:54.235Z"
   },
   {
    "duration": 2171,
    "start_time": "2025-08-05T21:09:54.838Z"
   },
   {
    "duration": 47,
    "start_time": "2025-08-05T21:09:57.011Z"
   },
   {
    "duration": 147,
    "start_time": "2025-08-05T21:09:57.073Z"
   },
   {
    "duration": 362,
    "start_time": "2025-08-05T21:09:57.222Z"
   },
   {
    "duration": 420,
    "start_time": "2025-08-05T21:09:57.587Z"
   },
   {
    "duration": 6,
    "start_time": "2025-08-05T21:09:58.008Z"
   },
   {
    "duration": 13,
    "start_time": "2025-08-05T21:09:58.015Z"
   },
   {
    "duration": 159,
    "start_time": "2025-08-05T21:09:58.030Z"
   },
   {
    "duration": 7,
    "start_time": "2025-08-05T21:09:58.191Z"
   },
   {
    "duration": 11,
    "start_time": "2025-08-05T21:09:58.200Z"
   },
   {
    "duration": 514,
    "start_time": "2025-08-05T21:09:58.213Z"
   },
   {
    "duration": 11,
    "start_time": "2025-08-05T21:09:58.729Z"
   },
   {
    "duration": 123,
    "start_time": "2025-08-05T21:09:58.743Z"
   },
   {
    "duration": 33,
    "start_time": "2025-08-05T21:09:58.868Z"
   },
   {
    "duration": 19,
    "start_time": "2025-08-05T21:09:58.903Z"
   },
   {
    "duration": 4,
    "start_time": "2025-08-05T21:09:58.923Z"
   },
   {
    "duration": 24,
    "start_time": "2025-08-05T21:09:58.928Z"
   },
   {
    "duration": 34,
    "start_time": "2025-08-05T21:09:58.954Z"
   },
   {
    "duration": 16,
    "start_time": "2025-08-05T21:09:58.990Z"
   },
   {
    "duration": 3,
    "start_time": "2025-08-05T21:09:59.008Z"
   },
   {
    "duration": 14,
    "start_time": "2025-08-05T21:09:59.013Z"
   },
   {
    "duration": 12,
    "start_time": "2025-08-05T21:16:32.652Z"
   },
   {
    "duration": 2,
    "start_time": "2025-08-05T21:16:34.328Z"
   },
   {
    "duration": 1078,
    "start_time": "2025-08-05T21:16:47.324Z"
   },
   {
    "duration": 42,
    "start_time": "2025-08-05T21:16:48.404Z"
   },
   {
    "duration": 10,
    "start_time": "2025-08-05T21:16:48.447Z"
   },
   {
    "duration": 18,
    "start_time": "2025-08-05T21:16:48.459Z"
   },
   {
    "duration": 6,
    "start_time": "2025-08-05T21:16:48.479Z"
   },
   {
    "duration": 5,
    "start_time": "2025-08-05T21:16:48.487Z"
   },
   {
    "duration": 14,
    "start_time": "2025-08-05T21:16:48.494Z"
   },
   {
    "duration": 8,
    "start_time": "2025-08-05T21:16:48.510Z"
   },
   {
    "duration": 61,
    "start_time": "2025-08-05T21:16:48.520Z"
   },
   {
    "duration": 1616,
    "start_time": "2025-08-05T21:16:48.584Z"
   },
   {
    "duration": 19,
    "start_time": "2025-08-05T21:16:50.201Z"
   },
   {
    "duration": 41,
    "start_time": "2025-08-05T21:16:50.222Z"
   },
   {
    "duration": 28,
    "start_time": "2025-08-05T21:16:50.265Z"
   },
   {
    "duration": 126,
    "start_time": "2025-08-05T21:16:50.294Z"
   },
   {
    "duration": 616,
    "start_time": "2025-08-05T21:16:50.422Z"
   },
   {
    "duration": 2091,
    "start_time": "2025-08-05T21:16:51.040Z"
   },
   {
    "duration": 77,
    "start_time": "2025-08-05T21:16:53.133Z"
   },
   {
    "duration": 141,
    "start_time": "2025-08-05T21:16:53.212Z"
   },
   {
    "duration": 355,
    "start_time": "2025-08-05T21:16:53.354Z"
   },
   {
    "duration": 383,
    "start_time": "2025-08-05T21:16:53.711Z"
   },
   {
    "duration": 6,
    "start_time": "2025-08-05T21:16:54.095Z"
   },
   {
    "duration": 12,
    "start_time": "2025-08-05T21:16:54.102Z"
   },
   {
    "duration": 150,
    "start_time": "2025-08-05T21:16:54.116Z"
   },
   {
    "duration": 6,
    "start_time": "2025-08-05T21:16:54.270Z"
   },
   {
    "duration": 18,
    "start_time": "2025-08-05T21:16:54.278Z"
   },
   {
    "duration": 474,
    "start_time": "2025-08-05T21:16:54.298Z"
   },
   {
    "duration": 12,
    "start_time": "2025-08-05T21:16:54.774Z"
   },
   {
    "duration": 111,
    "start_time": "2025-08-05T21:16:54.789Z"
   },
   {
    "duration": 44,
    "start_time": "2025-08-05T21:16:54.902Z"
   },
   {
    "duration": 20,
    "start_time": "2025-08-05T21:16:54.948Z"
   },
   {
    "duration": 3,
    "start_time": "2025-08-05T21:16:54.970Z"
   },
   {
    "duration": 32,
    "start_time": "2025-08-05T21:16:54.975Z"
   },
   {
    "duration": 16,
    "start_time": "2025-08-05T21:16:55.009Z"
   },
   {
    "duration": 15,
    "start_time": "2025-08-05T21:16:55.027Z"
   },
   {
    "duration": 16,
    "start_time": "2025-08-05T21:16:55.044Z"
   },
   {
    "duration": 44,
    "start_time": "2025-08-05T21:16:55.062Z"
   },
   {
    "duration": 1166,
    "start_time": "2025-08-05T21:19:32.242Z"
   },
   {
    "duration": 41,
    "start_time": "2025-08-05T21:19:33.410Z"
   },
   {
    "duration": 11,
    "start_time": "2025-08-05T21:19:33.453Z"
   },
   {
    "duration": 81,
    "start_time": "2025-08-05T21:19:33.471Z"
   },
   {
    "duration": 10,
    "start_time": "2025-08-05T21:19:33.555Z"
   },
   {
    "duration": 17,
    "start_time": "2025-08-05T21:19:33.567Z"
   },
   {
    "duration": 44,
    "start_time": "2025-08-05T21:19:33.586Z"
   },
   {
    "duration": 10,
    "start_time": "2025-08-05T21:19:33.632Z"
   },
   {
    "duration": 14,
    "start_time": "2025-08-05T21:19:33.644Z"
   },
   {
    "duration": 1563,
    "start_time": "2025-08-05T21:19:33.659Z"
   },
   {
    "duration": 19,
    "start_time": "2025-08-05T21:19:35.224Z"
   },
   {
    "duration": 35,
    "start_time": "2025-08-05T21:19:35.244Z"
   },
   {
    "duration": 9,
    "start_time": "2025-08-05T21:19:35.281Z"
   },
   {
    "duration": 191,
    "start_time": "2025-08-05T21:19:35.293Z"
   },
   {
    "duration": 589,
    "start_time": "2025-08-05T21:19:35.486Z"
   },
   {
    "duration": 2079,
    "start_time": "2025-08-05T21:19:36.077Z"
   },
   {
    "duration": 1132,
    "start_time": "2025-08-05T21:20:54.461Z"
   },
   {
    "duration": 42,
    "start_time": "2025-08-05T21:20:55.595Z"
   },
   {
    "duration": 10,
    "start_time": "2025-08-05T21:20:55.638Z"
   },
   {
    "duration": 3,
    "start_time": "2025-08-05T21:20:55.650Z"
   },
   {
    "duration": 23,
    "start_time": "2025-08-05T21:20:55.654Z"
   },
   {
    "duration": 13,
    "start_time": "2025-08-05T21:20:55.679Z"
   },
   {
    "duration": 13,
    "start_time": "2025-08-05T21:20:55.694Z"
   },
   {
    "duration": 6,
    "start_time": "2025-08-05T21:20:55.709Z"
   },
   {
    "duration": 9,
    "start_time": "2025-08-05T21:20:55.717Z"
   },
   {
    "duration": 1472,
    "start_time": "2025-08-05T21:20:55.729Z"
   },
   {
    "duration": 19,
    "start_time": "2025-08-05T21:20:57.202Z"
   },
   {
    "duration": 27,
    "start_time": "2025-08-05T21:20:57.223Z"
   },
   {
    "duration": 28,
    "start_time": "2025-08-05T21:20:57.252Z"
   },
   {
    "duration": 118,
    "start_time": "2025-08-05T21:20:57.282Z"
   },
   {
    "duration": 580,
    "start_time": "2025-08-05T21:20:57.402Z"
   },
   {
    "duration": 1940,
    "start_time": "2025-08-05T21:20:57.984Z"
   },
   {
    "duration": 75,
    "start_time": "2025-08-05T21:20:59.925Z"
   },
   {
    "duration": 232,
    "start_time": "2025-08-05T21:21:00.001Z"
   },
   {
    "duration": 368,
    "start_time": "2025-08-05T21:21:00.234Z"
   },
   {
    "duration": 375,
    "start_time": "2025-08-05T21:21:00.604Z"
   },
   {
    "duration": 5,
    "start_time": "2025-08-05T21:21:00.981Z"
   },
   {
    "duration": 10,
    "start_time": "2025-08-05T21:21:00.988Z"
   },
   {
    "duration": 155,
    "start_time": "2025-08-05T21:21:01.000Z"
   },
   {
    "duration": 5,
    "start_time": "2025-08-05T21:21:01.157Z"
   },
   {
    "duration": 19,
    "start_time": "2025-08-05T21:21:01.172Z"
   },
   {
    "duration": 476,
    "start_time": "2025-08-05T21:21:01.192Z"
   },
   {
    "duration": 15,
    "start_time": "2025-08-05T21:21:01.673Z"
   },
   {
    "duration": 31,
    "start_time": "2025-08-05T21:21:01.692Z"
   },
   {
    "duration": 46,
    "start_time": "2025-08-05T21:21:01.725Z"
   },
   {
    "duration": 20,
    "start_time": "2025-08-05T21:21:01.773Z"
   },
   {
    "duration": 8,
    "start_time": "2025-08-05T21:21:01.794Z"
   },
   {
    "duration": 84,
    "start_time": "2025-08-05T21:21:01.803Z"
   },
   {
    "duration": 28,
    "start_time": "2025-08-05T21:21:01.889Z"
   },
   {
    "duration": 43,
    "start_time": "2025-08-05T21:21:01.918Z"
   },
   {
    "duration": 113,
    "start_time": "2025-08-05T21:21:01.962Z"
   },
   {
    "duration": 19,
    "start_time": "2025-08-05T21:21:02.076Z"
   },
   {
    "duration": 17,
    "start_time": "2025-08-05T21:21:42.557Z"
   },
   {
    "duration": 14,
    "start_time": "2025-08-05T21:31:49.962Z"
   },
   {
    "duration": 15,
    "start_time": "2025-08-05T21:32:15.709Z"
   },
   {
    "duration": 16,
    "start_time": "2025-08-05T21:32:18.525Z"
   },
   {
    "duration": 13,
    "start_time": "2025-08-05T21:32:23.686Z"
   },
   {
    "duration": 3,
    "start_time": "2025-08-05T21:35:02.080Z"
   },
   {
    "duration": 3,
    "start_time": "2025-08-05T21:35:23.892Z"
   },
   {
    "duration": 16,
    "start_time": "2025-08-05T21:35:40.446Z"
   },
   {
    "duration": 3,
    "start_time": "2025-08-05T21:35:54.160Z"
   },
   {
    "duration": 4,
    "start_time": "2025-08-05T21:39:35.762Z"
   },
   {
    "duration": 4,
    "start_time": "2025-08-05T21:39:39.809Z"
   },
   {
    "duration": 4,
    "start_time": "2025-08-05T21:39:44.546Z"
   },
   {
    "duration": 4,
    "start_time": "2025-08-05T21:39:53.393Z"
   },
   {
    "duration": 1182,
    "start_time": "2025-08-05T21:42:02.242Z"
   },
   {
    "duration": 53,
    "start_time": "2025-08-05T21:42:03.426Z"
   },
   {
    "duration": 30,
    "start_time": "2025-08-05T21:42:03.481Z"
   },
   {
    "duration": 7,
    "start_time": "2025-08-05T21:42:03.513Z"
   },
   {
    "duration": 114,
    "start_time": "2025-08-05T21:42:03.522Z"
   },
   {
    "duration": 42,
    "start_time": "2025-08-05T21:42:03.637Z"
   },
   {
    "duration": 31,
    "start_time": "2025-08-05T21:42:03.681Z"
   },
   {
    "duration": 15,
    "start_time": "2025-08-05T21:42:03.714Z"
   },
   {
    "duration": 82,
    "start_time": "2025-08-05T21:42:03.731Z"
   },
   {
    "duration": 1768,
    "start_time": "2025-08-05T21:42:03.816Z"
   },
   {
    "duration": 19,
    "start_time": "2025-08-05T21:42:05.586Z"
   },
   {
    "duration": 62,
    "start_time": "2025-08-05T21:42:05.607Z"
   },
   {
    "duration": 11,
    "start_time": "2025-08-05T21:42:05.670Z"
   },
   {
    "duration": 155,
    "start_time": "2025-08-05T21:42:05.683Z"
   },
   {
    "duration": 608,
    "start_time": "2025-08-05T21:42:05.839Z"
   },
   {
    "duration": 2037,
    "start_time": "2025-08-05T21:42:06.449Z"
   },
   {
    "duration": 60,
    "start_time": "2025-08-05T21:42:08.488Z"
   },
   {
    "duration": 158,
    "start_time": "2025-08-05T21:42:08.549Z"
   },
   {
    "duration": 369,
    "start_time": "2025-08-05T21:42:08.709Z"
   },
   {
    "duration": 404,
    "start_time": "2025-08-05T21:42:09.079Z"
   },
   {
    "duration": 6,
    "start_time": "2025-08-05T21:42:09.485Z"
   },
   {
    "duration": 11,
    "start_time": "2025-08-05T21:42:09.492Z"
   },
   {
    "duration": 163,
    "start_time": "2025-08-05T21:42:09.505Z"
   },
   {
    "duration": 7,
    "start_time": "2025-08-05T21:42:09.671Z"
   },
   {
    "duration": 12,
    "start_time": "2025-08-05T21:42:09.680Z"
   },
   {
    "duration": 500,
    "start_time": "2025-08-05T21:42:09.694Z"
   },
   {
    "duration": 12,
    "start_time": "2025-08-05T21:42:10.195Z"
   },
   {
    "duration": 24,
    "start_time": "2025-08-05T21:42:10.210Z"
   },
   {
    "duration": 54,
    "start_time": "2025-08-05T21:42:10.236Z"
   },
   {
    "duration": 19,
    "start_time": "2025-08-05T21:42:10.291Z"
   },
   {
    "duration": 3,
    "start_time": "2025-08-05T21:42:10.312Z"
   },
   {
    "duration": 93,
    "start_time": "2025-08-05T21:42:10.317Z"
   },
   {
    "duration": 19,
    "start_time": "2025-08-05T21:42:10.411Z"
   },
   {
    "duration": 46,
    "start_time": "2025-08-05T21:42:10.431Z"
   },
   {
    "duration": 4,
    "start_time": "2025-08-05T21:42:10.478Z"
   },
   {
    "duration": 7,
    "start_time": "2025-08-05T21:42:10.484Z"
   },
   {
    "duration": 9,
    "start_time": "2025-08-05T21:43:07.107Z"
   },
   {
    "duration": 11,
    "start_time": "2025-08-05T21:43:10.919Z"
   },
   {
    "duration": 1169,
    "start_time": "2025-08-05T21:44:23.263Z"
   },
   {
    "duration": 53,
    "start_time": "2025-08-05T21:44:24.434Z"
   },
   {
    "duration": 10,
    "start_time": "2025-08-05T21:44:24.489Z"
   },
   {
    "duration": 24,
    "start_time": "2025-08-05T21:44:24.501Z"
   },
   {
    "duration": 28,
    "start_time": "2025-08-05T21:44:24.527Z"
   },
   {
    "duration": 6,
    "start_time": "2025-08-05T21:44:24.556Z"
   },
   {
    "duration": 15,
    "start_time": "2025-08-05T21:44:24.563Z"
   },
   {
    "duration": 8,
    "start_time": "2025-08-05T21:44:24.579Z"
   },
   {
    "duration": 6,
    "start_time": "2025-08-05T21:44:24.589Z"
   },
   {
    "duration": 1590,
    "start_time": "2025-08-05T21:44:24.597Z"
   },
   {
    "duration": 22,
    "start_time": "2025-08-05T21:44:26.189Z"
   },
   {
    "duration": 30,
    "start_time": "2025-08-05T21:44:26.213Z"
   },
   {
    "duration": 26,
    "start_time": "2025-08-05T21:44:26.245Z"
   },
   {
    "duration": 126,
    "start_time": "2025-08-05T21:44:26.273Z"
   },
   {
    "duration": 591,
    "start_time": "2025-08-05T21:44:26.401Z"
   },
   {
    "duration": 2115,
    "start_time": "2025-08-05T21:44:26.994Z"
   },
   {
    "duration": 79,
    "start_time": "2025-08-05T21:44:29.110Z"
   },
   {
    "duration": 154,
    "start_time": "2025-08-05T21:44:29.190Z"
   },
   {
    "duration": 398,
    "start_time": "2025-08-05T21:44:29.345Z"
   },
   {
    "duration": 391,
    "start_time": "2025-08-05T21:44:29.744Z"
   },
   {
    "duration": 5,
    "start_time": "2025-08-05T21:44:30.137Z"
   },
   {
    "duration": 59,
    "start_time": "2025-08-05T21:44:30.144Z"
   },
   {
    "duration": 193,
    "start_time": "2025-08-05T21:44:30.205Z"
   },
   {
    "duration": 7,
    "start_time": "2025-08-05T21:44:30.399Z"
   },
   {
    "duration": 64,
    "start_time": "2025-08-05T21:44:30.408Z"
   },
   {
    "duration": 493,
    "start_time": "2025-08-05T21:44:30.474Z"
   },
   {
    "duration": 12,
    "start_time": "2025-08-05T21:44:30.970Z"
   },
   {
    "duration": 66,
    "start_time": "2025-08-05T21:44:30.985Z"
   },
   {
    "duration": 69,
    "start_time": "2025-08-05T21:44:31.053Z"
   },
   {
    "duration": 22,
    "start_time": "2025-08-05T21:44:31.124Z"
   },
   {
    "duration": 4,
    "start_time": "2025-08-05T21:44:31.147Z"
   },
   {
    "duration": 23,
    "start_time": "2025-08-05T21:44:31.152Z"
   },
   {
    "duration": 19,
    "start_time": "2025-08-05T21:44:31.177Z"
   },
   {
    "duration": 34,
    "start_time": "2025-08-05T21:44:31.198Z"
   },
   {
    "duration": 38,
    "start_time": "2025-08-05T21:44:31.234Z"
   },
   {
    "duration": 33,
    "start_time": "2025-08-05T21:44:31.273Z"
   },
   {
    "duration": 1472,
    "start_time": "2025-08-06T13:41:30.470Z"
   },
   {
    "duration": 48,
    "start_time": "2025-08-06T13:41:31.944Z"
   },
   {
    "duration": 91,
    "start_time": "2025-08-06T13:41:31.993Z"
   },
   {
    "duration": 5,
    "start_time": "2025-08-06T13:41:32.086Z"
   },
   {
    "duration": 8,
    "start_time": "2025-08-06T13:41:32.094Z"
   },
   {
    "duration": 62,
    "start_time": "2025-08-06T13:41:32.104Z"
   },
   {
    "duration": 69,
    "start_time": "2025-08-06T13:41:32.168Z"
   },
   {
    "duration": 23,
    "start_time": "2025-08-06T13:41:32.240Z"
   },
   {
    "duration": 13,
    "start_time": "2025-08-06T13:41:32.266Z"
   },
   {
    "duration": 1770,
    "start_time": "2025-08-06T13:41:32.284Z"
   },
   {
    "duration": 28,
    "start_time": "2025-08-06T13:41:34.056Z"
   },
   {
    "duration": 26,
    "start_time": "2025-08-06T13:41:34.086Z"
   },
   {
    "duration": 31,
    "start_time": "2025-08-06T13:41:34.114Z"
   },
   {
    "duration": 148,
    "start_time": "2025-08-06T13:41:34.149Z"
   },
   {
    "duration": 633,
    "start_time": "2025-08-06T13:41:34.299Z"
   },
   {
    "duration": 2202,
    "start_time": "2025-08-06T13:41:34.933Z"
   },
   {
    "duration": 91,
    "start_time": "2025-08-06T13:41:37.137Z"
   },
   {
    "duration": 193,
    "start_time": "2025-08-06T13:41:37.229Z"
   },
   {
    "duration": 352,
    "start_time": "2025-08-06T13:41:37.423Z"
   },
   {
    "duration": 405,
    "start_time": "2025-08-06T13:41:37.777Z"
   },
   {
    "duration": 7,
    "start_time": "2025-08-06T13:41:38.184Z"
   },
   {
    "duration": 12,
    "start_time": "2025-08-06T13:41:38.192Z"
   },
   {
    "duration": 168,
    "start_time": "2025-08-06T13:41:38.206Z"
   },
   {
    "duration": 7,
    "start_time": "2025-08-06T13:41:38.376Z"
   },
   {
    "duration": 51,
    "start_time": "2025-08-06T13:41:38.384Z"
   },
   {
    "duration": 502,
    "start_time": "2025-08-06T13:41:38.437Z"
   },
   {
    "duration": 11,
    "start_time": "2025-08-06T13:41:38.940Z"
   },
   {
    "duration": 67,
    "start_time": "2025-08-06T13:41:38.953Z"
   },
   {
    "duration": 32,
    "start_time": "2025-08-06T13:41:39.022Z"
   },
   {
    "duration": 27,
    "start_time": "2025-08-06T13:41:39.056Z"
   },
   {
    "duration": 4,
    "start_time": "2025-08-06T13:41:39.085Z"
   },
   {
    "duration": 23,
    "start_time": "2025-08-06T13:41:39.090Z"
   },
   {
    "duration": 150,
    "start_time": "2025-08-06T13:41:39.115Z"
   },
   {
    "duration": 14,
    "start_time": "2025-08-06T13:41:39.267Z"
   },
   {
    "duration": 4,
    "start_time": "2025-08-06T13:41:39.283Z"
   },
   {
    "duration": 14,
    "start_time": "2025-08-06T13:41:39.289Z"
   },
   {
    "duration": 19,
    "start_time": "2025-08-06T13:42:19.934Z"
   },
   {
    "duration": 5,
    "start_time": "2025-08-06T13:42:38.735Z"
   },
   {
    "duration": 7,
    "start_time": "2025-08-06T13:42:46.365Z"
   },
   {
    "duration": 23,
    "start_time": "2025-08-06T13:47:09.841Z"
   },
   {
    "duration": 135,
    "start_time": "2025-08-06T13:47:52.839Z"
   },
   {
    "duration": 23,
    "start_time": "2025-08-06T13:47:57.485Z"
   },
   {
    "duration": 33,
    "start_time": "2025-08-06T13:48:04.166Z"
   },
   {
    "duration": 24,
    "start_time": "2025-08-06T13:48:47.106Z"
   },
   {
    "duration": 3,
    "start_time": "2025-08-06T13:48:48.867Z"
   },
   {
    "duration": 4,
    "start_time": "2025-08-06T13:49:03.074Z"
   },
   {
    "duration": 4,
    "start_time": "2025-08-06T13:49:17.589Z"
   },
   {
    "duration": 4,
    "start_time": "2025-08-06T13:49:41.457Z"
   },
   {
    "duration": 3,
    "start_time": "2025-08-06T13:49:46.491Z"
   },
   {
    "duration": 4,
    "start_time": "2025-08-06T13:49:58.849Z"
   },
   {
    "duration": 4,
    "start_time": "2025-08-06T13:50:02.670Z"
   },
   {
    "duration": 4,
    "start_time": "2025-08-06T13:50:06.608Z"
   },
   {
    "duration": 3,
    "start_time": "2025-08-06T13:50:44.635Z"
   },
   {
    "duration": 3,
    "start_time": "2025-08-06T13:50:47.385Z"
   },
   {
    "duration": 3,
    "start_time": "2025-08-06T13:50:54.764Z"
   },
   {
    "duration": 3,
    "start_time": "2025-08-06T13:51:05.799Z"
   },
   {
    "duration": 7,
    "start_time": "2025-08-06T13:51:42.471Z"
   },
   {
    "duration": 9,
    "start_time": "2025-08-06T13:52:31.620Z"
   },
   {
    "duration": 1246,
    "start_time": "2025-08-06T13:54:12.198Z"
   },
   {
    "duration": 43,
    "start_time": "2025-08-06T13:54:13.446Z"
   },
   {
    "duration": 10,
    "start_time": "2025-08-06T13:54:13.491Z"
   },
   {
    "duration": 13,
    "start_time": "2025-08-06T13:54:13.503Z"
   },
   {
    "duration": 24,
    "start_time": "2025-08-06T13:54:13.517Z"
   },
   {
    "duration": 28,
    "start_time": "2025-08-06T13:54:13.543Z"
   },
   {
    "duration": 15,
    "start_time": "2025-08-06T13:54:13.573Z"
   },
   {
    "duration": 8,
    "start_time": "2025-08-06T13:54:13.589Z"
   },
   {
    "duration": 6,
    "start_time": "2025-08-06T13:54:13.599Z"
   },
   {
    "duration": 1738,
    "start_time": "2025-08-06T13:54:13.607Z"
   },
   {
    "duration": 29,
    "start_time": "2025-08-06T13:54:15.347Z"
   },
   {
    "duration": 36,
    "start_time": "2025-08-06T13:54:15.377Z"
   },
   {
    "duration": 26,
    "start_time": "2025-08-06T13:54:15.414Z"
   },
   {
    "duration": 166,
    "start_time": "2025-08-06T13:54:15.442Z"
   },
   {
    "duration": 634,
    "start_time": "2025-08-06T13:54:15.610Z"
   },
   {
    "duration": 2131,
    "start_time": "2025-08-06T13:54:16.246Z"
   },
   {
    "duration": 71,
    "start_time": "2025-08-06T13:54:18.379Z"
   },
   {
    "duration": 159,
    "start_time": "2025-08-06T13:54:18.451Z"
   },
   {
    "duration": 401,
    "start_time": "2025-08-06T13:54:18.612Z"
   },
   {
    "duration": 431,
    "start_time": "2025-08-06T13:54:19.015Z"
   },
   {
    "duration": 6,
    "start_time": "2025-08-06T13:54:19.448Z"
   },
   {
    "duration": 29,
    "start_time": "2025-08-06T13:54:19.455Z"
   },
   {
    "duration": 166,
    "start_time": "2025-08-06T13:54:19.485Z"
   },
   {
    "duration": 7,
    "start_time": "2025-08-06T13:54:19.653Z"
   },
   {
    "duration": 13,
    "start_time": "2025-08-06T13:54:19.670Z"
   },
   {
    "duration": 499,
    "start_time": "2025-08-06T13:54:19.685Z"
   },
   {
    "duration": 13,
    "start_time": "2025-08-06T13:54:20.185Z"
   },
   {
    "duration": 28,
    "start_time": "2025-08-06T13:54:20.202Z"
   },
   {
    "duration": 73,
    "start_time": "2025-08-06T13:54:20.232Z"
   },
   {
    "duration": 28,
    "start_time": "2025-08-06T13:54:20.307Z"
   },
   {
    "duration": 5,
    "start_time": "2025-08-06T13:54:20.337Z"
   },
   {
    "duration": 41,
    "start_time": "2025-08-06T13:54:20.344Z"
   },
   {
    "duration": 25,
    "start_time": "2025-08-06T13:54:20.387Z"
   },
   {
    "duration": 53,
    "start_time": "2025-08-06T13:54:20.414Z"
   },
   {
    "duration": 4,
    "start_time": "2025-08-06T13:54:20.470Z"
   },
   {
    "duration": 12,
    "start_time": "2025-08-06T13:54:20.475Z"
   }
  ],
  "colab": {
   "provenance": [],
   "toc_visible": true
  },
  "kernelspec": {
   "display_name": "Python [conda env:base] *",
   "language": "python",
   "name": "conda-base-py"
  },
  "language_info": {
   "codemirror_mode": {
    "name": "ipython",
    "version": 3
   },
   "file_extension": ".py",
   "mimetype": "text/x-python",
   "name": "python",
   "nbconvert_exporter": "python",
   "pygments_lexer": "ipython3",
   "version": "3.12.7"
  },
  "toc": {
   "base_numbering": 1,
   "nav_menu": {},
   "number_sections": true,
   "sideBar": true,
   "skip_h1_title": true,
   "title_cell": "Table of Contents",
   "title_sidebar": "Contents",
   "toc_cell": false,
   "toc_position": {},
   "toc_section_display": true,
   "toc_window_display": false
  }
 },
 "nbformat": 4,
 "nbformat_minor": 5
}
